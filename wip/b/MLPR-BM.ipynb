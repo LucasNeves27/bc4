{
 "cells": [
  {
   "cell_type": "markdown",
   "id": "fdaa72cb-691e-4518-853f-8d9614021ed3",
   "metadata": {},
   "source": [
    "# BC4 \n",
    "\n",
    "Apex Pattern Deployers\n",
    "\n",
    "- Marjorie Kinney *m20210647*\n",
    "- Bruno Mendes *m20210627*\n",
    "- Lucas Neves *m20211020*\n",
    "- Farina Pontejos *m20210649*\n",
    "\n",
    "Business Cases for Data Science\n",
    "\n",
    "NOVA Information Management School\n",
    "\n",
    "May 2022\n",
    "\n",
    "https://github.com/fpontejos/bc4\n"
   ]
  },
  {
   "cell_type": "markdown",
   "id": "3efd2674-fdf5-4f21-90cf-69bb3ad64005",
   "metadata": {},
   "source": [
    "## Initial Setup"
   ]
  },
  {
   "cell_type": "markdown",
   "id": "8dea1474-9e1c-444c-8861-1e8f643d8c27",
   "metadata": {},
   "source": [
    "### Imports"
   ]
  },
  {
   "cell_type": "code",
   "execution_count": 42,
   "id": "2935f619-9507-41bc-94b3-0a8eda6f8c95",
   "metadata": {},
   "outputs": [],
   "source": [
    "import pandas as pd\n",
    "import numpy as np\n",
    "import scipy as sp\n",
    "import seaborn as sns\n",
    "import matplotlib.pyplot as plt\n",
    "import scipy.stats as stats\n",
    "from math import ceil\n",
    "from datetime import timedelta, datetime\n",
    "import os\n",
    "import re\n",
    "import warnings\n",
    "import itertools\n",
    "import collections\n",
    "#import ta\n",
    "\n",
    "warnings.filterwarnings('ignore')\n",
    "\n"
   ]
  },
  {
   "cell_type": "code",
   "execution_count": 43,
   "id": "4f1b876f-3d63-4ec0-a339-710a820a6ea0",
   "metadata": {},
   "outputs": [],
   "source": [
    "from matplotlib.colors import LinearSegmentedColormap\n"
   ]
  },
  {
   "cell_type": "code",
   "execution_count": 44,
   "id": "d6656393-9cb7-4e02-a739-51fd4bfc7746",
   "metadata": {},
   "outputs": [],
   "source": [
    "from functools import reduce"
   ]
  },
  {
   "cell_type": "code",
   "execution_count": 45,
   "id": "ca0141da-4441-4d25-85a4-d154ebd4d12e",
   "metadata": {},
   "outputs": [],
   "source": [
    "from sklearn.pipeline import make_pipeline\n",
    "from sklearn.metrics import mean_squared_error, mean_absolute_error, mean_absolute_percentage_error\n",
    "\n",
    "from sklearn.model_selection import TimeSeriesSplit, GridSearchCV\n",
    "\n",
    "from sklearn.feature_selection import RFE\n",
    "from sklearn.feature_selection import SelectKBest, f_regression, mutual_info_regression\n",
    "from sklearn.feature_selection import chi2, f_classif, mutual_info_classif\n",
    "\n",
    "from sklearn.preprocessing import StandardScaler\n",
    "\n",
    "\n",
    "from sklearn.ensemble import RandomForestRegressor\n",
    "from sklearn.tree import DecisionTreeRegressor\n",
    "from sklearn.neighbors import KNeighborsRegressor\n",
    "from sklearn.neural_network import MLPRegressor\n",
    "from sklearn.ensemble import GradientBoostingRegressor\n",
    "from sklearn.ensemble import AdaBoostRegressor\n",
    "from sklearn.metrics import SCORERS\n"
   ]
  },
  {
   "cell_type": "code",
   "execution_count": 46,
   "id": "41241349-1fb4-4117-9a98-be70258ebb37",
   "metadata": {},
   "outputs": [],
   "source": [
    "#from pandas_datareader import data as pdr\n",
    "#import yfinance as yf\n",
    "#yf.pdr_override()\n"
   ]
  },
  {
   "cell_type": "markdown",
   "id": "a5321103-199d-4add-b5a4-d938d0fddfaa",
   "metadata": {},
   "source": [
    "### Variables"
   ]
  },
  {
   "cell_type": "code",
   "execution_count": 47,
   "id": "4f865a37-380b-4ba5-8bfd-a22ab865dcee",
   "metadata": {},
   "outputs": [],
   "source": [
    "COLORS = ['#2ec4b6', '#1e9fb4', '#0f7ab2', '#285892', '#49306b', '#7a3161', '#a13258', '#c63351', '#ea3449']\n",
    "\n",
    "CAT_COLORS = ['#2EC4B6', '#0E79B2', '#49306B', '#9A325A', '#EA3449']\n",
    "CONTRAST_COLORS = [COLORS[i] for i in range(len(COLORS)) if (i%2) == 0]\n",
    "\n",
    "DIV_COLORS = ['#0e79b2', '#4b9ac3', '#84b8d4', '#bcd6e4', '#f4f4f4', '#c6c0d0', '#9b8eac', '#715e8b', '#49306b']\n",
    "\n",
    "DIV_COL_HALF = ['#f4f4f4', '#bed3da', '#8ab2bf', '#5592a5', '#20718b']\n",
    "\n",
    "UMP_COLORS = ['#22446D', '#FC9E4F', '#AB2346' ,'#6ABB5D']\n",
    "\n",
    "DEFAULT_PALETTE = sns.color_palette(COLORS)\n",
    "CONTRAST_PALETTE = sns.color_palette(CONTRAST_COLORS)\n",
    "DIVERGENT_PALETTE = sns.color_palette(DIV_COLORS)\n",
    "DIVHALF_PALETTE = sns.color_palette(DIV_COL_HALF)\n",
    "CAT_PALETTE = sns.color_palette(CAT_COLORS)\n",
    "UMP_PALETTE = sns.color_palette(UMP_COLORS)\n",
    "\n",
    "\n",
    "DIV_CMAP = LinearSegmentedColormap.from_list(\"div_colors\", DIV_COLORS)\n",
    "DIV_H_CMAP = LinearSegmentedColormap.from_list(\"div_colors\", DIV_COL_HALF)\n",
    "CAT_CMAP = LinearSegmentedColormap.from_list(\"cat_colors\", CAT_COLORS)\n",
    "UMP_CMAP = LinearSegmentedColormap.from_list(\"ump_colors\", UMP_COLORS)\n",
    "\n",
    "\n",
    "SHOW_PLOTS = True\n",
    "SAVE_PLOTS = True\n",
    "RANDOM_STATE = 9\n",
    "\n",
    "IMG_PATH = '../imgs/'\n",
    "DATA_IN_PATH = '../../source/data/'\n",
    "DATA_OUT_PATH = '../../data_out/'\n"
   ]
  },
  {
   "cell_type": "code",
   "execution_count": 48,
   "id": "300ecdd9-7b73-45da-aeaa-dd82d4b57835",
   "metadata": {},
   "outputs": [],
   "source": [
    "def save_fig(title, fig):\n",
    "    if SAVE_PLOTS == True:\n",
    "        fn = IMG_PATH + title.replace(' ','-') + '.png'\n",
    "        fig.savefig(fn, bbox_inches='tight', transparent=True)\n",
    "        \n"
   ]
  },
  {
   "cell_type": "code",
   "execution_count": null,
   "id": "21365354-93e7-4d1e-bb5f-0e210c093d8f",
   "metadata": {},
   "outputs": [],
   "source": []
  },
  {
   "cell_type": "markdown",
   "id": "81179616-bb3b-49fa-b0be-b69432fd27e6",
   "metadata": {},
   "source": [
    "### Styles"
   ]
  },
  {
   "cell_type": "code",
   "execution_count": 49,
   "id": "e291e0bd-163a-45e0-8757-7f8ac61be9e0",
   "metadata": {},
   "outputs": [],
   "source": [
    "sns.set(style=\"white\")\n",
    "\n",
    "sns.set_context(\"paper\")\n",
    "sns.set_palette(DEFAULT_PALETTE)\n",
    "\n",
    "\n",
    "plt.rcParams['figure.dpi'] = 128"
   ]
  },
  {
   "cell_type": "code",
   "execution_count": 50,
   "id": "c000dc56-1c36-4092-a003-8eec15fd6941",
   "metadata": {},
   "outputs": [
    {
     "data": {
      "image/png": "[encoded data removed]",
      "text/plain": [
       "<Figure size 1152x128 with 1 Axes>"
      ]
     },
     "metadata": {},
     "output_type": "display_data"
    },
    {
     "data": {
      "image/png": "[encoded data removed]",
      "text/plain": [
       "<Figure size 640x128 with 1 Axes>"
      ]
     },
     "metadata": {},
     "output_type": "display_data"
    },
    {
     "data": {
      "image/png": "[encoded data removed]",
      "text/plain": [
       "<Figure size 1152x128 with 1 Axes>"
      ]
     },
     "metadata": {},
     "output_type": "display_data"
    },
    {
     "data": {
      "image/png": "[encoded data removed]",
      "text/plain": [
       "<Figure size 640x128 with 1 Axes>"
      ]
     },
     "metadata": {},
     "output_type": "display_data"
    }
   ],
   "source": [
    "sns.palplot(DEFAULT_PALETTE)\n",
    "sns.palplot(CONTRAST_PALETTE)\n",
    "sns.palplot(DIVERGENT_PALETTE)\n",
    "sns.palplot(CAT_PALETTE)\n",
    "plt.show()"
   ]
  },
  {
   "cell_type": "markdown",
   "id": "166ae3aa-d2f0-4f19-9158-74fc46722aa9",
   "metadata": {},
   "source": [
    "## Load Data"
   ]
  },
  {
   "cell_type": "code",
   "execution_count": 51,
   "id": "a5e00343-4c88-4e80-9335-a871ae4a4be3",
   "metadata": {},
   "outputs": [
    {
     "data": {
      "text/html": [
       "<div>\n",
       "<style scoped>\n",
       "    .dataframe tbody tr th:only-of-type {\n",
       "        vertical-align: middle;\n",
       "    }\n",
       "\n",
       "    .dataframe tbody tr th {\n",
       "        vertical-align: top;\n",
       "    }\n",
       "\n",
       "    .dataframe thead th {\n",
       "        text-align: right;\n",
       "    }\n",
       "</style>\n",
       "<table border=\"1\" class=\"dataframe\">\n",
       "  <thead>\n",
       "    <tr style=\"text-align: right;\">\n",
       "      <th></th>\n",
       "      <th>Date</th>\n",
       "      <th>ada_close</th>\n",
       "      <th>ada_high</th>\n",
       "      <th>ada_low</th>\n",
       "      <th>ada_open</th>\n",
       "      <th>ada_volume</th>\n",
       "      <th>atom_close</th>\n",
       "      <th>atom_high</th>\n",
       "      <th>atom_low</th>\n",
       "      <th>atom_open</th>\n",
       "      <th>...</th>\n",
       "      <th>luna1_trend_macd</th>\n",
       "      <th>luna1_volatility_atr</th>\n",
       "      <th>matic_volume_obv</th>\n",
       "      <th>matic_momentum_rsi</th>\n",
       "      <th>matic_trend_macd</th>\n",
       "      <th>matic_volatility_atr</th>\n",
       "      <th>sol_volume_obv</th>\n",
       "      <th>sol_momentum_rsi</th>\n",
       "      <th>sol_trend_macd</th>\n",
       "      <th>sol_volatility_atr</th>\n",
       "    </tr>\n",
       "  </thead>\n",
       "  <tbody>\n",
       "    <tr>\n",
       "      <th>0</th>\n",
       "      <td>2021-01-01</td>\n",
       "      <td>0.175350</td>\n",
       "      <td>0.184246</td>\n",
       "      <td>0.172022</td>\n",
       "      <td>0.181382</td>\n",
       "      <td>1.122218e+09</td>\n",
       "      <td>5.868556</td>\n",
       "      <td>6.506998</td>\n",
       "      <td>5.652401</td>\n",
       "      <td>6.490297</td>\n",
       "      <td>...</td>\n",
       "      <td>0.053993</td>\n",
       "      <td>0.051369</td>\n",
       "      <td>2.036519e+09</td>\n",
       "      <td>47.984858</td>\n",
       "      <td>-0.000144</td>\n",
       "      <td>0.001536</td>\n",
       "      <td>255658268.0</td>\n",
       "      <td>57.385950</td>\n",
       "      <td>-0.050738</td>\n",
       "      <td>0.191277</td>\n",
       "    </tr>\n",
       "    <tr>\n",
       "      <th>1</th>\n",
       "      <td>2021-01-02</td>\n",
       "      <td>0.177423</td>\n",
       "      <td>0.184253</td>\n",
       "      <td>0.169233</td>\n",
       "      <td>0.175359</td>\n",
       "      <td>1.408850e+09</td>\n",
       "      <td>5.414613</td>\n",
       "      <td>5.882211</td>\n",
       "      <td>5.319140</td>\n",
       "      <td>5.869282</td>\n",
       "      <td>...</td>\n",
       "      <td>0.053286</td>\n",
       "      <td>0.049277</td>\n",
       "      <td>2.053894e+09</td>\n",
       "      <td>53.344082</td>\n",
       "      <td>-0.000058</td>\n",
       "      <td>0.001609</td>\n",
       "      <td>223987204.0</td>\n",
       "      <td>55.832142</td>\n",
       "      <td>-0.027803</td>\n",
       "      <td>0.198930</td>\n",
       "    </tr>\n",
       "    <tr>\n",
       "      <th>2</th>\n",
       "      <td>2021-01-03</td>\n",
       "      <td>0.204995</td>\n",
       "      <td>0.208679</td>\n",
       "      <td>0.173376</td>\n",
       "      <td>0.177382</td>\n",
       "      <td>2.303858e+09</td>\n",
       "      <td>5.813898</td>\n",
       "      <td>5.900645</td>\n",
       "      <td>5.301713</td>\n",
       "      <td>5.416301</td>\n",
       "      <td>...</td>\n",
       "      <td>0.054555</td>\n",
       "      <td>0.049605</td>\n",
       "      <td>2.071803e+09</td>\n",
       "      <td>56.959753</td>\n",
       "      <td>0.000084</td>\n",
       "      <td>0.001614</td>\n",
       "      <td>279060626.0</td>\n",
       "      <td>64.577875</td>\n",
       "      <td>0.019398</td>\n",
       "      <td>0.235608</td>\n",
       "    </tr>\n",
       "  </tbody>\n",
       "</table>\n",
       "<p>3 rows × 105 columns</p>\n",
       "</div>"
      ],
      "text/plain": [
       "         Date  ada_close  ada_high   ada_low  ada_open    ada_volume  \\\n",
       "0  2021-01-01   0.175350  0.184246  0.172022  0.181382  1.122218e+09   \n",
       "1  2021-01-02   0.177423  0.184253  0.169233  0.175359  1.408850e+09   \n",
       "2  2021-01-03   0.204995  0.208679  0.173376  0.177382  2.303858e+09   \n",
       "\n",
       "   atom_close  atom_high  atom_low  atom_open  ...  luna1_trend_macd  \\\n",
       "0    5.868556   6.506998  5.652401   6.490297  ...          0.053993   \n",
       "1    5.414613   5.882211  5.319140   5.869282  ...          0.053286   \n",
       "2    5.813898   5.900645  5.301713   5.416301  ...          0.054555   \n",
       "\n",
       "   luna1_volatility_atr  matic_volume_obv  matic_momentum_rsi  \\\n",
       "0              0.051369      2.036519e+09           47.984858   \n",
       "1              0.049277      2.053894e+09           53.344082   \n",
       "2              0.049605      2.071803e+09           56.959753   \n",
       "\n",
       "   matic_trend_macd  matic_volatility_atr  sol_volume_obv  sol_momentum_rsi  \\\n",
       "0         -0.000144              0.001536     255658268.0         57.385950   \n",
       "1         -0.000058              0.001609     223987204.0         55.832142   \n",
       "2          0.000084              0.001614     279060626.0         64.577875   \n",
       "\n",
       "   sol_trend_macd  sol_volatility_atr  \n",
       "0       -0.050738            0.191277  \n",
       "1       -0.027803            0.198930  \n",
       "2        0.019398            0.235608  \n",
       "\n",
       "[3 rows x 105 columns]"
      ]
     },
     "execution_count": 51,
     "metadata": {},
     "output_type": "execute_result"
    }
   ],
   "source": [
    "df_all = pd.read_csv(DATA_OUT_PATH + \"merged_data.csv\")\n",
    "df_all.head(3)"
   ]
  },
  {
   "cell_type": "code",
   "execution_count": 52,
   "id": "f6ebdb68-3f64-4d27-9fa5-925ffafbb5ed",
   "metadata": {},
   "outputs": [],
   "source": [
    "df_all = df_all.iloc[365:]"
   ]
  },
  {
   "cell_type": "code",
   "execution_count": 53,
   "id": "1f2c5af1-10d5-48fd-b750-9a58d07a844b",
   "metadata": {},
   "outputs": [],
   "source": [
    "## How much data to use for model selection crossval\n",
    "TRAIN_SIZE = 90\n",
    "\n",
    "## How large the timeseriessplit window should be\n",
    "WINDOW_SIZE = 7\n",
    "\n",
    "## How many days for cv test\n",
    "TEST_SIZE = 1"
   ]
  },
  {
   "cell_type": "code",
   "execution_count": 54,
   "id": "cebe278a-8fe0-42ed-b31e-eaf8c657822b",
   "metadata": {},
   "outputs": [],
   "source": [
    "#df_all"
   ]
  },
  {
   "cell_type": "code",
   "execution_count": 55,
   "id": "7478a8a1-bf25-41e7-99d1-f17511541aed",
   "metadata": {},
   "outputs": [],
   "source": [
    "def shift_split_data(df_, target_col, trainsize):\n",
    "    df = df_.copy()\n",
    "    df['Date_Y'] = df['Date'].shift(periods=-1)\n",
    "    df['Y'] = df[target_col].shift(periods=-1)\n",
    "    df.rename(columns={'Date':'Date_X'}, inplace=True)\n",
    "    \n",
    "    ## DF for prediction (only last trainsize days)\n",
    "    ## Use to predict day after last df Date\n",
    "    df_forprediction = df.iloc[trainsize:]\n",
    "    \n",
    "    ## DF for train + test (without last trainsize days)\n",
    "    df_tt = df.iloc[:trainsize]\n",
    "    return df_tt, df_forprediction\n",
    "    \n",
    "    "
   ]
  },
  {
   "cell_type": "code",
   "execution_count": 56,
   "id": "657150f3-b93e-4886-9157-7effce4561ba",
   "metadata": {},
   "outputs": [],
   "source": [
    "target_col = 'btc_close'"
   ]
  },
  {
   "cell_type": "code",
   "execution_count": 57,
   "id": "9070a6de-f6f1-4401-8f51-5e8418c87cfa",
   "metadata": {},
   "outputs": [],
   "source": [
    "df_tt, df_forprediction = shift_split_data(df_all, target_col, TRAIN_SIZE)"
   ]
  },
  {
   "cell_type": "code",
   "execution_count": 58,
   "id": "f4a9b847-9e34-432f-9f7c-6ae7333c7b50",
   "metadata": {},
   "outputs": [],
   "source": [
    "#df_tt"
   ]
  },
  {
   "cell_type": "code",
   "execution_count": 59,
   "id": "797e147d-7c04-4afb-9665-fc4cdf3779d8",
   "metadata": {},
   "outputs": [],
   "source": [
    "#df_forprediction"
   ]
  },
  {
   "cell_type": "markdown",
   "id": "e307a93d-0b1d-4576-8959-959f360ca15e",
   "metadata": {},
   "source": [
    "## Model Selection"
   ]
  },
  {
   "cell_type": "code",
   "execution_count": 60,
   "id": "06549a19-ac8a-42e1-ab2d-3541000426bf",
   "metadata": {},
   "outputs": [],
   "source": [
    "#df_tt.head(5)"
   ]
  },
  {
   "cell_type": "markdown",
   "id": "35dc8e55-41ab-419b-a659-349e4429a3ab",
   "metadata": {},
   "source": [
    "### Set up pipeline"
   ]
  },
  {
   "cell_type": "code",
   "execution_count": 61,
   "id": "18ebe350-8e26-4d06-92fc-ba361fbddff3",
   "metadata": {},
   "outputs": [],
   "source": [
    "score_func = 'neg_mean_absolute_percentage_error'"
   ]
  },
  {
   "cell_type": "code",
   "execution_count": 62,
   "id": "c3ff1fb9-e198-4bac-9e6d-9bf48b02cfe0",
   "metadata": {},
   "outputs": [],
   "source": [
    "## Split X and Y\n",
    "\n",
    "Y = df_tt['Y']\n",
    "\n",
    "x_cols = [i for i in df_tt.columns.tolist() if i not in ['Date_X', 'Date_Y', 'Y'] ]\n",
    "X = df_tt[x_cols]"
   ]
  },
  {
   "cell_type": "code",
   "execution_count": 63,
   "id": "6922ea6d",
   "metadata": {},
   "outputs": [],
   "source": [
    "from sklearn.neural_network import MLPRegressor"
   ]
  },
  {
   "cell_type": "code",
   "execution_count": 64,
   "id": "6a35fff3",
   "metadata": {},
   "outputs": [],
   "source": [
    "model = MLPRegressor(random_state=RANDOM_STATE)"
   ]
  },
  {
   "cell_type": "code",
   "execution_count": 65,
   "id": "0132bdd4-6cb7-40bd-9a04-da8ce8325431",
   "metadata": {},
   "outputs": [],
   "source": [
    "pipe_ada_dt = make_pipeline(StandardScaler(),\n",
    "                    SelectKBest(f_regression),\n",
    "                    model)\n",
    "\n",
    "## Change params as needed\n",
    "params_dt = {\n",
    "    'selectkbest__k':[10,20,50],\n",
    "    'mlpregressor__activation':['identity', 'logistic', 'tanh', 'relu'],\n",
    "    'mlpregressor__solver': ['lbfgs'],\n",
    "    'mlpregressor__max_fun': [10, 100, 1000]\n",
    "    \n",
    "}\n",
    "\n",
    "## Setup TimeSeriesSplit\n",
    "num_splits = int(len(X)/(WINDOW_SIZE+TEST_SIZE))\n",
    "\n",
    "tscv = TimeSeriesSplit(n_splits=num_splits, max_train_size=WINDOW_SIZE, test_size=TEST_SIZE)\n",
    "\n",
    "\n",
    "# Setting up the grid search\n",
    "gs_dtr = GridSearchCV(pipe_ada_dt, \n",
    "                      params_dt, \n",
    "                      n_jobs=-1, \n",
    "                      cv=tscv,\n",
    "                      scoring=score_func,\n",
    "                      refit=True\n",
    "                     )\n",
    "\n"
   ]
  },
  {
   "cell_type": "code",
   "execution_count": null,
   "id": "6d546f66-3db8-4ab1-983e-efa3937d1b0c",
   "metadata": {},
   "outputs": [],
   "source": []
  },
  {
   "cell_type": "code",
   "execution_count": 66,
   "id": "038cb2da-2fe4-48a8-ab36-aae66279187e",
   "metadata": {
    "scrolled": false
   },
   "outputs": [
    {
     "data": {
      "text/plain": [
       "GridSearchCV(cv=TimeSeriesSplit(gap=0, max_train_size=7, n_splits=11, test_size=1),\n",
       "             estimator=Pipeline(steps=[('standardscaler', StandardScaler()),\n",
       "                                       ('selectkbest',\n",
       "                                        SelectKBest(score_func=<function f_regression at 0x000001B73E085550>)),\n",
       "                                       ('mlpregressor',\n",
       "                                        MLPRegressor(random_state=9))]),\n",
       "             n_jobs=-1,\n",
       "             param_grid={'mlpregressor__activation': ['identity', 'logistic',\n",
       "                                                      'tanh', 'relu'],\n",
       "                         'mlpregressor__max_fun': [10, 100, 1000],\n",
       "                         'mlpregressor__solver': ['lbfgs'],\n",
       "                         'selectkbest__k': [10, 20, 50]},\n",
       "             scoring='neg_mean_absolute_percentage_error')"
      ]
     },
     "execution_count": 66,
     "metadata": {},
     "output_type": "execute_result"
    }
   ],
   "source": [
    "# Fit GS to training data\n",
    "gs_dtr.fit(X, Y)"
   ]
  },
  {
   "cell_type": "code",
   "execution_count": 67,
   "id": "924fc725-27b6-45f3-9da6-4f0b924fc205",
   "metadata": {
    "scrolled": true
   },
   "outputs": [
    {
     "data": {
      "text/html": [
       "<div>\n",
       "<style scoped>\n",
       "    .dataframe tbody tr th:only-of-type {\n",
       "        vertical-align: middle;\n",
       "    }\n",
       "\n",
       "    .dataframe tbody tr th {\n",
       "        vertical-align: top;\n",
       "    }\n",
       "\n",
       "    .dataframe thead th {\n",
       "        text-align: right;\n",
       "    }\n",
       "</style>\n",
       "<table border=\"1\" class=\"dataframe\">\n",
       "  <thead>\n",
       "    <tr style=\"text-align: right;\">\n",
       "      <th></th>\n",
       "      <th>mean_test_score</th>\n",
       "      <th>params</th>\n",
       "      <th>rank_test_score</th>\n",
       "    </tr>\n",
       "  </thead>\n",
       "  <tbody>\n",
       "    <tr>\n",
       "      <th>17</th>\n",
       "      <td>-0.029123</td>\n",
       "      <td>{'mlpregressor__activation': 'logistic', 'mlpr...</td>\n",
       "      <td>1</td>\n",
       "    </tr>\n",
       "    <tr>\n",
       "      <th>12</th>\n",
       "      <td>-0.030875</td>\n",
       "      <td>{'mlpregressor__activation': 'logistic', 'mlpr...</td>\n",
       "      <td>2</td>\n",
       "    </tr>\n",
       "    <tr>\n",
       "      <th>14</th>\n",
       "      <td>-0.032012</td>\n",
       "      <td>{'mlpregressor__activation': 'logistic', 'mlpr...</td>\n",
       "      <td>3</td>\n",
       "    </tr>\n",
       "    <tr>\n",
       "      <th>11</th>\n",
       "      <td>-0.033883</td>\n",
       "      <td>{'mlpregressor__activation': 'logistic', 'mlpr...</td>\n",
       "      <td>4</td>\n",
       "    </tr>\n",
       "    <tr>\n",
       "      <th>15</th>\n",
       "      <td>-0.034373</td>\n",
       "      <td>{'mlpregressor__activation': 'logistic', 'mlpr...</td>\n",
       "      <td>5</td>\n",
       "    </tr>\n",
       "    <tr>\n",
       "      <th>16</th>\n",
       "      <td>-0.040271</td>\n",
       "      <td>{'mlpregressor__activation': 'logistic', 'mlpr...</td>\n",
       "      <td>6</td>\n",
       "    </tr>\n",
       "    <tr>\n",
       "      <th>7</th>\n",
       "      <td>-0.040879</td>\n",
       "      <td>{'mlpregressor__activation': 'identity', 'mlpr...</td>\n",
       "      <td>7</td>\n",
       "    </tr>\n",
       "    <tr>\n",
       "      <th>4</th>\n",
       "      <td>-0.040895</td>\n",
       "      <td>{'mlpregressor__activation': 'identity', 'mlpr...</td>\n",
       "      <td>8</td>\n",
       "    </tr>\n",
       "    <tr>\n",
       "      <th>8</th>\n",
       "      <td>-0.043093</td>\n",
       "      <td>{'mlpregressor__activation': 'identity', 'mlpr...</td>\n",
       "      <td>9</td>\n",
       "    </tr>\n",
       "    <tr>\n",
       "      <th>13</th>\n",
       "      <td>-0.043114</td>\n",
       "      <td>{'mlpregressor__activation': 'logistic', 'mlpr...</td>\n",
       "      <td>10</td>\n",
       "    </tr>\n",
       "    <tr>\n",
       "      <th>9</th>\n",
       "      <td>-0.045805</td>\n",
       "      <td>{'mlpregressor__activation': 'logistic', 'mlpr...</td>\n",
       "      <td>11</td>\n",
       "    </tr>\n",
       "    <tr>\n",
       "      <th>5</th>\n",
       "      <td>-0.047095</td>\n",
       "      <td>{'mlpregressor__activation': 'identity', 'mlpr...</td>\n",
       "      <td>12</td>\n",
       "    </tr>\n",
       "    <tr>\n",
       "      <th>3</th>\n",
       "      <td>-0.060269</td>\n",
       "      <td>{'mlpregressor__activation': 'identity', 'mlpr...</td>\n",
       "      <td>13</td>\n",
       "    </tr>\n",
       "    <tr>\n",
       "      <th>6</th>\n",
       "      <td>-0.060270</td>\n",
       "      <td>{'mlpregressor__activation': 'identity', 'mlpr...</td>\n",
       "      <td>14</td>\n",
       "    </tr>\n",
       "    <tr>\n",
       "      <th>24</th>\n",
       "      <td>-0.070553</td>\n",
       "      <td>{'mlpregressor__activation': 'tanh', 'mlpregre...</td>\n",
       "      <td>15</td>\n",
       "    </tr>\n",
       "    <tr>\n",
       "      <th>25</th>\n",
       "      <td>-0.099794</td>\n",
       "      <td>{'mlpregressor__activation': 'tanh', 'mlpregre...</td>\n",
       "      <td>16</td>\n",
       "    </tr>\n",
       "    <tr>\n",
       "      <th>21</th>\n",
       "      <td>-0.114510</td>\n",
       "      <td>{'mlpregressor__activation': 'tanh', 'mlpregre...</td>\n",
       "      <td>17</td>\n",
       "    </tr>\n",
       "    <tr>\n",
       "      <th>22</th>\n",
       "      <td>-0.114831</td>\n",
       "      <td>{'mlpregressor__activation': 'tanh', 'mlpregre...</td>\n",
       "      <td>18</td>\n",
       "    </tr>\n",
       "    <tr>\n",
       "      <th>26</th>\n",
       "      <td>-0.140103</td>\n",
       "      <td>{'mlpregressor__activation': 'tanh', 'mlpregre...</td>\n",
       "      <td>19</td>\n",
       "    </tr>\n",
       "    <tr>\n",
       "      <th>10</th>\n",
       "      <td>-0.151441</td>\n",
       "      <td>{'mlpregressor__activation': 'logistic', 'mlpr...</td>\n",
       "      <td>20</td>\n",
       "    </tr>\n",
       "    <tr>\n",
       "      <th>23</th>\n",
       "      <td>-0.153193</td>\n",
       "      <td>{'mlpregressor__activation': 'tanh', 'mlpregre...</td>\n",
       "      <td>21</td>\n",
       "    </tr>\n",
       "    <tr>\n",
       "      <th>18</th>\n",
       "      <td>-0.211922</td>\n",
       "      <td>{'mlpregressor__activation': 'tanh', 'mlpregre...</td>\n",
       "      <td>22</td>\n",
       "    </tr>\n",
       "    <tr>\n",
       "      <th>33</th>\n",
       "      <td>-0.216307</td>\n",
       "      <td>{'mlpregressor__activation': 'relu', 'mlpregre...</td>\n",
       "      <td>23</td>\n",
       "    </tr>\n",
       "    <tr>\n",
       "      <th>30</th>\n",
       "      <td>-0.216307</td>\n",
       "      <td>{'mlpregressor__activation': 'relu', 'mlpregre...</td>\n",
       "      <td>23</td>\n",
       "    </tr>\n",
       "    <tr>\n",
       "      <th>19</th>\n",
       "      <td>-0.235108</td>\n",
       "      <td>{'mlpregressor__activation': 'tanh', 'mlpregre...</td>\n",
       "      <td>25</td>\n",
       "    </tr>\n",
       "    <tr>\n",
       "      <th>0</th>\n",
       "      <td>-0.268352</td>\n",
       "      <td>{'mlpregressor__activation': 'identity', 'mlpr...</td>\n",
       "      <td>26</td>\n",
       "    </tr>\n",
       "    <tr>\n",
       "      <th>1</th>\n",
       "      <td>-0.308396</td>\n",
       "      <td>{'mlpregressor__activation': 'identity', 'mlpr...</td>\n",
       "      <td>27</td>\n",
       "    </tr>\n",
       "    <tr>\n",
       "      <th>32</th>\n",
       "      <td>-0.336435</td>\n",
       "      <td>{'mlpregressor__activation': 'relu', 'mlpregre...</td>\n",
       "      <td>28</td>\n",
       "    </tr>\n",
       "    <tr>\n",
       "      <th>35</th>\n",
       "      <td>-0.336435</td>\n",
       "      <td>{'mlpregressor__activation': 'relu', 'mlpregre...</td>\n",
       "      <td>28</td>\n",
       "    </tr>\n",
       "    <tr>\n",
       "      <th>34</th>\n",
       "      <td>-0.346368</td>\n",
       "      <td>{'mlpregressor__activation': 'relu', 'mlpregre...</td>\n",
       "      <td>30</td>\n",
       "    </tr>\n",
       "    <tr>\n",
       "      <th>31</th>\n",
       "      <td>-0.346368</td>\n",
       "      <td>{'mlpregressor__activation': 'relu', 'mlpregre...</td>\n",
       "      <td>30</td>\n",
       "    </tr>\n",
       "    <tr>\n",
       "      <th>20</th>\n",
       "      <td>-0.374449</td>\n",
       "      <td>{'mlpregressor__activation': 'tanh', 'mlpregre...</td>\n",
       "      <td>32</td>\n",
       "    </tr>\n",
       "    <tr>\n",
       "      <th>2</th>\n",
       "      <td>-0.421798</td>\n",
       "      <td>{'mlpregressor__activation': 'identity', 'mlpr...</td>\n",
       "      <td>33</td>\n",
       "    </tr>\n",
       "    <tr>\n",
       "      <th>27</th>\n",
       "      <td>-0.574473</td>\n",
       "      <td>{'mlpregressor__activation': 'relu', 'mlpregre...</td>\n",
       "      <td>34</td>\n",
       "    </tr>\n",
       "    <tr>\n",
       "      <th>29</th>\n",
       "      <td>-0.616890</td>\n",
       "      <td>{'mlpregressor__activation': 'relu', 'mlpregre...</td>\n",
       "      <td>35</td>\n",
       "    </tr>\n",
       "    <tr>\n",
       "      <th>28</th>\n",
       "      <td>-0.642501</td>\n",
       "      <td>{'mlpregressor__activation': 'relu', 'mlpregre...</td>\n",
       "      <td>36</td>\n",
       "    </tr>\n",
       "  </tbody>\n",
       "</table>\n",
       "</div>"
      ],
      "text/plain": [
       "    mean_test_score                                             params  \\\n",
       "17        -0.029123  {'mlpregressor__activation': 'logistic', 'mlpr...   \n",
       "12        -0.030875  {'mlpregressor__activation': 'logistic', 'mlpr...   \n",
       "14        -0.032012  {'mlpregressor__activation': 'logistic', 'mlpr...   \n",
       "11        -0.033883  {'mlpregressor__activation': 'logistic', 'mlpr...   \n",
       "15        -0.034373  {'mlpregressor__activation': 'logistic', 'mlpr...   \n",
       "16        -0.040271  {'mlpregressor__activation': 'logistic', 'mlpr...   \n",
       "7         -0.040879  {'mlpregressor__activation': 'identity', 'mlpr...   \n",
       "4         -0.040895  {'mlpregressor__activation': 'identity', 'mlpr...   \n",
       "8         -0.043093  {'mlpregressor__activation': 'identity', 'mlpr...   \n",
       "13        -0.043114  {'mlpregressor__activation': 'logistic', 'mlpr...   \n",
       "9         -0.045805  {'mlpregressor__activation': 'logistic', 'mlpr...   \n",
       "5         -0.047095  {'mlpregressor__activation': 'identity', 'mlpr...   \n",
       "3         -0.060269  {'mlpregressor__activation': 'identity', 'mlpr...   \n",
       "6         -0.060270  {'mlpregressor__activation': 'identity', 'mlpr...   \n",
       "24        -0.070553  {'mlpregressor__activation': 'tanh', 'mlpregre...   \n",
       "25        -0.099794  {'mlpregressor__activation': 'tanh', 'mlpregre...   \n",
       "21        -0.114510  {'mlpregressor__activation': 'tanh', 'mlpregre...   \n",
       "22        -0.114831  {'mlpregressor__activation': 'tanh', 'mlpregre...   \n",
       "26        -0.140103  {'mlpregressor__activation': 'tanh', 'mlpregre...   \n",
       "10        -0.151441  {'mlpregressor__activation': 'logistic', 'mlpr...   \n",
       "23        -0.153193  {'mlpregressor__activation': 'tanh', 'mlpregre...   \n",
       "18        -0.211922  {'mlpregressor__activation': 'tanh', 'mlpregre...   \n",
       "33        -0.216307  {'mlpregressor__activation': 'relu', 'mlpregre...   \n",
       "30        -0.216307  {'mlpregressor__activation': 'relu', 'mlpregre...   \n",
       "19        -0.235108  {'mlpregressor__activation': 'tanh', 'mlpregre...   \n",
       "0         -0.268352  {'mlpregressor__activation': 'identity', 'mlpr...   \n",
       "1         -0.308396  {'mlpregressor__activation': 'identity', 'mlpr...   \n",
       "32        -0.336435  {'mlpregressor__activation': 'relu', 'mlpregre...   \n",
       "35        -0.336435  {'mlpregressor__activation': 'relu', 'mlpregre...   \n",
       "34        -0.346368  {'mlpregressor__activation': 'relu', 'mlpregre...   \n",
       "31        -0.346368  {'mlpregressor__activation': 'relu', 'mlpregre...   \n",
       "20        -0.374449  {'mlpregressor__activation': 'tanh', 'mlpregre...   \n",
       "2         -0.421798  {'mlpregressor__activation': 'identity', 'mlpr...   \n",
       "27        -0.574473  {'mlpregressor__activation': 'relu', 'mlpregre...   \n",
       "29        -0.616890  {'mlpregressor__activation': 'relu', 'mlpregre...   \n",
       "28        -0.642501  {'mlpregressor__activation': 'relu', 'mlpregre...   \n",
       "\n",
       "    rank_test_score  \n",
       "17                1  \n",
       "12                2  \n",
       "14                3  \n",
       "11                4  \n",
       "15                5  \n",
       "16                6  \n",
       "7                 7  \n",
       "4                 8  \n",
       "8                 9  \n",
       "13               10  \n",
       "9                11  \n",
       "5                12  \n",
       "3                13  \n",
       "6                14  \n",
       "24               15  \n",
       "25               16  \n",
       "21               17  \n",
       "22               18  \n",
       "26               19  \n",
       "10               20  \n",
       "23               21  \n",
       "18               22  \n",
       "33               23  \n",
       "30               23  \n",
       "19               25  \n",
       "0                26  \n",
       "1                27  \n",
       "32               28  \n",
       "35               28  \n",
       "34               30  \n",
       "31               30  \n",
       "20               32  \n",
       "2                33  \n",
       "27               34  \n",
       "29               35  \n",
       "28               36  "
      ]
     },
     "execution_count": 67,
     "metadata": {},
     "output_type": "execute_result"
    }
   ],
   "source": [
    "df_cv_scores = pd.DataFrame(gs_dtr.cv_results_).sort_values(by='rank_test_score').loc[:,['mean_test_score', 'params', 'rank_test_score']]\n",
    "df_cv_scores\n"
   ]
  },
  {
   "cell_type": "code",
   "execution_count": 68,
   "id": "58439c48-a56c-4fdd-be82-1d18dac5a914",
   "metadata": {},
   "outputs": [
    {
     "data": {
      "text/plain": [
       "{'mlpregressor__activation': 'logistic',\n",
       " 'mlpregressor__max_fun': 1000,\n",
       " 'mlpregressor__solver': 'lbfgs',\n",
       " 'selectkbest__k': 50}"
      ]
     },
     "execution_count": 68,
     "metadata": {},
     "output_type": "execute_result"
    }
   ],
   "source": [
    "gs_dtr.best_params_"
   ]
  },
  {
   "cell_type": "code",
   "execution_count": 69,
   "id": "464089e4-8f7f-41fd-90bb-ac25394a2dc4",
   "metadata": {},
   "outputs": [
    {
     "data": {
      "text/plain": [
       "Pipeline(steps=[('standardscaler', StandardScaler()),\n",
       "                ('selectkbest',\n",
       "                 SelectKBest(k=50,\n",
       "                             score_func=<function f_regression at 0x000001B73E085550>)),\n",
       "                ('mlpregressor',\n",
       "                 MLPRegressor(activation='logistic', max_fun=1000,\n",
       "                              random_state=9, solver='lbfgs'))])"
      ]
     },
     "execution_count": 69,
     "metadata": {},
     "output_type": "execute_result"
    }
   ],
   "source": [
    "best_estimator = gs_dtr.best_estimator_\n",
    "best_estimator.fit(df_forprediction[x_cols][:-1], df_forprediction['Y'][:-1])\n"
   ]
  },
  {
   "cell_type": "code",
   "execution_count": 70,
   "id": "6ba2132b-30d4-4c7b-ad0e-97648aa1120a",
   "metadata": {},
   "outputs": [
    {
     "data": {
      "text/plain": [
       "array([40684.84948666])"
      ]
     },
     "execution_count": 70,
     "metadata": {},
     "output_type": "execute_result"
    }
   ],
   "source": [
    "## Make prediction for last\n",
    "best_estimator.predict(df_forprediction[x_cols][-1:])"
   ]
  }
 ],
 "metadata": {
  "kernelspec": {
   "display_name": "Python 3 (ipykernel)",
   "language": "python",
   "name": "python3"
  },
  "language_info": {
   "codemirror_mode": {
    "name": "ipython",
    "version": 3
   },
   "file_extension": ".py",
   "mimetype": "text/x-python",
   "name": "python",
   "nbconvert_exporter": "python",
   "pygments_lexer": "ipython3",
   "version": "3.9.12"
  }
 },
 "nbformat": 4,
 "nbformat_minor": 5
}
