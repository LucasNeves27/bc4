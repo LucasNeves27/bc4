{
 "cells": [
  {
   "cell_type": "markdown",
   "id": "fdaa72cb-691e-4518-853f-8d9614021ed3",
   "metadata": {},
   "source": [
    "# BC4 \n",
    "\n",
    "Apex Pattern Deployers\n",
    "\n",
    "- Marjorie Kinney *m20210647*\n",
    "- Bruno Mendes *m20210627*\n",
    "- Lucas Neves *m20211020*\n",
    "- Farina Pontejos *m20210649*\n",
    "\n",
    "Business Cases for Data Science\n",
    "\n",
    "NOVA Information Management School\n",
    "\n",
    "May 2022\n",
    "\n",
    "https://github.com/fpontejos/bc4\n"
   ]
  },
  {
   "cell_type": "markdown",
   "id": "3efd2674-fdf5-4f21-90cf-69bb3ad64005",
   "metadata": {},
   "source": [
    "## Initial Setup"
   ]
  },
  {
   "cell_type": "markdown",
   "id": "8dea1474-9e1c-444c-8861-1e8f643d8c27",
   "metadata": {},
   "source": [
    "### Imports"
   ]
  },
  {
   "cell_type": "code",
   "execution_count": 1,
   "id": "2935f619-9507-41bc-94b3-0a8eda6f8c95",
   "metadata": {},
   "outputs": [],
   "source": [
    "import pandas as pd\n",
    "import numpy as np\n",
    "import scipy as sp\n",
    "import seaborn as sns\n",
    "import matplotlib.pyplot as plt\n",
    "import scipy.stats as stats\n",
    "from math import ceil\n",
    "from datetime import timedelta, datetime\n",
    "import os\n",
    "import re\n",
    "import warnings\n",
    "import itertools\n",
    "import collections\n",
    "#import ta\n",
    "\n",
    "warnings.filterwarnings('ignore')\n",
    "\n"
   ]
  },
  {
   "cell_type": "code",
   "execution_count": 2,
   "id": "4f1b876f-3d63-4ec0-a339-710a820a6ea0",
   "metadata": {},
   "outputs": [],
   "source": [
    "from matplotlib.colors import LinearSegmentedColormap\n"
   ]
  },
  {
   "cell_type": "code",
   "execution_count": 3,
   "id": "d6656393-9cb7-4e02-a739-51fd4bfc7746",
   "metadata": {},
   "outputs": [],
   "source": [
    "from functools import reduce"
   ]
  },
  {
   "cell_type": "code",
   "execution_count": 4,
   "id": "ca0141da-4441-4d25-85a4-d154ebd4d12e",
   "metadata": {},
   "outputs": [],
   "source": [
    "from sklearn.pipeline import make_pipeline\n",
    "from sklearn.metrics import mean_squared_error, mean_absolute_error, mean_absolute_percentage_error\n",
    "\n",
    "from sklearn.model_selection import TimeSeriesSplit, GridSearchCV\n",
    "\n",
    "from sklearn.feature_selection import RFE\n",
    "from sklearn.feature_selection import SelectKBest, f_regression, mutual_info_regression\n",
    "from sklearn.feature_selection import chi2, f_classif, mutual_info_classif\n",
    "\n",
    "from sklearn.preprocessing import StandardScaler\n",
    "\n",
    "\n",
    "from sklearn.ensemble import RandomForestRegressor\n",
    "from sklearn.tree import DecisionTreeRegressor\n",
    "from sklearn.neighbors import KNeighborsRegressor\n",
    "from sklearn.neural_network import MLPRegressor\n",
    "from sklearn.ensemble import GradientBoostingRegressor\n",
    "from sklearn.ensemble import AdaBoostRegressor\n",
    "from sklearn.metrics import SCORERS\n"
   ]
  },
  {
   "cell_type": "code",
   "execution_count": 5,
   "id": "41241349-1fb4-4117-9a98-be70258ebb37",
   "metadata": {},
   "outputs": [],
   "source": [
    "from pandas_datareader import data as pdr\n",
    "import yfinance as yf\n",
    "yf.pdr_override()\n"
   ]
  },
  {
   "cell_type": "markdown",
   "id": "a5321103-199d-4add-b5a4-d938d0fddfaa",
   "metadata": {},
   "source": [
    "### Variables"
   ]
  },
  {
   "cell_type": "code",
   "execution_count": 6,
   "id": "4f865a37-380b-4ba5-8bfd-a22ab865dcee",
   "metadata": {},
   "outputs": [],
   "source": [
    "COLORS = ['#2ec4b6', '#1e9fb4', '#0f7ab2', '#285892', '#49306b', '#7a3161', '#a13258', '#c63351', '#ea3449']\n",
    "\n",
    "CAT_COLORS = ['#2EC4B6', '#0E79B2', '#49306B', '#9A325A', '#EA3449']\n",
    "CONTRAST_COLORS = [COLORS[i] for i in range(len(COLORS)) if (i%2) == 0]\n",
    "\n",
    "DIV_COLORS = ['#0e79b2', '#4b9ac3', '#84b8d4', '#bcd6e4', '#f4f4f4', '#c6c0d0', '#9b8eac', '#715e8b', '#49306b']\n",
    "\n",
    "DIV_COL_HALF = ['#f4f4f4', '#bed3da', '#8ab2bf', '#5592a5', '#20718b']\n",
    "\n",
    "UMP_COLORS = ['#22446D', '#FC9E4F', '#AB2346' ,'#6ABB5D']\n",
    "\n",
    "DEFAULT_PALETTE = sns.color_palette(COLORS)\n",
    "CONTRAST_PALETTE = sns.color_palette(CONTRAST_COLORS)\n",
    "DIVERGENT_PALETTE = sns.color_palette(DIV_COLORS)\n",
    "DIVHALF_PALETTE = sns.color_palette(DIV_COL_HALF)\n",
    "CAT_PALETTE = sns.color_palette(CAT_COLORS)\n",
    "UMP_PALETTE = sns.color_palette(UMP_COLORS)\n",
    "\n",
    "\n",
    "DIV_CMAP = LinearSegmentedColormap.from_list(\"div_colors\", DIV_COLORS)\n",
    "DIV_H_CMAP = LinearSegmentedColormap.from_list(\"div_colors\", DIV_COL_HALF)\n",
    "CAT_CMAP = LinearSegmentedColormap.from_list(\"cat_colors\", CAT_COLORS)\n",
    "UMP_CMAP = LinearSegmentedColormap.from_list(\"ump_colors\", UMP_COLORS)\n",
    "\n",
    "\n",
    "SHOW_PLOTS = True\n",
    "SAVE_PLOTS = True\n",
    "RANDOM_STATE = 9\n",
    "\n",
    "IMG_PATH = '../imgs/'\n",
    "DATA_IN_PATH = '../../source/data/'\n",
    "DATA_OUT_PATH = '../../data_out/'\n"
   ]
  },
  {
   "cell_type": "code",
   "execution_count": 7,
   "id": "300ecdd9-7b73-45da-aeaa-dd82d4b57835",
   "metadata": {},
   "outputs": [],
   "source": [
    "def save_fig(title, fig):\n",
    "    if SAVE_PLOTS == True:\n",
    "        fn = IMG_PATH + title.replace(' ','-') + '.png'\n",
    "        fig.savefig(fn, bbox_inches='tight', transparent=True)\n",
    "        \n"
   ]
  },
  {
   "cell_type": "code",
   "execution_count": null,
   "id": "21365354-93e7-4d1e-bb5f-0e210c093d8f",
   "metadata": {},
   "outputs": [],
   "source": []
  },
  {
   "cell_type": "markdown",
   "id": "81179616-bb3b-49fa-b0be-b69432fd27e6",
   "metadata": {},
   "source": [
    "### Styles"
   ]
  },
  {
   "cell_type": "code",
   "execution_count": 8,
   "id": "e291e0bd-163a-45e0-8757-7f8ac61be9e0",
   "metadata": {},
   "outputs": [],
   "source": [
    "sns.set(style=\"white\")\n",
    "\n",
    "sns.set_context(\"paper\")\n",
    "sns.set_palette(DEFAULT_PALETTE)\n",
    "\n",
    "\n",
    "plt.rcParams['figure.dpi'] = 128"
   ]
  },
  {
   "cell_type": "code",
   "execution_count": 9,
   "id": "c000dc56-1c36-4092-a003-8eec15fd6941",
   "metadata": {},
   "outputs": [
    {
     "data": {
      "image/png": "[encoded data removed]",
      "text/plain": [
       "<Figure size 1152x128 with 1 Axes>"
      ]
     },
     "metadata": {},
     "output_type": "display_data"
    },
    {
     "data": {
      "image/png": "[encoded data removed]",
      "text/plain": [
       "<Figure size 640x128 with 1 Axes>"
      ]
     },
     "metadata": {},
     "output_type": "display_data"
    },
    {
     "data": {
      "image/png": "[encoded data removed]",
      "text/plain": [
       "<Figure size 1152x128 with 1 Axes>"
      ]
     },
     "metadata": {},
     "output_type": "display_data"
    },
    {
     "data": {
      "image/png": "[encoded data removed]",
      "text/plain": [
       "<Figure size 640x128 with 1 Axes>"
      ]
     },
     "metadata": {},
     "output_type": "display_data"
    }
   ],
   "source": [
    "sns.palplot(DEFAULT_PALETTE)\n",
    "sns.palplot(CONTRAST_PALETTE)\n",
    "sns.palplot(DIVERGENT_PALETTE)\n",
    "sns.palplot(CAT_PALETTE)\n",
    "plt.show()"
   ]
  },
  {
   "cell_type": "markdown",
   "id": "166ae3aa-d2f0-4f19-9158-74fc46722aa9",
   "metadata": {},
   "source": [
    "## Load Data"
   ]
  },
  {
   "cell_type": "code",
   "execution_count": 25,
   "id": "a5e00343-4c88-4e80-9335-a871ae4a4be3",
   "metadata": {},
   "outputs": [
    {
     "data": {
      "text/html": [
       "<div>\n",
       "<style scoped>\n",
       "    .dataframe tbody tr th:only-of-type {\n",
       "        vertical-align: middle;\n",
       "    }\n",
       "\n",
       "    .dataframe tbody tr th {\n",
       "        vertical-align: top;\n",
       "    }\n",
       "\n",
       "    .dataframe thead th {\n",
       "        text-align: right;\n",
       "    }\n",
       "</style>\n",
       "<table border=\"1\" class=\"dataframe\">\n",
       "  <thead>\n",
       "    <tr style=\"text-align: right;\">\n",
       "      <th></th>\n",
       "      <th>Date</th>\n",
       "      <th>ada_close</th>\n",
       "      <th>ada_high</th>\n",
       "      <th>ada_low</th>\n",
       "      <th>ada_open</th>\n",
       "      <th>ada_volume</th>\n",
       "      <th>atom_close</th>\n",
       "      <th>atom_high</th>\n",
       "      <th>atom_low</th>\n",
       "      <th>atom_open</th>\n",
       "      <th>...</th>\n",
       "      <th>luna1_trend_macd</th>\n",
       "      <th>luna1_volatility_atr</th>\n",
       "      <th>matic_volume_obv</th>\n",
       "      <th>matic_momentum_rsi</th>\n",
       "      <th>matic_trend_macd</th>\n",
       "      <th>matic_volatility_atr</th>\n",
       "      <th>sol_volume_obv</th>\n",
       "      <th>sol_momentum_rsi</th>\n",
       "      <th>sol_trend_macd</th>\n",
       "      <th>sol_volatility_atr</th>\n",
       "    </tr>\n",
       "  </thead>\n",
       "  <tbody>\n",
       "    <tr>\n",
       "      <th>0</th>\n",
       "      <td>2021-01-01</td>\n",
       "      <td>0.175350</td>\n",
       "      <td>0.184246</td>\n",
       "      <td>0.172022</td>\n",
       "      <td>0.181382</td>\n",
       "      <td>1.122218e+09</td>\n",
       "      <td>5.868556</td>\n",
       "      <td>6.506998</td>\n",
       "      <td>5.652401</td>\n",
       "      <td>6.490297</td>\n",
       "      <td>...</td>\n",
       "      <td>0.053993</td>\n",
       "      <td>0.051369</td>\n",
       "      <td>2.036519e+09</td>\n",
       "      <td>47.984858</td>\n",
       "      <td>-0.000144</td>\n",
       "      <td>0.001536</td>\n",
       "      <td>255658268.0</td>\n",
       "      <td>57.385950</td>\n",
       "      <td>-0.050738</td>\n",
       "      <td>0.191277</td>\n",
       "    </tr>\n",
       "    <tr>\n",
       "      <th>1</th>\n",
       "      <td>2021-01-02</td>\n",
       "      <td>0.177423</td>\n",
       "      <td>0.184253</td>\n",
       "      <td>0.169233</td>\n",
       "      <td>0.175359</td>\n",
       "      <td>1.408850e+09</td>\n",
       "      <td>5.414613</td>\n",
       "      <td>5.882211</td>\n",
       "      <td>5.319140</td>\n",
       "      <td>5.869282</td>\n",
       "      <td>...</td>\n",
       "      <td>0.053286</td>\n",
       "      <td>0.049277</td>\n",
       "      <td>2.053894e+09</td>\n",
       "      <td>53.344082</td>\n",
       "      <td>-0.000058</td>\n",
       "      <td>0.001609</td>\n",
       "      <td>223987204.0</td>\n",
       "      <td>55.832142</td>\n",
       "      <td>-0.027803</td>\n",
       "      <td>0.198930</td>\n",
       "    </tr>\n",
       "    <tr>\n",
       "      <th>2</th>\n",
       "      <td>2021-01-03</td>\n",
       "      <td>0.204995</td>\n",
       "      <td>0.208679</td>\n",
       "      <td>0.173376</td>\n",
       "      <td>0.177382</td>\n",
       "      <td>2.303858e+09</td>\n",
       "      <td>5.813898</td>\n",
       "      <td>5.900645</td>\n",
       "      <td>5.301713</td>\n",
       "      <td>5.416301</td>\n",
       "      <td>...</td>\n",
       "      <td>0.054555</td>\n",
       "      <td>0.049605</td>\n",
       "      <td>2.071803e+09</td>\n",
       "      <td>56.959753</td>\n",
       "      <td>0.000084</td>\n",
       "      <td>0.001614</td>\n",
       "      <td>279060626.0</td>\n",
       "      <td>64.577875</td>\n",
       "      <td>0.019398</td>\n",
       "      <td>0.235608</td>\n",
       "    </tr>\n",
       "  </tbody>\n",
       "</table>\n",
       "<p>3 rows × 105 columns</p>\n",
       "</div>"
      ],
      "text/plain": [
       "         Date  ada_close  ada_high   ada_low  ada_open    ada_volume  \\\n",
       "0  2021-01-01   0.175350  0.184246  0.172022  0.181382  1.122218e+09   \n",
       "1  2021-01-02   0.177423  0.184253  0.169233  0.175359  1.408850e+09   \n",
       "2  2021-01-03   0.204995  0.208679  0.173376  0.177382  2.303858e+09   \n",
       "\n",
       "   atom_close  atom_high  atom_low  atom_open  ...  luna1_trend_macd  \\\n",
       "0    5.868556   6.506998  5.652401   6.490297  ...          0.053993   \n",
       "1    5.414613   5.882211  5.319140   5.869282  ...          0.053286   \n",
       "2    5.813898   5.900645  5.301713   5.416301  ...          0.054555   \n",
       "\n",
       "   luna1_volatility_atr  matic_volume_obv  matic_momentum_rsi  \\\n",
       "0              0.051369      2.036519e+09           47.984858   \n",
       "1              0.049277      2.053894e+09           53.344082   \n",
       "2              0.049605      2.071803e+09           56.959753   \n",
       "\n",
       "   matic_trend_macd  matic_volatility_atr  sol_volume_obv  sol_momentum_rsi  \\\n",
       "0         -0.000144              0.001536     255658268.0         57.385950   \n",
       "1         -0.000058              0.001609     223987204.0         55.832142   \n",
       "2          0.000084              0.001614     279060626.0         64.577875   \n",
       "\n",
       "   sol_trend_macd  sol_volatility_atr  \n",
       "0       -0.050738            0.191277  \n",
       "1       -0.027803            0.198930  \n",
       "2        0.019398            0.235608  \n",
       "\n",
       "[3 rows x 105 columns]"
      ]
     },
     "execution_count": 25,
     "metadata": {},
     "output_type": "execute_result"
    }
   ],
   "source": [
    "df_all = pd.read_csv(DATA_OUT_PATH + \"merged_data.csv\")\n",
    "df_all.head(3)"
   ]
  },
  {
   "cell_type": "code",
   "execution_count": 26,
   "id": "09e6e4ab",
   "metadata": {},
   "outputs": [],
   "source": [
    "\n",
    "#removing 2021\n",
    "df_all=df_all.iloc[365:]"
   ]
  },
  {
   "cell_type": "code",
   "execution_count": 27,
   "id": "1f2c5af1-10d5-48fd-b750-9a58d07a844b",
   "metadata": {},
   "outputs": [],
   "source": [
    "## How much data to use for model selection crossval\n",
    "TRAIN_SIZE = 90\n",
    "\n",
    "## How large the timeseriessplit window should be\n",
    "WINDOW_SIZE = 7\n",
    "\n",
    "## How many days for cv test\n",
    "TEST_SIZE = 1"
   ]
  },
  {
   "cell_type": "code",
   "execution_count": 28,
   "id": "7478a8a1-bf25-41e7-99d1-f17511541aed",
   "metadata": {},
   "outputs": [],
   "source": [
    "def shift_split_data(df_, target_col, trainsize):\n",
    "    df = df_.copy()\n",
    "    df['Date_Y'] = df['Date'].shift(periods=-1)\n",
    "    df['Y'] = df[target_col].shift(periods=-1)\n",
    "    df.rename(columns={'Date':'Date_X'}, inplace=True)\n",
    "    \n",
    "    ## DF for prediction (only last trainsize days)\n",
    "    ## Use to predict day after last df Date\n",
    "    df_forprediction = df.iloc[trainsize:]\n",
    "    \n",
    "    ## DF for train + test (without last trainsize days)\n",
    "    df_tt = df.iloc[:trainsize]\n",
    "    return df_tt, df_forprediction\n",
    "    \n",
    "    "
   ]
  },
  {
   "cell_type": "code",
   "execution_count": 29,
   "id": "657150f3-b93e-4886-9157-7effce4561ba",
   "metadata": {},
   "outputs": [],
   "source": [
    "target_col = 'btc_close'"
   ]
  },
  {
   "cell_type": "code",
   "execution_count": 30,
   "id": "9070a6de-f6f1-4401-8f51-5e8418c87cfa",
   "metadata": {},
   "outputs": [],
   "source": [
    "df_tt, df_forprediction = shift_split_data(df_all, target_col, TRAIN_SIZE)"
   ]
  },
  {
   "cell_type": "markdown",
   "id": "4ea9cd71",
   "metadata": {},
   "source": [
    "# BTC (BITCOIN)"
   ]
  },
  {
   "cell_type": "markdown",
   "id": "e307a93d-0b1d-4576-8959-959f360ca15e",
   "metadata": {},
   "source": [
    "## Model Selection"
   ]
  },
  {
   "cell_type": "code",
   "execution_count": 18,
   "id": "06549a19-ac8a-42e1-ab2d-3541000426bf",
   "metadata": {},
   "outputs": [],
   "source": [
    "#df_tt.head(5)"
   ]
  },
  {
   "cell_type": "markdown",
   "id": "35dc8e55-41ab-419b-a659-349e4429a3ab",
   "metadata": {},
   "source": [
    "### Set up pipeline"
   ]
  },
  {
   "cell_type": "code",
   "execution_count": 35,
   "id": "18ebe350-8e26-4d06-92fc-ba361fbddff3",
   "metadata": {},
   "outputs": [],
   "source": [
    "score_func = 'neg_mean_squared_error'"
   ]
  },
  {
   "cell_type": "code",
   "execution_count": 36,
   "id": "c3ff1fb9-e198-4bac-9e6d-9bf48b02cfe0",
   "metadata": {},
   "outputs": [],
   "source": [
    "## Split X and Y\n",
    "\n",
    "Y = df_tt['Y']\n",
    "\n",
    "x_cols = [i for i in df_tt.columns.tolist() if i not in ['Date_X', 'Date_Y', 'Y'] ]\n",
    "X = df_tt[x_cols]"
   ]
  },
  {
   "cell_type": "code",
   "execution_count": 43,
   "id": "0132bdd4-6cb7-40bd-9a04-da8ce8325431",
   "metadata": {},
   "outputs": [],
   "source": [
    "pipe_ada_dt = make_pipeline(StandardScaler(),\n",
    "                    SelectKBest(f_regression),\n",
    "                    GradientBoostingRegressor(random_state=RANDOM_STATE))\n",
    "\n",
    "## Selecting loss and k best\n",
    "params_dt = {\n",
    "    'selectkbest__k':[5,10,12,15,16,17,18,19,20,50],\n",
    "    'gradientboostingregressor__loss':['squared_error', 'absolute_error', 'huber', 'quantile']\n",
    "}\n",
    "\n",
    "## Setup TimeSeriesSplit\n",
    "num_splits = int(len(X)/(WINDOW_SIZE+TEST_SIZE))\n",
    "\n",
    "tscv = TimeSeriesSplit(n_splits=num_splits, max_train_size=WINDOW_SIZE, test_size=TEST_SIZE)\n",
    "\n",
    "\n",
    "# Setting up the grid search\n",
    "gs_dtr = GridSearchCV(pipe_ada_dt, \n",
    "                      params_dt, \n",
    "                      n_jobs=-1, \n",
    "                      cv=tscv,\n",
    "                      scoring=score_func,\n",
    "                      refit=True\n",
    "                     )\n",
    "\n"
   ]
  },
  {
   "cell_type": "code",
   "execution_count": 44,
   "id": "038cb2da-2fe4-48a8-ab36-aae66279187e",
   "metadata": {},
   "outputs": [
    {
     "data": {
      "text/html": [
       "<div>\n",
       "<style scoped>\n",
       "    .dataframe tbody tr th:only-of-type {\n",
       "        vertical-align: middle;\n",
       "    }\n",
       "\n",
       "    .dataframe tbody tr th {\n",
       "        vertical-align: top;\n",
       "    }\n",
       "\n",
       "    .dataframe thead th {\n",
       "        text-align: right;\n",
       "    }\n",
       "</style>\n",
       "<table border=\"1\" class=\"dataframe\">\n",
       "  <thead>\n",
       "    <tr style=\"text-align: right;\">\n",
       "      <th></th>\n",
       "      <th>mean_test_score</th>\n",
       "      <th>params</th>\n",
       "      <th>rank_test_score</th>\n",
       "    </tr>\n",
       "  </thead>\n",
       "  <tbody>\n",
       "    <tr>\n",
       "      <th>35</th>\n",
       "      <td>-1.055007e+06</td>\n",
       "      <td>{'gradientboostingregressor__loss': 'quantile'...</td>\n",
       "      <td>1</td>\n",
       "    </tr>\n",
       "    <tr>\n",
       "      <th>33</th>\n",
       "      <td>-1.080841e+06</td>\n",
       "      <td>{'gradientboostingregressor__loss': 'quantile'...</td>\n",
       "      <td>2</td>\n",
       "    </tr>\n",
       "    <tr>\n",
       "      <th>38</th>\n",
       "      <td>-1.091184e+06</td>\n",
       "      <td>{'gradientboostingregressor__loss': 'quantile'...</td>\n",
       "      <td>3</td>\n",
       "    </tr>\n",
       "  </tbody>\n",
       "</table>\n",
       "</div>"
      ],
      "text/plain": [
       "    mean_test_score                                             params  \\\n",
       "35    -1.055007e+06  {'gradientboostingregressor__loss': 'quantile'...   \n",
       "33    -1.080841e+06  {'gradientboostingregressor__loss': 'quantile'...   \n",
       "38    -1.091184e+06  {'gradientboostingregressor__loss': 'quantile'...   \n",
       "\n",
       "    rank_test_score  \n",
       "35                1  \n",
       "33                2  \n",
       "38                3  "
      ]
     },
     "execution_count": 44,
     "metadata": {},
     "output_type": "execute_result"
    }
   ],
   "source": [
    "# Fit GS to training data\n",
    "gs_dtr.fit(X, Y)\n",
    "df_cv_scores = pd.DataFrame(gs_dtr.cv_results_).sort_values(by='rank_test_score').loc[:,['mean_test_score', 'params', 'rank_test_score']]\n",
    "df_cv_scores.head(3)"
   ]
  },
  {
   "cell_type": "code",
   "execution_count": 45,
   "id": "58439c48-a56c-4fdd-be82-1d18dac5a914",
   "metadata": {},
   "outputs": [
    {
     "data": {
      "text/plain": [
       "{'gradientboostingregressor__loss': 'quantile', 'selectkbest__k': 17}"
      ]
     },
     "execution_count": 45,
     "metadata": {},
     "output_type": "execute_result"
    }
   ],
   "source": [
    "gs_dtr.best_params_"
   ]
  },
  {
   "cell_type": "code",
   "execution_count": 52,
   "id": "f8170a1e",
   "metadata": {},
   "outputs": [
    {
     "data": {
      "text/html": [
       "<div>\n",
       "<style scoped>\n",
       "    .dataframe tbody tr th:only-of-type {\n",
       "        vertical-align: middle;\n",
       "    }\n",
       "\n",
       "    .dataframe tbody tr th {\n",
       "        vertical-align: top;\n",
       "    }\n",
       "\n",
       "    .dataframe thead th {\n",
       "        text-align: right;\n",
       "    }\n",
       "</style>\n",
       "<table border=\"1\" class=\"dataframe\">\n",
       "  <thead>\n",
       "    <tr style=\"text-align: right;\">\n",
       "      <th></th>\n",
       "      <th>mean_test_score</th>\n",
       "      <th>params</th>\n",
       "      <th>rank_test_score</th>\n",
       "    </tr>\n",
       "  </thead>\n",
       "  <tbody>\n",
       "    <tr>\n",
       "      <th>10</th>\n",
       "      <td>-1.054999e+06</td>\n",
       "      <td>{'gradientboostingregressor__loss': 'quantile'...</td>\n",
       "      <td>1</td>\n",
       "    </tr>\n",
       "    <tr>\n",
       "      <th>18</th>\n",
       "      <td>-1.054999e+06</td>\n",
       "      <td>{'gradientboostingregressor__loss': 'quantile'...</td>\n",
       "      <td>1</td>\n",
       "    </tr>\n",
       "    <tr>\n",
       "      <th>17</th>\n",
       "      <td>-1.054999e+06</td>\n",
       "      <td>{'gradientboostingregressor__loss': 'quantile'...</td>\n",
       "      <td>1</td>\n",
       "    </tr>\n",
       "  </tbody>\n",
       "</table>\n",
       "</div>"
      ],
      "text/plain": [
       "    mean_test_score                                             params  \\\n",
       "10    -1.054999e+06  {'gradientboostingregressor__loss': 'quantile'...   \n",
       "18    -1.054999e+06  {'gradientboostingregressor__loss': 'quantile'...   \n",
       "17    -1.054999e+06  {'gradientboostingregressor__loss': 'quantile'...   \n",
       "\n",
       "    rank_test_score  \n",
       "10                1  \n",
       "18                1  \n",
       "17                1  "
      ]
     },
     "execution_count": 52,
     "metadata": {},
     "output_type": "execute_result"
    }
   ],
   "source": [
    "#testing for n-estimators\n",
    "\n",
    "params_dt = {\n",
    "    'selectkbest__k':[17],\n",
    "    'gradientboostingregressor__loss':['quantile'],\n",
    "    'gradientboostingregressor__n_estimators':[290,291,292,293,294,295,296,297,298,299,300,301,302,303,304,305,306,307,308,309,310]\n",
    "}\n",
    "\n",
    "gs_dtr = GridSearchCV(pipe_ada_dt, params_dt, n_jobs=-1, cv=tscv, scoring=score_func, refit=True)\n",
    "\n",
    "gs_dtr.fit(X, Y)\n",
    "\n",
    "df_cv_scores = pd.DataFrame(gs_dtr.cv_results_).sort_values(by='rank_test_score').loc[:,['mean_test_score', 'params', 'rank_test_score']]\n",
    "df_cv_scores.head(3)"
   ]
  },
  {
   "cell_type": "code",
   "execution_count": 53,
   "id": "c23f6f83",
   "metadata": {},
   "outputs": [
    {
     "data": {
      "text/plain": [
       "{'gradientboostingregressor__loss': 'quantile',\n",
       " 'gradientboostingregressor__n_estimators': 296,\n",
       " 'selectkbest__k': 17}"
      ]
     },
     "execution_count": 53,
     "metadata": {},
     "output_type": "execute_result"
    }
   ],
   "source": [
    "gs_dtr.best_params_"
   ]
  },
  {
   "cell_type": "code",
   "execution_count": 56,
   "id": "b847a97c",
   "metadata": {},
   "outputs": [
    {
     "data": {
      "text/html": [
       "<div>\n",
       "<style scoped>\n",
       "    .dataframe tbody tr th:only-of-type {\n",
       "        vertical-align: middle;\n",
       "    }\n",
       "\n",
       "    .dataframe tbody tr th {\n",
       "        vertical-align: top;\n",
       "    }\n",
       "\n",
       "    .dataframe thead th {\n",
       "        text-align: right;\n",
       "    }\n",
       "</style>\n",
       "<table border=\"1\" class=\"dataframe\">\n",
       "  <thead>\n",
       "    <tr style=\"text-align: right;\">\n",
       "      <th></th>\n",
       "      <th>mean_test_score</th>\n",
       "      <th>params</th>\n",
       "      <th>rank_test_score</th>\n",
       "    </tr>\n",
       "  </thead>\n",
       "  <tbody>\n",
       "    <tr>\n",
       "      <th>6</th>\n",
       "      <td>-1.052364e+06</td>\n",
       "      <td>{'gradientboostingregressor__learning_rate': 0...</td>\n",
       "      <td>1</td>\n",
       "    </tr>\n",
       "    <tr>\n",
       "      <th>7</th>\n",
       "      <td>-1.052491e+06</td>\n",
       "      <td>{'gradientboostingregressor__learning_rate': 0...</td>\n",
       "      <td>2</td>\n",
       "    </tr>\n",
       "    <tr>\n",
       "      <th>5</th>\n",
       "      <td>-1.052690e+06</td>\n",
       "      <td>{'gradientboostingregressor__learning_rate': 0...</td>\n",
       "      <td>3</td>\n",
       "    </tr>\n",
       "  </tbody>\n",
       "</table>\n",
       "</div>"
      ],
      "text/plain": [
       "   mean_test_score                                             params  \\\n",
       "6    -1.052364e+06  {'gradientboostingregressor__learning_rate': 0...   \n",
       "7    -1.052491e+06  {'gradientboostingregressor__learning_rate': 0...   \n",
       "5    -1.052690e+06  {'gradientboostingregressor__learning_rate': 0...   \n",
       "\n",
       "   rank_test_score  \n",
       "6                1  \n",
       "7                2  \n",
       "5                3  "
      ]
     },
     "execution_count": 56,
     "metadata": {},
     "output_type": "execute_result"
    }
   ],
   "source": [
    "#testing for learning rate \n",
    "\n",
    "params_dt = {\n",
    "    'selectkbest__k':[17],\n",
    "    'gradientboostingregressor__loss':['quantile'],\n",
    "    'gradientboostingregressor__n_estimators':[296],\n",
    "    'gradientboostingregressor__learning_rate':[0.09,0.095,0.099,0.1,0.11,0.12,0.13,0.14,0.15,0.2]\n",
    "}\n",
    "\n",
    "gs_dtr = GridSearchCV(pipe_ada_dt, params_dt, n_jobs=-1, cv=tscv, scoring=score_func, refit=True)\n",
    "\n",
    "gs_dtr.fit(X, Y)\n",
    "\n",
    "df_cv_scores = pd.DataFrame(gs_dtr.cv_results_).sort_values(by='rank_test_score').loc[:,['mean_test_score', 'params', 'rank_test_score']]\n",
    "df_cv_scores.head(3)"
   ]
  },
  {
   "cell_type": "code",
   "execution_count": 57,
   "id": "69482cdf",
   "metadata": {},
   "outputs": [
    {
     "data": {
      "text/plain": [
       "{'gradientboostingregressor__learning_rate': 0.13,\n",
       " 'gradientboostingregressor__loss': 'quantile',\n",
       " 'gradientboostingregressor__n_estimators': 296,\n",
       " 'selectkbest__k': 17}"
      ]
     },
     "execution_count": 57,
     "metadata": {},
     "output_type": "execute_result"
    }
   ],
   "source": [
    "gs_dtr.best_params_"
   ]
  },
  {
   "cell_type": "code",
   "execution_count": 74,
   "id": "2e9a571f",
   "metadata": {},
   "outputs": [
    {
     "data": {
      "text/html": [
       "<div>\n",
       "<style scoped>\n",
       "    .dataframe tbody tr th:only-of-type {\n",
       "        vertical-align: middle;\n",
       "    }\n",
       "\n",
       "    .dataframe tbody tr th {\n",
       "        vertical-align: top;\n",
       "    }\n",
       "\n",
       "    .dataframe thead th {\n",
       "        text-align: right;\n",
       "    }\n",
       "</style>\n",
       "<table border=\"1\" class=\"dataframe\">\n",
       "  <thead>\n",
       "    <tr style=\"text-align: right;\">\n",
       "      <th></th>\n",
       "      <th>mean_test_score</th>\n",
       "      <th>params</th>\n",
       "      <th>rank_test_score</th>\n",
       "    </tr>\n",
       "  </thead>\n",
       "  <tbody>\n",
       "    <tr>\n",
       "      <th>5</th>\n",
       "      <td>-1.052364e+06</td>\n",
       "      <td>{'gradientboostingregressor__learning_rate': 0...</td>\n",
       "      <td>1</td>\n",
       "    </tr>\n",
       "    <tr>\n",
       "      <th>6</th>\n",
       "      <td>-1.052364e+06</td>\n",
       "      <td>{'gradientboostingregressor__learning_rate': 0...</td>\n",
       "      <td>1</td>\n",
       "    </tr>\n",
       "    <tr>\n",
       "      <th>7</th>\n",
       "      <td>-1.052364e+06</td>\n",
       "      <td>{'gradientboostingregressor__learning_rate': 0...</td>\n",
       "      <td>1</td>\n",
       "    </tr>\n",
       "  </tbody>\n",
       "</table>\n",
       "</div>"
      ],
      "text/plain": [
       "   mean_test_score                                             params  \\\n",
       "5    -1.052364e+06  {'gradientboostingregressor__learning_rate': 0...   \n",
       "6    -1.052364e+06  {'gradientboostingregressor__learning_rate': 0...   \n",
       "7    -1.052364e+06  {'gradientboostingregressor__learning_rate': 0...   \n",
       "\n",
       "   rank_test_score  \n",
       "5                1  \n",
       "6                1  \n",
       "7                1  "
      ]
     },
     "execution_count": 74,
     "metadata": {},
     "output_type": "execute_result"
    }
   ],
   "source": [
    "#testing for max depth\n",
    "\n",
    "params_dt = {\n",
    "    'selectkbest__k':[17],\n",
    "    'gradientboostingregressor__loss':['quantile'],\n",
    "    'gradientboostingregressor__n_estimators':[296],\n",
    "    'gradientboostingregressor__learning_rate':[0.13],\n",
    "    'gradientboostingregressor__max_depth':[0.95,0.96,0.97,0.98,0.99,1,1.01,1.02,1.03,1.04,1.05,1.06,1.07,1.2,3]\n",
    "}\n",
    "\n",
    "gs_dtr = GridSearchCV(pipe_ada_dt, params_dt, n_jobs=-1, cv=tscv, scoring=score_func, refit=True)\n",
    "\n",
    "gs_dtr.fit(X, Y)\n",
    "\n",
    "df_cv_scores = pd.DataFrame(gs_dtr.cv_results_).sort_values(by='rank_test_score').loc[:,['mean_test_score', 'params', 'rank_test_score']]\n",
    "df_cv_scores.head(3)"
   ]
  },
  {
   "cell_type": "code",
   "execution_count": 75,
   "id": "93c7c315",
   "metadata": {},
   "outputs": [
    {
     "data": {
      "text/plain": [
       "{'gradientboostingregressor__learning_rate': 0.13,\n",
       " 'gradientboostingregressor__loss': 'quantile',\n",
       " 'gradientboostingregressor__max_depth': 1,\n",
       " 'gradientboostingregressor__n_estimators': 296,\n",
       " 'selectkbest__k': 17}"
      ]
     },
     "execution_count": 75,
     "metadata": {},
     "output_type": "execute_result"
    }
   ],
   "source": [
    "gs_dtr.best_params_"
   ]
  },
  {
   "cell_type": "code",
   "execution_count": 77,
   "id": "4914dd13",
   "metadata": {},
   "outputs": [
    {
     "data": {
      "text/html": [
       "<div>\n",
       "<style scoped>\n",
       "    .dataframe tbody tr th:only-of-type {\n",
       "        vertical-align: middle;\n",
       "    }\n",
       "\n",
       "    .dataframe tbody tr th {\n",
       "        vertical-align: top;\n",
       "    }\n",
       "\n",
       "    .dataframe thead th {\n",
       "        text-align: right;\n",
       "    }\n",
       "</style>\n",
       "<table border=\"1\" class=\"dataframe\">\n",
       "  <thead>\n",
       "    <tr style=\"text-align: right;\">\n",
       "      <th></th>\n",
       "      <th>mean_test_score</th>\n",
       "      <th>params</th>\n",
       "      <th>rank_test_score</th>\n",
       "    </tr>\n",
       "  </thead>\n",
       "  <tbody>\n",
       "    <tr>\n",
       "      <th>0</th>\n",
       "      <td>-1.052364e+06</td>\n",
       "      <td>{'gradientboostingregressor__learning_rate': 0...</td>\n",
       "      <td>1</td>\n",
       "    </tr>\n",
       "    <tr>\n",
       "      <th>3</th>\n",
       "      <td>-1.052364e+06</td>\n",
       "      <td>{'gradientboostingregressor__learning_rate': 0...</td>\n",
       "      <td>1</td>\n",
       "    </tr>\n",
       "    <tr>\n",
       "      <th>1</th>\n",
       "      <td>-1.163744e+06</td>\n",
       "      <td>{'gradientboostingregressor__learning_rate': 0...</td>\n",
       "      <td>3</td>\n",
       "    </tr>\n",
       "  </tbody>\n",
       "</table>\n",
       "</div>"
      ],
      "text/plain": [
       "   mean_test_score                                             params  \\\n",
       "0    -1.052364e+06  {'gradientboostingregressor__learning_rate': 0...   \n",
       "3    -1.052364e+06  {'gradientboostingregressor__learning_rate': 0...   \n",
       "1    -1.163744e+06  {'gradientboostingregressor__learning_rate': 0...   \n",
       "\n",
       "   rank_test_score  \n",
       "0                1  \n",
       "3                1  \n",
       "1                3  "
      ]
     },
     "execution_count": 77,
     "metadata": {},
     "output_type": "execute_result"
    }
   ],
   "source": [
    "#testing for max features\n",
    "\n",
    "params_dt = {\n",
    "    'selectkbest__k':[17],\n",
    "    'gradientboostingregressor__loss':['quantile'],\n",
    "    'gradientboostingregressor__n_estimators':[296],\n",
    "    'gradientboostingregressor__learning_rate':[0.13],\n",
    "    'gradientboostingregressor__max_depth':[1],\n",
    "    'gradientboostingregressor__max_features':['auto', 'sqrt', 'log2',None]\n",
    "}\n",
    "\n",
    "gs_dtr = GridSearchCV(pipe_ada_dt, params_dt, n_jobs=-1, cv=tscv, scoring=score_func, refit=True)\n",
    "\n",
    "gs_dtr.fit(X, Y)\n",
    "\n",
    "df_cv_scores = pd.DataFrame(gs_dtr.cv_results_).sort_values(by='rank_test_score').loc[:,['mean_test_score', 'params', 'rank_test_score']]\n",
    "df_cv_scores.head(3)"
   ]
  },
  {
   "cell_type": "code",
   "execution_count": 78,
   "id": "d343f517",
   "metadata": {},
   "outputs": [
    {
     "data": {
      "text/plain": [
       "{'gradientboostingregressor__learning_rate': 0.13,\n",
       " 'gradientboostingregressor__loss': 'quantile',\n",
       " 'gradientboostingregressor__max_depth': 1,\n",
       " 'gradientboostingregressor__max_features': 'auto',\n",
       " 'gradientboostingregressor__n_estimators': 296,\n",
       " 'selectkbest__k': 17}"
      ]
     },
     "execution_count": 78,
     "metadata": {},
     "output_type": "execute_result"
    }
   ],
   "source": [
    "gs_dtr.best_params_"
   ]
  },
  {
   "cell_type": "code",
   "execution_count": 76,
   "id": "862dc038",
   "metadata": {},
   "outputs": [],
   "source": [
    "#other params did not change from default"
   ]
  },
  {
   "cell_type": "markdown",
   "id": "c7993cf8",
   "metadata": {},
   "source": [
    "## FINAL PREDICTION BTC"
   ]
  },
  {
   "cell_type": "code",
   "execution_count": 79,
   "id": "464089e4-8f7f-41fd-90bb-ac25394a2dc4",
   "metadata": {},
   "outputs": [
    {
     "data": {
      "text/plain": [
       "Pipeline(steps=[('standardscaler', StandardScaler()),\n",
       "                ('selectkbest',\n",
       "                 SelectKBest(k=17,\n",
       "                             score_func=<function f_regression at 0x00000148A650DCA0>)),\n",
       "                ('gradientboostingregressor',\n",
       "                 GradientBoostingRegressor(learning_rate=0.13, loss='quantile',\n",
       "                                           max_depth=1, max_features='auto',\n",
       "                                           n_estimators=296, random_state=9))])"
      ]
     },
     "execution_count": 79,
     "metadata": {},
     "output_type": "execute_result"
    }
   ],
   "source": [
    "best_estimator = gs_dtr.best_estimator_\n",
    "best_estimator.fit(df_forprediction[x_cols][:-1], df_forprediction['Y'][:-1])"
   ]
  },
  {
   "cell_type": "code",
   "execution_count": 80,
   "id": "6ba2132b-30d4-4c7b-ad0e-97648aa1120a",
   "metadata": {},
   "outputs": [
    {
     "data": {
      "text/plain": [
       "array([41502.74875534])"
      ]
     },
     "execution_count": 80,
     "metadata": {},
     "output_type": "execute_result"
    }
   ],
   "source": [
    "## Make prediction for last\n",
    "best_estimator.predict(df_forprediction[x_cols][-1:])"
   ]
  },
  {
   "cell_type": "code",
   "execution_count": 94,
   "id": "d564c36b",
   "metadata": {},
   "outputs": [
    {
     "data": {
      "text/plain": [
       "0.08881202355403534"
      ]
     },
     "execution_count": 94,
     "metadata": {},
     "output_type": "execute_result"
    }
   ],
   "source": [
    "april_26_truth= 38117.46\n",
    "april_26_pred=41502.74875534\n",
    "\n",
    "mean_absolute_percentage_error([april_26_truth],[april_26_pred])"
   ]
  },
  {
   "cell_type": "markdown",
   "id": "43c89159",
   "metadata": {},
   "source": [
    "# ADA-USD CARDANO"
   ]
  },
  {
   "cell_type": "code",
   "execution_count": 95,
   "id": "df4739c7",
   "metadata": {},
   "outputs": [
    {
     "data": {
      "text/html": [
       "<div>\n",
       "<style scoped>\n",
       "    .dataframe tbody tr th:only-of-type {\n",
       "        vertical-align: middle;\n",
       "    }\n",
       "\n",
       "    .dataframe tbody tr th {\n",
       "        vertical-align: top;\n",
       "    }\n",
       "\n",
       "    .dataframe thead th {\n",
       "        text-align: right;\n",
       "    }\n",
       "</style>\n",
       "<table border=\"1\" class=\"dataframe\">\n",
       "  <thead>\n",
       "    <tr style=\"text-align: right;\">\n",
       "      <th></th>\n",
       "      <th>mean_test_score</th>\n",
       "      <th>params</th>\n",
       "      <th>rank_test_score</th>\n",
       "    </tr>\n",
       "  </thead>\n",
       "  <tbody>\n",
       "    <tr>\n",
       "      <th>56</th>\n",
       "      <td>-0.002525</td>\n",
       "      <td>{'gradientboostingregressor__loss': 'quantile'...</td>\n",
       "      <td>1</td>\n",
       "    </tr>\n",
       "    <tr>\n",
       "      <th>61</th>\n",
       "      <td>-0.002548</td>\n",
       "      <td>{'gradientboostingregressor__loss': 'quantile'...</td>\n",
       "      <td>2</td>\n",
       "    </tr>\n",
       "    <tr>\n",
       "      <th>59</th>\n",
       "      <td>-0.002563</td>\n",
       "      <td>{'gradientboostingregressor__loss': 'quantile'...</td>\n",
       "      <td>3</td>\n",
       "    </tr>\n",
       "  </tbody>\n",
       "</table>\n",
       "</div>"
      ],
      "text/plain": [
       "    mean_test_score                                             params  \\\n",
       "56        -0.002525  {'gradientboostingregressor__loss': 'quantile'...   \n",
       "61        -0.002548  {'gradientboostingregressor__loss': 'quantile'...   \n",
       "59        -0.002563  {'gradientboostingregressor__loss': 'quantile'...   \n",
       "\n",
       "    rank_test_score  \n",
       "56                1  \n",
       "61                2  \n",
       "59                3  "
      ]
     },
     "execution_count": 95,
     "metadata": {},
     "output_type": "execute_result"
    }
   ],
   "source": [
    "target_col = 'ada_close'\n",
    "df_tt, df_forprediction = shift_split_data(df_all, target_col, TRAIN_SIZE)\n",
    "\n",
    "score_func = 'neg_mean_squared_error'\n",
    "\n",
    "Y = df_tt['Y']\n",
    "\n",
    "x_cols = [i for i in df_tt.columns.tolist() if i not in ['Date_X', 'Date_Y', 'Y'] ]\n",
    "X = df_tt[x_cols]\n",
    "\n",
    "pipe_ada_dt = make_pipeline(StandardScaler(),\n",
    "                    SelectKBest(f_regression),\n",
    "                    GradientBoostingRegressor(random_state=RANDOM_STATE))\n",
    "\n",
    "## Selecting loss and k best\n",
    "params_dt = {\n",
    "    'selectkbest__k':[5,6,7,8,9,10,11,12,13,14,15,16,17,18,19,20,50],\n",
    "    'gradientboostingregressor__loss':['squared_error', 'absolute_error', 'huber', 'quantile']\n",
    "}\n",
    "\n",
    "## Setup TimeSeriesSplit\n",
    "num_splits = int(len(X)/(WINDOW_SIZE+TEST_SIZE))\n",
    "\n",
    "tscv = TimeSeriesSplit(n_splits=num_splits, max_train_size=WINDOW_SIZE, test_size=TEST_SIZE)\n",
    "\n",
    "\n",
    "# Setting up the grid search\n",
    "gs_dtr = GridSearchCV(pipe_ada_dt, \n",
    "                      params_dt, \n",
    "                      n_jobs=-1, \n",
    "                      cv=tscv,\n",
    "                      scoring=score_func,\n",
    "                      refit=True\n",
    "                     )\n",
    "\n",
    "# Fit GS to training data\n",
    "gs_dtr.fit(X, Y)\n",
    "df_cv_scores = pd.DataFrame(gs_dtr.cv_results_).sort_values(by='rank_test_score').loc[:,['mean_test_score', 'params', 'rank_test_score']]\n",
    "df_cv_scores.head(3)"
   ]
  },
  {
   "cell_type": "code",
   "execution_count": 96,
   "id": "06971532",
   "metadata": {},
   "outputs": [
    {
     "data": {
      "text/plain": [
       "{'gradientboostingregressor__loss': 'quantile', 'selectkbest__k': 10}"
      ]
     },
     "execution_count": 96,
     "metadata": {},
     "output_type": "execute_result"
    }
   ],
   "source": [
    "gs_dtr.best_params_"
   ]
  },
  {
   "cell_type": "code",
   "execution_count": 97,
   "id": "212cc031",
   "metadata": {},
   "outputs": [
    {
     "data": {
      "text/html": [
       "<div>\n",
       "<style scoped>\n",
       "    .dataframe tbody tr th:only-of-type {\n",
       "        vertical-align: middle;\n",
       "    }\n",
       "\n",
       "    .dataframe tbody tr th {\n",
       "        vertical-align: top;\n",
       "    }\n",
       "\n",
       "    .dataframe thead th {\n",
       "        text-align: right;\n",
       "    }\n",
       "</style>\n",
       "<table border=\"1\" class=\"dataframe\">\n",
       "  <thead>\n",
       "    <tr style=\"text-align: right;\">\n",
       "      <th></th>\n",
       "      <th>mean_test_score</th>\n",
       "      <th>params</th>\n",
       "      <th>rank_test_score</th>\n",
       "    </tr>\n",
       "  </thead>\n",
       "  <tbody>\n",
       "    <tr>\n",
       "      <th>24</th>\n",
       "      <td>-0.002525</td>\n",
       "      <td>{'gradientboostingregressor__loss': 'quantile'...</td>\n",
       "      <td>1</td>\n",
       "    </tr>\n",
       "    <tr>\n",
       "      <th>22</th>\n",
       "      <td>-0.002525</td>\n",
       "      <td>{'gradientboostingregressor__loss': 'quantile'...</td>\n",
       "      <td>1</td>\n",
       "    </tr>\n",
       "    <tr>\n",
       "      <th>21</th>\n",
       "      <td>-0.002525</td>\n",
       "      <td>{'gradientboostingregressor__loss': 'quantile'...</td>\n",
       "      <td>1</td>\n",
       "    </tr>\n",
       "  </tbody>\n",
       "</table>\n",
       "</div>"
      ],
      "text/plain": [
       "    mean_test_score                                             params  \\\n",
       "24        -0.002525  {'gradientboostingregressor__loss': 'quantile'...   \n",
       "22        -0.002525  {'gradientboostingregressor__loss': 'quantile'...   \n",
       "21        -0.002525  {'gradientboostingregressor__loss': 'quantile'...   \n",
       "\n",
       "    rank_test_score  \n",
       "24                1  \n",
       "22                1  \n",
       "21                1  "
      ]
     },
     "execution_count": 97,
     "metadata": {},
     "output_type": "execute_result"
    }
   ],
   "source": [
    "#testing for n-estimators\n",
    "\n",
    "params_dt = {\n",
    "    'selectkbest__k':[10],\n",
    "    'gradientboostingregressor__loss':['quantile'],\n",
    "    'gradientboostingregressor__n_estimators':[20,50,100,200,290,291,292,293,294,295,296,297,298,299,300,301,302,303,304,305,306,307,308,309,310]\n",
    "}\n",
    "\n",
    "gs_dtr = GridSearchCV(pipe_ada_dt, params_dt, n_jobs=-1, cv=tscv, scoring=score_func, refit=True)\n",
    "\n",
    "gs_dtr.fit(X, Y)\n",
    "\n",
    "df_cv_scores = pd.DataFrame(gs_dtr.cv_results_).sort_values(by='rank_test_score').loc[:,['mean_test_score', 'params', 'rank_test_score']]\n",
    "df_cv_scores.head(3)"
   ]
  },
  {
   "cell_type": "code",
   "execution_count": 98,
   "id": "2e09573e",
   "metadata": {},
   "outputs": [
    {
     "data": {
      "text/plain": [
       "{'gradientboostingregressor__loss': 'quantile',\n",
       " 'gradientboostingregressor__n_estimators': 303,\n",
       " 'selectkbest__k': 10}"
      ]
     },
     "execution_count": 98,
     "metadata": {},
     "output_type": "execute_result"
    }
   ],
   "source": [
    "gs_dtr.best_params_"
   ]
  },
  {
   "cell_type": "code",
   "execution_count": 107,
   "id": "a4e796c6",
   "metadata": {},
   "outputs": [
    {
     "data": {
      "text/html": [
       "<div>\n",
       "<style scoped>\n",
       "    .dataframe tbody tr th:only-of-type {\n",
       "        vertical-align: middle;\n",
       "    }\n",
       "\n",
       "    .dataframe tbody tr th {\n",
       "        vertical-align: top;\n",
       "    }\n",
       "\n",
       "    .dataframe thead th {\n",
       "        text-align: right;\n",
       "    }\n",
       "</style>\n",
       "<table border=\"1\" class=\"dataframe\">\n",
       "  <thead>\n",
       "    <tr style=\"text-align: right;\">\n",
       "      <th></th>\n",
       "      <th>mean_test_score</th>\n",
       "      <th>params</th>\n",
       "      <th>rank_test_score</th>\n",
       "    </tr>\n",
       "  </thead>\n",
       "  <tbody>\n",
       "    <tr>\n",
       "      <th>8</th>\n",
       "      <td>-0.002218</td>\n",
       "      <td>{'gradientboostingregressor__learning_rate': 1...</td>\n",
       "      <td>1</td>\n",
       "    </tr>\n",
       "    <tr>\n",
       "      <th>9</th>\n",
       "      <td>-0.002235</td>\n",
       "      <td>{'gradientboostingregressor__learning_rate': 1...</td>\n",
       "      <td>2</td>\n",
       "    </tr>\n",
       "    <tr>\n",
       "      <th>3</th>\n",
       "      <td>-0.002258</td>\n",
       "      <td>{'gradientboostingregressor__learning_rate': 1...</td>\n",
       "      <td>3</td>\n",
       "    </tr>\n",
       "  </tbody>\n",
       "</table>\n",
       "</div>"
      ],
      "text/plain": [
       "   mean_test_score                                             params  \\\n",
       "8        -0.002218  {'gradientboostingregressor__learning_rate': 1...   \n",
       "9        -0.002235  {'gradientboostingregressor__learning_rate': 1...   \n",
       "3        -0.002258  {'gradientboostingregressor__learning_rate': 1...   \n",
       "\n",
       "   rank_test_score  \n",
       "8                1  \n",
       "9                2  \n",
       "3                3  "
      ]
     },
     "execution_count": 107,
     "metadata": {},
     "output_type": "execute_result"
    }
   ],
   "source": [
    "#testing for learning rate\n",
    "\n",
    "params_dt = {\n",
    "    'selectkbest__k':[10],\n",
    "    'gradientboostingregressor__loss':['quantile'],\n",
    "    'gradientboostingregressor__n_estimators':[303],\n",
    "    'gradientboostingregressor__learning_rate':[1.45,1.46,1.47,1.48,1.49,1.5,1.51,1.52,1.53,1.54,1.55]\n",
    "}\n",
    "\n",
    "gs_dtr = GridSearchCV(pipe_ada_dt, params_dt, n_jobs=-1, cv=tscv, scoring=score_func, refit=True)\n",
    "\n",
    "gs_dtr.fit(X, Y)\n",
    "\n",
    "df_cv_scores = pd.DataFrame(gs_dtr.cv_results_).sort_values(by='rank_test_score').loc[:,['mean_test_score', 'params', 'rank_test_score']]\n",
    "df_cv_scores.head(3)"
   ]
  },
  {
   "cell_type": "code",
   "execution_count": 108,
   "id": "272be285",
   "metadata": {},
   "outputs": [
    {
     "data": {
      "text/plain": [
       "{'gradientboostingregressor__learning_rate': 1.53,\n",
       " 'gradientboostingregressor__loss': 'quantile',\n",
       " 'gradientboostingregressor__n_estimators': 303,\n",
       " 'selectkbest__k': 10}"
      ]
     },
     "execution_count": 108,
     "metadata": {},
     "output_type": "execute_result"
    }
   ],
   "source": [
    "gs_dtr.best_params_"
   ]
  },
  {
   "cell_type": "code",
   "execution_count": 109,
   "id": "e1955b5d",
   "metadata": {},
   "outputs": [
    {
     "data": {
      "text/html": [
       "<div>\n",
       "<style scoped>\n",
       "    .dataframe tbody tr th:only-of-type {\n",
       "        vertical-align: middle;\n",
       "    }\n",
       "\n",
       "    .dataframe tbody tr th {\n",
       "        vertical-align: top;\n",
       "    }\n",
       "\n",
       "    .dataframe thead th {\n",
       "        text-align: right;\n",
       "    }\n",
       "</style>\n",
       "<table border=\"1\" class=\"dataframe\">\n",
       "  <thead>\n",
       "    <tr style=\"text-align: right;\">\n",
       "      <th></th>\n",
       "      <th>mean_test_score</th>\n",
       "      <th>params</th>\n",
       "      <th>rank_test_score</th>\n",
       "    </tr>\n",
       "  </thead>\n",
       "  <tbody>\n",
       "    <tr>\n",
       "      <th>8</th>\n",
       "      <td>-0.001997</td>\n",
       "      <td>{'gradientboostingregressor__learning_rate': 1...</td>\n",
       "      <td>1</td>\n",
       "    </tr>\n",
       "    <tr>\n",
       "      <th>13</th>\n",
       "      <td>-0.001997</td>\n",
       "      <td>{'gradientboostingregressor__learning_rate': 1...</td>\n",
       "      <td>1</td>\n",
       "    </tr>\n",
       "    <tr>\n",
       "      <th>12</th>\n",
       "      <td>-0.001997</td>\n",
       "      <td>{'gradientboostingregressor__learning_rate': 1...</td>\n",
       "      <td>1</td>\n",
       "    </tr>\n",
       "  </tbody>\n",
       "</table>\n",
       "</div>"
      ],
      "text/plain": [
       "    mean_test_score                                             params  \\\n",
       "8         -0.001997  {'gradientboostingregressor__learning_rate': 1...   \n",
       "13        -0.001997  {'gradientboostingregressor__learning_rate': 1...   \n",
       "12        -0.001997  {'gradientboostingregressor__learning_rate': 1...   \n",
       "\n",
       "    rank_test_score  \n",
       "8                 1  \n",
       "13                1  \n",
       "12                1  "
      ]
     },
     "execution_count": 109,
     "metadata": {},
     "output_type": "execute_result"
    }
   ],
   "source": [
    "\n",
    "#testing for max depth\n",
    "\n",
    "params_dt = {\n",
    "    'selectkbest__k':[10],\n",
    "    'gradientboostingregressor__loss':['quantile'],\n",
    "    'gradientboostingregressor__n_estimators':[303],\n",
    "    'gradientboostingregressor__learning_rate':[1.53],\n",
    "    'gradientboostingregressor__max_depth':[0.95,0.96,0.97,0.98,0.99,1,1.01,1.02,1.03,1.04,1.05,1.06,1.07,1.2,3,4,5]\n",
    "}\n",
    "\n",
    "gs_dtr = GridSearchCV(pipe_ada_dt, params_dt, n_jobs=-1, cv=tscv, scoring=score_func, refit=True)\n",
    "\n",
    "gs_dtr.fit(X, Y)\n",
    "\n",
    "df_cv_scores = pd.DataFrame(gs_dtr.cv_results_).sort_values(by='rank_test_score').loc[:,['mean_test_score', 'params', 'rank_test_score']]\n",
    "df_cv_scores.head(3)"
   ]
  },
  {
   "cell_type": "code",
   "execution_count": 110,
   "id": "7e139855",
   "metadata": {},
   "outputs": [
    {
     "data": {
      "text/plain": [
       "{'gradientboostingregressor__learning_rate': 1.53,\n",
       " 'gradientboostingregressor__loss': 'quantile',\n",
       " 'gradientboostingregressor__max_depth': 1,\n",
       " 'gradientboostingregressor__n_estimators': 303,\n",
       " 'selectkbest__k': 10}"
      ]
     },
     "execution_count": 110,
     "metadata": {},
     "output_type": "execute_result"
    }
   ],
   "source": [
    "gs_dtr.best_params_"
   ]
  },
  {
   "cell_type": "code",
   "execution_count": 115,
   "id": "6fded2ad",
   "metadata": {},
   "outputs": [
    {
     "data": {
      "text/html": [
       "<div>\n",
       "<style scoped>\n",
       "    .dataframe tbody tr th:only-of-type {\n",
       "        vertical-align: middle;\n",
       "    }\n",
       "\n",
       "    .dataframe tbody tr th {\n",
       "        vertical-align: top;\n",
       "    }\n",
       "\n",
       "    .dataframe thead th {\n",
       "        text-align: right;\n",
       "    }\n",
       "</style>\n",
       "<table border=\"1\" class=\"dataframe\">\n",
       "  <thead>\n",
       "    <tr style=\"text-align: right;\">\n",
       "      <th></th>\n",
       "      <th>mean_test_score</th>\n",
       "      <th>params</th>\n",
       "      <th>rank_test_score</th>\n",
       "    </tr>\n",
       "  </thead>\n",
       "  <tbody>\n",
       "    <tr>\n",
       "      <th>0</th>\n",
       "      <td>-0.001997</td>\n",
       "      <td>{'gradientboostingregressor__learning_rate': 1...</td>\n",
       "      <td>1</td>\n",
       "    </tr>\n",
       "    <tr>\n",
       "      <th>3</th>\n",
       "      <td>-0.001997</td>\n",
       "      <td>{'gradientboostingregressor__learning_rate': 1...</td>\n",
       "      <td>1</td>\n",
       "    </tr>\n",
       "    <tr>\n",
       "      <th>1</th>\n",
       "      <td>-0.003385</td>\n",
       "      <td>{'gradientboostingregressor__learning_rate': 1...</td>\n",
       "      <td>3</td>\n",
       "    </tr>\n",
       "  </tbody>\n",
       "</table>\n",
       "</div>"
      ],
      "text/plain": [
       "   mean_test_score                                             params  \\\n",
       "0        -0.001997  {'gradientboostingregressor__learning_rate': 1...   \n",
       "3        -0.001997  {'gradientboostingregressor__learning_rate': 1...   \n",
       "1        -0.003385  {'gradientboostingregressor__learning_rate': 1...   \n",
       "\n",
       "   rank_test_score  \n",
       "0                1  \n",
       "3                1  \n",
       "1                3  "
      ]
     },
     "execution_count": 115,
     "metadata": {},
     "output_type": "execute_result"
    }
   ],
   "source": [
    "\n",
    "#testing for max features\n",
    "\n",
    "params_dt = {\n",
    "    'selectkbest__k':[10],\n",
    "    'gradientboostingregressor__loss':['quantile'],\n",
    "    'gradientboostingregressor__n_estimators':[303],\n",
    "    'gradientboostingregressor__learning_rate':[1.53],\n",
    "    'gradientboostingregressor__max_depth':[1],\n",
    "    'gradientboostingregressor__max_features':['auto', 'sqrt', 'log2',None]\n",
    "}\n",
    "\n",
    "gs_dtr = GridSearchCV(pipe_ada_dt, params_dt, n_jobs=-1, cv=tscv, scoring=score_func, refit=True)\n",
    "\n",
    "gs_dtr.fit(X, Y)\n",
    "\n",
    "df_cv_scores = pd.DataFrame(gs_dtr.cv_results_).sort_values(by='rank_test_score').loc[:,['mean_test_score', 'params', 'rank_test_score']]\n",
    "df_cv_scores.head(3)\n",
    "\n"
   ]
  },
  {
   "cell_type": "code",
   "execution_count": 116,
   "id": "91326087",
   "metadata": {},
   "outputs": [
    {
     "data": {
      "text/plain": [
       "{'gradientboostingregressor__learning_rate': 1.53,\n",
       " 'gradientboostingregressor__loss': 'quantile',\n",
       " 'gradientboostingregressor__max_depth': 1,\n",
       " 'gradientboostingregressor__max_features': 'auto',\n",
       " 'gradientboostingregressor__n_estimators': 303,\n",
       " 'selectkbest__k': 10}"
      ]
     },
     "execution_count": 116,
     "metadata": {},
     "output_type": "execute_result"
    }
   ],
   "source": [
    "gs_dtr.best_params_"
   ]
  },
  {
   "cell_type": "markdown",
   "id": "48a1081c",
   "metadata": {},
   "source": [
    "## FINAL PREDICTION CARDANO ADA-USD"
   ]
  },
  {
   "cell_type": "code",
   "execution_count": 117,
   "id": "04bb3673",
   "metadata": {},
   "outputs": [
    {
     "data": {
      "text/plain": [
       "Pipeline(steps=[('standardscaler', StandardScaler()),\n",
       "                ('selectkbest',\n",
       "                 SelectKBest(score_func=<function f_regression at 0x00000148A650DCA0>)),\n",
       "                ('gradientboostingregressor',\n",
       "                 GradientBoostingRegressor(learning_rate=1.53, loss='quantile',\n",
       "                                           max_depth=1, max_features='auto',\n",
       "                                           n_estimators=303, random_state=9))])"
      ]
     },
     "execution_count": 117,
     "metadata": {},
     "output_type": "execute_result"
    }
   ],
   "source": [
    "best_estimator = gs_dtr.best_estimator_\n",
    "best_estimator.fit(df_forprediction[x_cols][:-1], df_forprediction['Y'][:-1])"
   ]
  },
  {
   "cell_type": "code",
   "execution_count": 118,
   "id": "5e8997fc",
   "metadata": {},
   "outputs": [
    {
     "data": {
      "text/plain": [
       "array([0.99044498])"
      ]
     },
     "execution_count": 118,
     "metadata": {},
     "output_type": "execute_result"
    }
   ],
   "source": [
    "## Make prediction for last\n",
    "best_estimator.predict(df_forprediction[x_cols][-1:])"
   ]
  },
  {
   "cell_type": "code",
   "execution_count": 122,
   "id": "aae9a3d2",
   "metadata": {},
   "outputs": [
    {
     "data": {
      "text/plain": [
       "0.20785973170731717"
      ]
     },
     "execution_count": 122,
     "metadata": {},
     "output_type": "execute_result"
    }
   ],
   "source": [
    "april_26_truth= 0.82\n",
    "april_26_pred=0.99044498\n",
    "\n",
    "mean_absolute_percentage_error([april_26_truth],[april_26_pred])"
   ]
  },
  {
   "cell_type": "markdown",
   "id": "58668442",
   "metadata": {},
   "source": [
    "# ATOM-USD COSMOS"
   ]
  },
  {
   "cell_type": "code",
   "execution_count": 125,
   "id": "f9bf3caa",
   "metadata": {},
   "outputs": [
    {
     "data": {
      "text/html": [
       "<div>\n",
       "<style scoped>\n",
       "    .dataframe tbody tr th:only-of-type {\n",
       "        vertical-align: middle;\n",
       "    }\n",
       "\n",
       "    .dataframe tbody tr th {\n",
       "        vertical-align: top;\n",
       "    }\n",
       "\n",
       "    .dataframe thead th {\n",
       "        text-align: right;\n",
       "    }\n",
       "</style>\n",
       "<table border=\"1\" class=\"dataframe\">\n",
       "  <thead>\n",
       "    <tr style=\"text-align: right;\">\n",
       "      <th></th>\n",
       "      <th>mean_test_score</th>\n",
       "      <th>params</th>\n",
       "      <th>rank_test_score</th>\n",
       "    </tr>\n",
       "  </thead>\n",
       "  <tbody>\n",
       "    <tr>\n",
       "      <th>56</th>\n",
       "      <td>-0.474432</td>\n",
       "      <td>{'gradientboostingregressor__loss': 'quantile'...</td>\n",
       "      <td>1</td>\n",
       "    </tr>\n",
       "    <tr>\n",
       "      <th>54</th>\n",
       "      <td>-0.477526</td>\n",
       "      <td>{'gradientboostingregressor__loss': 'quantile'...</td>\n",
       "      <td>2</td>\n",
       "    </tr>\n",
       "    <tr>\n",
       "      <th>58</th>\n",
       "      <td>-0.481364</td>\n",
       "      <td>{'gradientboostingregressor__loss': 'quantile'...</td>\n",
       "      <td>3</td>\n",
       "    </tr>\n",
       "  </tbody>\n",
       "</table>\n",
       "</div>"
      ],
      "text/plain": [
       "    mean_test_score                                             params  \\\n",
       "56        -0.474432  {'gradientboostingregressor__loss': 'quantile'...   \n",
       "54        -0.477526  {'gradientboostingregressor__loss': 'quantile'...   \n",
       "58        -0.481364  {'gradientboostingregressor__loss': 'quantile'...   \n",
       "\n",
       "    rank_test_score  \n",
       "56                1  \n",
       "54                2  \n",
       "58                3  "
      ]
     },
     "execution_count": 125,
     "metadata": {},
     "output_type": "execute_result"
    }
   ],
   "source": [
    "target_col = 'atom_close'\n",
    "df_tt, df_forprediction = shift_split_data(df_all, target_col, TRAIN_SIZE)\n",
    "\n",
    "score_func = 'neg_mean_squared_error'\n",
    "\n",
    "Y = df_tt['Y']\n",
    "\n",
    "x_cols = [i for i in df_tt.columns.tolist() if i not in ['Date_X', 'Date_Y', 'Y'] ]\n",
    "X = df_tt[x_cols]\n",
    "\n",
    "pipe_ada_dt = make_pipeline(StandardScaler(),\n",
    "                    SelectKBest(f_regression),\n",
    "                    GradientBoostingRegressor(random_state=RANDOM_STATE))\n",
    "\n",
    "## Selecting loss and k best\n",
    "params_dt = {\n",
    "    'selectkbest__k':[5,6,7,8,9,10,11,12,13,14,15,16,17,18,19,20,50],\n",
    "    'gradientboostingregressor__loss':['squared_error', 'absolute_error', 'huber', 'quantile']\n",
    "}\n",
    "\n",
    "## Setup TimeSeriesSplit\n",
    "num_splits = int(len(X)/(WINDOW_SIZE+TEST_SIZE))\n",
    "\n",
    "tscv = TimeSeriesSplit(n_splits=num_splits, max_train_size=WINDOW_SIZE, test_size=TEST_SIZE)\n",
    "\n",
    "\n",
    "# Setting up the grid search\n",
    "gs_dtr = GridSearchCV(pipe_ada_dt, \n",
    "                      params_dt, \n",
    "                      n_jobs=-1, \n",
    "                      cv=tscv,\n",
    "                      scoring=score_func,\n",
    "                      refit=True\n",
    "                     )\n",
    "\n",
    "# Fit GS to training data\n",
    "gs_dtr.fit(X, Y)\n",
    "df_cv_scores = pd.DataFrame(gs_dtr.cv_results_).sort_values(by='rank_test_score').loc[:,['mean_test_score', 'params', 'rank_test_score']]\n",
    "df_cv_scores.head(3)"
   ]
  },
  {
   "cell_type": "code",
   "execution_count": 126,
   "id": "0ebb7a2f",
   "metadata": {},
   "outputs": [
    {
     "data": {
      "text/plain": [
       "{'gradientboostingregressor__loss': 'quantile', 'selectkbest__k': 10}"
      ]
     },
     "execution_count": 126,
     "metadata": {},
     "output_type": "execute_result"
    }
   ],
   "source": [
    "gs_dtr.best_params_"
   ]
  },
  {
   "cell_type": "code",
   "execution_count": 131,
   "id": "2644f0e2",
   "metadata": {},
   "outputs": [
    {
     "data": {
      "text/html": [
       "<div>\n",
       "<style scoped>\n",
       "    .dataframe tbody tr th:only-of-type {\n",
       "        vertical-align: middle;\n",
       "    }\n",
       "\n",
       "    .dataframe tbody tr th {\n",
       "        vertical-align: top;\n",
       "    }\n",
       "\n",
       "    .dataframe thead th {\n",
       "        text-align: right;\n",
       "    }\n",
       "</style>\n",
       "<table border=\"1\" class=\"dataframe\">\n",
       "  <thead>\n",
       "    <tr style=\"text-align: right;\">\n",
       "      <th></th>\n",
       "      <th>mean_test_score</th>\n",
       "      <th>params</th>\n",
       "      <th>rank_test_score</th>\n",
       "    </tr>\n",
       "  </thead>\n",
       "  <tbody>\n",
       "    <tr>\n",
       "      <th>5</th>\n",
       "      <td>-0.473594</td>\n",
       "      <td>{'gradientboostingregressor__loss': 'quantile'...</td>\n",
       "      <td>1</td>\n",
       "    </tr>\n",
       "    <tr>\n",
       "      <th>6</th>\n",
       "      <td>-0.473784</td>\n",
       "      <td>{'gradientboostingregressor__loss': 'quantile'...</td>\n",
       "      <td>2</td>\n",
       "    </tr>\n",
       "    <tr>\n",
       "      <th>11</th>\n",
       "      <td>-0.473811</td>\n",
       "      <td>{'gradientboostingregressor__loss': 'quantile'...</td>\n",
       "      <td>3</td>\n",
       "    </tr>\n",
       "  </tbody>\n",
       "</table>\n",
       "</div>"
      ],
      "text/plain": [
       "    mean_test_score                                             params  \\\n",
       "5         -0.473594  {'gradientboostingregressor__loss': 'quantile'...   \n",
       "6         -0.473784  {'gradientboostingregressor__loss': 'quantile'...   \n",
       "11        -0.473811  {'gradientboostingregressor__loss': 'quantile'...   \n",
       "\n",
       "    rank_test_score  \n",
       "5                 1  \n",
       "6                 2  \n",
       "11                3  "
      ]
     },
     "execution_count": 131,
     "metadata": {},
     "output_type": "execute_result"
    }
   ],
   "source": [
    "#testing for n-estimators\n",
    "\n",
    "params_dt = {\n",
    "    'selectkbest__k':[10],\n",
    "    'gradientboostingregressor__loss':['quantile'],\n",
    "    'gradientboostingregressor__n_estimators':[20,25,26,27,28,29,30,31,32,33,34,35,36,37,38,39,40]\n",
    "}\n",
    "\n",
    "gs_dtr = GridSearchCV(pipe_ada_dt, params_dt, n_jobs=-1, cv=tscv, scoring=score_func, refit=True)\n",
    "\n",
    "gs_dtr.fit(X, Y)\n",
    "\n",
    "df_cv_scores = pd.DataFrame(gs_dtr.cv_results_).sort_values(by='rank_test_score').loc[:,['mean_test_score', 'params', 'rank_test_score']]\n",
    "df_cv_scores.head(3)"
   ]
  },
  {
   "cell_type": "code",
   "execution_count": 132,
   "id": "93576d4c",
   "metadata": {},
   "outputs": [
    {
     "data": {
      "text/plain": [
       "{'gradientboostingregressor__loss': 'quantile',\n",
       " 'gradientboostingregressor__n_estimators': 29,\n",
       " 'selectkbest__k': 10}"
      ]
     },
     "execution_count": 132,
     "metadata": {},
     "output_type": "execute_result"
    }
   ],
   "source": [
    "gs_dtr.best_params_"
   ]
  },
  {
   "cell_type": "code",
   "execution_count": 137,
   "id": "f3df9c69",
   "metadata": {},
   "outputs": [
    {
     "data": {
      "text/html": [
       "<div>\n",
       "<style scoped>\n",
       "    .dataframe tbody tr th:only-of-type {\n",
       "        vertical-align: middle;\n",
       "    }\n",
       "\n",
       "    .dataframe tbody tr th {\n",
       "        vertical-align: top;\n",
       "    }\n",
       "\n",
       "    .dataframe thead th {\n",
       "        text-align: right;\n",
       "    }\n",
       "</style>\n",
       "<table border=\"1\" class=\"dataframe\">\n",
       "  <thead>\n",
       "    <tr style=\"text-align: right;\">\n",
       "      <th></th>\n",
       "      <th>mean_test_score</th>\n",
       "      <th>params</th>\n",
       "      <th>rank_test_score</th>\n",
       "    </tr>\n",
       "  </thead>\n",
       "  <tbody>\n",
       "    <tr>\n",
       "      <th>8</th>\n",
       "      <td>-0.472548</td>\n",
       "      <td>{'gradientboostingregressor__learning_rate': 0...</td>\n",
       "      <td>1</td>\n",
       "    </tr>\n",
       "    <tr>\n",
       "      <th>9</th>\n",
       "      <td>-0.472559</td>\n",
       "      <td>{'gradientboostingregressor__learning_rate': 0...</td>\n",
       "      <td>2</td>\n",
       "    </tr>\n",
       "    <tr>\n",
       "      <th>7</th>\n",
       "      <td>-0.472561</td>\n",
       "      <td>{'gradientboostingregressor__learning_rate': 0...</td>\n",
       "      <td>3</td>\n",
       "    </tr>\n",
       "  </tbody>\n",
       "</table>\n",
       "</div>"
      ],
      "text/plain": [
       "   mean_test_score                                             params  \\\n",
       "8        -0.472548  {'gradientboostingregressor__learning_rate': 0...   \n",
       "9        -0.472559  {'gradientboostingregressor__learning_rate': 0...   \n",
       "7        -0.472561  {'gradientboostingregressor__learning_rate': 0...   \n",
       "\n",
       "   rank_test_score  \n",
       "8                1  \n",
       "9                2  \n",
       "7                3  "
      ]
     },
     "execution_count": 137,
     "metadata": {},
     "output_type": "execute_result"
    }
   ],
   "source": [
    "#testing for learning rate\n",
    "\n",
    "params_dt = {\n",
    "    'selectkbest__k':[10],\n",
    "    'gradientboostingregressor__loss':['quantile'],\n",
    "    'gradientboostingregressor__n_estimators':[29],\n",
    "    'gradientboostingregressor__learning_rate':[0.15,0.16,0.17,0.18,0.19,0.2,0.21,0.22,0.23,0.24,0.25,0.3,0.4,0.5]\n",
    "}\n",
    "\n",
    "gs_dtr = GridSearchCV(pipe_ada_dt, params_dt, n_jobs=-1, cv=tscv, scoring=score_func, refit=True)\n",
    "\n",
    "gs_dtr.fit(X, Y)\n",
    "\n",
    "df_cv_scores = pd.DataFrame(gs_dtr.cv_results_).sort_values(by='rank_test_score').loc[:,['mean_test_score', 'params', 'rank_test_score']]\n",
    "df_cv_scores.head(3)"
   ]
  },
  {
   "cell_type": "code",
   "execution_count": 138,
   "id": "eeab34bd",
   "metadata": {},
   "outputs": [
    {
     "data": {
      "text/plain": [
       "{'gradientboostingregressor__learning_rate': 0.23,\n",
       " 'gradientboostingregressor__loss': 'quantile',\n",
       " 'gradientboostingregressor__n_estimators': 29,\n",
       " 'selectkbest__k': 10}"
      ]
     },
     "execution_count": 138,
     "metadata": {},
     "output_type": "execute_result"
    }
   ],
   "source": [
    "gs_dtr.best_params_"
   ]
  },
  {
   "cell_type": "code",
   "execution_count": 145,
   "id": "5726e215",
   "metadata": {},
   "outputs": [
    {
     "data": {
      "text/html": [
       "<div>\n",
       "<style scoped>\n",
       "    .dataframe tbody tr th:only-of-type {\n",
       "        vertical-align: middle;\n",
       "    }\n",
       "\n",
       "    .dataframe tbody tr th {\n",
       "        vertical-align: top;\n",
       "    }\n",
       "\n",
       "    .dataframe thead th {\n",
       "        text-align: right;\n",
       "    }\n",
       "</style>\n",
       "<table border=\"1\" class=\"dataframe\">\n",
       "  <thead>\n",
       "    <tr style=\"text-align: right;\">\n",
       "      <th></th>\n",
       "      <th>mean_test_score</th>\n",
       "      <th>params</th>\n",
       "      <th>rank_test_score</th>\n",
       "    </tr>\n",
       "  </thead>\n",
       "  <tbody>\n",
       "    <tr>\n",
       "      <th>11</th>\n",
       "      <td>-0.472548</td>\n",
       "      <td>{'gradientboostingregressor__learning_rate': 0...</td>\n",
       "      <td>1</td>\n",
       "    </tr>\n",
       "    <tr>\n",
       "      <th>20</th>\n",
       "      <td>-0.472548</td>\n",
       "      <td>{'gradientboostingregressor__learning_rate': 0...</td>\n",
       "      <td>1</td>\n",
       "    </tr>\n",
       "    <tr>\n",
       "      <th>19</th>\n",
       "      <td>-0.472548</td>\n",
       "      <td>{'gradientboostingregressor__learning_rate': 0...</td>\n",
       "      <td>1</td>\n",
       "    </tr>\n",
       "  </tbody>\n",
       "</table>\n",
       "</div>"
      ],
      "text/plain": [
       "    mean_test_score                                             params  \\\n",
       "11        -0.472548  {'gradientboostingregressor__learning_rate': 0...   \n",
       "20        -0.472548  {'gradientboostingregressor__learning_rate': 0...   \n",
       "19        -0.472548  {'gradientboostingregressor__learning_rate': 0...   \n",
       "\n",
       "    rank_test_score  \n",
       "11                1  \n",
       "20                1  \n",
       "19                1  "
      ]
     },
     "execution_count": 145,
     "metadata": {},
     "output_type": "execute_result"
    }
   ],
   "source": [
    "#testing for max depth\n",
    "\n",
    "params_dt = {\n",
    "    'selectkbest__k':[10],\n",
    "    'gradientboostingregressor__loss':['quantile'],\n",
    "    'gradientboostingregressor__n_estimators':[29],\n",
    "    'gradientboostingregressor__learning_rate':[0.23],\n",
    "    'gradientboostingregressor__max_depth':[1.6,1.7,1.8,1.9,1.95,1.96,1.97,1.98,1.99,2,2.1,2.2,2.3,2.4,2.5,2.6,2.7,2.8,2.9,3,3.5,4,5]\n",
    "}\n",
    "\n",
    "gs_dtr = GridSearchCV(pipe_ada_dt, params_dt, n_jobs=-1, cv=tscv, scoring=score_func, refit=True)\n",
    "\n",
    "gs_dtr.fit(X, Y)\n",
    "\n",
    "df_cv_scores = pd.DataFrame(gs_dtr.cv_results_).sort_values(by='rank_test_score').loc[:,['mean_test_score', 'params', 'rank_test_score']]\n",
    "df_cv_scores.head(3)"
   ]
  },
  {
   "cell_type": "code",
   "execution_count": 146,
   "id": "85632aaf",
   "metadata": {},
   "outputs": [
    {
     "data": {
      "text/plain": [
       "{'gradientboostingregressor__learning_rate': 0.23,\n",
       " 'gradientboostingregressor__loss': 'quantile',\n",
       " 'gradientboostingregressor__max_depth': 2,\n",
       " 'gradientboostingregressor__n_estimators': 29,\n",
       " 'selectkbest__k': 10}"
      ]
     },
     "execution_count": 146,
     "metadata": {},
     "output_type": "execute_result"
    }
   ],
   "source": [
    "gs_dtr.best_params_"
   ]
  },
  {
   "cell_type": "code",
   "execution_count": 147,
   "id": "f8515f31",
   "metadata": {},
   "outputs": [
    {
     "data": {
      "text/html": [
       "<div>\n",
       "<style scoped>\n",
       "    .dataframe tbody tr th:only-of-type {\n",
       "        vertical-align: middle;\n",
       "    }\n",
       "\n",
       "    .dataframe tbody tr th {\n",
       "        vertical-align: top;\n",
       "    }\n",
       "\n",
       "    .dataframe thead th {\n",
       "        text-align: right;\n",
       "    }\n",
       "</style>\n",
       "<table border=\"1\" class=\"dataframe\">\n",
       "  <thead>\n",
       "    <tr style=\"text-align: right;\">\n",
       "      <th></th>\n",
       "      <th>mean_test_score</th>\n",
       "      <th>params</th>\n",
       "      <th>rank_test_score</th>\n",
       "    </tr>\n",
       "  </thead>\n",
       "  <tbody>\n",
       "    <tr>\n",
       "      <th>1</th>\n",
       "      <td>-0.469097</td>\n",
       "      <td>{'gradientboostingregressor__learning_rate': 0...</td>\n",
       "      <td>1</td>\n",
       "    </tr>\n",
       "    <tr>\n",
       "      <th>2</th>\n",
       "      <td>-0.469097</td>\n",
       "      <td>{'gradientboostingregressor__learning_rate': 0...</td>\n",
       "      <td>1</td>\n",
       "    </tr>\n",
       "    <tr>\n",
       "      <th>0</th>\n",
       "      <td>-0.472548</td>\n",
       "      <td>{'gradientboostingregressor__learning_rate': 0...</td>\n",
       "      <td>3</td>\n",
       "    </tr>\n",
       "  </tbody>\n",
       "</table>\n",
       "</div>"
      ],
      "text/plain": [
       "   mean_test_score                                             params  \\\n",
       "1        -0.469097  {'gradientboostingregressor__learning_rate': 0...   \n",
       "2        -0.469097  {'gradientboostingregressor__learning_rate': 0...   \n",
       "0        -0.472548  {'gradientboostingregressor__learning_rate': 0...   \n",
       "\n",
       "   rank_test_score  \n",
       "1                1  \n",
       "2                1  \n",
       "0                3  "
      ]
     },
     "execution_count": 147,
     "metadata": {},
     "output_type": "execute_result"
    }
   ],
   "source": [
    "\n",
    "#testing for max features\n",
    "\n",
    "params_dt = {\n",
    "    'selectkbest__k':[10],\n",
    "    'gradientboostingregressor__loss':['quantile'],\n",
    "    'gradientboostingregressor__n_estimators':[29],\n",
    "    'gradientboostingregressor__learning_rate':[0.23],\n",
    "    'gradientboostingregressor__max_depth':[2],\n",
    "    'gradientboostingregressor__max_features':['auto', 'sqrt', 'log2',None]\n",
    "}\n",
    "\n",
    "gs_dtr = GridSearchCV(pipe_ada_dt, params_dt, n_jobs=-1, cv=tscv, scoring=score_func, refit=True)\n",
    "\n",
    "gs_dtr.fit(X, Y)\n",
    "\n",
    "df_cv_scores = pd.DataFrame(gs_dtr.cv_results_).sort_values(by='rank_test_score').loc[:,['mean_test_score', 'params', 'rank_test_score']]\n",
    "df_cv_scores.head(3)\n"
   ]
  },
  {
   "cell_type": "code",
   "execution_count": 148,
   "id": "465194a2",
   "metadata": {},
   "outputs": [
    {
     "data": {
      "text/plain": [
       "{'gradientboostingregressor__learning_rate': 0.23,\n",
       " 'gradientboostingregressor__loss': 'quantile',\n",
       " 'gradientboostingregressor__max_depth': 2,\n",
       " 'gradientboostingregressor__max_features': 'sqrt',\n",
       " 'gradientboostingregressor__n_estimators': 29,\n",
       " 'selectkbest__k': 10}"
      ]
     },
     "execution_count": 148,
     "metadata": {},
     "output_type": "execute_result"
    }
   ],
   "source": [
    "gs_dtr.best_params_"
   ]
  },
  {
   "cell_type": "markdown",
   "id": "80adce9e",
   "metadata": {},
   "source": [
    "## FINAL PREDICTION COSMOS ATOM-USD"
   ]
  },
  {
   "cell_type": "code",
   "execution_count": 153,
   "id": "0323c2f4",
   "metadata": {},
   "outputs": [
    {
     "data": {
      "text/plain": [
       "Pipeline(steps=[('standardscaler', StandardScaler()),\n",
       "                ('selectkbest',\n",
       "                 SelectKBest(score_func=<function f_regression at 0x00000148A650DCA0>)),\n",
       "                ('gradientboostingregressor',\n",
       "                 GradientBoostingRegressor(ccp_alpha=0, learning_rate=0.23,\n",
       "                                           loss='quantile', max_depth=2,\n",
       "                                           max_features='sqrt', n_estimators=29,\n",
       "                                           random_state=9))])"
      ]
     },
     "execution_count": 153,
     "metadata": {},
     "output_type": "execute_result"
    }
   ],
   "source": [
    "best_estimator = gs_dtr.best_estimator_\n",
    "best_estimator.fit(df_forprediction[x_cols][:-1], df_forprediction['Y'][:-1])"
   ]
  },
  {
   "cell_type": "code",
   "execution_count": 154,
   "id": "d44f237b",
   "metadata": {},
   "outputs": [
    {
     "data": {
      "text/plain": [
       "array([24.60552908])"
      ]
     },
     "execution_count": 154,
     "metadata": {},
     "output_type": "execute_result"
    }
   ],
   "source": [
    "## Make prediction for last\n",
    "best_estimator.predict(df_forprediction[x_cols][-1:])"
   ]
  },
  {
   "cell_type": "code",
   "execution_count": 155,
   "id": "07b1a06c",
   "metadata": {},
   "outputs": [
    {
     "data": {
      "text/plain": [
       "0.20911690810810804"
      ]
     },
     "execution_count": 155,
     "metadata": {},
     "output_type": "execute_result"
    }
   ],
   "source": [
    "april_26_truth= 20.35\n",
    "april_26_pred=24.60552908\n",
    "\n",
    "mean_absolute_percentage_error([april_26_truth],[april_26_pred])"
   ]
  },
  {
   "cell_type": "markdown",
   "id": "09a0a942",
   "metadata": {},
   "source": [
    "# AVAX-USD Avalanche"
   ]
  },
  {
   "cell_type": "code",
   "execution_count": 160,
   "id": "0bf5db14",
   "metadata": {},
   "outputs": [
    {
     "data": {
      "text/html": [
       "<div>\n",
       "<style scoped>\n",
       "    .dataframe tbody tr th:only-of-type {\n",
       "        vertical-align: middle;\n",
       "    }\n",
       "\n",
       "    .dataframe tbody tr th {\n",
       "        vertical-align: top;\n",
       "    }\n",
       "\n",
       "    .dataframe thead th {\n",
       "        text-align: right;\n",
       "    }\n",
       "</style>\n",
       "<table border=\"1\" class=\"dataframe\">\n",
       "  <thead>\n",
       "    <tr style=\"text-align: right;\">\n",
       "      <th></th>\n",
       "      <th>mean_test_score</th>\n",
       "      <th>params</th>\n",
       "      <th>rank_test_score</th>\n",
       "    </tr>\n",
       "  </thead>\n",
       "  <tbody>\n",
       "    <tr>\n",
       "      <th>59</th>\n",
       "      <td>-0.022376</td>\n",
       "      <td>{'gradientboostingregressor__loss': 'quantile'...</td>\n",
       "      <td>1</td>\n",
       "    </tr>\n",
       "    <tr>\n",
       "      <th>58</th>\n",
       "      <td>-0.022476</td>\n",
       "      <td>{'gradientboostingregressor__loss': 'quantile'...</td>\n",
       "      <td>2</td>\n",
       "    </tr>\n",
       "    <tr>\n",
       "      <th>61</th>\n",
       "      <td>-0.023831</td>\n",
       "      <td>{'gradientboostingregressor__loss': 'quantile'...</td>\n",
       "      <td>3</td>\n",
       "    </tr>\n",
       "  </tbody>\n",
       "</table>\n",
       "</div>"
      ],
      "text/plain": [
       "    mean_test_score                                             params  \\\n",
       "59        -0.022376  {'gradientboostingregressor__loss': 'quantile'...   \n",
       "58        -0.022476  {'gradientboostingregressor__loss': 'quantile'...   \n",
       "61        -0.023831  {'gradientboostingregressor__loss': 'quantile'...   \n",
       "\n",
       "    rank_test_score  \n",
       "59                1  \n",
       "58                2  \n",
       "61                3  "
      ]
     },
     "execution_count": 160,
     "metadata": {},
     "output_type": "execute_result"
    }
   ],
   "source": [
    "target_col = 'avax_close'\n",
    "df_tt, df_forprediction = shift_split_data(df_all, target_col, TRAIN_SIZE)\n",
    "\n",
    "score_func = 'neg_mean_absolute_percentage_error'\n",
    "\n",
    "Y = df_tt['Y']\n",
    "\n",
    "x_cols = [i for i in df_tt.columns.tolist() if i not in ['Date_X', 'Date_Y', 'Y'] ]\n",
    "X = df_tt[x_cols]\n",
    "\n",
    "pipe_ada_dt = make_pipeline(StandardScaler(),\n",
    "                    SelectKBest(f_regression),\n",
    "                    GradientBoostingRegressor(random_state=RANDOM_STATE))\n",
    "\n",
    "## Selecting loss and k best\n",
    "params_dt = {\n",
    "    'selectkbest__k':[5,6,7,8,9,10,11,12,13,14,15,16,17,18,19,20,50],\n",
    "    'gradientboostingregressor__loss':['squared_error', 'absolute_error', 'huber', 'quantile']\n",
    "}\n",
    "\n",
    "## Setup TimeSeriesSplit\n",
    "num_splits = int(len(X)/(WINDOW_SIZE+TEST_SIZE))\n",
    "\n",
    "tscv = TimeSeriesSplit(n_splits=num_splits, max_train_size=WINDOW_SIZE, test_size=TEST_SIZE)\n",
    "\n",
    "\n",
    "# Setting up the grid search\n",
    "gs_dtr = GridSearchCV(pipe_ada_dt, \n",
    "                      params_dt, \n",
    "                      n_jobs=-1, \n",
    "                      cv=tscv,\n",
    "                      scoring=score_func,\n",
    "                      refit=True\n",
    "                     )\n",
    "\n",
    "# Fit GS to training data\n",
    "gs_dtr.fit(X, Y)\n",
    "df_cv_scores = pd.DataFrame(gs_dtr.cv_results_).sort_values(by='rank_test_score').loc[:,['mean_test_score', 'params', 'rank_test_score']]\n",
    "df_cv_scores.head(3)"
   ]
  },
  {
   "cell_type": "code",
   "execution_count": 161,
   "id": "1e3d4583",
   "metadata": {},
   "outputs": [
    {
     "data": {
      "text/plain": [
       "{'gradientboostingregressor__loss': 'quantile', 'selectkbest__k': 13}"
      ]
     },
     "execution_count": 161,
     "metadata": {},
     "output_type": "execute_result"
    }
   ],
   "source": [
    "gs_dtr.best_params_"
   ]
  },
  {
   "cell_type": "code",
   "execution_count": 174,
   "id": "4ec9cc7b",
   "metadata": {},
   "outputs": [
    {
     "data": {
      "text/html": [
       "<div>\n",
       "<style scoped>\n",
       "    .dataframe tbody tr th:only-of-type {\n",
       "        vertical-align: middle;\n",
       "    }\n",
       "\n",
       "    .dataframe tbody tr th {\n",
       "        vertical-align: top;\n",
       "    }\n",
       "\n",
       "    .dataframe thead th {\n",
       "        text-align: right;\n",
       "    }\n",
       "</style>\n",
       "<table border=\"1\" class=\"dataframe\">\n",
       "  <thead>\n",
       "    <tr style=\"text-align: right;\">\n",
       "      <th></th>\n",
       "      <th>mean_test_score</th>\n",
       "      <th>params</th>\n",
       "      <th>rank_test_score</th>\n",
       "    </tr>\n",
       "  </thead>\n",
       "  <tbody>\n",
       "    <tr>\n",
       "      <th>10</th>\n",
       "      <td>-0.022376</td>\n",
       "      <td>{'gradientboostingregressor__loss': 'quantile'...</td>\n",
       "      <td>1</td>\n",
       "    </tr>\n",
       "    <tr>\n",
       "      <th>18</th>\n",
       "      <td>-0.022376</td>\n",
       "      <td>{'gradientboostingregressor__loss': 'quantile'...</td>\n",
       "      <td>1</td>\n",
       "    </tr>\n",
       "    <tr>\n",
       "      <th>17</th>\n",
       "      <td>-0.022376</td>\n",
       "      <td>{'gradientboostingregressor__loss': 'quantile'...</td>\n",
       "      <td>1</td>\n",
       "    </tr>\n",
       "  </tbody>\n",
       "</table>\n",
       "</div>"
      ],
      "text/plain": [
       "    mean_test_score                                             params  \\\n",
       "10        -0.022376  {'gradientboostingregressor__loss': 'quantile'...   \n",
       "18        -0.022376  {'gradientboostingregressor__loss': 'quantile'...   \n",
       "17        -0.022376  {'gradientboostingregressor__loss': 'quantile'...   \n",
       "\n",
       "    rank_test_score  \n",
       "10                1  \n",
       "18                1  \n",
       "17                1  "
      ]
     },
     "execution_count": 174,
     "metadata": {},
     "output_type": "execute_result"
    }
   ],
   "source": [
    "#testing for n-estimators\n",
    "\n",
    "params_dt = {\n",
    "    'selectkbest__k':[13],\n",
    "    'gradientboostingregressor__loss':['quantile'],\n",
    "    'gradientboostingregressor__n_estimators':[200,250,260,270,280,290,291,292,293,294,295,296,297,298,299,300,301,302,303,304,305]\n",
    "}\n",
    "\n",
    "gs_dtr = GridSearchCV(pipe_ada_dt, params_dt, n_jobs=-1, cv=tscv, scoring=score_func, refit=True)\n",
    "\n",
    "gs_dtr.fit(X, Y)\n",
    "\n",
    "df_cv_scores = pd.DataFrame(gs_dtr.cv_results_).sort_values(by='rank_test_score').loc[:,['mean_test_score', 'params', 'rank_test_score']]\n",
    "df_cv_scores.head(3)"
   ]
  },
  {
   "cell_type": "code",
   "execution_count": 175,
   "id": "d2a06676",
   "metadata": {},
   "outputs": [
    {
     "data": {
      "text/plain": [
       "{'gradientboostingregressor__loss': 'quantile',\n",
       " 'gradientboostingregressor__n_estimators': 293,\n",
       " 'selectkbest__k': 13}"
      ]
     },
     "execution_count": 175,
     "metadata": {},
     "output_type": "execute_result"
    }
   ],
   "source": [
    "gs_dtr.best_params_"
   ]
  },
  {
   "cell_type": "code",
   "execution_count": 178,
   "id": "6dffcdd5",
   "metadata": {},
   "outputs": [
    {
     "data": {
      "text/html": [
       "<div>\n",
       "<style scoped>\n",
       "    .dataframe tbody tr th:only-of-type {\n",
       "        vertical-align: middle;\n",
       "    }\n",
       "\n",
       "    .dataframe tbody tr th {\n",
       "        vertical-align: top;\n",
       "    }\n",
       "\n",
       "    .dataframe thead th {\n",
       "        text-align: right;\n",
       "    }\n",
       "</style>\n",
       "<table border=\"1\" class=\"dataframe\">\n",
       "  <thead>\n",
       "    <tr style=\"text-align: right;\">\n",
       "      <th></th>\n",
       "      <th>mean_test_score</th>\n",
       "      <th>params</th>\n",
       "      <th>rank_test_score</th>\n",
       "    </tr>\n",
       "  </thead>\n",
       "  <tbody>\n",
       "    <tr>\n",
       "      <th>17</th>\n",
       "      <td>-0.022212</td>\n",
       "      <td>{'gradientboostingregressor__learning_rate': 0...</td>\n",
       "      <td>1</td>\n",
       "    </tr>\n",
       "    <tr>\n",
       "      <th>16</th>\n",
       "      <td>-0.022212</td>\n",
       "      <td>{'gradientboostingregressor__learning_rate': 0...</td>\n",
       "      <td>2</td>\n",
       "    </tr>\n",
       "    <tr>\n",
       "      <th>18</th>\n",
       "      <td>-0.022212</td>\n",
       "      <td>{'gradientboostingregressor__learning_rate': 0...</td>\n",
       "      <td>3</td>\n",
       "    </tr>\n",
       "  </tbody>\n",
       "</table>\n",
       "</div>"
      ],
      "text/plain": [
       "    mean_test_score                                             params  \\\n",
       "17        -0.022212  {'gradientboostingregressor__learning_rate': 0...   \n",
       "16        -0.022212  {'gradientboostingregressor__learning_rate': 0...   \n",
       "18        -0.022212  {'gradientboostingregressor__learning_rate': 0...   \n",
       "\n",
       "    rank_test_score  \n",
       "17                1  \n",
       "16                2  \n",
       "18                3  "
      ]
     },
     "execution_count": 178,
     "metadata": {},
     "output_type": "execute_result"
    }
   ],
   "source": [
    "#testing for learning rate\n",
    "\n",
    "params_dt = {\n",
    "    'selectkbest__k':[13],\n",
    "    'gradientboostingregressor__loss':['quantile'],\n",
    "    'gradientboostingregressor__n_estimators':[293],\n",
    "    'gradientboostingregressor__learning_rate':[0.1,0.01,0.001,0.0001,0.00001,0.15,0.16,0.17,0.18,0.19,0.2,0.21,0.22,0.23,0.24,0.245,0.25,0.26,0.27,0.28,0.29,0.3,0.4,0.5]\n",
    "}\n",
    "\n",
    "gs_dtr = GridSearchCV(pipe_ada_dt, params_dt, n_jobs=-1, cv=tscv, scoring=score_func, refit=True)\n",
    "\n",
    "gs_dtr.fit(X, Y)\n",
    "\n",
    "df_cv_scores = pd.DataFrame(gs_dtr.cv_results_).sort_values(by='rank_test_score').loc[:,['mean_test_score', 'params', 'rank_test_score']]\n",
    "df_cv_scores.head(3)"
   ]
  },
  {
   "cell_type": "code",
   "execution_count": 179,
   "id": "fe030093",
   "metadata": {},
   "outputs": [
    {
     "data": {
      "text/plain": [
       "{'gradientboostingregressor__learning_rate': 0.26,\n",
       " 'gradientboostingregressor__loss': 'quantile',\n",
       " 'gradientboostingregressor__n_estimators': 293,\n",
       " 'selectkbest__k': 13}"
      ]
     },
     "execution_count": 179,
     "metadata": {},
     "output_type": "execute_result"
    }
   ],
   "source": [
    "gs_dtr.best_params_"
   ]
  },
  {
   "cell_type": "code",
   "execution_count": 184,
   "id": "e6d995d3",
   "metadata": {},
   "outputs": [
    {
     "data": {
      "text/html": [
       "<div>\n",
       "<style scoped>\n",
       "    .dataframe tbody tr th:only-of-type {\n",
       "        vertical-align: middle;\n",
       "    }\n",
       "\n",
       "    .dataframe tbody tr th {\n",
       "        vertical-align: top;\n",
       "    }\n",
       "\n",
       "    .dataframe thead th {\n",
       "        text-align: right;\n",
       "    }\n",
       "</style>\n",
       "<table border=\"1\" class=\"dataframe\">\n",
       "  <thead>\n",
       "    <tr style=\"text-align: right;\">\n",
       "      <th></th>\n",
       "      <th>mean_test_score</th>\n",
       "      <th>params</th>\n",
       "      <th>rank_test_score</th>\n",
       "    </tr>\n",
       "  </thead>\n",
       "  <tbody>\n",
       "    <tr>\n",
       "      <th>17</th>\n",
       "      <td>-0.022212</td>\n",
       "      <td>{'gradientboostingregressor__learning_rate': 0...</td>\n",
       "      <td>1</td>\n",
       "    </tr>\n",
       "    <tr>\n",
       "      <th>19</th>\n",
       "      <td>-0.022212</td>\n",
       "      <td>{'gradientboostingregressor__learning_rate': 0...</td>\n",
       "      <td>1</td>\n",
       "    </tr>\n",
       "    <tr>\n",
       "      <th>20</th>\n",
       "      <td>-0.022212</td>\n",
       "      <td>{'gradientboostingregressor__learning_rate': 0...</td>\n",
       "      <td>1</td>\n",
       "    </tr>\n",
       "  </tbody>\n",
       "</table>\n",
       "</div>"
      ],
      "text/plain": [
       "    mean_test_score                                             params  \\\n",
       "17        -0.022212  {'gradientboostingregressor__learning_rate': 0...   \n",
       "19        -0.022212  {'gradientboostingregressor__learning_rate': 0...   \n",
       "20        -0.022212  {'gradientboostingregressor__learning_rate': 0...   \n",
       "\n",
       "    rank_test_score  \n",
       "17                1  \n",
       "19                1  \n",
       "20                1  "
      ]
     },
     "execution_count": 184,
     "metadata": {},
     "output_type": "execute_result"
    }
   ],
   "source": [
    "#testing for max depth\n",
    "\n",
    "params_dt = {\n",
    "    'selectkbest__k':[13],\n",
    "    'gradientboostingregressor__loss':['quantile'],\n",
    "    'gradientboostingregressor__n_estimators':[293],\n",
    "    'gradientboostingregressor__learning_rate':[0.26],\n",
    "    'gradientboostingregressor__max_depth':[0.5,0.6,0.7,0.8,0.9,0.95,1,1.1,1.2,1.3,1.4,1.5,1.6,1.7,1.8,1.9,1.95,1.96,1.97,1.98,1.99,2,2.1,2.2,2.3,2.4,2.5,2.6,2.7,2.8,2.9,3,3.5,4,5]\n",
    "}\n",
    "\n",
    "gs_dtr = GridSearchCV(pipe_ada_dt, params_dt, n_jobs=-1, cv=tscv, scoring=score_func, refit=True)\n",
    "\n",
    "gs_dtr.fit(X, Y)\n",
    "\n",
    "df_cv_scores = pd.DataFrame(gs_dtr.cv_results_).sort_values(by='rank_test_score').loc[:,['mean_test_score', 'params', 'rank_test_score']]\n",
    "df_cv_scores.head(3)"
   ]
  },
  {
   "cell_type": "code",
   "execution_count": 185,
   "id": "8b092407",
   "metadata": {},
   "outputs": [
    {
     "data": {
      "text/plain": [
       "{'gradientboostingregressor__learning_rate': 0.26,\n",
       " 'gradientboostingregressor__loss': 'quantile',\n",
       " 'gradientboostingregressor__max_depth': 1,\n",
       " 'gradientboostingregressor__n_estimators': 293,\n",
       " 'selectkbest__k': 13}"
      ]
     },
     "execution_count": 185,
     "metadata": {},
     "output_type": "execute_result"
    }
   ],
   "source": [
    "gs_dtr.best_params_"
   ]
  },
  {
   "cell_type": "code",
   "execution_count": 188,
   "id": "28485f59",
   "metadata": {},
   "outputs": [
    {
     "data": {
      "text/html": [
       "<div>\n",
       "<style scoped>\n",
       "    .dataframe tbody tr th:only-of-type {\n",
       "        vertical-align: middle;\n",
       "    }\n",
       "\n",
       "    .dataframe tbody tr th {\n",
       "        vertical-align: top;\n",
       "    }\n",
       "\n",
       "    .dataframe thead th {\n",
       "        text-align: right;\n",
       "    }\n",
       "</style>\n",
       "<table border=\"1\" class=\"dataframe\">\n",
       "  <thead>\n",
       "    <tr style=\"text-align: right;\">\n",
       "      <th></th>\n",
       "      <th>mean_test_score</th>\n",
       "      <th>params</th>\n",
       "      <th>rank_test_score</th>\n",
       "    </tr>\n",
       "  </thead>\n",
       "  <tbody>\n",
       "    <tr>\n",
       "      <th>0</th>\n",
       "      <td>-0.022212</td>\n",
       "      <td>{'gradientboostingregressor__learning_rate': 0...</td>\n",
       "      <td>1</td>\n",
       "    </tr>\n",
       "    <tr>\n",
       "      <th>3</th>\n",
       "      <td>-0.022212</td>\n",
       "      <td>{'gradientboostingregressor__learning_rate': 0...</td>\n",
       "      <td>1</td>\n",
       "    </tr>\n",
       "    <tr>\n",
       "      <th>1</th>\n",
       "      <td>-0.024236</td>\n",
       "      <td>{'gradientboostingregressor__learning_rate': 0...</td>\n",
       "      <td>3</td>\n",
       "    </tr>\n",
       "  </tbody>\n",
       "</table>\n",
       "</div>"
      ],
      "text/plain": [
       "   mean_test_score                                             params  \\\n",
       "0        -0.022212  {'gradientboostingregressor__learning_rate': 0...   \n",
       "3        -0.022212  {'gradientboostingregressor__learning_rate': 0...   \n",
       "1        -0.024236  {'gradientboostingregressor__learning_rate': 0...   \n",
       "\n",
       "   rank_test_score  \n",
       "0                1  \n",
       "3                1  \n",
       "1                3  "
      ]
     },
     "execution_count": 188,
     "metadata": {},
     "output_type": "execute_result"
    }
   ],
   "source": [
    "#testing for max features\n",
    "\n",
    "params_dt = {\n",
    "    'selectkbest__k':[13],\n",
    "    'gradientboostingregressor__loss':['quantile'],\n",
    "    'gradientboostingregressor__n_estimators':[293],\n",
    "    'gradientboostingregressor__learning_rate':[0.26],\n",
    "    'gradientboostingregressor__max_depth':[1],\n",
    "    'gradientboostingregressor__max_features':['auto', 'sqrt', 'log2',None]\n",
    "}\n",
    "\n",
    "gs_dtr = GridSearchCV(pipe_ada_dt, params_dt, n_jobs=-1, cv=tscv, scoring=score_func, refit=True)\n",
    "\n",
    "gs_dtr.fit(X, Y)\n",
    "\n",
    "df_cv_scores = pd.DataFrame(gs_dtr.cv_results_).sort_values(by='rank_test_score').loc[:,['mean_test_score', 'params', 'rank_test_score']]\n",
    "df_cv_scores.head(3)"
   ]
  },
  {
   "cell_type": "code",
   "execution_count": 189,
   "id": "13fc4b9b",
   "metadata": {},
   "outputs": [
    {
     "data": {
      "text/plain": [
       "{'gradientboostingregressor__learning_rate': 0.26,\n",
       " 'gradientboostingregressor__loss': 'quantile',\n",
       " 'gradientboostingregressor__max_depth': 1,\n",
       " 'gradientboostingregressor__max_features': 'auto',\n",
       " 'gradientboostingregressor__n_estimators': 293,\n",
       " 'selectkbest__k': 13}"
      ]
     },
     "execution_count": 189,
     "metadata": {},
     "output_type": "execute_result"
    }
   ],
   "source": [
    "gs_dtr.best_params_"
   ]
  },
  {
   "cell_type": "markdown",
   "id": "aaf0b0e7",
   "metadata": {},
   "source": [
    "## FINAL PREDICTION AVAX USD AVALANCHE"
   ]
  },
  {
   "cell_type": "code",
   "execution_count": 190,
   "id": "15cacd13",
   "metadata": {},
   "outputs": [
    {
     "data": {
      "text/plain": [
       "Pipeline(steps=[('standardscaler', StandardScaler()),\n",
       "                ('selectkbest',\n",
       "                 SelectKBest(k=13,\n",
       "                             score_func=<function f_regression at 0x00000148A650DCA0>)),\n",
       "                ('gradientboostingregressor',\n",
       "                 GradientBoostingRegressor(learning_rate=0.26, loss='quantile',\n",
       "                                           max_depth=1, max_features='auto',\n",
       "                                           n_estimators=293, random_state=9))])"
      ]
     },
     "execution_count": 190,
     "metadata": {},
     "output_type": "execute_result"
    }
   ],
   "source": [
    "best_estimator = gs_dtr.best_estimator_\n",
    "best_estimator.fit(df_forprediction[x_cols][:-1], df_forprediction['Y'][:-1])"
   ]
  },
  {
   "cell_type": "code",
   "execution_count": 191,
   "id": "4e36d588",
   "metadata": {},
   "outputs": [
    {
     "data": {
      "text/plain": [
       "array([80.21828325])"
      ]
     },
     "execution_count": 191,
     "metadata": {},
     "output_type": "execute_result"
    }
   ],
   "source": [
    "## Make prediction for last\n",
    "best_estimator.predict(df_forprediction[x_cols][-1:])"
   ]
  },
  {
   "cell_type": "code",
   "execution_count": 192,
   "id": "0a2b9fa7",
   "metadata": {},
   "outputs": [
    {
     "data": {
      "text/plain": [
       "0.1681707186544342"
      ]
     },
     "execution_count": 192,
     "metadata": {},
     "output_type": "execute_result"
    }
   ],
   "source": [
    "april_26_truth= 68.67\n",
    "april_26_pred=80.21828325\n",
    "\n",
    "mean_absolute_percentage_error([april_26_truth],[april_26_pred])"
   ]
  },
  {
   "cell_type": "markdown",
   "id": "0d67fc8e",
   "metadata": {},
   "source": [
    "# AXS-USD: Axie Infinity"
   ]
  },
  {
   "cell_type": "code",
   "execution_count": 195,
   "id": "58e52161",
   "metadata": {},
   "outputs": [
    {
     "data": {
      "text/html": [
       "<div>\n",
       "<style scoped>\n",
       "    .dataframe tbody tr th:only-of-type {\n",
       "        vertical-align: middle;\n",
       "    }\n",
       "\n",
       "    .dataframe tbody tr th {\n",
       "        vertical-align: top;\n",
       "    }\n",
       "\n",
       "    .dataframe thead th {\n",
       "        text-align: right;\n",
       "    }\n",
       "</style>\n",
       "<table border=\"1\" class=\"dataframe\">\n",
       "  <thead>\n",
       "    <tr style=\"text-align: right;\">\n",
       "      <th></th>\n",
       "      <th>mean_test_score</th>\n",
       "      <th>params</th>\n",
       "      <th>rank_test_score</th>\n",
       "    </tr>\n",
       "  </thead>\n",
       "  <tbody>\n",
       "    <tr>\n",
       "      <th>17</th>\n",
       "      <td>-0.048636</td>\n",
       "      <td>{'gradientboostingregressor__loss': 'squared_e...</td>\n",
       "      <td>1</td>\n",
       "    </tr>\n",
       "    <tr>\n",
       "      <th>77</th>\n",
       "      <td>-0.048636</td>\n",
       "      <td>{'gradientboostingregressor__loss': 'huber', '...</td>\n",
       "      <td>2</td>\n",
       "    </tr>\n",
       "    <tr>\n",
       "      <th>23</th>\n",
       "      <td>-0.048775</td>\n",
       "      <td>{'gradientboostingregressor__loss': 'squared_e...</td>\n",
       "      <td>3</td>\n",
       "    </tr>\n",
       "  </tbody>\n",
       "</table>\n",
       "</div>"
      ],
      "text/plain": [
       "    mean_test_score                                             params  \\\n",
       "17        -0.048636  {'gradientboostingregressor__loss': 'squared_e...   \n",
       "77        -0.048636  {'gradientboostingregressor__loss': 'huber', '...   \n",
       "23        -0.048775  {'gradientboostingregressor__loss': 'squared_e...   \n",
       "\n",
       "    rank_test_score  \n",
       "17                1  \n",
       "77                2  \n",
       "23                3  "
      ]
     },
     "execution_count": 195,
     "metadata": {},
     "output_type": "execute_result"
    }
   ],
   "source": [
    "target_col = 'axs_close'\n",
    "df_tt, df_forprediction = shift_split_data(df_all, target_col, TRAIN_SIZE)\n",
    "\n",
    "score_func = 'neg_mean_absolute_percentage_error'\n",
    "\n",
    "Y = df_tt['Y']\n",
    "\n",
    "x_cols = [i for i in df_tt.columns.tolist() if i not in ['Date_X', 'Date_Y', 'Y'] ]\n",
    "X = df_tt[x_cols]\n",
    "\n",
    "pipe_ada_dt = make_pipeline(StandardScaler(),\n",
    "                    SelectKBest(f_regression),\n",
    "                    GradientBoostingRegressor(random_state=RANDOM_STATE))\n",
    "\n",
    "## Selecting loss and k best\n",
    "params_dt = {\n",
    "    'selectkbest__k':[5,6,7,8,9,10,11,12,13,14,15,16,17,18,19,20,21,22,23,24,25,26,27,28,29,30,35,40,45,50],\n",
    "    'gradientboostingregressor__loss':['squared_error', 'absolute_error', 'huber', 'quantile']\n",
    "}\n",
    "\n",
    "## Setup TimeSeriesSplit\n",
    "num_splits = int(len(X)/(WINDOW_SIZE+TEST_SIZE))\n",
    "\n",
    "tscv = TimeSeriesSplit(n_splits=num_splits, max_train_size=WINDOW_SIZE, test_size=TEST_SIZE)\n",
    "\n",
    "\n",
    "# Setting up the grid search\n",
    "gs_dtr = GridSearchCV(pipe_ada_dt, \n",
    "                      params_dt, \n",
    "                      n_jobs=-1, \n",
    "                      cv=tscv,\n",
    "                      scoring=score_func,\n",
    "                      refit=True\n",
    "                     )\n",
    "\n",
    "# Fit GS to training data\n",
    "gs_dtr.fit(X, Y)\n",
    "df_cv_scores = pd.DataFrame(gs_dtr.cv_results_).sort_values(by='rank_test_score').loc[:,['mean_test_score', 'params', 'rank_test_score']]\n",
    "df_cv_scores.head(3)"
   ]
  },
  {
   "cell_type": "code",
   "execution_count": 196,
   "id": "fabc64d9",
   "metadata": {},
   "outputs": [
    {
     "data": {
      "text/plain": [
       "{'gradientboostingregressor__loss': 'squared_error', 'selectkbest__k': 22}"
      ]
     },
     "execution_count": 196,
     "metadata": {},
     "output_type": "execute_result"
    }
   ],
   "source": [
    "gs_dtr.best_params_"
   ]
  },
  {
   "cell_type": "code",
   "execution_count": 201,
   "id": "878b5a55",
   "metadata": {},
   "outputs": [
    {
     "data": {
      "text/html": [
       "<div>\n",
       "<style scoped>\n",
       "    .dataframe tbody tr th:only-of-type {\n",
       "        vertical-align: middle;\n",
       "    }\n",
       "\n",
       "    .dataframe tbody tr th {\n",
       "        vertical-align: top;\n",
       "    }\n",
       "\n",
       "    .dataframe thead th {\n",
       "        text-align: right;\n",
       "    }\n",
       "</style>\n",
       "<table border=\"1\" class=\"dataframe\">\n",
       "  <thead>\n",
       "    <tr style=\"text-align: right;\">\n",
       "      <th></th>\n",
       "      <th>mean_test_score</th>\n",
       "      <th>params</th>\n",
       "      <th>rank_test_score</th>\n",
       "    </tr>\n",
       "  </thead>\n",
       "  <tbody>\n",
       "    <tr>\n",
       "      <th>12</th>\n",
       "      <td>-0.048636</td>\n",
       "      <td>{'gradientboostingregressor__loss': 'squared_e...</td>\n",
       "      <td>1</td>\n",
       "    </tr>\n",
       "    <tr>\n",
       "      <th>11</th>\n",
       "      <td>-0.048636</td>\n",
       "      <td>{'gradientboostingregressor__loss': 'squared_e...</td>\n",
       "      <td>2</td>\n",
       "    </tr>\n",
       "    <tr>\n",
       "      <th>7</th>\n",
       "      <td>-0.048636</td>\n",
       "      <td>{'gradientboostingregressor__loss': 'squared_e...</td>\n",
       "      <td>3</td>\n",
       "    </tr>\n",
       "  </tbody>\n",
       "</table>\n",
       "</div>"
      ],
      "text/plain": [
       "    mean_test_score                                             params  \\\n",
       "12        -0.048636  {'gradientboostingregressor__loss': 'squared_e...   \n",
       "11        -0.048636  {'gradientboostingregressor__loss': 'squared_e...   \n",
       "7         -0.048636  {'gradientboostingregressor__loss': 'squared_e...   \n",
       "\n",
       "    rank_test_score  \n",
       "12                1  \n",
       "11                2  \n",
       "7                 3  "
      ]
     },
     "execution_count": 201,
     "metadata": {},
     "output_type": "execute_result"
    }
   ],
   "source": [
    "#testing for n-estimators\n",
    "\n",
    "params_dt = {\n",
    "    'selectkbest__k':[22],\n",
    "    'gradientboostingregressor__loss':['squared_error'],\n",
    "    'gradientboostingregressor__n_estimators':[50,100,150,160,170,180,190,191,192,193,194,195,196,197,198,199,200,205,210,220,230,240,250,260]\n",
    "}\n",
    "\n",
    "gs_dtr = GridSearchCV(pipe_ada_dt, params_dt, n_jobs=-1, cv=tscv, scoring=score_func, refit=True)\n",
    "\n",
    "gs_dtr.fit(X, Y)\n",
    "\n",
    "df_cv_scores = pd.DataFrame(gs_dtr.cv_results_).sort_values(by='rank_test_score').loc[:,['mean_test_score', 'params', 'rank_test_score']]\n",
    "df_cv_scores.head(3)"
   ]
  },
  {
   "cell_type": "code",
   "execution_count": 202,
   "id": "0c370e4a",
   "metadata": {},
   "outputs": [
    {
     "data": {
      "text/plain": [
       "{'gradientboostingregressor__loss': 'squared_error',\n",
       " 'gradientboostingregressor__n_estimators': 196,\n",
       " 'selectkbest__k': 22}"
      ]
     },
     "execution_count": 202,
     "metadata": {},
     "output_type": "execute_result"
    }
   ],
   "source": [
    "gs_dtr.best_params_"
   ]
  },
  {
   "cell_type": "code",
   "execution_count": 207,
   "id": "c6fac283",
   "metadata": {},
   "outputs": [
    {
     "data": {
      "text/html": [
       "<div>\n",
       "<style scoped>\n",
       "    .dataframe tbody tr th:only-of-type {\n",
       "        vertical-align: middle;\n",
       "    }\n",
       "\n",
       "    .dataframe tbody tr th {\n",
       "        vertical-align: top;\n",
       "    }\n",
       "\n",
       "    .dataframe thead th {\n",
       "        text-align: right;\n",
       "    }\n",
       "</style>\n",
       "<table border=\"1\" class=\"dataframe\">\n",
       "  <thead>\n",
       "    <tr style=\"text-align: right;\">\n",
       "      <th></th>\n",
       "      <th>mean_test_score</th>\n",
       "      <th>params</th>\n",
       "      <th>rank_test_score</th>\n",
       "    </tr>\n",
       "  </thead>\n",
       "  <tbody>\n",
       "    <tr>\n",
       "      <th>11</th>\n",
       "      <td>-0.045214</td>\n",
       "      <td>{'gradientboostingregressor__learning_rate': 0...</td>\n",
       "      <td>1</td>\n",
       "    </tr>\n",
       "    <tr>\n",
       "      <th>7</th>\n",
       "      <td>-0.045240</td>\n",
       "      <td>{'gradientboostingregressor__learning_rate': 0...</td>\n",
       "      <td>2</td>\n",
       "    </tr>\n",
       "    <tr>\n",
       "      <th>6</th>\n",
       "      <td>-0.045278</td>\n",
       "      <td>{'gradientboostingregressor__learning_rate': 0...</td>\n",
       "      <td>3</td>\n",
       "    </tr>\n",
       "  </tbody>\n",
       "</table>\n",
       "</div>"
      ],
      "text/plain": [
       "    mean_test_score                                             params  \\\n",
       "11        -0.045214  {'gradientboostingregressor__learning_rate': 0...   \n",
       "7         -0.045240  {'gradientboostingregressor__learning_rate': 0...   \n",
       "6         -0.045278  {'gradientboostingregressor__learning_rate': 0...   \n",
       "\n",
       "    rank_test_score  \n",
       "11                1  \n",
       "7                 2  \n",
       "6                 3  "
      ]
     },
     "execution_count": 207,
     "metadata": {},
     "output_type": "execute_result"
    }
   ],
   "source": [
    "#testing for learning rate\n",
    "\n",
    "params_dt = {\n",
    "    'selectkbest__k':[22],\n",
    "    'gradientboostingregressor__loss':['squared_error'],\n",
    "    'gradientboostingregressor__n_estimators':[196],\n",
    "    'gradientboostingregressor__learning_rate':[0.1,0.01,0.001,0.0001,0.00001,0.35,0.4,0.41,0.42,0.43,0.44,0.45,0.46,0.47,0.48,0.49,0.5]\n",
    "}\n",
    "\n",
    "gs_dtr = GridSearchCV(pipe_ada_dt, params_dt, n_jobs=-1, cv=tscv, scoring=score_func, refit=True)\n",
    "\n",
    "gs_dtr.fit(X, Y)\n",
    "\n",
    "df_cv_scores = pd.DataFrame(gs_dtr.cv_results_).sort_values(by='rank_test_score').loc[:,['mean_test_score', 'params', 'rank_test_score']]\n",
    "df_cv_scores.head(3)"
   ]
  },
  {
   "cell_type": "code",
   "execution_count": 208,
   "id": "6c0c5f51",
   "metadata": {},
   "outputs": [
    {
     "data": {
      "text/plain": [
       "{'gradientboostingregressor__learning_rate': 0.45,\n",
       " 'gradientboostingregressor__loss': 'squared_error',\n",
       " 'gradientboostingregressor__n_estimators': 196,\n",
       " 'selectkbest__k': 22}"
      ]
     },
     "execution_count": 208,
     "metadata": {},
     "output_type": "execute_result"
    }
   ],
   "source": [
    "gs_dtr.best_params_"
   ]
  },
  {
   "cell_type": "code",
   "execution_count": 213,
   "id": "e5b8dbdc",
   "metadata": {},
   "outputs": [
    {
     "data": {
      "text/html": [
       "<div>\n",
       "<style scoped>\n",
       "    .dataframe tbody tr th:only-of-type {\n",
       "        vertical-align: middle;\n",
       "    }\n",
       "\n",
       "    .dataframe tbody tr th {\n",
       "        vertical-align: top;\n",
       "    }\n",
       "\n",
       "    .dataframe thead th {\n",
       "        text-align: right;\n",
       "    }\n",
       "</style>\n",
       "<table border=\"1\" class=\"dataframe\">\n",
       "  <thead>\n",
       "    <tr style=\"text-align: right;\">\n",
       "      <th></th>\n",
       "      <th>mean_test_score</th>\n",
       "      <th>params</th>\n",
       "      <th>rank_test_score</th>\n",
       "    </tr>\n",
       "  </thead>\n",
       "  <tbody>\n",
       "    <tr>\n",
       "      <th>36</th>\n",
       "      <td>-0.045214</td>\n",
       "      <td>{'gradientboostingregressor__learning_rate': 0...</td>\n",
       "      <td>1</td>\n",
       "    </tr>\n",
       "    <tr>\n",
       "      <th>35</th>\n",
       "      <td>-0.045214</td>\n",
       "      <td>{'gradientboostingregressor__learning_rate': 0...</td>\n",
       "      <td>1</td>\n",
       "    </tr>\n",
       "    <tr>\n",
       "      <th>34</th>\n",
       "      <td>-0.045214</td>\n",
       "      <td>{'gradientboostingregressor__learning_rate': 0...</td>\n",
       "      <td>1</td>\n",
       "    </tr>\n",
       "  </tbody>\n",
       "</table>\n",
       "</div>"
      ],
      "text/plain": [
       "    mean_test_score                                             params  \\\n",
       "36        -0.045214  {'gradientboostingregressor__learning_rate': 0...   \n",
       "35        -0.045214  {'gradientboostingregressor__learning_rate': 0...   \n",
       "34        -0.045214  {'gradientboostingregressor__learning_rate': 0...   \n",
       "\n",
       "    rank_test_score  \n",
       "36                1  \n",
       "35                1  \n",
       "34                1  "
      ]
     },
     "execution_count": 213,
     "metadata": {},
     "output_type": "execute_result"
    }
   ],
   "source": [
    "#testing for max depth\n",
    "\n",
    "params_dt = {\n",
    "    'selectkbest__k':[22],\n",
    "    'gradientboostingregressor__loss':['squared_error'],\n",
    "    'gradientboostingregressor__n_estimators':[196],\n",
    "    'gradientboostingregressor__learning_rate':[0.45],\n",
    "    'gradientboostingregressor__max_depth':[0.5,0.6,0.7,0.8,0.9,0.95,1,1.1,1.2,1.3,1.4,1.5,1.6,1.7,1.8,1.9,1.95,1.96,1.97,1.98,1.99,2,2.1,2.2,2.3,2.4,2.5,2.6,2.7,2.8,2.9,3,3.1,3.2,3.3,3.4,3.5,4,5]\n",
    "}\n",
    "\n",
    "gs_dtr = GridSearchCV(pipe_ada_dt, params_dt, n_jobs=-1, cv=tscv, scoring=score_func, refit=True)\n",
    "\n",
    "gs_dtr.fit(X, Y)\n",
    "\n",
    "df_cv_scores = pd.DataFrame(gs_dtr.cv_results_).sort_values(by='rank_test_score').loc[:,['mean_test_score', 'params', 'rank_test_score']]\n",
    "df_cv_scores.head(3)"
   ]
  },
  {
   "cell_type": "code",
   "execution_count": 214,
   "id": "6d9dc5f4",
   "metadata": {},
   "outputs": [
    {
     "data": {
      "text/plain": [
       "{'gradientboostingregressor__learning_rate': 0.45,\n",
       " 'gradientboostingregressor__loss': 'squared_error',\n",
       " 'gradientboostingregressor__max_depth': 3,\n",
       " 'gradientboostingregressor__n_estimators': 196,\n",
       " 'selectkbest__k': 22}"
      ]
     },
     "execution_count": 214,
     "metadata": {},
     "output_type": "execute_result"
    }
   ],
   "source": [
    "gs_dtr.best_params_"
   ]
  },
  {
   "cell_type": "code",
   "execution_count": 215,
   "id": "ab121dc5",
   "metadata": {},
   "outputs": [
    {
     "data": {
      "text/html": [
       "<div>\n",
       "<style scoped>\n",
       "    .dataframe tbody tr th:only-of-type {\n",
       "        vertical-align: middle;\n",
       "    }\n",
       "\n",
       "    .dataframe tbody tr th {\n",
       "        vertical-align: top;\n",
       "    }\n",
       "\n",
       "    .dataframe thead th {\n",
       "        text-align: right;\n",
       "    }\n",
       "</style>\n",
       "<table border=\"1\" class=\"dataframe\">\n",
       "  <thead>\n",
       "    <tr style=\"text-align: right;\">\n",
       "      <th></th>\n",
       "      <th>mean_test_score</th>\n",
       "      <th>params</th>\n",
       "      <th>rank_test_score</th>\n",
       "    </tr>\n",
       "  </thead>\n",
       "  <tbody>\n",
       "    <tr>\n",
       "      <th>0</th>\n",
       "      <td>-0.045214</td>\n",
       "      <td>{'gradientboostingregressor__learning_rate': 0...</td>\n",
       "      <td>1</td>\n",
       "    </tr>\n",
       "    <tr>\n",
       "      <th>3</th>\n",
       "      <td>-0.045214</td>\n",
       "      <td>{'gradientboostingregressor__learning_rate': 0...</td>\n",
       "      <td>1</td>\n",
       "    </tr>\n",
       "    <tr>\n",
       "      <th>1</th>\n",
       "      <td>-0.056362</td>\n",
       "      <td>{'gradientboostingregressor__learning_rate': 0...</td>\n",
       "      <td>3</td>\n",
       "    </tr>\n",
       "  </tbody>\n",
       "</table>\n",
       "</div>"
      ],
      "text/plain": [
       "   mean_test_score                                             params  \\\n",
       "0        -0.045214  {'gradientboostingregressor__learning_rate': 0...   \n",
       "3        -0.045214  {'gradientboostingregressor__learning_rate': 0...   \n",
       "1        -0.056362  {'gradientboostingregressor__learning_rate': 0...   \n",
       "\n",
       "   rank_test_score  \n",
       "0                1  \n",
       "3                1  \n",
       "1                3  "
      ]
     },
     "execution_count": 215,
     "metadata": {},
     "output_type": "execute_result"
    }
   ],
   "source": [
    "#testing for max features\n",
    "\n",
    "params_dt = {\n",
    "    'selectkbest__k':[22],\n",
    "    'gradientboostingregressor__loss':['squared_error'],\n",
    "    'gradientboostingregressor__n_estimators':[196],\n",
    "    'gradientboostingregressor__learning_rate':[0.45],\n",
    "    'gradientboostingregressor__max_depth':[3],\n",
    "    'gradientboostingregressor__max_features':['auto', 'sqrt', 'log2',None]\n",
    "}\n",
    "\n",
    "gs_dtr = GridSearchCV(pipe_ada_dt, params_dt, n_jobs=-1, cv=tscv, scoring=score_func, refit=True)\n",
    "\n",
    "gs_dtr.fit(X, Y)\n",
    "\n",
    "df_cv_scores = pd.DataFrame(gs_dtr.cv_results_).sort_values(by='rank_test_score').loc[:,['mean_test_score', 'params', 'rank_test_score']]\n",
    "df_cv_scores.head(3)"
   ]
  },
  {
   "cell_type": "code",
   "execution_count": 216,
   "id": "63956f6c",
   "metadata": {},
   "outputs": [
    {
     "data": {
      "text/plain": [
       "{'gradientboostingregressor__learning_rate': 0.45,\n",
       " 'gradientboostingregressor__loss': 'squared_error',\n",
       " 'gradientboostingregressor__max_depth': 3,\n",
       " 'gradientboostingregressor__max_features': 'auto',\n",
       " 'gradientboostingregressor__n_estimators': 196,\n",
       " 'selectkbest__k': 22}"
      ]
     },
     "execution_count": 216,
     "metadata": {},
     "output_type": "execute_result"
    }
   ],
   "source": [
    "gs_dtr.best_params_"
   ]
  },
  {
   "cell_type": "markdown",
   "id": "2165f9f6",
   "metadata": {},
   "source": [
    "## FINAL PREDICTION AXS-USD: Axie Infinity"
   ]
  },
  {
   "cell_type": "code",
   "execution_count": 217,
   "id": "85531b9f",
   "metadata": {},
   "outputs": [
    {
     "data": {
      "text/plain": [
       "Pipeline(steps=[('standardscaler', StandardScaler()),\n",
       "                ('selectkbest',\n",
       "                 SelectKBest(k=22,\n",
       "                             score_func=<function f_regression at 0x00000148A650DCA0>)),\n",
       "                ('gradientboostingregressor',\n",
       "                 GradientBoostingRegressor(learning_rate=0.45,\n",
       "                                           max_features='auto',\n",
       "                                           n_estimators=196, random_state=9))])"
      ]
     },
     "execution_count": 217,
     "metadata": {},
     "output_type": "execute_result"
    }
   ],
   "source": [
    "best_estimator = gs_dtr.best_estimator_\n",
    "best_estimator.fit(df_forprediction[x_cols][:-1], df_forprediction['Y'][:-1])"
   ]
  },
  {
   "cell_type": "code",
   "execution_count": 218,
   "id": "4a43749a",
   "metadata": {},
   "outputs": [
    {
     "data": {
      "text/plain": [
       "array([44.62042462])"
      ]
     },
     "execution_count": 218,
     "metadata": {},
     "output_type": "execute_result"
    }
   ],
   "source": [
    "## Make prediction for last\n",
    "best_estimator.predict(df_forprediction[x_cols][-1:])"
   ]
  },
  {
   "cell_type": "code",
   "execution_count": 220,
   "id": "788441c0",
   "metadata": {},
   "outputs": [
    {
     "data": {
      "text/plain": [
       "0.15328055363142942"
      ]
     },
     "execution_count": 220,
     "metadata": {},
     "output_type": "execute_result"
    }
   ],
   "source": [
    "april_26_truth= 38.69\n",
    "april_26_pred=44.62042462\n",
    "\n",
    "mean_absolute_percentage_error([april_26_truth],[april_26_pred])"
   ]
  },
  {
   "cell_type": "markdown",
   "id": "e602a526",
   "metadata": {},
   "source": [
    "# ETH-USD: Ethereum"
   ]
  },
  {
   "cell_type": "code",
   "execution_count": 221,
   "id": "6ffc0588",
   "metadata": {},
   "outputs": [
    {
     "data": {
      "text/html": [
       "<div>\n",
       "<style scoped>\n",
       "    .dataframe tbody tr th:only-of-type {\n",
       "        vertical-align: middle;\n",
       "    }\n",
       "\n",
       "    .dataframe tbody tr th {\n",
       "        vertical-align: top;\n",
       "    }\n",
       "\n",
       "    .dataframe thead th {\n",
       "        text-align: right;\n",
       "    }\n",
       "</style>\n",
       "<table border=\"1\" class=\"dataframe\">\n",
       "  <thead>\n",
       "    <tr style=\"text-align: right;\">\n",
       "      <th></th>\n",
       "      <th>mean_test_score</th>\n",
       "      <th>params</th>\n",
       "      <th>rank_test_score</th>\n",
       "    </tr>\n",
       "  </thead>\n",
       "  <tbody>\n",
       "    <tr>\n",
       "      <th>111</th>\n",
       "      <td>-0.018989</td>\n",
       "      <td>{'gradientboostingregressor__loss': 'quantile'...</td>\n",
       "      <td>1</td>\n",
       "    </tr>\n",
       "    <tr>\n",
       "      <th>113</th>\n",
       "      <td>-0.019173</td>\n",
       "      <td>{'gradientboostingregressor__loss': 'quantile'...</td>\n",
       "      <td>2</td>\n",
       "    </tr>\n",
       "    <tr>\n",
       "      <th>102</th>\n",
       "      <td>-0.019329</td>\n",
       "      <td>{'gradientboostingregressor__loss': 'quantile'...</td>\n",
       "      <td>3</td>\n",
       "    </tr>\n",
       "  </tbody>\n",
       "</table>\n",
       "</div>"
      ],
      "text/plain": [
       "     mean_test_score                                             params  \\\n",
       "111        -0.018989  {'gradientboostingregressor__loss': 'quantile'...   \n",
       "113        -0.019173  {'gradientboostingregressor__loss': 'quantile'...   \n",
       "102        -0.019329  {'gradientboostingregressor__loss': 'quantile'...   \n",
       "\n",
       "     rank_test_score  \n",
       "111                1  \n",
       "113                2  \n",
       "102                3  "
      ]
     },
     "execution_count": 221,
     "metadata": {},
     "output_type": "execute_result"
    }
   ],
   "source": [
    "target_col = 'eth_close'\n",
    "df_tt, df_forprediction = shift_split_data(df_all, target_col, TRAIN_SIZE)\n",
    "\n",
    "score_func = 'neg_mean_absolute_percentage_error'\n",
    "\n",
    "Y = df_tt['Y']\n",
    "\n",
    "x_cols = [i for i in df_tt.columns.tolist() if i not in ['Date_X', 'Date_Y', 'Y'] ]\n",
    "X = df_tt[x_cols]\n",
    "\n",
    "pipe_ada_dt = make_pipeline(StandardScaler(),\n",
    "                    SelectKBest(f_regression),\n",
    "                    GradientBoostingRegressor(random_state=RANDOM_STATE))\n",
    "\n",
    "## Selecting loss and k best\n",
    "params_dt = {\n",
    "    'selectkbest__k':[5,6,7,8,9,10,11,12,13,14,15,16,17,18,19,20,21,22,23,24,25,26,27,28,29,30,35,40,45,50],\n",
    "    'gradientboostingregressor__loss':['squared_error', 'absolute_error', 'huber', 'quantile']\n",
    "}\n",
    "\n",
    "## Setup TimeSeriesSplit\n",
    "num_splits = int(len(X)/(WINDOW_SIZE+TEST_SIZE))\n",
    "\n",
    "tscv = TimeSeriesSplit(n_splits=num_splits, max_train_size=WINDOW_SIZE, test_size=TEST_SIZE)\n",
    "\n",
    "\n",
    "# Setting up the grid search\n",
    "gs_dtr = GridSearchCV(pipe_ada_dt, \n",
    "                      params_dt, \n",
    "                      n_jobs=-1, \n",
    "                      cv=tscv,\n",
    "                      scoring=score_func,\n",
    "                      refit=True\n",
    "                     )\n",
    "\n",
    "# Fit GS to training data\n",
    "gs_dtr.fit(X, Y)\n",
    "df_cv_scores = pd.DataFrame(gs_dtr.cv_results_).sort_values(by='rank_test_score').loc[:,['mean_test_score', 'params', 'rank_test_score']]\n",
    "df_cv_scores.head(3)"
   ]
  },
  {
   "cell_type": "code",
   "execution_count": 222,
   "id": "7d583a7d",
   "metadata": {},
   "outputs": [
    {
     "data": {
      "text/plain": [
       "{'gradientboostingregressor__loss': 'quantile', 'selectkbest__k': 26}"
      ]
     },
     "execution_count": 222,
     "metadata": {},
     "output_type": "execute_result"
    }
   ],
   "source": [
    "gs_dtr.best_params_"
   ]
  },
  {
   "cell_type": "code",
   "execution_count": 229,
   "id": "8e4019fe",
   "metadata": {},
   "outputs": [
    {
     "data": {
      "text/html": [
       "<div>\n",
       "<style scoped>\n",
       "    .dataframe tbody tr th:only-of-type {\n",
       "        vertical-align: middle;\n",
       "    }\n",
       "\n",
       "    .dataframe tbody tr th {\n",
       "        vertical-align: top;\n",
       "    }\n",
       "\n",
       "    .dataframe thead th {\n",
       "        text-align: right;\n",
       "    }\n",
       "</style>\n",
       "<table border=\"1\" class=\"dataframe\">\n",
       "  <thead>\n",
       "    <tr style=\"text-align: right;\">\n",
       "      <th></th>\n",
       "      <th>mean_test_score</th>\n",
       "      <th>params</th>\n",
       "      <th>rank_test_score</th>\n",
       "    </tr>\n",
       "  </thead>\n",
       "  <tbody>\n",
       "    <tr>\n",
       "      <th>12</th>\n",
       "      <td>-0.018989</td>\n",
       "      <td>{'gradientboostingregressor__loss': 'quantile'...</td>\n",
       "      <td>1</td>\n",
       "    </tr>\n",
       "    <tr>\n",
       "      <th>22</th>\n",
       "      <td>-0.018989</td>\n",
       "      <td>{'gradientboostingregressor__loss': 'quantile'...</td>\n",
       "      <td>1</td>\n",
       "    </tr>\n",
       "    <tr>\n",
       "      <th>21</th>\n",
       "      <td>-0.018989</td>\n",
       "      <td>{'gradientboostingregressor__loss': 'quantile'...</td>\n",
       "      <td>1</td>\n",
       "    </tr>\n",
       "  </tbody>\n",
       "</table>\n",
       "</div>"
      ],
      "text/plain": [
       "    mean_test_score                                             params  \\\n",
       "12        -0.018989  {'gradientboostingregressor__loss': 'quantile'...   \n",
       "22        -0.018989  {'gradientboostingregressor__loss': 'quantile'...   \n",
       "21        -0.018989  {'gradientboostingregressor__loss': 'quantile'...   \n",
       "\n",
       "    rank_test_score  \n",
       "12                1  \n",
       "22                1  \n",
       "21                1  "
      ]
     },
     "execution_count": 229,
     "metadata": {},
     "output_type": "execute_result"
    }
   ],
   "source": [
    "#testing for n-estimators\n",
    "\n",
    "params_dt = {\n",
    "    'selectkbest__k':[26],\n",
    "    'gradientboostingregressor__loss':['quantile'],\n",
    "    'gradientboostingregressor__n_estimators':[50,100,200,270,280,290,295,296,297,298,299,300,301,302,303,304,305,310,320,330,340,350,400,500,600]\n",
    "}\n",
    "\n",
    "gs_dtr = GridSearchCV(pipe_ada_dt, params_dt, n_jobs=-1, cv=tscv, scoring=score_func, refit=True)\n",
    "\n",
    "gs_dtr.fit(X, Y)\n",
    "\n",
    "df_cv_scores = pd.DataFrame(gs_dtr.cv_results_).sort_values(by='rank_test_score').loc[:,['mean_test_score', 'params', 'rank_test_score']]\n",
    "df_cv_scores.head(3)"
   ]
  },
  {
   "cell_type": "code",
   "execution_count": 230,
   "id": "0a641bb4",
   "metadata": {},
   "outputs": [
    {
     "data": {
      "text/plain": [
       "{'gradientboostingregressor__loss': 'quantile',\n",
       " 'gradientboostingregressor__n_estimators': 296,\n",
       " 'selectkbest__k': 26}"
      ]
     },
     "execution_count": 230,
     "metadata": {},
     "output_type": "execute_result"
    }
   ],
   "source": [
    "gs_dtr.best_params_"
   ]
  },
  {
   "cell_type": "code",
   "execution_count": 237,
   "id": "89da191d",
   "metadata": {},
   "outputs": [
    {
     "data": {
      "text/html": [
       "<div>\n",
       "<style scoped>\n",
       "    .dataframe tbody tr th:only-of-type {\n",
       "        vertical-align: middle;\n",
       "    }\n",
       "\n",
       "    .dataframe tbody tr th {\n",
       "        vertical-align: top;\n",
       "    }\n",
       "\n",
       "    .dataframe thead th {\n",
       "        text-align: right;\n",
       "    }\n",
       "</style>\n",
       "<table border=\"1\" class=\"dataframe\">\n",
       "  <thead>\n",
       "    <tr style=\"text-align: right;\">\n",
       "      <th></th>\n",
       "      <th>mean_test_score</th>\n",
       "      <th>params</th>\n",
       "      <th>rank_test_score</th>\n",
       "    </tr>\n",
       "  </thead>\n",
       "  <tbody>\n",
       "    <tr>\n",
       "      <th>11</th>\n",
       "      <td>-0.017957</td>\n",
       "      <td>{'gradientboostingregressor__learning_rate': 1...</td>\n",
       "      <td>1</td>\n",
       "    </tr>\n",
       "    <tr>\n",
       "      <th>10</th>\n",
       "      <td>-0.017965</td>\n",
       "      <td>{'gradientboostingregressor__learning_rate': 0...</td>\n",
       "      <td>2</td>\n",
       "    </tr>\n",
       "    <tr>\n",
       "      <th>9</th>\n",
       "      <td>-0.017973</td>\n",
       "      <td>{'gradientboostingregressor__learning_rate': 0...</td>\n",
       "      <td>3</td>\n",
       "    </tr>\n",
       "  </tbody>\n",
       "</table>\n",
       "</div>"
      ],
      "text/plain": [
       "    mean_test_score                                             params  \\\n",
       "11        -0.017957  {'gradientboostingregressor__learning_rate': 1...   \n",
       "10        -0.017965  {'gradientboostingregressor__learning_rate': 0...   \n",
       "9         -0.017973  {'gradientboostingregressor__learning_rate': 0...   \n",
       "\n",
       "    rank_test_score  \n",
       "11                1  \n",
       "10                2  \n",
       "9                 3  "
      ]
     },
     "execution_count": 237,
     "metadata": {},
     "output_type": "execute_result"
    }
   ],
   "source": [
    "#testing for learning rate\n",
    "\n",
    "params_dt = {\n",
    "    'selectkbest__k':[26],\n",
    "    'gradientboostingregressor__loss':['quantile'],\n",
    "    'gradientboostingregressor__n_estimators':[296],\n",
    "    'gradientboostingregressor__learning_rate':[0.1,0.01,0.001,0.0001,0.00001,0.9,0.95,0.96,0.97,0.98,0.99,1,1.01,1.02,1.03,1.04,1.05,1.1,1.2,1.3,1.4,1.5]\n",
    "}\n",
    "\n",
    "gs_dtr = GridSearchCV(pipe_ada_dt, params_dt, n_jobs=-1, cv=tscv, scoring=score_func, refit=True)\n",
    "\n",
    "gs_dtr.fit(X, Y)\n",
    "\n",
    "df_cv_scores = pd.DataFrame(gs_dtr.cv_results_).sort_values(by='rank_test_score').loc[:,['mean_test_score', 'params', 'rank_test_score']]\n",
    "df_cv_scores.head(3)"
   ]
  },
  {
   "cell_type": "code",
   "execution_count": 238,
   "id": "b47ec873",
   "metadata": {},
   "outputs": [
    {
     "data": {
      "text/plain": [
       "{'gradientboostingregressor__learning_rate': 1,\n",
       " 'gradientboostingregressor__loss': 'quantile',\n",
       " 'gradientboostingregressor__n_estimators': 296,\n",
       " 'selectkbest__k': 26}"
      ]
     },
     "execution_count": 238,
     "metadata": {},
     "output_type": "execute_result"
    }
   ],
   "source": [
    "gs_dtr.best_params_"
   ]
  },
  {
   "cell_type": "code",
   "execution_count": 239,
   "id": "2a480b72",
   "metadata": {},
   "outputs": [
    {
     "data": {
      "text/html": [
       "<div>\n",
       "<style scoped>\n",
       "    .dataframe tbody tr th:only-of-type {\n",
       "        vertical-align: middle;\n",
       "    }\n",
       "\n",
       "    .dataframe tbody tr th {\n",
       "        vertical-align: top;\n",
       "    }\n",
       "\n",
       "    .dataframe thead th {\n",
       "        text-align: right;\n",
       "    }\n",
       "</style>\n",
       "<table border=\"1\" class=\"dataframe\">\n",
       "  <thead>\n",
       "    <tr style=\"text-align: right;\">\n",
       "      <th></th>\n",
       "      <th>mean_test_score</th>\n",
       "      <th>params</th>\n",
       "      <th>rank_test_score</th>\n",
       "    </tr>\n",
       "  </thead>\n",
       "  <tbody>\n",
       "    <tr>\n",
       "      <th>19</th>\n",
       "      <td>-0.017957</td>\n",
       "      <td>{'gradientboostingregressor__learning_rate': 1...</td>\n",
       "      <td>1</td>\n",
       "    </tr>\n",
       "    <tr>\n",
       "      <th>21</th>\n",
       "      <td>-0.017957</td>\n",
       "      <td>{'gradientboostingregressor__learning_rate': 1...</td>\n",
       "      <td>1</td>\n",
       "    </tr>\n",
       "    <tr>\n",
       "      <th>22</th>\n",
       "      <td>-0.017957</td>\n",
       "      <td>{'gradientboostingregressor__learning_rate': 1...</td>\n",
       "      <td>1</td>\n",
       "    </tr>\n",
       "  </tbody>\n",
       "</table>\n",
       "</div>"
      ],
      "text/plain": [
       "    mean_test_score                                             params  \\\n",
       "19        -0.017957  {'gradientboostingregressor__learning_rate': 1...   \n",
       "21        -0.017957  {'gradientboostingregressor__learning_rate': 1...   \n",
       "22        -0.017957  {'gradientboostingregressor__learning_rate': 1...   \n",
       "\n",
       "    rank_test_score  \n",
       "19                1  \n",
       "21                1  \n",
       "22                1  "
      ]
     },
     "execution_count": 239,
     "metadata": {},
     "output_type": "execute_result"
    }
   ],
   "source": [
    "#testing for max depth\n",
    "\n",
    "params_dt = {\n",
    "     'selectkbest__k':[26],\n",
    "    'gradientboostingregressor__loss':['quantile'],\n",
    "    'gradientboostingregressor__n_estimators':[296],\n",
    "    'gradientboostingregressor__learning_rate':[1],\n",
    "    'gradientboostingregressor__max_depth':[0.5,0.6,0.7,0.8,0.9,0.95,1,1.1,1.2,1.3,1.4,1.5,1.6,1.7,1.8,1.9,1.95,1.96,1.97,1.98,1.99,2,2.1,2.2,2.3,2.4,2.5,2.6,2.7,2.8,2.9,3,3.1,3.2,3.3,3.4,3.5,4,5]\n",
    "}\n",
    "\n",
    "gs_dtr = GridSearchCV(pipe_ada_dt, params_dt, n_jobs=-1, cv=tscv, scoring=score_func, refit=True)\n",
    "\n",
    "gs_dtr.fit(X, Y)\n",
    "\n",
    "df_cv_scores = pd.DataFrame(gs_dtr.cv_results_).sort_values(by='rank_test_score').loc[:,['mean_test_score', 'params', 'rank_test_score']]\n",
    "df_cv_scores.head(3)"
   ]
  },
  {
   "cell_type": "code",
   "execution_count": 240,
   "id": "54bbcc23",
   "metadata": {},
   "outputs": [
    {
     "data": {
      "text/plain": [
       "{'gradientboostingregressor__learning_rate': 1,\n",
       " 'gradientboostingregressor__loss': 'quantile',\n",
       " 'gradientboostingregressor__max_depth': 1,\n",
       " 'gradientboostingregressor__n_estimators': 296,\n",
       " 'selectkbest__k': 26}"
      ]
     },
     "execution_count": 240,
     "metadata": {},
     "output_type": "execute_result"
    }
   ],
   "source": [
    "gs_dtr.best_params_"
   ]
  },
  {
   "cell_type": "code",
   "execution_count": 241,
   "id": "7af6ac21",
   "metadata": {},
   "outputs": [
    {
     "data": {
      "text/html": [
       "<div>\n",
       "<style scoped>\n",
       "    .dataframe tbody tr th:only-of-type {\n",
       "        vertical-align: middle;\n",
       "    }\n",
       "\n",
       "    .dataframe tbody tr th {\n",
       "        vertical-align: top;\n",
       "    }\n",
       "\n",
       "    .dataframe thead th {\n",
       "        text-align: right;\n",
       "    }\n",
       "</style>\n",
       "<table border=\"1\" class=\"dataframe\">\n",
       "  <thead>\n",
       "    <tr style=\"text-align: right;\">\n",
       "      <th></th>\n",
       "      <th>mean_test_score</th>\n",
       "      <th>params</th>\n",
       "      <th>rank_test_score</th>\n",
       "    </tr>\n",
       "  </thead>\n",
       "  <tbody>\n",
       "    <tr>\n",
       "      <th>0</th>\n",
       "      <td>-0.017957</td>\n",
       "      <td>{'gradientboostingregressor__learning_rate': 1...</td>\n",
       "      <td>1</td>\n",
       "    </tr>\n",
       "    <tr>\n",
       "      <th>3</th>\n",
       "      <td>-0.017957</td>\n",
       "      <td>{'gradientboostingregressor__learning_rate': 1...</td>\n",
       "      <td>1</td>\n",
       "    </tr>\n",
       "    <tr>\n",
       "      <th>1</th>\n",
       "      <td>-0.020235</td>\n",
       "      <td>{'gradientboostingregressor__learning_rate': 1...</td>\n",
       "      <td>3</td>\n",
       "    </tr>\n",
       "  </tbody>\n",
       "</table>\n",
       "</div>"
      ],
      "text/plain": [
       "   mean_test_score                                             params  \\\n",
       "0        -0.017957  {'gradientboostingregressor__learning_rate': 1...   \n",
       "3        -0.017957  {'gradientboostingregressor__learning_rate': 1...   \n",
       "1        -0.020235  {'gradientboostingregressor__learning_rate': 1...   \n",
       "\n",
       "   rank_test_score  \n",
       "0                1  \n",
       "3                1  \n",
       "1                3  "
      ]
     },
     "execution_count": 241,
     "metadata": {},
     "output_type": "execute_result"
    }
   ],
   "source": [
    "#testing for max features\n",
    "\n",
    "params_dt = {\n",
    "     'selectkbest__k':[26],\n",
    "    'gradientboostingregressor__loss':['quantile'],\n",
    "    'gradientboostingregressor__n_estimators':[296],\n",
    "    'gradientboostingregressor__learning_rate':[1],\n",
    "    'gradientboostingregressor__max_depth':[1],\n",
    "    'gradientboostingregressor__max_features':['auto', 'sqrt', 'log2',None]\n",
    "}\n",
    "\n",
    "gs_dtr = GridSearchCV(pipe_ada_dt, params_dt, n_jobs=-1, cv=tscv, scoring=score_func, refit=True)\n",
    "\n",
    "gs_dtr.fit(X, Y)\n",
    "\n",
    "df_cv_scores = pd.DataFrame(gs_dtr.cv_results_).sort_values(by='rank_test_score').loc[:,['mean_test_score', 'params', 'rank_test_score']]\n",
    "df_cv_scores.head(3)"
   ]
  },
  {
   "cell_type": "code",
   "execution_count": 242,
   "id": "78ff1413",
   "metadata": {},
   "outputs": [
    {
     "data": {
      "text/plain": [
       "{'gradientboostingregressor__learning_rate': 1,\n",
       " 'gradientboostingregressor__loss': 'quantile',\n",
       " 'gradientboostingregressor__max_depth': 1,\n",
       " 'gradientboostingregressor__max_features': 'auto',\n",
       " 'gradientboostingregressor__n_estimators': 296,\n",
       " 'selectkbest__k': 26}"
      ]
     },
     "execution_count": 242,
     "metadata": {},
     "output_type": "execute_result"
    }
   ],
   "source": [
    "gs_dtr.best_params_"
   ]
  },
  {
   "cell_type": "markdown",
   "id": "e2f02818",
   "metadata": {},
   "source": [
    "# Final Prediction ETH-USD: Ethereum"
   ]
  },
  {
   "cell_type": "code",
   "execution_count": 243,
   "id": "28b8020c",
   "metadata": {},
   "outputs": [
    {
     "data": {
      "text/plain": [
       "Pipeline(steps=[('standardscaler', StandardScaler()),\n",
       "                ('selectkbest',\n",
       "                 SelectKBest(k=26,\n",
       "                             score_func=<function f_regression at 0x00000148A650DCA0>)),\n",
       "                ('gradientboostingregressor',\n",
       "                 GradientBoostingRegressor(learning_rate=1, loss='quantile',\n",
       "                                           max_depth=1, max_features='auto',\n",
       "                                           n_estimators=296, random_state=9))])"
      ]
     },
     "execution_count": 243,
     "metadata": {},
     "output_type": "execute_result"
    }
   ],
   "source": [
    "best_estimator = gs_dtr.best_estimator_\n",
    "best_estimator.fit(df_forprediction[x_cols][:-1], df_forprediction['Y'][:-1])"
   ]
  },
  {
   "cell_type": "code",
   "execution_count": 244,
   "id": "db85a302",
   "metadata": {},
   "outputs": [
    {
     "data": {
      "text/plain": [
       "array([3211.86694336])"
      ]
     },
     "execution_count": 244,
     "metadata": {},
     "output_type": "execute_result"
    }
   ],
   "source": [
    "## Make prediction for last\n",
    "best_estimator.predict(df_forprediction[x_cols][-1:])"
   ]
  },
  {
   "cell_type": "code",
   "execution_count": 245,
   "id": "cda47bd0",
   "metadata": {},
   "outputs": [
    {
     "data": {
      "text/plain": [
       "0.14370506831891167"
      ]
     },
     "execution_count": 245,
     "metadata": {},
     "output_type": "execute_result"
    }
   ],
   "source": [
    "april_26_truth= 2808.30\n",
    "april_26_pred=3211.86694336\n",
    "\n",
    "mean_absolute_percentage_error([april_26_truth],[april_26_pred])"
   ]
  },
  {
   "cell_type": "markdown",
   "id": "2fef6047",
   "metadata": {},
   "source": [
    "# LINK-USD: Chainlink"
   ]
  },
  {
   "cell_type": "code",
   "execution_count": 246,
   "id": "b30b96e0",
   "metadata": {},
   "outputs": [
    {
     "data": {
      "text/html": [
       "<div>\n",
       "<style scoped>\n",
       "    .dataframe tbody tr th:only-of-type {\n",
       "        vertical-align: middle;\n",
       "    }\n",
       "\n",
       "    .dataframe tbody tr th {\n",
       "        vertical-align: top;\n",
       "    }\n",
       "\n",
       "    .dataframe thead th {\n",
       "        text-align: right;\n",
       "    }\n",
       "</style>\n",
       "<table border=\"1\" class=\"dataframe\">\n",
       "  <thead>\n",
       "    <tr style=\"text-align: right;\">\n",
       "      <th></th>\n",
       "      <th>mean_test_score</th>\n",
       "      <th>params</th>\n",
       "      <th>rank_test_score</th>\n",
       "    </tr>\n",
       "  </thead>\n",
       "  <tbody>\n",
       "    <tr>\n",
       "      <th>106</th>\n",
       "      <td>-0.021660</td>\n",
       "      <td>{'gradientboostingregressor__loss': 'quantile'...</td>\n",
       "      <td>1</td>\n",
       "    </tr>\n",
       "    <tr>\n",
       "      <th>117</th>\n",
       "      <td>-0.022299</td>\n",
       "      <td>{'gradientboostingregressor__loss': 'quantile'...</td>\n",
       "      <td>2</td>\n",
       "    </tr>\n",
       "    <tr>\n",
       "      <th>108</th>\n",
       "      <td>-0.022317</td>\n",
       "      <td>{'gradientboostingregressor__loss': 'quantile'...</td>\n",
       "      <td>3</td>\n",
       "    </tr>\n",
       "  </tbody>\n",
       "</table>\n",
       "</div>"
      ],
      "text/plain": [
       "     mean_test_score                                             params  \\\n",
       "106        -0.021660  {'gradientboostingregressor__loss': 'quantile'...   \n",
       "117        -0.022299  {'gradientboostingregressor__loss': 'quantile'...   \n",
       "108        -0.022317  {'gradientboostingregressor__loss': 'quantile'...   \n",
       "\n",
       "     rank_test_score  \n",
       "106                1  \n",
       "117                2  \n",
       "108                3  "
      ]
     },
     "execution_count": 246,
     "metadata": {},
     "output_type": "execute_result"
    }
   ],
   "source": [
    "target_col = 'link_close'\n",
    "df_tt, df_forprediction = shift_split_data(df_all, target_col, TRAIN_SIZE)\n",
    "\n",
    "score_func = 'neg_mean_absolute_percentage_error'\n",
    "\n",
    "Y = df_tt['Y']\n",
    "\n",
    "x_cols = [i for i in df_tt.columns.tolist() if i not in ['Date_X', 'Date_Y', 'Y'] ]\n",
    "X = df_tt[x_cols]\n",
    "\n",
    "pipe_ada_dt = make_pipeline(StandardScaler(),\n",
    "                    SelectKBest(f_regression),\n",
    "                    GradientBoostingRegressor(random_state=RANDOM_STATE))\n",
    "\n",
    "## Selecting loss and k best\n",
    "params_dt = {\n",
    "    'selectkbest__k':[5,6,7,8,9,10,11,12,13,14,15,16,17,18,19,20,21,22,23,24,25,26,27,28,29,30,35,40,45,50],\n",
    "    'gradientboostingregressor__loss':['squared_error', 'absolute_error', 'huber', 'quantile']\n",
    "}\n",
    "\n",
    "## Setup TimeSeriesSplit\n",
    "num_splits = int(len(X)/(WINDOW_SIZE+TEST_SIZE))\n",
    "\n",
    "tscv = TimeSeriesSplit(n_splits=num_splits, max_train_size=WINDOW_SIZE, test_size=TEST_SIZE)\n",
    "\n",
    "\n",
    "# Setting up the grid search\n",
    "gs_dtr = GridSearchCV(pipe_ada_dt, \n",
    "                      params_dt, \n",
    "                      n_jobs=-1, \n",
    "                      cv=tscv,\n",
    "                      scoring=score_func,\n",
    "                      refit=True\n",
    "                     )\n",
    "\n",
    "# Fit GS to training data\n",
    "gs_dtr.fit(X, Y)\n",
    "df_cv_scores = pd.DataFrame(gs_dtr.cv_results_).sort_values(by='rank_test_score').loc[:,['mean_test_score', 'params', 'rank_test_score']]\n",
    "df_cv_scores.head(3)"
   ]
  },
  {
   "cell_type": "code",
   "execution_count": 247,
   "id": "3f3c5fcb",
   "metadata": {},
   "outputs": [
    {
     "data": {
      "text/plain": [
       "{'gradientboostingregressor__loss': 'quantile', 'selectkbest__k': 21}"
      ]
     },
     "execution_count": 247,
     "metadata": {},
     "output_type": "execute_result"
    }
   ],
   "source": [
    "gs_dtr.best_params_"
   ]
  },
  {
   "cell_type": "code",
   "execution_count": 254,
   "id": "36745896",
   "metadata": {},
   "outputs": [
    {
     "data": {
      "text/html": [
       "<div>\n",
       "<style scoped>\n",
       "    .dataframe tbody tr th:only-of-type {\n",
       "        vertical-align: middle;\n",
       "    }\n",
       "\n",
       "    .dataframe tbody tr th {\n",
       "        vertical-align: top;\n",
       "    }\n",
       "\n",
       "    .dataframe thead th {\n",
       "        text-align: right;\n",
       "    }\n",
       "</style>\n",
       "<table border=\"1\" class=\"dataframe\">\n",
       "  <thead>\n",
       "    <tr style=\"text-align: right;\">\n",
       "      <th></th>\n",
       "      <th>mean_test_score</th>\n",
       "      <th>params</th>\n",
       "      <th>rank_test_score</th>\n",
       "    </tr>\n",
       "  </thead>\n",
       "  <tbody>\n",
       "    <tr>\n",
       "      <th>9</th>\n",
       "      <td>-0.021440</td>\n",
       "      <td>{'gradientboostingregressor__loss': 'quantile'...</td>\n",
       "      <td>1</td>\n",
       "    </tr>\n",
       "    <tr>\n",
       "      <th>10</th>\n",
       "      <td>-0.021494</td>\n",
       "      <td>{'gradientboostingregressor__loss': 'quantile'...</td>\n",
       "      <td>2</td>\n",
       "    </tr>\n",
       "    <tr>\n",
       "      <th>5</th>\n",
       "      <td>-0.021516</td>\n",
       "      <td>{'gradientboostingregressor__loss': 'quantile'...</td>\n",
       "      <td>3</td>\n",
       "    </tr>\n",
       "  </tbody>\n",
       "</table>\n",
       "</div>"
      ],
      "text/plain": [
       "    mean_test_score                                             params  \\\n",
       "9         -0.021440  {'gradientboostingregressor__loss': 'quantile'...   \n",
       "10        -0.021494  {'gradientboostingregressor__loss': 'quantile'...   \n",
       "5         -0.021516  {'gradientboostingregressor__loss': 'quantile'...   \n",
       "\n",
       "    rank_test_score  \n",
       "9                 1  \n",
       "10                2  \n",
       "5                 3  "
      ]
     },
     "execution_count": 254,
     "metadata": {},
     "output_type": "execute_result"
    }
   ],
   "source": [
    "#testing for n-estimators\n",
    "\n",
    "params_dt = {\n",
    "    'selectkbest__k':[21],\n",
    "    'gradientboostingregressor__loss':['quantile'],\n",
    "    'gradientboostingregressor__n_estimators':[1,5,6,7,8,9,10,11,12,13,14,15,20,30,40,45,50,55,60,65,70,80,90,100,200,270,280,290,295,296,297,298,299,300,350,400,500,600]\n",
    "}\n",
    "\n",
    "gs_dtr = GridSearchCV(pipe_ada_dt, params_dt, n_jobs=-1, cv=tscv, scoring=score_func, refit=True)\n",
    "\n",
    "gs_dtr.fit(X, Y)\n",
    "\n",
    "df_cv_scores = pd.DataFrame(gs_dtr.cv_results_).sort_values(by='rank_test_score').loc[:,['mean_test_score', 'params', 'rank_test_score']]\n",
    "df_cv_scores.head(3)"
   ]
  },
  {
   "cell_type": "code",
   "execution_count": 255,
   "id": "8fd90a66",
   "metadata": {},
   "outputs": [
    {
     "data": {
      "text/plain": [
       "{'gradientboostingregressor__loss': 'quantile',\n",
       " 'gradientboostingregressor__n_estimators': 13,\n",
       " 'selectkbest__k': 21}"
      ]
     },
     "execution_count": 255,
     "metadata": {},
     "output_type": "execute_result"
    }
   ],
   "source": [
    "gs_dtr.best_params_"
   ]
  },
  {
   "cell_type": "code",
   "execution_count": 260,
   "id": "0fe94e22",
   "metadata": {},
   "outputs": [
    {
     "data": {
      "text/html": [
       "<div>\n",
       "<style scoped>\n",
       "    .dataframe tbody tr th:only-of-type {\n",
       "        vertical-align: middle;\n",
       "    }\n",
       "\n",
       "    .dataframe tbody tr th {\n",
       "        vertical-align: top;\n",
       "    }\n",
       "\n",
       "    .dataframe thead th {\n",
       "        text-align: right;\n",
       "    }\n",
       "</style>\n",
       "<table border=\"1\" class=\"dataframe\">\n",
       "  <thead>\n",
       "    <tr style=\"text-align: right;\">\n",
       "      <th></th>\n",
       "      <th>mean_test_score</th>\n",
       "      <th>params</th>\n",
       "      <th>rank_test_score</th>\n",
       "    </tr>\n",
       "  </thead>\n",
       "  <tbody>\n",
       "    <tr>\n",
       "      <th>10</th>\n",
       "      <td>-0.021268</td>\n",
       "      <td>{'gradientboostingregressor__learning_rate': 0...</td>\n",
       "      <td>1</td>\n",
       "    </tr>\n",
       "    <tr>\n",
       "      <th>11</th>\n",
       "      <td>-0.021268</td>\n",
       "      <td>{'gradientboostingregressor__learning_rate': 0...</td>\n",
       "      <td>2</td>\n",
       "    </tr>\n",
       "    <tr>\n",
       "      <th>12</th>\n",
       "      <td>-0.021279</td>\n",
       "      <td>{'gradientboostingregressor__learning_rate': 0...</td>\n",
       "      <td>3</td>\n",
       "    </tr>\n",
       "  </tbody>\n",
       "</table>\n",
       "</div>"
      ],
      "text/plain": [
       "    mean_test_score                                             params  \\\n",
       "10        -0.021268  {'gradientboostingregressor__learning_rate': 0...   \n",
       "11        -0.021268  {'gradientboostingregressor__learning_rate': 0...   \n",
       "12        -0.021279  {'gradientboostingregressor__learning_rate': 0...   \n",
       "\n",
       "    rank_test_score  \n",
       "10                1  \n",
       "11                2  \n",
       "12                3  "
      ]
     },
     "execution_count": 260,
     "metadata": {},
     "output_type": "execute_result"
    }
   ],
   "source": [
    "#testing for learning rate\n",
    "\n",
    "params_dt = {\n",
    "    'selectkbest__k':[21],\n",
    "    'gradientboostingregressor__loss':['quantile'],\n",
    "    'gradientboostingregressor__n_estimators':[13],\n",
    "    'gradientboostingregressor__learning_rate':[0.09,0.095,0.08,0.1,0.11,0.12,0.13,0.14,0.15,0.17,0.2,0.23,0.25,0.3,0.4,0.5,0.01,0.001,0.0001,0.00001,0.9,0.95,0.96,0.97,0.98,0.99,1,1.01,1.02,1.03,1.04,1.05,1.1,1.2,1.3,1.4,1.5]\n",
    "}\n",
    "\n",
    "gs_dtr = GridSearchCV(pipe_ada_dt, params_dt, n_jobs=-1, cv=tscv, scoring=score_func, refit=True)\n",
    "\n",
    "gs_dtr.fit(X, Y)\n",
    "\n",
    "df_cv_scores = pd.DataFrame(gs_dtr.cv_results_).sort_values(by='rank_test_score').loc[:,['mean_test_score', 'params', 'rank_test_score']]\n",
    "df_cv_scores.head(3)"
   ]
  },
  {
   "cell_type": "code",
   "execution_count": 261,
   "id": "a909c563",
   "metadata": {},
   "outputs": [
    {
     "data": {
      "text/plain": [
       "{'gradientboostingregressor__learning_rate': 0.2,\n",
       " 'gradientboostingregressor__loss': 'quantile',\n",
       " 'gradientboostingregressor__n_estimators': 13,\n",
       " 'selectkbest__k': 21}"
      ]
     },
     "execution_count": 261,
     "metadata": {},
     "output_type": "execute_result"
    }
   ],
   "source": [
    "gs_dtr.best_params_"
   ]
  },
  {
   "cell_type": "code",
   "execution_count": 262,
   "id": "a8a16394",
   "metadata": {},
   "outputs": [
    {
     "data": {
      "text/html": [
       "<div>\n",
       "<style scoped>\n",
       "    .dataframe tbody tr th:only-of-type {\n",
       "        vertical-align: middle;\n",
       "    }\n",
       "\n",
       "    .dataframe tbody tr th {\n",
       "        vertical-align: top;\n",
       "    }\n",
       "\n",
       "    .dataframe thead th {\n",
       "        text-align: right;\n",
       "    }\n",
       "</style>\n",
       "<table border=\"1\" class=\"dataframe\">\n",
       "  <thead>\n",
       "    <tr style=\"text-align: right;\">\n",
       "      <th></th>\n",
       "      <th>mean_test_score</th>\n",
       "      <th>params</th>\n",
       "      <th>rank_test_score</th>\n",
       "    </tr>\n",
       "  </thead>\n",
       "  <tbody>\n",
       "    <tr>\n",
       "      <th>19</th>\n",
       "      <td>-0.021268</td>\n",
       "      <td>{'gradientboostingregressor__learning_rate': 0...</td>\n",
       "      <td>1</td>\n",
       "    </tr>\n",
       "    <tr>\n",
       "      <th>21</th>\n",
       "      <td>-0.021268</td>\n",
       "      <td>{'gradientboostingregressor__learning_rate': 0...</td>\n",
       "      <td>1</td>\n",
       "    </tr>\n",
       "    <tr>\n",
       "      <th>22</th>\n",
       "      <td>-0.021268</td>\n",
       "      <td>{'gradientboostingregressor__learning_rate': 0...</td>\n",
       "      <td>1</td>\n",
       "    </tr>\n",
       "  </tbody>\n",
       "</table>\n",
       "</div>"
      ],
      "text/plain": [
       "    mean_test_score                                             params  \\\n",
       "19        -0.021268  {'gradientboostingregressor__learning_rate': 0...   \n",
       "21        -0.021268  {'gradientboostingregressor__learning_rate': 0...   \n",
       "22        -0.021268  {'gradientboostingregressor__learning_rate': 0...   \n",
       "\n",
       "    rank_test_score  \n",
       "19                1  \n",
       "21                1  \n",
       "22                1  "
      ]
     },
     "execution_count": 262,
     "metadata": {},
     "output_type": "execute_result"
    }
   ],
   "source": [
    "#testing for max depth\n",
    "\n",
    "params_dt = {\n",
    "    'selectkbest__k':[21],\n",
    "    'gradientboostingregressor__loss':['quantile'],\n",
    "    'gradientboostingregressor__n_estimators':[13],\n",
    "    'gradientboostingregressor__learning_rate':[0.2],\n",
    "    'gradientboostingregressor__max_depth':[0.5,0.6,0.7,0.8,0.9,0.95,1,1.1,1.2,1.3,1.4,1.5,1.6,1.7,1.8,1.9,1.95,1.96,1.97,1.98,1.99,2,2.1,2.2,2.3,2.4,2.5,2.6,2.7,2.8,2.9,3,3.1,3.2,3.3,3.4,3.5,4,5]\n",
    "}\n",
    "\n",
    "gs_dtr = GridSearchCV(pipe_ada_dt, params_dt, n_jobs=-1, cv=tscv, scoring=score_func, refit=True)\n",
    "\n",
    "gs_dtr.fit(X, Y)\n",
    "\n",
    "df_cv_scores = pd.DataFrame(gs_dtr.cv_results_).sort_values(by='rank_test_score').loc[:,['mean_test_score', 'params', 'rank_test_score']]\n",
    "df_cv_scores.head(3)"
   ]
  },
  {
   "cell_type": "code",
   "execution_count": 263,
   "id": "2cd74c7a",
   "metadata": {},
   "outputs": [
    {
     "data": {
      "text/plain": [
       "{'gradientboostingregressor__learning_rate': 0.2,\n",
       " 'gradientboostingregressor__loss': 'quantile',\n",
       " 'gradientboostingregressor__max_depth': 1,\n",
       " 'gradientboostingregressor__n_estimators': 13,\n",
       " 'selectkbest__k': 21}"
      ]
     },
     "execution_count": 263,
     "metadata": {},
     "output_type": "execute_result"
    }
   ],
   "source": [
    "gs_dtr.best_params_"
   ]
  },
  {
   "cell_type": "code",
   "execution_count": 264,
   "id": "da50a6c3",
   "metadata": {},
   "outputs": [
    {
     "data": {
      "text/html": [
       "<div>\n",
       "<style scoped>\n",
       "    .dataframe tbody tr th:only-of-type {\n",
       "        vertical-align: middle;\n",
       "    }\n",
       "\n",
       "    .dataframe tbody tr th {\n",
       "        vertical-align: top;\n",
       "    }\n",
       "\n",
       "    .dataframe thead th {\n",
       "        text-align: right;\n",
       "    }\n",
       "</style>\n",
       "<table border=\"1\" class=\"dataframe\">\n",
       "  <thead>\n",
       "    <tr style=\"text-align: right;\">\n",
       "      <th></th>\n",
       "      <th>mean_test_score</th>\n",
       "      <th>params</th>\n",
       "      <th>rank_test_score</th>\n",
       "    </tr>\n",
       "  </thead>\n",
       "  <tbody>\n",
       "    <tr>\n",
       "      <th>0</th>\n",
       "      <td>-0.021268</td>\n",
       "      <td>{'gradientboostingregressor__learning_rate': 0...</td>\n",
       "      <td>1</td>\n",
       "    </tr>\n",
       "    <tr>\n",
       "      <th>3</th>\n",
       "      <td>-0.021268</td>\n",
       "      <td>{'gradientboostingregressor__learning_rate': 0...</td>\n",
       "      <td>1</td>\n",
       "    </tr>\n",
       "    <tr>\n",
       "      <th>1</th>\n",
       "      <td>-0.021348</td>\n",
       "      <td>{'gradientboostingregressor__learning_rate': 0...</td>\n",
       "      <td>3</td>\n",
       "    </tr>\n",
       "  </tbody>\n",
       "</table>\n",
       "</div>"
      ],
      "text/plain": [
       "   mean_test_score                                             params  \\\n",
       "0        -0.021268  {'gradientboostingregressor__learning_rate': 0...   \n",
       "3        -0.021268  {'gradientboostingregressor__learning_rate': 0...   \n",
       "1        -0.021348  {'gradientboostingregressor__learning_rate': 0...   \n",
       "\n",
       "   rank_test_score  \n",
       "0                1  \n",
       "3                1  \n",
       "1                3  "
      ]
     },
     "execution_count": 264,
     "metadata": {},
     "output_type": "execute_result"
    }
   ],
   "source": [
    "#testing for max features\n",
    "\n",
    "params_dt = {\n",
    "    'selectkbest__k':[21],\n",
    "    'gradientboostingregressor__loss':['quantile'],\n",
    "    'gradientboostingregressor__n_estimators':[13],\n",
    "    'gradientboostingregressor__learning_rate':[0.2],\n",
    "    'gradientboostingregressor__max_depth':[1],\n",
    "    'gradientboostingregressor__max_features':['auto', 'sqrt', 'log2',None]\n",
    "}\n",
    "\n",
    "gs_dtr = GridSearchCV(pipe_ada_dt, params_dt, n_jobs=-1, cv=tscv, scoring=score_func, refit=True)\n",
    "\n",
    "gs_dtr.fit(X, Y)\n",
    "\n",
    "df_cv_scores = pd.DataFrame(gs_dtr.cv_results_).sort_values(by='rank_test_score').loc[:,['mean_test_score', 'params', 'rank_test_score']]\n",
    "df_cv_scores.head(3)"
   ]
  },
  {
   "cell_type": "code",
   "execution_count": 265,
   "id": "54840a38",
   "metadata": {},
   "outputs": [
    {
     "data": {
      "text/plain": [
       "{'gradientboostingregressor__learning_rate': 0.2,\n",
       " 'gradientboostingregressor__loss': 'quantile',\n",
       " 'gradientboostingregressor__max_depth': 1,\n",
       " 'gradientboostingregressor__max_features': 'auto',\n",
       " 'gradientboostingregressor__n_estimators': 13,\n",
       " 'selectkbest__k': 21}"
      ]
     },
     "execution_count": 265,
     "metadata": {},
     "output_type": "execute_result"
    }
   ],
   "source": [
    "gs_dtr.best_params_"
   ]
  },
  {
   "cell_type": "markdown",
   "id": "c627f542",
   "metadata": {},
   "source": [
    "## LINK-USD: Chainlink final prediction"
   ]
  },
  {
   "cell_type": "code",
   "execution_count": 266,
   "id": "850cdbeb",
   "metadata": {},
   "outputs": [
    {
     "data": {
      "text/plain": [
       "Pipeline(steps=[('standardscaler', StandardScaler()),\n",
       "                ('selectkbest',\n",
       "                 SelectKBest(k=21,\n",
       "                             score_func=<function f_regression at 0x00000148A650DCA0>)),\n",
       "                ('gradientboostingregressor',\n",
       "                 GradientBoostingRegressor(learning_rate=0.2, loss='quantile',\n",
       "                                           max_depth=1, max_features='auto',\n",
       "                                           n_estimators=13, random_state=9))])"
      ]
     },
     "execution_count": 266,
     "metadata": {},
     "output_type": "execute_result"
    }
   ],
   "source": [
    "best_estimator = gs_dtr.best_estimator_\n",
    "best_estimator.fit(df_forprediction[x_cols][:-1], df_forprediction['Y'][:-1])"
   ]
  },
  {
   "cell_type": "code",
   "execution_count": 267,
   "id": "29f659c9",
   "metadata": {},
   "outputs": [
    {
     "data": {
      "text/plain": [
       "array([15.77291971])"
      ]
     },
     "execution_count": 267,
     "metadata": {},
     "output_type": "execute_result"
    }
   ],
   "source": [
    "## Make prediction for last\n",
    "best_estimator.predict(df_forprediction[x_cols][-1:])"
   ]
  },
  {
   "cell_type": "code",
   "execution_count": 268,
   "id": "e5034928",
   "metadata": {},
   "outputs": [
    {
     "data": {
      "text/plain": [
       "0.27692307692307694"
      ]
     },
     "execution_count": 268,
     "metadata": {},
     "output_type": "execute_result"
    }
   ],
   "source": [
    "april_26_truth= 12.35\n",
    "april_26_pred=15.77\n",
    "\n",
    "mean_absolute_percentage_error([april_26_truth],[april_26_pred])"
   ]
  },
  {
   "cell_type": "markdown",
   "id": "05a007a2",
   "metadata": {},
   "source": [
    "# LUNA1-USD: Terra"
   ]
  },
  {
   "cell_type": "code",
   "execution_count": 269,
   "id": "dcf02cbd",
   "metadata": {},
   "outputs": [
    {
     "data": {
      "text/html": [
       "<div>\n",
       "<style scoped>\n",
       "    .dataframe tbody tr th:only-of-type {\n",
       "        vertical-align: middle;\n",
       "    }\n",
       "\n",
       "    .dataframe tbody tr th {\n",
       "        vertical-align: top;\n",
       "    }\n",
       "\n",
       "    .dataframe thead th {\n",
       "        text-align: right;\n",
       "    }\n",
       "</style>\n",
       "<table border=\"1\" class=\"dataframe\">\n",
       "  <thead>\n",
       "    <tr style=\"text-align: right;\">\n",
       "      <th></th>\n",
       "      <th>mean_test_score</th>\n",
       "      <th>params</th>\n",
       "      <th>rank_test_score</th>\n",
       "    </tr>\n",
       "  </thead>\n",
       "  <tbody>\n",
       "    <tr>\n",
       "      <th>111</th>\n",
       "      <td>-0.030461</td>\n",
       "      <td>{'gradientboostingregressor__loss': 'quantile'...</td>\n",
       "      <td>1</td>\n",
       "    </tr>\n",
       "    <tr>\n",
       "      <th>99</th>\n",
       "      <td>-0.030556</td>\n",
       "      <td>{'gradientboostingregressor__loss': 'quantile'...</td>\n",
       "      <td>2</td>\n",
       "    </tr>\n",
       "    <tr>\n",
       "      <th>104</th>\n",
       "      <td>-0.031070</td>\n",
       "      <td>{'gradientboostingregressor__loss': 'quantile'...</td>\n",
       "      <td>3</td>\n",
       "    </tr>\n",
       "  </tbody>\n",
       "</table>\n",
       "</div>"
      ],
      "text/plain": [
       "     mean_test_score                                             params  \\\n",
       "111        -0.030461  {'gradientboostingregressor__loss': 'quantile'...   \n",
       "99         -0.030556  {'gradientboostingregressor__loss': 'quantile'...   \n",
       "104        -0.031070  {'gradientboostingregressor__loss': 'quantile'...   \n",
       "\n",
       "     rank_test_score  \n",
       "111                1  \n",
       "99                 2  \n",
       "104                3  "
      ]
     },
     "execution_count": 269,
     "metadata": {},
     "output_type": "execute_result"
    }
   ],
   "source": [
    "target_col = 'luna1_close'\n",
    "df_tt, df_forprediction = shift_split_data(df_all, target_col, TRAIN_SIZE)\n",
    "\n",
    "score_func = 'neg_mean_absolute_percentage_error'\n",
    "\n",
    "Y = df_tt['Y']\n",
    "\n",
    "x_cols = [i for i in df_tt.columns.tolist() if i not in ['Date_X', 'Date_Y', 'Y'] ]\n",
    "X = df_tt[x_cols]\n",
    "\n",
    "pipe_ada_dt = make_pipeline(StandardScaler(),\n",
    "                    SelectKBest(f_regression),\n",
    "                    GradientBoostingRegressor(random_state=RANDOM_STATE))\n",
    "\n",
    "## Selecting loss and k best\n",
    "params_dt = {\n",
    "    'selectkbest__k':[5,6,7,8,9,10,11,12,13,14,15,16,17,18,19,20,21,22,23,24,25,26,27,28,29,30,35,40,45,50],\n",
    "    'gradientboostingregressor__loss':['squared_error', 'absolute_error', 'huber', 'quantile']\n",
    "}\n",
    "\n",
    "## Setup TimeSeriesSplit\n",
    "num_splits = int(len(X)/(WINDOW_SIZE+TEST_SIZE))\n",
    "\n",
    "tscv = TimeSeriesSplit(n_splits=num_splits, max_train_size=WINDOW_SIZE, test_size=TEST_SIZE)\n",
    "\n",
    "\n",
    "# Setting up the grid search\n",
    "gs_dtr = GridSearchCV(pipe_ada_dt, \n",
    "                      params_dt, \n",
    "                      n_jobs=-1, \n",
    "                      cv=tscv,\n",
    "                      scoring=score_func,\n",
    "                      refit=True\n",
    "                     )\n",
    "\n",
    "# Fit GS to training data\n",
    "gs_dtr.fit(X, Y)\n",
    "df_cv_scores = pd.DataFrame(gs_dtr.cv_results_).sort_values(by='rank_test_score').loc[:,['mean_test_score', 'params', 'rank_test_score']]\n",
    "df_cv_scores.head(3)"
   ]
  },
  {
   "cell_type": "code",
   "execution_count": 270,
   "id": "8600a9d7",
   "metadata": {},
   "outputs": [
    {
     "data": {
      "text/plain": [
       "{'gradientboostingregressor__loss': 'quantile', 'selectkbest__k': 26}"
      ]
     },
     "execution_count": 270,
     "metadata": {},
     "output_type": "execute_result"
    }
   ],
   "source": [
    "gs_dtr.best_params_"
   ]
  },
  {
   "cell_type": "code",
   "execution_count": 271,
   "id": "d22498c9",
   "metadata": {},
   "outputs": [
    {
     "data": {
      "text/html": [
       "<div>\n",
       "<style scoped>\n",
       "    .dataframe tbody tr th:only-of-type {\n",
       "        vertical-align: middle;\n",
       "    }\n",
       "\n",
       "    .dataframe tbody tr th {\n",
       "        vertical-align: top;\n",
       "    }\n",
       "\n",
       "    .dataframe thead th {\n",
       "        text-align: right;\n",
       "    }\n",
       "</style>\n",
       "<table border=\"1\" class=\"dataframe\">\n",
       "  <thead>\n",
       "    <tr style=\"text-align: right;\">\n",
       "      <th></th>\n",
       "      <th>mean_test_score</th>\n",
       "      <th>params</th>\n",
       "      <th>rank_test_score</th>\n",
       "    </tr>\n",
       "  </thead>\n",
       "  <tbody>\n",
       "    <tr>\n",
       "      <th>9</th>\n",
       "      <td>-0.029417</td>\n",
       "      <td>{'gradientboostingregressor__loss': 'quantile'...</td>\n",
       "      <td>1</td>\n",
       "    </tr>\n",
       "    <tr>\n",
       "      <th>10</th>\n",
       "      <td>-0.029631</td>\n",
       "      <td>{'gradientboostingregressor__loss': 'quantile'...</td>\n",
       "      <td>2</td>\n",
       "    </tr>\n",
       "    <tr>\n",
       "      <th>8</th>\n",
       "      <td>-0.029649</td>\n",
       "      <td>{'gradientboostingregressor__loss': 'quantile'...</td>\n",
       "      <td>3</td>\n",
       "    </tr>\n",
       "  </tbody>\n",
       "</table>\n",
       "</div>"
      ],
      "text/plain": [
       "    mean_test_score                                             params  \\\n",
       "9         -0.029417  {'gradientboostingregressor__loss': 'quantile'...   \n",
       "10        -0.029631  {'gradientboostingregressor__loss': 'quantile'...   \n",
       "8         -0.029649  {'gradientboostingregressor__loss': 'quantile'...   \n",
       "\n",
       "    rank_test_score  \n",
       "9                 1  \n",
       "10                2  \n",
       "8                 3  "
      ]
     },
     "execution_count": 271,
     "metadata": {},
     "output_type": "execute_result"
    }
   ],
   "source": [
    "#testing for n-estimators\n",
    "\n",
    "params_dt = {\n",
    "    'selectkbest__k':[26],\n",
    "    'gradientboostingregressor__loss':['quantile'],\n",
    "    'gradientboostingregressor__n_estimators':[1,5,6,7,8,9,10,11,12,13,14,15,20,30,40,45,50,55,60,65,70,80,90,100,200,270,280,290,295,296,297,298,299,300,350,400,500,600]\n",
    "}\n",
    "\n",
    "gs_dtr = GridSearchCV(pipe_ada_dt, params_dt, n_jobs=-1, cv=tscv, scoring=score_func, refit=True)\n",
    "\n",
    "gs_dtr.fit(X, Y)\n",
    "\n",
    "df_cv_scores = pd.DataFrame(gs_dtr.cv_results_).sort_values(by='rank_test_score').loc[:,['mean_test_score', 'params', 'rank_test_score']]\n",
    "df_cv_scores.head(3)"
   ]
  },
  {
   "cell_type": "code",
   "execution_count": 272,
   "id": "cc3105d7",
   "metadata": {},
   "outputs": [
    {
     "data": {
      "text/plain": [
       "{'gradientboostingregressor__loss': 'quantile',\n",
       " 'gradientboostingregressor__n_estimators': 13,\n",
       " 'selectkbest__k': 26}"
      ]
     },
     "execution_count": 272,
     "metadata": {},
     "output_type": "execute_result"
    }
   ],
   "source": [
    "gs_dtr.best_params_"
   ]
  },
  {
   "cell_type": "code",
   "execution_count": 273,
   "id": "a59b7ae7",
   "metadata": {},
   "outputs": [
    {
     "data": {
      "text/html": [
       "<div>\n",
       "<style scoped>\n",
       "    .dataframe tbody tr th:only-of-type {\n",
       "        vertical-align: middle;\n",
       "    }\n",
       "\n",
       "    .dataframe tbody tr th {\n",
       "        vertical-align: top;\n",
       "    }\n",
       "\n",
       "    .dataframe thead th {\n",
       "        text-align: right;\n",
       "    }\n",
       "</style>\n",
       "<table border=\"1\" class=\"dataframe\">\n",
       "  <thead>\n",
       "    <tr style=\"text-align: right;\">\n",
       "      <th></th>\n",
       "      <th>mean_test_score</th>\n",
       "      <th>params</th>\n",
       "      <th>rank_test_score</th>\n",
       "    </tr>\n",
       "  </thead>\n",
       "  <tbody>\n",
       "    <tr>\n",
       "      <th>11</th>\n",
       "      <td>-0.029184</td>\n",
       "      <td>{'gradientboostingregressor__learning_rate': 0...</td>\n",
       "      <td>1</td>\n",
       "    </tr>\n",
       "    <tr>\n",
       "      <th>12</th>\n",
       "      <td>-0.029229</td>\n",
       "      <td>{'gradientboostingregressor__learning_rate': 0...</td>\n",
       "      <td>2</td>\n",
       "    </tr>\n",
       "    <tr>\n",
       "      <th>10</th>\n",
       "      <td>-0.029365</td>\n",
       "      <td>{'gradientboostingregressor__learning_rate': 0...</td>\n",
       "      <td>3</td>\n",
       "    </tr>\n",
       "  </tbody>\n",
       "</table>\n",
       "</div>"
      ],
      "text/plain": [
       "    mean_test_score                                             params  \\\n",
       "11        -0.029184  {'gradientboostingregressor__learning_rate': 0...   \n",
       "12        -0.029229  {'gradientboostingregressor__learning_rate': 0...   \n",
       "10        -0.029365  {'gradientboostingregressor__learning_rate': 0...   \n",
       "\n",
       "    rank_test_score  \n",
       "11                1  \n",
       "12                2  \n",
       "10                3  "
      ]
     },
     "execution_count": 273,
     "metadata": {},
     "output_type": "execute_result"
    }
   ],
   "source": [
    "#testing for learning rate\n",
    "\n",
    "params_dt = {\n",
    "    'selectkbest__k':[26],\n",
    "    'gradientboostingregressor__loss':['quantile'],\n",
    "    'gradientboostingregressor__n_estimators':[13],\n",
    "    'gradientboostingregressor__learning_rate':[0.09,0.095,0.08,0.1,0.11,0.12,0.13,0.14,0.15,0.17,0.2,0.23,0.25,0.3,0.4,0.5,0.01,0.001,0.0001,0.00001,0.9,0.95,0.96,0.97,0.98,0.99,1,1.01,1.02,1.03,1.04,1.05,1.1,1.2,1.3,1.4,1.5]\n",
    "}\n",
    "\n",
    "gs_dtr = GridSearchCV(pipe_ada_dt, params_dt, n_jobs=-1, cv=tscv, scoring=score_func, refit=True)\n",
    "\n",
    "gs_dtr.fit(X, Y)\n",
    "\n",
    "df_cv_scores = pd.DataFrame(gs_dtr.cv_results_).sort_values(by='rank_test_score').loc[:,['mean_test_score', 'params', 'rank_test_score']]\n",
    "df_cv_scores.head(3)"
   ]
  },
  {
   "cell_type": "code",
   "execution_count": 274,
   "id": "a19d5472",
   "metadata": {},
   "outputs": [
    {
     "data": {
      "text/plain": [
       "{'gradientboostingregressor__learning_rate': 0.23,\n",
       " 'gradientboostingregressor__loss': 'quantile',\n",
       " 'gradientboostingregressor__n_estimators': 13,\n",
       " 'selectkbest__k': 26}"
      ]
     },
     "execution_count": 274,
     "metadata": {},
     "output_type": "execute_result"
    }
   ],
   "source": [
    "gs_dtr.best_params_"
   ]
  },
  {
   "cell_type": "code",
   "execution_count": 275,
   "id": "11067c13",
   "metadata": {},
   "outputs": [
    {
     "data": {
      "text/html": [
       "<div>\n",
       "<style scoped>\n",
       "    .dataframe tbody tr th:only-of-type {\n",
       "        vertical-align: middle;\n",
       "    }\n",
       "\n",
       "    .dataframe tbody tr th {\n",
       "        vertical-align: top;\n",
       "    }\n",
       "\n",
       "    .dataframe thead th {\n",
       "        text-align: right;\n",
       "    }\n",
       "</style>\n",
       "<table border=\"1\" class=\"dataframe\">\n",
       "  <thead>\n",
       "    <tr style=\"text-align: right;\">\n",
       "      <th></th>\n",
       "      <th>mean_test_score</th>\n",
       "      <th>params</th>\n",
       "      <th>rank_test_score</th>\n",
       "    </tr>\n",
       "  </thead>\n",
       "  <tbody>\n",
       "    <tr>\n",
       "      <th>19</th>\n",
       "      <td>-0.029184</td>\n",
       "      <td>{'gradientboostingregressor__learning_rate': 0...</td>\n",
       "      <td>1</td>\n",
       "    </tr>\n",
       "    <tr>\n",
       "      <th>21</th>\n",
       "      <td>-0.029184</td>\n",
       "      <td>{'gradientboostingregressor__learning_rate': 0...</td>\n",
       "      <td>1</td>\n",
       "    </tr>\n",
       "    <tr>\n",
       "      <th>22</th>\n",
       "      <td>-0.029184</td>\n",
       "      <td>{'gradientboostingregressor__learning_rate': 0...</td>\n",
       "      <td>1</td>\n",
       "    </tr>\n",
       "  </tbody>\n",
       "</table>\n",
       "</div>"
      ],
      "text/plain": [
       "    mean_test_score                                             params  \\\n",
       "19        -0.029184  {'gradientboostingregressor__learning_rate': 0...   \n",
       "21        -0.029184  {'gradientboostingregressor__learning_rate': 0...   \n",
       "22        -0.029184  {'gradientboostingregressor__learning_rate': 0...   \n",
       "\n",
       "    rank_test_score  \n",
       "19                1  \n",
       "21                1  \n",
       "22                1  "
      ]
     },
     "execution_count": 275,
     "metadata": {},
     "output_type": "execute_result"
    }
   ],
   "source": [
    "#testing for max depth\n",
    "\n",
    "params_dt = {\n",
    "    'selectkbest__k':[26],\n",
    "    'gradientboostingregressor__loss':['quantile'],\n",
    "    'gradientboostingregressor__n_estimators':[13],\n",
    "    'gradientboostingregressor__learning_rate':[0.23],\n",
    "    'gradientboostingregressor__max_depth':[0.5,0.6,0.7,0.8,0.9,0.95,1,1.1,1.2,1.3,1.4,1.5,1.6,1.7,1.8,1.9,1.95,1.96,1.97,1.98,1.99,2,2.1,2.2,2.3,2.4,2.5,2.6,2.7,2.8,2.9,3,3.1,3.2,3.3,3.4,3.5,4,5]\n",
    "}\n",
    "\n",
    "gs_dtr = GridSearchCV(pipe_ada_dt, params_dt, n_jobs=-1, cv=tscv, scoring=score_func, refit=True)\n",
    "\n",
    "gs_dtr.fit(X, Y)\n",
    "\n",
    "df_cv_scores = pd.DataFrame(gs_dtr.cv_results_).sort_values(by='rank_test_score').loc[:,['mean_test_score', 'params', 'rank_test_score']]\n",
    "df_cv_scores.head(3)"
   ]
  },
  {
   "cell_type": "code",
   "execution_count": 276,
   "id": "5789bcea",
   "metadata": {},
   "outputs": [
    {
     "data": {
      "text/plain": [
       "{'gradientboostingregressor__learning_rate': 0.23,\n",
       " 'gradientboostingregressor__loss': 'quantile',\n",
       " 'gradientboostingregressor__max_depth': 1,\n",
       " 'gradientboostingregressor__n_estimators': 13,\n",
       " 'selectkbest__k': 26}"
      ]
     },
     "execution_count": 276,
     "metadata": {},
     "output_type": "execute_result"
    }
   ],
   "source": [
    "gs_dtr.best_params_"
   ]
  },
  {
   "cell_type": "code",
   "execution_count": 277,
   "id": "5c5e2362",
   "metadata": {},
   "outputs": [
    {
     "data": {
      "text/html": [
       "<div>\n",
       "<style scoped>\n",
       "    .dataframe tbody tr th:only-of-type {\n",
       "        vertical-align: middle;\n",
       "    }\n",
       "\n",
       "    .dataframe tbody tr th {\n",
       "        vertical-align: top;\n",
       "    }\n",
       "\n",
       "    .dataframe thead th {\n",
       "        text-align: right;\n",
       "    }\n",
       "</style>\n",
       "<table border=\"1\" class=\"dataframe\">\n",
       "  <thead>\n",
       "    <tr style=\"text-align: right;\">\n",
       "      <th></th>\n",
       "      <th>mean_test_score</th>\n",
       "      <th>params</th>\n",
       "      <th>rank_test_score</th>\n",
       "    </tr>\n",
       "  </thead>\n",
       "  <tbody>\n",
       "    <tr>\n",
       "      <th>0</th>\n",
       "      <td>-0.029184</td>\n",
       "      <td>{'gradientboostingregressor__learning_rate': 0...</td>\n",
       "      <td>1</td>\n",
       "    </tr>\n",
       "    <tr>\n",
       "      <th>3</th>\n",
       "      <td>-0.029184</td>\n",
       "      <td>{'gradientboostingregressor__learning_rate': 0...</td>\n",
       "      <td>1</td>\n",
       "    </tr>\n",
       "    <tr>\n",
       "      <th>1</th>\n",
       "      <td>-0.031168</td>\n",
       "      <td>{'gradientboostingregressor__learning_rate': 0...</td>\n",
       "      <td>3</td>\n",
       "    </tr>\n",
       "  </tbody>\n",
       "</table>\n",
       "</div>"
      ],
      "text/plain": [
       "   mean_test_score                                             params  \\\n",
       "0        -0.029184  {'gradientboostingregressor__learning_rate': 0...   \n",
       "3        -0.029184  {'gradientboostingregressor__learning_rate': 0...   \n",
       "1        -0.031168  {'gradientboostingregressor__learning_rate': 0...   \n",
       "\n",
       "   rank_test_score  \n",
       "0                1  \n",
       "3                1  \n",
       "1                3  "
      ]
     },
     "execution_count": 277,
     "metadata": {},
     "output_type": "execute_result"
    }
   ],
   "source": [
    "#testing for max features\n",
    "\n",
    "params_dt = {\n",
    "    'selectkbest__k':[26],\n",
    "    'gradientboostingregressor__loss':['quantile'],\n",
    "    'gradientboostingregressor__n_estimators':[13],\n",
    "    'gradientboostingregressor__learning_rate':[0.23],\n",
    "    'gradientboostingregressor__max_depth':[1],\n",
    "    'gradientboostingregressor__max_features':['auto', 'sqrt', 'log2',None]\n",
    "}\n",
    "\n",
    "gs_dtr = GridSearchCV(pipe_ada_dt, params_dt, n_jobs=-1, cv=tscv, scoring=score_func, refit=True)\n",
    "\n",
    "gs_dtr.fit(X, Y)\n",
    "\n",
    "df_cv_scores = pd.DataFrame(gs_dtr.cv_results_).sort_values(by='rank_test_score').loc[:,['mean_test_score', 'params', 'rank_test_score']]\n",
    "df_cv_scores.head(3)"
   ]
  },
  {
   "cell_type": "code",
   "execution_count": 278,
   "id": "9366ace2",
   "metadata": {},
   "outputs": [
    {
     "data": {
      "text/plain": [
       "{'gradientboostingregressor__learning_rate': 0.23,\n",
       " 'gradientboostingregressor__loss': 'quantile',\n",
       " 'gradientboostingregressor__max_depth': 1,\n",
       " 'gradientboostingregressor__max_features': 'auto',\n",
       " 'gradientboostingregressor__n_estimators': 13,\n",
       " 'selectkbest__k': 26}"
      ]
     },
     "execution_count": 278,
     "metadata": {},
     "output_type": "execute_result"
    }
   ],
   "source": [
    "gs_dtr.best_params_"
   ]
  },
  {
   "cell_type": "markdown",
   "id": "6a011e2f",
   "metadata": {},
   "source": [
    "## LUNA1-USD: Terra"
   ]
  },
  {
   "cell_type": "code",
   "execution_count": 279,
   "id": "e146a2e6",
   "metadata": {},
   "outputs": [
    {
     "data": {
      "text/plain": [
       "Pipeline(steps=[('standardscaler', StandardScaler()),\n",
       "                ('selectkbest',\n",
       "                 SelectKBest(k=26,\n",
       "                             score_func=<function f_regression at 0x00000148A650DCA0>)),\n",
       "                ('gradientboostingregressor',\n",
       "                 GradientBoostingRegressor(learning_rate=0.23, loss='quantile',\n",
       "                                           max_depth=1, max_features='auto',\n",
       "                                           n_estimators=13, random_state=9))])"
      ]
     },
     "execution_count": 279,
     "metadata": {},
     "output_type": "execute_result"
    }
   ],
   "source": [
    "best_estimator = gs_dtr.best_estimator_\n",
    "best_estimator.fit(df_forprediction[x_cols][:-1], df_forprediction['Y'][:-1])"
   ]
  },
  {
   "cell_type": "code",
   "execution_count": 280,
   "id": "5a4f2ec0",
   "metadata": {},
   "outputs": [
    {
     "data": {
      "text/plain": [
       "array([101.80659604])"
      ]
     },
     "execution_count": 280,
     "metadata": {},
     "output_type": "execute_result"
    }
   ],
   "source": [
    "## Make prediction for last\n",
    "best_estimator.predict(df_forprediction[x_cols][-1:])"
   ]
  },
  {
   "cell_type": "code",
   "execution_count": 281,
   "id": "69029ccd",
   "metadata": {},
   "outputs": [
    {
     "data": {
      "text/plain": [
       "0.1497074651609261"
      ]
     },
     "execution_count": 281,
     "metadata": {},
     "output_type": "execute_result"
    }
   ],
   "source": [
    "april_26_truth= 88.55\n",
    "april_26_pred=101.80659604\n",
    "\n",
    "mean_absolute_percentage_error([april_26_truth],[april_26_pred])"
   ]
  },
  {
   "cell_type": "markdown",
   "id": "93d080da",
   "metadata": {},
   "source": [
    "# MATIC-USD: Polygon"
   ]
  },
  {
   "cell_type": "code",
   "execution_count": 284,
   "id": "0b7ab851",
   "metadata": {},
   "outputs": [
    {
     "data": {
      "text/html": [
       "<div>\n",
       "<style scoped>\n",
       "    .dataframe tbody tr th:only-of-type {\n",
       "        vertical-align: middle;\n",
       "    }\n",
       "\n",
       "    .dataframe tbody tr th {\n",
       "        vertical-align: top;\n",
       "    }\n",
       "\n",
       "    .dataframe thead th {\n",
       "        text-align: right;\n",
       "    }\n",
       "</style>\n",
       "<table border=\"1\" class=\"dataframe\">\n",
       "  <thead>\n",
       "    <tr style=\"text-align: right;\">\n",
       "      <th></th>\n",
       "      <th>mean_test_score</th>\n",
       "      <th>params</th>\n",
       "      <th>rank_test_score</th>\n",
       "    </tr>\n",
       "  </thead>\n",
       "  <tbody>\n",
       "    <tr>\n",
       "      <th>146</th>\n",
       "      <td>-0.018889</td>\n",
       "      <td>{'gradientboostingregressor__loss': 'quantile'...</td>\n",
       "      <td>1</td>\n",
       "    </tr>\n",
       "    <tr>\n",
       "      <th>149</th>\n",
       "      <td>-0.019039</td>\n",
       "      <td>{'gradientboostingregressor__loss': 'quantile'...</td>\n",
       "      <td>2</td>\n",
       "    </tr>\n",
       "    <tr>\n",
       "      <th>151</th>\n",
       "      <td>-0.019198</td>\n",
       "      <td>{'gradientboostingregressor__loss': 'quantile'...</td>\n",
       "      <td>3</td>\n",
       "    </tr>\n",
       "  </tbody>\n",
       "</table>\n",
       "</div>"
      ],
      "text/plain": [
       "     mean_test_score                                             params  \\\n",
       "146        -0.018889  {'gradientboostingregressor__loss': 'quantile'...   \n",
       "149        -0.019039  {'gradientboostingregressor__loss': 'quantile'...   \n",
       "151        -0.019198  {'gradientboostingregressor__loss': 'quantile'...   \n",
       "\n",
       "     rank_test_score  \n",
       "146                1  \n",
       "149                2  \n",
       "151                3  "
      ]
     },
     "execution_count": 284,
     "metadata": {},
     "output_type": "execute_result"
    }
   ],
   "source": [
    "target_col = 'matic_close'\n",
    "df_tt, df_forprediction = shift_split_data(df_all, target_col, TRAIN_SIZE)\n",
    "\n",
    "score_func = 'neg_mean_absolute_percentage_error'\n",
    "\n",
    "Y = df_tt['Y']\n",
    "\n",
    "x_cols = [i for i in df_tt.columns.tolist() if i not in ['Date_X', 'Date_Y', 'Y'] ]\n",
    "X = df_tt[x_cols]\n",
    "\n",
    "pipe_ada_dt = make_pipeline(StandardScaler(),\n",
    "                    SelectKBest(f_regression),\n",
    "                    GradientBoostingRegressor(random_state=RANDOM_STATE))\n",
    "\n",
    "## Selecting loss and k best\n",
    "params_dt = {\n",
    "    'selectkbest__k':[5,6,7,8,9,10,11,12,13,14,15,16,17,18,19,20,21,22,23,24,25,26,27,28,29,30,35,36,37,38,39,40,45,46,47,48,49,50],\n",
    "    'gradientboostingregressor__loss':['squared_error', 'absolute_error', 'huber', 'quantile']\n",
    "}\n",
    "\n",
    "## Setup TimeSeriesSplit\n",
    "num_splits = int(len(X)/(WINDOW_SIZE+TEST_SIZE))\n",
    "\n",
    "tscv = TimeSeriesSplit(n_splits=num_splits, max_train_size=WINDOW_SIZE, test_size=TEST_SIZE)\n",
    "\n",
    "\n",
    "# Setting up the grid search\n",
    "gs_dtr = GridSearchCV(pipe_ada_dt, \n",
    "                      params_dt, \n",
    "                      n_jobs=-1, \n",
    "                      cv=tscv,\n",
    "                      scoring=score_func,\n",
    "                      refit=True\n",
    "                     )\n",
    "\n",
    "# Fit GS to training data\n",
    "gs_dtr.fit(X, Y)\n",
    "df_cv_scores = pd.DataFrame(gs_dtr.cv_results_).sort_values(by='rank_test_score').loc[:,['mean_test_score', 'params', 'rank_test_score']]\n",
    "df_cv_scores.head(3)"
   ]
  },
  {
   "cell_type": "code",
   "execution_count": 285,
   "id": "aa2dd6b0",
   "metadata": {},
   "outputs": [
    {
     "data": {
      "text/plain": [
       "{'gradientboostingregressor__loss': 'quantile', 'selectkbest__k': 45}"
      ]
     },
     "execution_count": 285,
     "metadata": {},
     "output_type": "execute_result"
    }
   ],
   "source": [
    "gs_dtr.best_params_"
   ]
  },
  {
   "cell_type": "code",
   "execution_count": 286,
   "id": "21e00f57",
   "metadata": {},
   "outputs": [
    {
     "data": {
      "text/html": [
       "<div>\n",
       "<style scoped>\n",
       "    .dataframe tbody tr th:only-of-type {\n",
       "        vertical-align: middle;\n",
       "    }\n",
       "\n",
       "    .dataframe tbody tr th {\n",
       "        vertical-align: top;\n",
       "    }\n",
       "\n",
       "    .dataframe thead th {\n",
       "        text-align: right;\n",
       "    }\n",
       "</style>\n",
       "<table border=\"1\" class=\"dataframe\">\n",
       "  <thead>\n",
       "    <tr style=\"text-align: right;\">\n",
       "      <th></th>\n",
       "      <th>mean_test_score</th>\n",
       "      <th>params</th>\n",
       "      <th>rank_test_score</th>\n",
       "    </tr>\n",
       "  </thead>\n",
       "  <tbody>\n",
       "    <tr>\n",
       "      <th>0</th>\n",
       "      <td>-0.017176</td>\n",
       "      <td>{'gradientboostingregressor__loss': 'quantile'...</td>\n",
       "      <td>1</td>\n",
       "    </tr>\n",
       "    <tr>\n",
       "      <th>1</th>\n",
       "      <td>-0.017618</td>\n",
       "      <td>{'gradientboostingregressor__loss': 'quantile'...</td>\n",
       "      <td>2</td>\n",
       "    </tr>\n",
       "    <tr>\n",
       "      <th>2</th>\n",
       "      <td>-0.017726</td>\n",
       "      <td>{'gradientboostingregressor__loss': 'quantile'...</td>\n",
       "      <td>3</td>\n",
       "    </tr>\n",
       "  </tbody>\n",
       "</table>\n",
       "</div>"
      ],
      "text/plain": [
       "   mean_test_score                                             params  \\\n",
       "0        -0.017176  {'gradientboostingregressor__loss': 'quantile'...   \n",
       "1        -0.017618  {'gradientboostingregressor__loss': 'quantile'...   \n",
       "2        -0.017726  {'gradientboostingregressor__loss': 'quantile'...   \n",
       "\n",
       "   rank_test_score  \n",
       "0                1  \n",
       "1                2  \n",
       "2                3  "
      ]
     },
     "execution_count": 286,
     "metadata": {},
     "output_type": "execute_result"
    }
   ],
   "source": [
    "#testing for n-estimators\n",
    "\n",
    "params_dt = {\n",
    "    'selectkbest__k':[45],\n",
    "    'gradientboostingregressor__loss':['quantile'],\n",
    "    'gradientboostingregressor__n_estimators':[1,5,6,7,8,9,10,11,12,13,14,15,20,30,40,45,50,55,60,65,70,80,90,100,200,270,280,290,295,296,297,298,299,300,350,400,500,600]\n",
    "}\n",
    "\n",
    "gs_dtr = GridSearchCV(pipe_ada_dt, params_dt, n_jobs=-1, cv=tscv, scoring=score_func, refit=True)\n",
    "\n",
    "gs_dtr.fit(X, Y)\n",
    "\n",
    "df_cv_scores = pd.DataFrame(gs_dtr.cv_results_).sort_values(by='rank_test_score').loc[:,['mean_test_score', 'params', 'rank_test_score']]\n",
    "df_cv_scores.head(3)"
   ]
  },
  {
   "cell_type": "code",
   "execution_count": 287,
   "id": "a1fcd767",
   "metadata": {},
   "outputs": [
    {
     "data": {
      "text/plain": [
       "{'gradientboostingregressor__loss': 'quantile',\n",
       " 'gradientboostingregressor__n_estimators': 1,\n",
       " 'selectkbest__k': 45}"
      ]
     },
     "execution_count": 287,
     "metadata": {},
     "output_type": "execute_result"
    }
   ],
   "source": [
    "gs_dtr.best_params_"
   ]
  },
  {
   "cell_type": "code",
   "execution_count": 290,
   "id": "2f456817",
   "metadata": {},
   "outputs": [
    {
     "data": {
      "text/html": [
       "<div>\n",
       "<style scoped>\n",
       "    .dataframe tbody tr th:only-of-type {\n",
       "        vertical-align: middle;\n",
       "    }\n",
       "\n",
       "    .dataframe tbody tr th {\n",
       "        vertical-align: top;\n",
       "    }\n",
       "\n",
       "    .dataframe thead th {\n",
       "        text-align: right;\n",
       "    }\n",
       "</style>\n",
       "<table border=\"1\" class=\"dataframe\">\n",
       "  <thead>\n",
       "    <tr style=\"text-align: right;\">\n",
       "      <th></th>\n",
       "      <th>mean_test_score</th>\n",
       "      <th>params</th>\n",
       "      <th>rank_test_score</th>\n",
       "    </tr>\n",
       "  </thead>\n",
       "  <tbody>\n",
       "    <tr>\n",
       "      <th>8</th>\n",
       "      <td>-0.016976</td>\n",
       "      <td>{'gradientboostingregressor__learning_rate': 0...</td>\n",
       "      <td>1</td>\n",
       "    </tr>\n",
       "    <tr>\n",
       "      <th>9</th>\n",
       "      <td>-0.016977</td>\n",
       "      <td>{'gradientboostingregressor__learning_rate': 0...</td>\n",
       "      <td>2</td>\n",
       "    </tr>\n",
       "    <tr>\n",
       "      <th>10</th>\n",
       "      <td>-0.016978</td>\n",
       "      <td>{'gradientboostingregressor__learning_rate': 0...</td>\n",
       "      <td>3</td>\n",
       "    </tr>\n",
       "  </tbody>\n",
       "</table>\n",
       "</div>"
      ],
      "text/plain": [
       "    mean_test_score                                             params  \\\n",
       "8         -0.016976  {'gradientboostingregressor__learning_rate': 0...   \n",
       "9         -0.016977  {'gradientboostingregressor__learning_rate': 0...   \n",
       "10        -0.016978  {'gradientboostingregressor__learning_rate': 0...   \n",
       "\n",
       "    rank_test_score  \n",
       "8                 1  \n",
       "9                 2  \n",
       "10                3  "
      ]
     },
     "execution_count": 290,
     "metadata": {},
     "output_type": "execute_result"
    }
   ],
   "source": [
    "#testing for learning rate\n",
    "\n",
    "params_dt = {\n",
    "    'selectkbest__k':[45],\n",
    "    'gradientboostingregressor__loss':['quantile'],\n",
    "    'gradientboostingregressor__n_estimators':[1],\n",
    "    'gradientboostingregressor__learning_rate':[0.09,0.095,0.08,0.1,0.11,0.12,0.13,0.14,0.15,0.16,0.17,0.2,0.23,0.25,0.3,0.4,0.5,0.01,0.001,0.0001,0.00001,0.9,0.95,0.96,0.97,0.98,0.99,1,1.01,1.02,1.03,1.04,1.05,1.1,1.2,1.3,1.4,1.5]\n",
    "}\n",
    "\n",
    "gs_dtr = GridSearchCV(pipe_ada_dt, params_dt, n_jobs=-1, cv=tscv, scoring=score_func, refit=True)\n",
    "\n",
    "gs_dtr.fit(X, Y)\n",
    "\n",
    "df_cv_scores = pd.DataFrame(gs_dtr.cv_results_).sort_values(by='rank_test_score').loc[:,['mean_test_score', 'params', 'rank_test_score']]\n",
    "df_cv_scores.head(3)"
   ]
  },
  {
   "cell_type": "code",
   "execution_count": 291,
   "id": "53ddad23",
   "metadata": {},
   "outputs": [
    {
     "data": {
      "text/plain": [
       "{'gradientboostingregressor__learning_rate': 0.15,\n",
       " 'gradientboostingregressor__loss': 'quantile',\n",
       " 'gradientboostingregressor__n_estimators': 1,\n",
       " 'selectkbest__k': 45}"
      ]
     },
     "execution_count": 291,
     "metadata": {},
     "output_type": "execute_result"
    }
   ],
   "source": [
    "gs_dtr.best_params_"
   ]
  },
  {
   "cell_type": "code",
   "execution_count": 292,
   "id": "3b3da8d1",
   "metadata": {},
   "outputs": [
    {
     "data": {
      "text/html": [
       "<div>\n",
       "<style scoped>\n",
       "    .dataframe tbody tr th:only-of-type {\n",
       "        vertical-align: middle;\n",
       "    }\n",
       "\n",
       "    .dataframe tbody tr th {\n",
       "        vertical-align: top;\n",
       "    }\n",
       "\n",
       "    .dataframe thead th {\n",
       "        text-align: right;\n",
       "    }\n",
       "</style>\n",
       "<table border=\"1\" class=\"dataframe\">\n",
       "  <thead>\n",
       "    <tr style=\"text-align: right;\">\n",
       "      <th></th>\n",
       "      <th>mean_test_score</th>\n",
       "      <th>params</th>\n",
       "      <th>rank_test_score</th>\n",
       "    </tr>\n",
       "  </thead>\n",
       "  <tbody>\n",
       "    <tr>\n",
       "      <th>19</th>\n",
       "      <td>-0.016976</td>\n",
       "      <td>{'gradientboostingregressor__learning_rate': 0...</td>\n",
       "      <td>1</td>\n",
       "    </tr>\n",
       "    <tr>\n",
       "      <th>21</th>\n",
       "      <td>-0.016976</td>\n",
       "      <td>{'gradientboostingregressor__learning_rate': 0...</td>\n",
       "      <td>1</td>\n",
       "    </tr>\n",
       "    <tr>\n",
       "      <th>22</th>\n",
       "      <td>-0.016976</td>\n",
       "      <td>{'gradientboostingregressor__learning_rate': 0...</td>\n",
       "      <td>1</td>\n",
       "    </tr>\n",
       "  </tbody>\n",
       "</table>\n",
       "</div>"
      ],
      "text/plain": [
       "    mean_test_score                                             params  \\\n",
       "19        -0.016976  {'gradientboostingregressor__learning_rate': 0...   \n",
       "21        -0.016976  {'gradientboostingregressor__learning_rate': 0...   \n",
       "22        -0.016976  {'gradientboostingregressor__learning_rate': 0...   \n",
       "\n",
       "    rank_test_score  \n",
       "19                1  \n",
       "21                1  \n",
       "22                1  "
      ]
     },
     "execution_count": 292,
     "metadata": {},
     "output_type": "execute_result"
    }
   ],
   "source": [
    "#testing for max depth\n",
    "\n",
    "params_dt = {\n",
    "    'selectkbest__k':[45],\n",
    "    'gradientboostingregressor__loss':['quantile'],\n",
    "    'gradientboostingregressor__n_estimators':[1],\n",
    "    'gradientboostingregressor__learning_rate':[0.15],\n",
    "    'gradientboostingregressor__max_depth':[0.5,0.6,0.7,0.8,0.9,0.95,1,1.1,1.2,1.3,1.4,1.5,1.6,1.7,1.8,1.9,1.95,1.96,1.97,1.98,1.99,2,2.1,2.2,2.3,2.4,2.5,2.6,2.7,2.8,2.9,3,3.1,3.2,3.3,3.4,3.5,4,5]\n",
    "}\n",
    "\n",
    "gs_dtr = GridSearchCV(pipe_ada_dt, params_dt, n_jobs=-1, cv=tscv, scoring=score_func, refit=True)\n",
    "\n",
    "gs_dtr.fit(X, Y)\n",
    "\n",
    "df_cv_scores = pd.DataFrame(gs_dtr.cv_results_).sort_values(by='rank_test_score').loc[:,['mean_test_score', 'params', 'rank_test_score']]\n",
    "df_cv_scores.head(3)"
   ]
  },
  {
   "cell_type": "code",
   "execution_count": 293,
   "id": "95d9c153",
   "metadata": {},
   "outputs": [
    {
     "data": {
      "text/plain": [
       "{'gradientboostingregressor__learning_rate': 0.15,\n",
       " 'gradientboostingregressor__loss': 'quantile',\n",
       " 'gradientboostingregressor__max_depth': 1,\n",
       " 'gradientboostingregressor__n_estimators': 1,\n",
       " 'selectkbest__k': 45}"
      ]
     },
     "execution_count": 293,
     "metadata": {},
     "output_type": "execute_result"
    }
   ],
   "source": [
    "gs_dtr.best_params_"
   ]
  },
  {
   "cell_type": "code",
   "execution_count": 294,
   "id": "4abf7ac8",
   "metadata": {},
   "outputs": [
    {
     "data": {
      "text/html": [
       "<div>\n",
       "<style scoped>\n",
       "    .dataframe tbody tr th:only-of-type {\n",
       "        vertical-align: middle;\n",
       "    }\n",
       "\n",
       "    .dataframe tbody tr th {\n",
       "        vertical-align: top;\n",
       "    }\n",
       "\n",
       "    .dataframe thead th {\n",
       "        text-align: right;\n",
       "    }\n",
       "</style>\n",
       "<table border=\"1\" class=\"dataframe\">\n",
       "  <thead>\n",
       "    <tr style=\"text-align: right;\">\n",
       "      <th></th>\n",
       "      <th>mean_test_score</th>\n",
       "      <th>params</th>\n",
       "      <th>rank_test_score</th>\n",
       "    </tr>\n",
       "  </thead>\n",
       "  <tbody>\n",
       "    <tr>\n",
       "      <th>2</th>\n",
       "      <td>-0.020333</td>\n",
       "      <td>{'gradientboostingregressor__learning_rate': 0...</td>\n",
       "      <td>1</td>\n",
       "    </tr>\n",
       "    <tr>\n",
       "      <th>1</th>\n",
       "      <td>-0.020405</td>\n",
       "      <td>{'gradientboostingregressor__learning_rate': 0...</td>\n",
       "      <td>2</td>\n",
       "    </tr>\n",
       "    <tr>\n",
       "      <th>0</th>\n",
       "      <td>-0.021233</td>\n",
       "      <td>{'gradientboostingregressor__learning_rate': 0...</td>\n",
       "      <td>3</td>\n",
       "    </tr>\n",
       "  </tbody>\n",
       "</table>\n",
       "</div>"
      ],
      "text/plain": [
       "   mean_test_score                                             params  \\\n",
       "2        -0.020333  {'gradientboostingregressor__learning_rate': 0...   \n",
       "1        -0.020405  {'gradientboostingregressor__learning_rate': 0...   \n",
       "0        -0.021233  {'gradientboostingregressor__learning_rate': 0...   \n",
       "\n",
       "   rank_test_score  \n",
       "2                1  \n",
       "1                2  \n",
       "0                3  "
      ]
     },
     "execution_count": 294,
     "metadata": {},
     "output_type": "execute_result"
    }
   ],
   "source": [
    "#testing for max features\n",
    "\n",
    "params_dt = {\n",
    "    'selectkbest__k':[26],\n",
    "    'gradientboostingregressor__loss':['quantile'],\n",
    "    'gradientboostingregressor__n_estimators':[13],\n",
    "    'gradientboostingregressor__learning_rate':[0.23],\n",
    "    'gradientboostingregressor__max_depth':[1],\n",
    "    'gradientboostingregressor__max_features':['auto', 'sqrt', 'log2',None]\n",
    "}\n",
    "\n",
    "gs_dtr = GridSearchCV(pipe_ada_dt, params_dt, n_jobs=-1, cv=tscv, scoring=score_func, refit=True)\n",
    "\n",
    "gs_dtr.fit(X, Y)\n",
    "\n",
    "df_cv_scores = pd.DataFrame(gs_dtr.cv_results_).sort_values(by='rank_test_score').loc[:,['mean_test_score', 'params', 'rank_test_score']]\n",
    "df_cv_scores.head(3)"
   ]
  },
  {
   "cell_type": "code",
   "execution_count": 295,
   "id": "5ba707ff",
   "metadata": {},
   "outputs": [
    {
     "data": {
      "text/plain": [
       "{'gradientboostingregressor__learning_rate': 0.23,\n",
       " 'gradientboostingregressor__loss': 'quantile',\n",
       " 'gradientboostingregressor__max_depth': 1,\n",
       " 'gradientboostingregressor__max_features': 'log2',\n",
       " 'gradientboostingregressor__n_estimators': 13,\n",
       " 'selectkbest__k': 26}"
      ]
     },
     "execution_count": 295,
     "metadata": {},
     "output_type": "execute_result"
    }
   ],
   "source": [
    "gs_dtr.best_params_"
   ]
  },
  {
   "cell_type": "markdown",
   "id": "f874020a",
   "metadata": {},
   "source": [
    "## MATIC-USD: Polygon final prediction"
   ]
  },
  {
   "cell_type": "code",
   "execution_count": 296,
   "id": "6769b3ea",
   "metadata": {},
   "outputs": [
    {
     "data": {
      "text/plain": [
       "Pipeline(steps=[('standardscaler', StandardScaler()),\n",
       "                ('selectkbest',\n",
       "                 SelectKBest(k=26,\n",
       "                             score_func=<function f_regression at 0x00000148A650DCA0>)),\n",
       "                ('gradientboostingregressor',\n",
       "                 GradientBoostingRegressor(learning_rate=0.23, loss='quantile',\n",
       "                                           max_depth=1, max_features='log2',\n",
       "                                           n_estimators=13, random_state=9))])"
      ]
     },
     "execution_count": 296,
     "metadata": {},
     "output_type": "execute_result"
    }
   ],
   "source": [
    "best_estimator = gs_dtr.best_estimator_\n",
    "best_estimator.fit(df_forprediction[x_cols][:-1], df_forprediction['Y'][:-1])"
   ]
  },
  {
   "cell_type": "code",
   "execution_count": 297,
   "id": "2d8f1dda",
   "metadata": {},
   "outputs": [
    {
     "data": {
      "text/plain": [
       "array([1.44537977])"
      ]
     },
     "execution_count": 297,
     "metadata": {},
     "output_type": "execute_result"
    }
   ],
   "source": [
    "## Make prediction for last\n",
    "best_estimator.predict(df_forprediction[x_cols][-1:])"
   ]
  },
  {
   "cell_type": "code",
   "execution_count": 298,
   "id": "23026fc9",
   "metadata": {},
   "outputs": [
    {
     "data": {
      "text/plain": [
       "0.16300271161892507"
      ]
     },
     "execution_count": 298,
     "metadata": {},
     "output_type": "execute_result"
    }
   ],
   "source": [
    "april_26_truth= 1.2428\n",
    "april_26_pred=1.44537977\n",
    "\n",
    "mean_absolute_percentage_error([april_26_truth],[april_26_pred])"
   ]
  },
  {
   "cell_type": "markdown",
   "id": "c08737e0",
   "metadata": {},
   "source": [
    "# SOL-USD: Solana"
   ]
  },
  {
   "cell_type": "code",
   "execution_count": 299,
   "id": "423fc513",
   "metadata": {},
   "outputs": [
    {
     "data": {
      "text/html": [
       "<div>\n",
       "<style scoped>\n",
       "    .dataframe tbody tr th:only-of-type {\n",
       "        vertical-align: middle;\n",
       "    }\n",
       "\n",
       "    .dataframe tbody tr th {\n",
       "        vertical-align: top;\n",
       "    }\n",
       "\n",
       "    .dataframe thead th {\n",
       "        text-align: right;\n",
       "    }\n",
       "</style>\n",
       "<table border=\"1\" class=\"dataframe\">\n",
       "  <thead>\n",
       "    <tr style=\"text-align: right;\">\n",
       "      <th></th>\n",
       "      <th>mean_test_score</th>\n",
       "      <th>params</th>\n",
       "      <th>rank_test_score</th>\n",
       "    </tr>\n",
       "  </thead>\n",
       "  <tbody>\n",
       "    <tr>\n",
       "      <th>148</th>\n",
       "      <td>-0.039114</td>\n",
       "      <td>{'gradientboostingregressor__loss': 'quantile'...</td>\n",
       "      <td>1</td>\n",
       "    </tr>\n",
       "    <tr>\n",
       "      <th>130</th>\n",
       "      <td>-0.039429</td>\n",
       "      <td>{'gradientboostingregressor__loss': 'quantile'...</td>\n",
       "      <td>2</td>\n",
       "    </tr>\n",
       "    <tr>\n",
       "      <th>131</th>\n",
       "      <td>-0.039529</td>\n",
       "      <td>{'gradientboostingregressor__loss': 'quantile'...</td>\n",
       "      <td>3</td>\n",
       "    </tr>\n",
       "  </tbody>\n",
       "</table>\n",
       "</div>"
      ],
      "text/plain": [
       "     mean_test_score                                             params  \\\n",
       "148        -0.039114  {'gradientboostingregressor__loss': 'quantile'...   \n",
       "130        -0.039429  {'gradientboostingregressor__loss': 'quantile'...   \n",
       "131        -0.039529  {'gradientboostingregressor__loss': 'quantile'...   \n",
       "\n",
       "     rank_test_score  \n",
       "148                1  \n",
       "130                2  \n",
       "131                3  "
      ]
     },
     "execution_count": 299,
     "metadata": {},
     "output_type": "execute_result"
    }
   ],
   "source": [
    "target_col = 'sol_close'\n",
    "df_tt, df_forprediction = shift_split_data(df_all, target_col, TRAIN_SIZE)\n",
    "\n",
    "score_func = 'neg_mean_absolute_percentage_error'\n",
    "\n",
    "Y = df_tt['Y']\n",
    "\n",
    "x_cols = [i for i in df_tt.columns.tolist() if i not in ['Date_X', 'Date_Y', 'Y'] ]\n",
    "X = df_tt[x_cols]\n",
    "\n",
    "pipe_ada_dt = make_pipeline(StandardScaler(),\n",
    "                    SelectKBest(f_regression),\n",
    "                    GradientBoostingRegressor(random_state=RANDOM_STATE))\n",
    "\n",
    "## Selecting loss and k best\n",
    "params_dt = {\n",
    "    'selectkbest__k':[5,6,7,8,9,10,11,12,13,14,15,16,17,18,19,20,21,22,23,24,25,26,27,28,29,30,35,36,37,38,39,40,45,46,47,48,49,50],\n",
    "    'gradientboostingregressor__loss':['squared_error', 'absolute_error', 'huber', 'quantile']\n",
    "}\n",
    "\n",
    "## Setup TimeSeriesSplit\n",
    "num_splits = int(len(X)/(WINDOW_SIZE+TEST_SIZE))\n",
    "\n",
    "tscv = TimeSeriesSplit(n_splits=num_splits, max_train_size=WINDOW_SIZE, test_size=TEST_SIZE)\n",
    "\n",
    "\n",
    "# Setting up the grid search\n",
    "gs_dtr = GridSearchCV(pipe_ada_dt, \n",
    "                      params_dt, \n",
    "                      n_jobs=-1, \n",
    "                      cv=tscv,\n",
    "                      scoring=score_func,\n",
    "                      refit=True\n",
    "                     )\n",
    "\n",
    "# Fit GS to training data\n",
    "gs_dtr.fit(X, Y)\n",
    "df_cv_scores = pd.DataFrame(gs_dtr.cv_results_).sort_values(by='rank_test_score').loc[:,['mean_test_score', 'params', 'rank_test_score']]\n",
    "df_cv_scores.head(3)"
   ]
  },
  {
   "cell_type": "code",
   "execution_count": 300,
   "id": "bbd4b8c3",
   "metadata": {},
   "outputs": [
    {
     "data": {
      "text/plain": [
       "{'gradientboostingregressor__loss': 'quantile', 'selectkbest__k': 47}"
      ]
     },
     "execution_count": 300,
     "metadata": {},
     "output_type": "execute_result"
    }
   ],
   "source": [
    "gs_dtr.best_params_"
   ]
  },
  {
   "cell_type": "code",
   "execution_count": 303,
   "id": "914bff37",
   "metadata": {},
   "outputs": [
    {
     "data": {
      "text/html": [
       "<div>\n",
       "<style scoped>\n",
       "    .dataframe tbody tr th:only-of-type {\n",
       "        vertical-align: middle;\n",
       "    }\n",
       "\n",
       "    .dataframe tbody tr th {\n",
       "        vertical-align: top;\n",
       "    }\n",
       "\n",
       "    .dataframe thead th {\n",
       "        text-align: right;\n",
       "    }\n",
       "</style>\n",
       "<table border=\"1\" class=\"dataframe\">\n",
       "  <thead>\n",
       "    <tr style=\"text-align: right;\">\n",
       "      <th></th>\n",
       "      <th>mean_test_score</th>\n",
       "      <th>params</th>\n",
       "      <th>rank_test_score</th>\n",
       "    </tr>\n",
       "  </thead>\n",
       "  <tbody>\n",
       "    <tr>\n",
       "      <th>16</th>\n",
       "      <td>-0.038908</td>\n",
       "      <td>{'gradientboostingregressor__loss': 'quantile'...</td>\n",
       "      <td>1</td>\n",
       "    </tr>\n",
       "    <tr>\n",
       "      <th>19</th>\n",
       "      <td>-0.038925</td>\n",
       "      <td>{'gradientboostingregressor__loss': 'quantile'...</td>\n",
       "      <td>2</td>\n",
       "    </tr>\n",
       "    <tr>\n",
       "      <th>14</th>\n",
       "      <td>-0.038938</td>\n",
       "      <td>{'gradientboostingregressor__loss': 'quantile'...</td>\n",
       "      <td>3</td>\n",
       "    </tr>\n",
       "  </tbody>\n",
       "</table>\n",
       "</div>"
      ],
      "text/plain": [
       "    mean_test_score                                             params  \\\n",
       "16        -0.038908  {'gradientboostingregressor__loss': 'quantile'...   \n",
       "19        -0.038925  {'gradientboostingregressor__loss': 'quantile'...   \n",
       "14        -0.038938  {'gradientboostingregressor__loss': 'quantile'...   \n",
       "\n",
       "    rank_test_score  \n",
       "16                1  \n",
       "19                2  \n",
       "14                3  "
      ]
     },
     "execution_count": 303,
     "metadata": {},
     "output_type": "execute_result"
    }
   ],
   "source": [
    "#testing for n-estimators\n",
    "\n",
    "params_dt = {\n",
    "    'selectkbest__k':[47],\n",
    "    'gradientboostingregressor__loss':['quantile'],\n",
    "    'gradientboostingregressor__n_estimators':[1,5,6,7,8,9,10,11,12,13,14,15,16,17,18,19,20,21,22,23,24,25,30,40,45,50,55,60,65,70,80,90,100,200,270,280,290,295,296,297,298,299,300,350,400,500,600]\n",
    "}\n",
    "\n",
    "gs_dtr = GridSearchCV(pipe_ada_dt, params_dt, n_jobs=-1, cv=tscv, scoring=score_func, refit=True)\n",
    "\n",
    "gs_dtr.fit(X, Y)\n",
    "\n",
    "df_cv_scores = pd.DataFrame(gs_dtr.cv_results_).sort_values(by='rank_test_score').loc[:,['mean_test_score', 'params', 'rank_test_score']]\n",
    "df_cv_scores.head(3)"
   ]
  },
  {
   "cell_type": "code",
   "execution_count": 304,
   "id": "cac58b03",
   "metadata": {},
   "outputs": [
    {
     "data": {
      "text/plain": [
       "{'gradientboostingregressor__loss': 'quantile',\n",
       " 'gradientboostingregressor__n_estimators': 20,\n",
       " 'selectkbest__k': 47}"
      ]
     },
     "execution_count": 304,
     "metadata": {},
     "output_type": "execute_result"
    }
   ],
   "source": [
    "gs_dtr.best_params_"
   ]
  },
  {
   "cell_type": "code",
   "execution_count": 307,
   "id": "6a022805",
   "metadata": {},
   "outputs": [
    {
     "data": {
      "text/html": [
       "<div>\n",
       "<style scoped>\n",
       "    .dataframe tbody tr th:only-of-type {\n",
       "        vertical-align: middle;\n",
       "    }\n",
       "\n",
       "    .dataframe tbody tr th {\n",
       "        vertical-align: top;\n",
       "    }\n",
       "\n",
       "    .dataframe thead th {\n",
       "        text-align: right;\n",
       "    }\n",
       "</style>\n",
       "<table border=\"1\" class=\"dataframe\">\n",
       "  <thead>\n",
       "    <tr style=\"text-align: right;\">\n",
       "      <th></th>\n",
       "      <th>mean_test_score</th>\n",
       "      <th>params</th>\n",
       "      <th>rank_test_score</th>\n",
       "    </tr>\n",
       "  </thead>\n",
       "  <tbody>\n",
       "    <tr>\n",
       "      <th>19</th>\n",
       "      <td>-0.037581</td>\n",
       "      <td>{'gradientboostingregressor__learning_rate': 0...</td>\n",
       "      <td>1</td>\n",
       "    </tr>\n",
       "    <tr>\n",
       "      <th>18</th>\n",
       "      <td>-0.037586</td>\n",
       "      <td>{'gradientboostingregressor__learning_rate': 0...</td>\n",
       "      <td>2</td>\n",
       "    </tr>\n",
       "    <tr>\n",
       "      <th>17</th>\n",
       "      <td>-0.037625</td>\n",
       "      <td>{'gradientboostingregressor__learning_rate': 0...</td>\n",
       "      <td>3</td>\n",
       "    </tr>\n",
       "  </tbody>\n",
       "</table>\n",
       "</div>"
      ],
      "text/plain": [
       "    mean_test_score                                             params  \\\n",
       "19        -0.037581  {'gradientboostingregressor__learning_rate': 0...   \n",
       "18        -0.037586  {'gradientboostingregressor__learning_rate': 0...   \n",
       "17        -0.037625  {'gradientboostingregressor__learning_rate': 0...   \n",
       "\n",
       "    rank_test_score  \n",
       "19                1  \n",
       "18                2  \n",
       "17                3  "
      ]
     },
     "execution_count": 307,
     "metadata": {},
     "output_type": "execute_result"
    }
   ],
   "source": [
    "#testing for learning rate\n",
    "\n",
    "params_dt = {\n",
    "    'selectkbest__k':[47],\n",
    "    'gradientboostingregressor__loss':['quantile'],\n",
    "    'gradientboostingregressor__n_estimators':[20],\n",
    "    'gradientboostingregressor__learning_rate':[0.09,0.095,0.08,0.1,0.11,0.12,0.13,0.14,0.15,0.16,0.17,0.2,0.23,0.25,0.3,0.4,0.45,0.5,0.55,0.6,0.7,0.8,0.9,0.01,0.001,0.0001,0.00001,0.9,0.95,0.96,0.97,0.98,0.99,1,1.01,1.02,1.03,1.04,1.05,1.1,1.2,1.3,1.4,1.5]\n",
    "}\n",
    "\n",
    "gs_dtr = GridSearchCV(pipe_ada_dt, params_dt, n_jobs=-1, cv=tscv, scoring=score_func, refit=True)\n",
    "\n",
    "gs_dtr.fit(X, Y)\n",
    "\n",
    "df_cv_scores = pd.DataFrame(gs_dtr.cv_results_).sort_values(by='rank_test_score').loc[:,['mean_test_score', 'params', 'rank_test_score']]\n",
    "df_cv_scores.head(3)"
   ]
  },
  {
   "cell_type": "code",
   "execution_count": 308,
   "id": "70563e2f",
   "metadata": {},
   "outputs": [
    {
     "data": {
      "text/plain": [
       "{'gradientboostingregressor__learning_rate': 0.6,\n",
       " 'gradientboostingregressor__loss': 'quantile',\n",
       " 'gradientboostingregressor__n_estimators': 20,\n",
       " 'selectkbest__k': 47}"
      ]
     },
     "execution_count": 308,
     "metadata": {},
     "output_type": "execute_result"
    }
   ],
   "source": [
    "gs_dtr.best_params_"
   ]
  },
  {
   "cell_type": "code",
   "execution_count": 311,
   "id": "797ca95c",
   "metadata": {},
   "outputs": [
    {
     "data": {
      "text/html": [
       "<div>\n",
       "<style scoped>\n",
       "    .dataframe tbody tr th:only-of-type {\n",
       "        vertical-align: middle;\n",
       "    }\n",
       "\n",
       "    .dataframe tbody tr th {\n",
       "        vertical-align: top;\n",
       "    }\n",
       "\n",
       "    .dataframe thead th {\n",
       "        text-align: right;\n",
       "    }\n",
       "</style>\n",
       "<table border=\"1\" class=\"dataframe\">\n",
       "  <thead>\n",
       "    <tr style=\"text-align: right;\">\n",
       "      <th></th>\n",
       "      <th>mean_test_score</th>\n",
       "      <th>params</th>\n",
       "      <th>rank_test_score</th>\n",
       "    </tr>\n",
       "  </thead>\n",
       "  <tbody>\n",
       "    <tr>\n",
       "      <th>21</th>\n",
       "      <td>-0.037581</td>\n",
       "      <td>{'gradientboostingregressor__learning_rate': 0...</td>\n",
       "      <td>1</td>\n",
       "    </tr>\n",
       "    <tr>\n",
       "      <th>23</th>\n",
       "      <td>-0.037581</td>\n",
       "      <td>{'gradientboostingregressor__learning_rate': 0...</td>\n",
       "      <td>1</td>\n",
       "    </tr>\n",
       "    <tr>\n",
       "      <th>24</th>\n",
       "      <td>-0.037581</td>\n",
       "      <td>{'gradientboostingregressor__learning_rate': 0...</td>\n",
       "      <td>1</td>\n",
       "    </tr>\n",
       "  </tbody>\n",
       "</table>\n",
       "</div>"
      ],
      "text/plain": [
       "    mean_test_score                                             params  \\\n",
       "21        -0.037581  {'gradientboostingregressor__learning_rate': 0...   \n",
       "23        -0.037581  {'gradientboostingregressor__learning_rate': 0...   \n",
       "24        -0.037581  {'gradientboostingregressor__learning_rate': 0...   \n",
       "\n",
       "    rank_test_score  \n",
       "21                1  \n",
       "23                1  \n",
       "24                1  "
      ]
     },
     "execution_count": 311,
     "metadata": {},
     "output_type": "execute_result"
    }
   ],
   "source": [
    "#testing for max depth\n",
    "\n",
    "params_dt = {\n",
    "    'selectkbest__k':[47],\n",
    "    'gradientboostingregressor__loss':['quantile'],\n",
    "    'gradientboostingregressor__n_estimators':[20],\n",
    "    'gradientboostingregressor__learning_rate':[0.6],\n",
    "    'gradientboostingregressor__max_depth':[0.1,0.2,0.3,0.4,0.5,0.6,0.7,0.8,0.9,0.95,1,1.1,1.2,1.3,1.4,1.5,1.6,1.7,1.8,1.9,1.95,1.96,1.97,1.98,1.99,2,2.1,2.2,2.3,2.4,2.5,2.6,2.7,2.8,2.9,3,3.1,3.2,3.3,3.4,3.5,4,5]\n",
    "}\n",
    "\n",
    "gs_dtr = GridSearchCV(pipe_ada_dt, params_dt, n_jobs=-1, cv=tscv, scoring=score_func, refit=True)\n",
    "\n",
    "gs_dtr.fit(X, Y)\n",
    "\n",
    "df_cv_scores = pd.DataFrame(gs_dtr.cv_results_).sort_values(by='rank_test_score').loc[:,['mean_test_score', 'params', 'rank_test_score']]\n",
    "df_cv_scores.head(3)"
   ]
  },
  {
   "cell_type": "code",
   "execution_count": 312,
   "id": "2a8a868f",
   "metadata": {},
   "outputs": [
    {
     "data": {
      "text/plain": [
       "{'gradientboostingregressor__learning_rate': 0.6,\n",
       " 'gradientboostingregressor__loss': 'quantile',\n",
       " 'gradientboostingregressor__max_depth': 1,\n",
       " 'gradientboostingregressor__n_estimators': 20,\n",
       " 'selectkbest__k': 47}"
      ]
     },
     "execution_count": 312,
     "metadata": {},
     "output_type": "execute_result"
    }
   ],
   "source": [
    "gs_dtr.best_params_"
   ]
  },
  {
   "cell_type": "code",
   "execution_count": 313,
   "id": "9fa9d6d3",
   "metadata": {},
   "outputs": [
    {
     "data": {
      "text/html": [
       "<div>\n",
       "<style scoped>\n",
       "    .dataframe tbody tr th:only-of-type {\n",
       "        vertical-align: middle;\n",
       "    }\n",
       "\n",
       "    .dataframe tbody tr th {\n",
       "        vertical-align: top;\n",
       "    }\n",
       "\n",
       "    .dataframe thead th {\n",
       "        text-align: right;\n",
       "    }\n",
       "</style>\n",
       "<table border=\"1\" class=\"dataframe\">\n",
       "  <thead>\n",
       "    <tr style=\"text-align: right;\">\n",
       "      <th></th>\n",
       "      <th>mean_test_score</th>\n",
       "      <th>params</th>\n",
       "      <th>rank_test_score</th>\n",
       "    </tr>\n",
       "  </thead>\n",
       "  <tbody>\n",
       "    <tr>\n",
       "      <th>0</th>\n",
       "      <td>-0.037581</td>\n",
       "      <td>{'gradientboostingregressor__learning_rate': 0...</td>\n",
       "      <td>1</td>\n",
       "    </tr>\n",
       "    <tr>\n",
       "      <th>3</th>\n",
       "      <td>-0.037581</td>\n",
       "      <td>{'gradientboostingregressor__learning_rate': 0...</td>\n",
       "      <td>1</td>\n",
       "    </tr>\n",
       "    <tr>\n",
       "      <th>2</th>\n",
       "      <td>-0.038882</td>\n",
       "      <td>{'gradientboostingregressor__learning_rate': 0...</td>\n",
       "      <td>3</td>\n",
       "    </tr>\n",
       "  </tbody>\n",
       "</table>\n",
       "</div>"
      ],
      "text/plain": [
       "   mean_test_score                                             params  \\\n",
       "0        -0.037581  {'gradientboostingregressor__learning_rate': 0...   \n",
       "3        -0.037581  {'gradientboostingregressor__learning_rate': 0...   \n",
       "2        -0.038882  {'gradientboostingregressor__learning_rate': 0...   \n",
       "\n",
       "   rank_test_score  \n",
       "0                1  \n",
       "3                1  \n",
       "2                3  "
      ]
     },
     "execution_count": 313,
     "metadata": {},
     "output_type": "execute_result"
    }
   ],
   "source": [
    "#testing for max features\n",
    "\n",
    "params_dt = {\n",
    "    'selectkbest__k':[47],\n",
    "    'gradientboostingregressor__loss':['quantile'],\n",
    "    'gradientboostingregressor__n_estimators':[20],\n",
    "    'gradientboostingregressor__learning_rate':[0.6],\n",
    "    'gradientboostingregressor__max_depth':[1],\n",
    "    'gradientboostingregressor__max_features':['auto', 'sqrt', 'log2',None]\n",
    "}\n",
    "\n",
    "gs_dtr = GridSearchCV(pipe_ada_dt, params_dt, n_jobs=-1, cv=tscv, scoring=score_func, refit=True)\n",
    "\n",
    "gs_dtr.fit(X, Y)\n",
    "\n",
    "df_cv_scores = pd.DataFrame(gs_dtr.cv_results_).sort_values(by='rank_test_score').loc[:,['mean_test_score', 'params', 'rank_test_score']]\n",
    "df_cv_scores.head(3)"
   ]
  },
  {
   "cell_type": "code",
   "execution_count": 314,
   "id": "d7cdaeda",
   "metadata": {},
   "outputs": [
    {
     "data": {
      "text/plain": [
       "{'gradientboostingregressor__learning_rate': 0.6,\n",
       " 'gradientboostingregressor__loss': 'quantile',\n",
       " 'gradientboostingregressor__max_depth': 1,\n",
       " 'gradientboostingregressor__max_features': 'auto',\n",
       " 'gradientboostingregressor__n_estimators': 20,\n",
       " 'selectkbest__k': 47}"
      ]
     },
     "execution_count": 314,
     "metadata": {},
     "output_type": "execute_result"
    }
   ],
   "source": [
    "gs_dtr.best_params_"
   ]
  },
  {
   "cell_type": "markdown",
   "id": "9f1fc13c",
   "metadata": {},
   "source": [
    "## SOL-USD: Solana final prediction"
   ]
  },
  {
   "cell_type": "code",
   "execution_count": 315,
   "id": "d5736a11",
   "metadata": {},
   "outputs": [
    {
     "data": {
      "text/plain": [
       "Pipeline(steps=[('standardscaler', StandardScaler()),\n",
       "                ('selectkbest',\n",
       "                 SelectKBest(k=47,\n",
       "                             score_func=<function f_regression at 0x00000148A650DCA0>)),\n",
       "                ('gradientboostingregressor',\n",
       "                 GradientBoostingRegressor(learning_rate=0.6, loss='quantile',\n",
       "                                           max_depth=1, max_features='auto',\n",
       "                                           n_estimators=20, random_state=9))])"
      ]
     },
     "execution_count": 315,
     "metadata": {},
     "output_type": "execute_result"
    }
   ],
   "source": [
    "best_estimator = gs_dtr.best_estimator_\n",
    "best_estimator.fit(df_forprediction[x_cols][:-1], df_forprediction['Y'][:-1])"
   ]
  },
  {
   "cell_type": "code",
   "execution_count": 316,
   "id": "bdfe3577",
   "metadata": {},
   "outputs": [
    {
     "data": {
      "text/plain": [
       "array([108.58193781])"
      ]
     },
     "execution_count": 316,
     "metadata": {},
     "output_type": "execute_result"
    }
   ],
   "source": [
    "## Make prediction for last\n",
    "best_estimator.predict(df_forprediction[x_cols][-1:])"
   ]
  },
  {
   "cell_type": "code",
   "execution_count": 317,
   "id": "5f50068c",
   "metadata": {},
   "outputs": [
    {
     "data": {
      "text/plain": [
       "0.13365982261432446"
      ]
     },
     "execution_count": 317,
     "metadata": {},
     "output_type": "execute_result"
    }
   ],
   "source": [
    "april_26_truth= 95.78\n",
    "april_26_pred=108.58193781\n",
    "\n",
    "mean_absolute_percentage_error([april_26_truth],[april_26_pred])"
   ]
  },
  {
   "cell_type": "markdown",
   "id": "7847f808",
   "metadata": {},
   "source": [
    "# CONCLUSIONS GRADIENT BOOST"
   ]
  },
  {
   "cell_type": "code",
   "execution_count": null,
   "id": "b65d5a6b",
   "metadata": {},
   "outputs": [],
   "source": [
    "#BTC-USD: Bitcoin\n",
    "\n",
    "GradientBoostingRegressor(learning_rate=0.13, loss='quantile',\n",
    "                                           max_depth=1, max_features='auto',\n",
    "                                           n_estimators=296, random_state=9)\n",
    "SelectKBest(k=17) \n",
    "\n",
    "\n",
    "\n",
    "#ADA-USD: Cardano\n",
    "\n",
    "GradientBoostingRegressor(learning_rate=1.53, loss='quantile',\n",
    "                                           max_depth=1, max_features='auto',\n",
    "                                           n_estimators=303, random_state=9)\n",
    "SelectKBest(k=10) \n",
    "\n",
    "\n",
    "#ATOM-USD: Cosmos\n",
    "\n",
    " GradientBoostingRegressor(learning_rate=0.23,\n",
    "                                         loss='quantile', max_depth=2,\n",
    "                                           max_features='sqrt', n_estimators=29,\n",
    "                                           random_state=9)\n",
    "SelectKBest(k=10) \n",
    "\n",
    "#AVAX-USD: Avalanche\n",
    "\n",
    "GradientBoostingRegressor(learning_rate=0.26, loss='quantile',\n",
    "                                           max_depth=1, max_features='auto',\n",
    "                                           n_estimators=293, random_state=9)\n",
    "\n",
    "SelectKBest(k=13) \n",
    "\n",
    "#AXS-USD: Axie Infinity\n",
    "\n",
    " GradientBoostingRegressor(learning_rate=0.45,\n",
    "                                           max_features='auto',\n",
    "                                           n_estimators=196, random_state=9)\n",
    "SelectKBest(k=22) \n",
    "\n",
    "#ETH-USD: Ethereum\n",
    "\n",
    "GradientBoostingRegressor(learning_rate=1, loss='quantile',\n",
    "                                           max_depth=1, max_features='auto',\n",
    "                                           n_estimators=296, random_state=9)\n",
    "SelectKBest(k=26) \n",
    "\n",
    "#LINK-USD: Chainlink\n",
    "\n",
    "GradientBoostingRegressor(learning_rate=0.2, loss='quantile',\n",
    "                                           max_depth=1, max_features='auto',\n",
    "                                           n_estimators=13, random_state=9)\n",
    "SelectKBest(k=21)\n",
    "\n",
    "#LUNA1-USD: Terra\n",
    "GradientBoostingRegressor(learning_rate=0.23, loss='quantile',\n",
    "                                           max_depth=1, max_features='auto',\n",
    "                                           n_estimators=13, random_state=9)\n",
    "\n",
    "SelectKBest(k=26)\n",
    "\n",
    "#MATIC-USD: Polygon\n",
    "\n",
    "GradientBoostingRegressor(learning_rate=0.23, loss='quantile',\n",
    "                                           max_depth=1, max_features='log2',\n",
    "                                           n_estimators=13, random_state=9)\n",
    "SelectKBest(k=26)\n",
    "\n",
    "#SOL-USD: Solana\n",
    "GradientBoostingRegressor(learning_rate=0.6, loss='quantile',\n",
    "                                           max_depth=1, max_features='auto',\n",
    "                                           n_estimators=20, random_state=9)\n",
    "\n",
    "SelectKBest(k=47)"
   ]
  },
  {
   "cell_type": "code",
   "execution_count": 335,
   "id": "8bc305bc",
   "metadata": {},
   "outputs": [
    {
     "name": "stdout",
     "output_type": "stream",
     "text": [
      "Bitcoin mape 0.08881202355403534\n",
      "Cardano mape 0.20785973170731717\n",
      "Cosmos mape 0.20911690810810804\n",
      "Avalanche mape 0.1681707186544342\n",
      "Infinity mape 0.15328055363142942\n",
      "Ethereum mape 0.14370506831891167\n",
      "Chainlink mape 0.27692307692307694\n",
      "Terra mape 0.1497074651609261\n",
      "Polygon mape 0.16300271161892507\n",
      "Solana mape 0.13365982261432446\n"
     ]
    }
   ],
   "source": [
    "#MAPE\n",
    "april_26_truth1= 38117.46\n",
    "april_26_pred1=41502.74875534\n",
    "april_26_truth2= 0.82\n",
    "april_26_pred2=0.99044498\n",
    "april_26_truth3= 20.35\n",
    "april_26_pred3=24.60552908\n",
    "april_26_truth4= 68.67\n",
    "april_26_pred4=80.21828325\n",
    "april_26_truth5= 38.69\n",
    "april_26_pred5=44.62042462\n",
    "april_26_truth6= 2808.30\n",
    "april_26_pred6=3211.86694336\n",
    "april_26_truth7= 12.35\n",
    "april_26_pred7=15.77\n",
    "april_26_truth8= 88.55\n",
    "april_26_pred8=101.80659604\n",
    "april_26_truth9= 1.2428\n",
    "april_26_pred9=1.44537977\n",
    "april_26_truth10= 95.78\n",
    "april_26_pred10=108.58193781\n",
    "\n",
    "print('Bitcoin mape',mean_absolute_percentage_error([april_26_truth1],[april_26_pred1]))\n",
    "print('Cardano mape',mean_absolute_percentage_error([april_26_truth2],[april_26_pred2]))\n",
    "print('Cosmos mape',mean_absolute_percentage_error([april_26_truth3],[april_26_pred3]))\n",
    "print('Avalanche mape',mean_absolute_percentage_error([april_26_truth4],[april_26_pred4]))\n",
    "print('Infinity mape',mean_absolute_percentage_error([april_26_truth5],[april_26_pred5]))\n",
    "print('Ethereum mape',mean_absolute_percentage_error([april_26_truth6],[april_26_pred6]))\n",
    "print('Chainlink mape',mean_absolute_percentage_error([april_26_truth7],[april_26_pred7]))\n",
    "print('Terra mape',mean_absolute_percentage_error([april_26_truth8],[april_26_pred8]))\n",
    "print('Polygon mape',mean_absolute_percentage_error([april_26_truth9],[april_26_pred9]))\n",
    "print('Solana mape',mean_absolute_percentage_error([april_26_truth10],[april_26_pred10]))"
   ]
  },
  {
   "cell_type": "code",
   "execution_count": null,
   "id": "bbc7b299",
   "metadata": {},
   "outputs": [],
   "source": []
  },
  {
   "cell_type": "code",
   "execution_count": null,
   "id": "92475637",
   "metadata": {},
   "outputs": [],
   "source": []
  },
  {
   "cell_type": "code",
   "execution_count": null,
   "id": "a2a453a8",
   "metadata": {},
   "outputs": [],
   "source": []
  }
 ],
 "metadata": {
  "kernelspec": {
   "display_name": "Python 3 (ipykernel)",
   "language": "python",
   "name": "python3"
  },
  "language_info": {
   "codemirror_mode": {
    "name": "ipython",
    "version": 3
   },
   "file_extension": ".py",
   "mimetype": "text/x-python",
   "name": "python",
   "nbconvert_exporter": "python",
   "pygments_lexer": "ipython3",
   "version": "3.9.7"
  }
 },
 "nbformat": 4,
 "nbformat_minor": 5
}
