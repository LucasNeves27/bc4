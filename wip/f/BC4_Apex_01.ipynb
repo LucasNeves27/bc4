{
 "cells": [
  {
   "cell_type": "markdown",
   "id": "fdaa72cb-691e-4518-853f-8d9614021ed3",
   "metadata": {},
   "source": [
    "# BC4 \n",
    "\n",
    "Apex Pattern Deployers\n",
    "\n",
    "- Marjorie Kinney *m20210647*\n",
    "- Bruno Mendes *m20210627*\n",
    "- Lucas Neves *m20211020*\n",
    "- Farina Pontejos *m20210649*\n",
    "\n",
    "Business Cases for Data Science\n",
    "\n",
    "NOVA Information Management School\n",
    "\n",
    "May 2022\n",
    "\n",
    "https://github.com/fpontejos/bc3\n"
   ]
  },
  {
   "cell_type": "markdown",
   "id": "3efd2674-fdf5-4f21-90cf-69bb3ad64005",
   "metadata": {},
   "source": [
    "## Initial Setup"
   ]
  },
  {
   "cell_type": "markdown",
   "id": "8dea1474-9e1c-444c-8861-1e8f643d8c27",
   "metadata": {},
   "source": [
    "### Imports"
   ]
  },
  {
   "cell_type": "code",
   "execution_count": 1,
   "id": "2935f619-9507-41bc-94b3-0a8eda6f8c95",
   "metadata": {},
   "outputs": [],
   "source": [
    "import pandas as pd\n",
    "import numpy as np\n",
    "import scipy as sp\n",
    "import seaborn as sns\n",
    "import matplotlib.pyplot as plt\n",
    "import scipy.stats as stats\n",
    "from math import ceil\n",
    "from datetime import timedelta, datetime\n",
    "import os\n",
    "import re\n",
    "import warnings\n",
    "import itertools\n",
    "import collections\n",
    "\n",
    "warnings.filterwarnings('ignore')\n",
    "\n"
   ]
  },
  {
   "cell_type": "code",
   "execution_count": 2,
   "id": "4f1b876f-3d63-4ec0-a339-710a820a6ea0",
   "metadata": {},
   "outputs": [],
   "source": [
    "from matplotlib.colors import LinearSegmentedColormap\n"
   ]
  },
  {
   "cell_type": "code",
   "execution_count": 3,
   "id": "d6656393-9cb7-4e02-a739-51fd4bfc7746",
   "metadata": {},
   "outputs": [],
   "source": [
    "from functools import reduce"
   ]
  },
  {
   "cell_type": "markdown",
   "id": "a5321103-199d-4add-b5a4-d938d0fddfaa",
   "metadata": {},
   "source": [
    "### Variables"
   ]
  },
  {
   "cell_type": "code",
   "execution_count": 10,
   "id": "4f865a37-380b-4ba5-8bfd-a22ab865dcee",
   "metadata": {},
   "outputs": [],
   "source": [
    "COLORS = ['#2ec4b6', '#1e9fb4', '#0f7ab2', '#285892', '#49306b', '#7a3161', '#a13258', '#c63351', '#ea3449']\n",
    "\n",
    "CAT_COLORS = ['#2EC4B6', '#0E79B2', '#49306B', '#9A325A', '#EA3449']\n",
    "CONTRAST_COLORS = [COLORS[i] for i in range(len(COLORS)) if (i%2) == 0]\n",
    "\n",
    "DIV_COLORS = ['#0e79b2', '#4b9ac3', '#84b8d4', '#bcd6e4', '#f4f4f4', '#c6c0d0', '#9b8eac', '#715e8b', '#49306b']\n",
    "\n",
    "DIV_COL_HALF = ['#f4f4f4', '#bed3da', '#8ab2bf', '#5592a5', '#20718b']\n",
    "\n",
    "UMP_COLORS = ['#22446D', '#FC9E4F', '#AB2346' ,'#6ABB5D']\n",
    "\n",
    "DEFAULT_PALETTE = sns.color_palette(COLORS)\n",
    "CONTRAST_PALETTE = sns.color_palette(CONTRAST_COLORS)\n",
    "DIVERGENT_PALETTE = sns.color_palette(DIV_COLORS)\n",
    "DIVHALF_PALETTE = sns.color_palette(DIV_COL_HALF)\n",
    "CAT_PALETTE = sns.color_palette(CAT_COLORS)\n",
    "UMP_PALETTE = sns.color_palette(UMP_COLORS)\n",
    "\n",
    "\n",
    "DIV_CMAP = LinearSegmentedColormap.from_list(\"div_colors\", DIV_COLORS)\n",
    "DIV_H_CMAP = LinearSegmentedColormap.from_list(\"div_colors\", DIV_COL_HALF)\n",
    "CAT_CMAP = LinearSegmentedColormap.from_list(\"cat_colors\", CAT_COLORS)\n",
    "UMP_CMAP = LinearSegmentedColormap.from_list(\"ump_colors\", UMP_COLORS)\n",
    "\n",
    "\n",
    "SHOW_PLOTS = True\n",
    "SAVE_PLOTS = True\n",
    "RANDOM_STATE = 9\n",
    "\n",
    "IMG_PATH = 'imgs/'\n",
    "DATA_IN_PATH = '../../source/data/'\n",
    "DATA_OUT_PATH = '../data_out/'\n"
   ]
  },
  {
   "cell_type": "code",
   "execution_count": 5,
   "id": "300ecdd9-7b73-45da-aeaa-dd82d4b57835",
   "metadata": {},
   "outputs": [],
   "source": [
    "def save_fig(title, fig):\n",
    "    if SAVE_PLOTS == True:\n",
    "        fn = IMG_PATH + title.replace(' ','-') + '.png'\n",
    "        fig.savefig(fn, bbox_inches='tight', transparent=True)\n",
    "        \n"
   ]
  },
  {
   "cell_type": "code",
   "execution_count": null,
   "id": "21365354-93e7-4d1e-bb5f-0e210c093d8f",
   "metadata": {},
   "outputs": [],
   "source": []
  },
  {
   "cell_type": "markdown",
   "id": "81179616-bb3b-49fa-b0be-b69432fd27e6",
   "metadata": {},
   "source": [
    "### Styles"
   ]
  },
  {
   "cell_type": "code",
   "execution_count": 6,
   "id": "e291e0bd-163a-45e0-8757-7f8ac61be9e0",
   "metadata": {},
   "outputs": [],
   "source": [
    "sns.set(style=\"white\")\n",
    "\n",
    "sns.set_context(\"paper\")\n",
    "sns.set_palette(DEFAULT_PALETTE)\n",
    "\n",
    "\n",
    "plt.rcParams['figure.dpi'] = 128"
   ]
  },
  {
   "cell_type": "code",
   "execution_count": 7,
   "id": "c000dc56-1c36-4092-a003-8eec15fd6941",
   "metadata": {},
   "outputs": [
    {
     "data": {
      "image/png": "[encoded data removed]",
      "text/plain": [
       "<Figure size 1152x128 with 1 Axes>"
      ]
     },
     "metadata": {},
     "output_type": "display_data"
    },
    {
     "data": {
      "image/png": "[encoded data removed]",
      "text/plain": [
       "<Figure size 640x128 with 1 Axes>"
      ]
     },
     "metadata": {},
     "output_type": "display_data"
    },
    {
     "data": {
      "image/png": "[encoded data removed]",
      "text/plain": [
       "<Figure size 1152x128 with 1 Axes>"
      ]
     },
     "metadata": {},
     "output_type": "display_data"
    },
    {
     "data": {
      "image/png": "[encoded data removed]",
      "text/plain": [
       "<Figure size 640x128 with 1 Axes>"
      ]
     },
     "metadata": {},
     "output_type": "display_data"
    }
   ],
   "source": [
    "sns.palplot(DEFAULT_PALETTE)\n",
    "sns.palplot(CONTRAST_PALETTE)\n",
    "sns.palplot(DIVERGENT_PALETTE)\n",
    "sns.palplot(CAT_PALETTE)\n",
    "plt.show()"
   ]
  },
  {
   "cell_type": "markdown",
   "id": "166ae3aa-d2f0-4f19-9158-74fc46722aa9",
   "metadata": {},
   "source": [
    "## Load Data"
   ]
  },
  {
   "cell_type": "code",
   "execution_count": 11,
   "id": "a5e00343-4c88-4e80-9335-a871ae4a4be3",
   "metadata": {},
   "outputs": [
    {
     "data": {
      "text/html": [
       "<div>\n",
       "<style scoped>\n",
       "    .dataframe tbody tr th:only-of-type {\n",
       "        vertical-align: middle;\n",
       "    }\n",
       "\n",
       "    .dataframe tbody tr th {\n",
       "        vertical-align: top;\n",
       "    }\n",
       "\n",
       "    .dataframe thead th {\n",
       "        text-align: right;\n",
       "    }\n",
       "</style>\n",
       "<table border=\"1\" class=\"dataframe\">\n",
       "  <thead>\n",
       "    <tr style=\"text-align: right;\">\n",
       "      <th></th>\n",
       "      <th>Date</th>\n",
       "      <th>ADA-USD</th>\n",
       "      <th>ATOM-USD</th>\n",
       "      <th>AVAX-USD</th>\n",
       "      <th>AXS-USD</th>\n",
       "      <th>BTC-USD</th>\n",
       "      <th>ETH-USD</th>\n",
       "      <th>LINK-USD</th>\n",
       "      <th>LUNA1-USD</th>\n",
       "      <th>MATIC-USD</th>\n",
       "      <th>SOL-USD</th>\n",
       "    </tr>\n",
       "  </thead>\n",
       "  <tbody>\n",
       "    <tr>\n",
       "      <th>0</th>\n",
       "      <td>2017-04-26</td>\n",
       "      <td>NaN</td>\n",
       "      <td>NaN</td>\n",
       "      <td>NaN</td>\n",
       "      <td>NaN</td>\n",
       "      <td>1281.079956</td>\n",
       "      <td>NaN</td>\n",
       "      <td>NaN</td>\n",
       "      <td>NaN</td>\n",
       "      <td>NaN</td>\n",
       "      <td>NaN</td>\n",
       "    </tr>\n",
       "    <tr>\n",
       "      <th>1</th>\n",
       "      <td>2017-04-27</td>\n",
       "      <td>NaN</td>\n",
       "      <td>NaN</td>\n",
       "      <td>NaN</td>\n",
       "      <td>NaN</td>\n",
       "      <td>1317.729980</td>\n",
       "      <td>NaN</td>\n",
       "      <td>NaN</td>\n",
       "      <td>NaN</td>\n",
       "      <td>NaN</td>\n",
       "      <td>NaN</td>\n",
       "    </tr>\n",
       "    <tr>\n",
       "      <th>2</th>\n",
       "      <td>2017-04-28</td>\n",
       "      <td>NaN</td>\n",
       "      <td>NaN</td>\n",
       "      <td>NaN</td>\n",
       "      <td>NaN</td>\n",
       "      <td>1316.479980</td>\n",
       "      <td>NaN</td>\n",
       "      <td>NaN</td>\n",
       "      <td>NaN</td>\n",
       "      <td>NaN</td>\n",
       "      <td>NaN</td>\n",
       "    </tr>\n",
       "  </tbody>\n",
       "</table>\n",
       "</div>"
      ],
      "text/plain": [
       "         Date  ADA-USD  ATOM-USD  AVAX-USD  AXS-USD      BTC-USD  ETH-USD  \\\n",
       "0  2017-04-26      NaN       NaN       NaN      NaN  1281.079956      NaN   \n",
       "1  2017-04-27      NaN       NaN       NaN      NaN  1317.729980      NaN   \n",
       "2  2017-04-28      NaN       NaN       NaN      NaN  1316.479980      NaN   \n",
       "\n",
       "   LINK-USD  LUNA1-USD  MATIC-USD  SOL-USD  \n",
       "0       NaN        NaN        NaN      NaN  \n",
       "1       NaN        NaN        NaN      NaN  \n",
       "2       NaN        NaN        NaN      NaN  "
      ]
     },
     "execution_count": 11,
     "metadata": {},
     "output_type": "execute_result"
    }
   ],
   "source": [
    "df_adjclose = pd.read_csv(DATA_IN_PATH + \"adj_close.csv\")\n",
    "df_adjclose.head(3)"
   ]
  },
  {
   "cell_type": "code",
   "execution_count": 12,
   "id": "6059857b-542a-4961-b9c4-76ff4151be75",
   "metadata": {},
   "outputs": [
    {
     "data": {
      "text/html": [
       "<div>\n",
       "<style scoped>\n",
       "    .dataframe tbody tr th:only-of-type {\n",
       "        vertical-align: middle;\n",
       "    }\n",
       "\n",
       "    .dataframe tbody tr th {\n",
       "        vertical-align: top;\n",
       "    }\n",
       "\n",
       "    .dataframe thead th {\n",
       "        text-align: right;\n",
       "    }\n",
       "</style>\n",
       "<table border=\"1\" class=\"dataframe\">\n",
       "  <thead>\n",
       "    <tr style=\"text-align: right;\">\n",
       "      <th></th>\n",
       "      <th>Date</th>\n",
       "      <th>ADA-USD</th>\n",
       "      <th>ATOM-USD</th>\n",
       "      <th>AVAX-USD</th>\n",
       "      <th>AXS-USD</th>\n",
       "      <th>BTC-USD</th>\n",
       "      <th>ETH-USD</th>\n",
       "      <th>LINK-USD</th>\n",
       "      <th>LUNA1-USD</th>\n",
       "      <th>MATIC-USD</th>\n",
       "      <th>SOL-USD</th>\n",
       "    </tr>\n",
       "  </thead>\n",
       "  <tbody>\n",
       "    <tr>\n",
       "      <th>0</th>\n",
       "      <td>2017-04-26</td>\n",
       "      <td>NaN</td>\n",
       "      <td>NaN</td>\n",
       "      <td>NaN</td>\n",
       "      <td>NaN</td>\n",
       "      <td>1281.079956</td>\n",
       "      <td>NaN</td>\n",
       "      <td>NaN</td>\n",
       "      <td>NaN</td>\n",
       "      <td>NaN</td>\n",
       "      <td>NaN</td>\n",
       "    </tr>\n",
       "    <tr>\n",
       "      <th>1</th>\n",
       "      <td>2017-04-27</td>\n",
       "      <td>NaN</td>\n",
       "      <td>NaN</td>\n",
       "      <td>NaN</td>\n",
       "      <td>NaN</td>\n",
       "      <td>1317.729980</td>\n",
       "      <td>NaN</td>\n",
       "      <td>NaN</td>\n",
       "      <td>NaN</td>\n",
       "      <td>NaN</td>\n",
       "      <td>NaN</td>\n",
       "    </tr>\n",
       "    <tr>\n",
       "      <th>2</th>\n",
       "      <td>2017-04-28</td>\n",
       "      <td>NaN</td>\n",
       "      <td>NaN</td>\n",
       "      <td>NaN</td>\n",
       "      <td>NaN</td>\n",
       "      <td>1316.479980</td>\n",
       "      <td>NaN</td>\n",
       "      <td>NaN</td>\n",
       "      <td>NaN</td>\n",
       "      <td>NaN</td>\n",
       "      <td>NaN</td>\n",
       "    </tr>\n",
       "  </tbody>\n",
       "</table>\n",
       "</div>"
      ],
      "text/plain": [
       "         Date  ADA-USD  ATOM-USD  AVAX-USD  AXS-USD      BTC-USD  ETH-USD  \\\n",
       "0  2017-04-26      NaN       NaN       NaN      NaN  1281.079956      NaN   \n",
       "1  2017-04-27      NaN       NaN       NaN      NaN  1317.729980      NaN   \n",
       "2  2017-04-28      NaN       NaN       NaN      NaN  1316.479980      NaN   \n",
       "\n",
       "   LINK-USD  LUNA1-USD  MATIC-USD  SOL-USD  \n",
       "0       NaN        NaN        NaN      NaN  \n",
       "1       NaN        NaN        NaN      NaN  \n",
       "2       NaN        NaN        NaN      NaN  "
      ]
     },
     "execution_count": 12,
     "metadata": {},
     "output_type": "execute_result"
    }
   ],
   "source": [
    "df_close = pd.read_csv(DATA_IN_PATH + \"close.csv\")\n",
    "df_close.head(3)"
   ]
  },
  {
   "cell_type": "code",
   "execution_count": 13,
   "id": "4e13b68e-51be-459a-b9fb-61f755ca74ed",
   "metadata": {},
   "outputs": [
    {
     "data": {
      "text/html": [
       "<div>\n",
       "<style scoped>\n",
       "    .dataframe tbody tr th:only-of-type {\n",
       "        vertical-align: middle;\n",
       "    }\n",
       "\n",
       "    .dataframe tbody tr th {\n",
       "        vertical-align: top;\n",
       "    }\n",
       "\n",
       "    .dataframe thead th {\n",
       "        text-align: right;\n",
       "    }\n",
       "</style>\n",
       "<table border=\"1\" class=\"dataframe\">\n",
       "  <thead>\n",
       "    <tr style=\"text-align: right;\">\n",
       "      <th></th>\n",
       "      <th>Date</th>\n",
       "      <th>ADA-USD</th>\n",
       "      <th>ATOM-USD</th>\n",
       "      <th>AVAX-USD</th>\n",
       "      <th>AXS-USD</th>\n",
       "      <th>BTC-USD</th>\n",
       "      <th>ETH-USD</th>\n",
       "      <th>LINK-USD</th>\n",
       "      <th>LUNA1-USD</th>\n",
       "      <th>MATIC-USD</th>\n",
       "      <th>SOL-USD</th>\n",
       "    </tr>\n",
       "  </thead>\n",
       "  <tbody>\n",
       "    <tr>\n",
       "      <th>0</th>\n",
       "      <td>2017-04-26</td>\n",
       "      <td>NaN</td>\n",
       "      <td>NaN</td>\n",
       "      <td>NaN</td>\n",
       "      <td>NaN</td>\n",
       "      <td>1294.829956</td>\n",
       "      <td>NaN</td>\n",
       "      <td>NaN</td>\n",
       "      <td>NaN</td>\n",
       "      <td>NaN</td>\n",
       "      <td>NaN</td>\n",
       "    </tr>\n",
       "    <tr>\n",
       "      <th>1</th>\n",
       "      <td>2017-04-27</td>\n",
       "      <td>NaN</td>\n",
       "      <td>NaN</td>\n",
       "      <td>NaN</td>\n",
       "      <td>NaN</td>\n",
       "      <td>1319.699951</td>\n",
       "      <td>NaN</td>\n",
       "      <td>NaN</td>\n",
       "      <td>NaN</td>\n",
       "      <td>NaN</td>\n",
       "      <td>NaN</td>\n",
       "    </tr>\n",
       "    <tr>\n",
       "      <th>2</th>\n",
       "      <td>2017-04-28</td>\n",
       "      <td>NaN</td>\n",
       "      <td>NaN</td>\n",
       "      <td>NaN</td>\n",
       "      <td>NaN</td>\n",
       "      <td>1331.280029</td>\n",
       "      <td>NaN</td>\n",
       "      <td>NaN</td>\n",
       "      <td>NaN</td>\n",
       "      <td>NaN</td>\n",
       "      <td>NaN</td>\n",
       "    </tr>\n",
       "  </tbody>\n",
       "</table>\n",
       "</div>"
      ],
      "text/plain": [
       "         Date  ADA-USD  ATOM-USD  AVAX-USD  AXS-USD      BTC-USD  ETH-USD  \\\n",
       "0  2017-04-26      NaN       NaN       NaN      NaN  1294.829956      NaN   \n",
       "1  2017-04-27      NaN       NaN       NaN      NaN  1319.699951      NaN   \n",
       "2  2017-04-28      NaN       NaN       NaN      NaN  1331.280029      NaN   \n",
       "\n",
       "   LINK-USD  LUNA1-USD  MATIC-USD  SOL-USD  \n",
       "0       NaN        NaN        NaN      NaN  \n",
       "1       NaN        NaN        NaN      NaN  \n",
       "2       NaN        NaN        NaN      NaN  "
      ]
     },
     "execution_count": 13,
     "metadata": {},
     "output_type": "execute_result"
    }
   ],
   "source": [
    "df_high = pd.read_csv(DATA_IN_PATH + \"high.csv\")\n",
    "df_high.head(3)"
   ]
  },
  {
   "cell_type": "code",
   "execution_count": 14,
   "id": "8e1875e3-785f-4ba6-bcce-c24f98a07fe7",
   "metadata": {},
   "outputs": [
    {
     "data": {
      "text/html": [
       "<div>\n",
       "<style scoped>\n",
       "    .dataframe tbody tr th:only-of-type {\n",
       "        vertical-align: middle;\n",
       "    }\n",
       "\n",
       "    .dataframe tbody tr th {\n",
       "        vertical-align: top;\n",
       "    }\n",
       "\n",
       "    .dataframe thead th {\n",
       "        text-align: right;\n",
       "    }\n",
       "</style>\n",
       "<table border=\"1\" class=\"dataframe\">\n",
       "  <thead>\n",
       "    <tr style=\"text-align: right;\">\n",
       "      <th></th>\n",
       "      <th>Date</th>\n",
       "      <th>ADA-USD</th>\n",
       "      <th>ATOM-USD</th>\n",
       "      <th>AVAX-USD</th>\n",
       "      <th>AXS-USD</th>\n",
       "      <th>BTC-USD</th>\n",
       "      <th>ETH-USD</th>\n",
       "      <th>LINK-USD</th>\n",
       "      <th>LUNA1-USD</th>\n",
       "      <th>MATIC-USD</th>\n",
       "      <th>SOL-USD</th>\n",
       "    </tr>\n",
       "  </thead>\n",
       "  <tbody>\n",
       "    <tr>\n",
       "      <th>0</th>\n",
       "      <td>2017-04-26</td>\n",
       "      <td>NaN</td>\n",
       "      <td>NaN</td>\n",
       "      <td>NaN</td>\n",
       "      <td>NaN</td>\n",
       "      <td>1265.930054</td>\n",
       "      <td>NaN</td>\n",
       "      <td>NaN</td>\n",
       "      <td>NaN</td>\n",
       "      <td>NaN</td>\n",
       "      <td>NaN</td>\n",
       "    </tr>\n",
       "    <tr>\n",
       "      <th>1</th>\n",
       "      <td>2017-04-27</td>\n",
       "      <td>NaN</td>\n",
       "      <td>NaN</td>\n",
       "      <td>NaN</td>\n",
       "      <td>NaN</td>\n",
       "      <td>1281.300049</td>\n",
       "      <td>NaN</td>\n",
       "      <td>NaN</td>\n",
       "      <td>NaN</td>\n",
       "      <td>NaN</td>\n",
       "      <td>NaN</td>\n",
       "    </tr>\n",
       "    <tr>\n",
       "      <th>2</th>\n",
       "      <td>2017-04-28</td>\n",
       "      <td>NaN</td>\n",
       "      <td>NaN</td>\n",
       "      <td>NaN</td>\n",
       "      <td>NaN</td>\n",
       "      <td>1292.369995</td>\n",
       "      <td>NaN</td>\n",
       "      <td>NaN</td>\n",
       "      <td>NaN</td>\n",
       "      <td>NaN</td>\n",
       "      <td>NaN</td>\n",
       "    </tr>\n",
       "  </tbody>\n",
       "</table>\n",
       "</div>"
      ],
      "text/plain": [
       "         Date  ADA-USD  ATOM-USD  AVAX-USD  AXS-USD      BTC-USD  ETH-USD  \\\n",
       "0  2017-04-26      NaN       NaN       NaN      NaN  1265.930054      NaN   \n",
       "1  2017-04-27      NaN       NaN       NaN      NaN  1281.300049      NaN   \n",
       "2  2017-04-28      NaN       NaN       NaN      NaN  1292.369995      NaN   \n",
       "\n",
       "   LINK-USD  LUNA1-USD  MATIC-USD  SOL-USD  \n",
       "0       NaN        NaN        NaN      NaN  \n",
       "1       NaN        NaN        NaN      NaN  \n",
       "2       NaN        NaN        NaN      NaN  "
      ]
     },
     "execution_count": 14,
     "metadata": {},
     "output_type": "execute_result"
    }
   ],
   "source": [
    "df_low = pd.read_csv(DATA_IN_PATH + \"low.csv\")\n",
    "df_low.head(3)"
   ]
  },
  {
   "cell_type": "code",
   "execution_count": 15,
   "id": "12ef6f1b-1eec-4a1a-877c-a629335e2229",
   "metadata": {},
   "outputs": [
    {
     "data": {
      "text/html": [
       "<div>\n",
       "<style scoped>\n",
       "    .dataframe tbody tr th:only-of-type {\n",
       "        vertical-align: middle;\n",
       "    }\n",
       "\n",
       "    .dataframe tbody tr th {\n",
       "        vertical-align: top;\n",
       "    }\n",
       "\n",
       "    .dataframe thead th {\n",
       "        text-align: right;\n",
       "    }\n",
       "</style>\n",
       "<table border=\"1\" class=\"dataframe\">\n",
       "  <thead>\n",
       "    <tr style=\"text-align: right;\">\n",
       "      <th></th>\n",
       "      <th>Date</th>\n",
       "      <th>ADA-USD</th>\n",
       "      <th>ATOM-USD</th>\n",
       "      <th>AVAX-USD</th>\n",
       "      <th>AXS-USD</th>\n",
       "      <th>BTC-USD</th>\n",
       "      <th>ETH-USD</th>\n",
       "      <th>LINK-USD</th>\n",
       "      <th>LUNA1-USD</th>\n",
       "      <th>MATIC-USD</th>\n",
       "      <th>SOL-USD</th>\n",
       "    </tr>\n",
       "  </thead>\n",
       "  <tbody>\n",
       "    <tr>\n",
       "      <th>0</th>\n",
       "      <td>2017-04-26</td>\n",
       "      <td>NaN</td>\n",
       "      <td>NaN</td>\n",
       "      <td>NaN</td>\n",
       "      <td>NaN</td>\n",
       "      <td>1265.989990</td>\n",
       "      <td>NaN</td>\n",
       "      <td>NaN</td>\n",
       "      <td>NaN</td>\n",
       "      <td>NaN</td>\n",
       "      <td>NaN</td>\n",
       "    </tr>\n",
       "    <tr>\n",
       "      <th>1</th>\n",
       "      <td>2017-04-27</td>\n",
       "      <td>NaN</td>\n",
       "      <td>NaN</td>\n",
       "      <td>NaN</td>\n",
       "      <td>NaN</td>\n",
       "      <td>1281.880005</td>\n",
       "      <td>NaN</td>\n",
       "      <td>NaN</td>\n",
       "      <td>NaN</td>\n",
       "      <td>NaN</td>\n",
       "      <td>NaN</td>\n",
       "    </tr>\n",
       "    <tr>\n",
       "      <th>2</th>\n",
       "      <td>2017-04-28</td>\n",
       "      <td>NaN</td>\n",
       "      <td>NaN</td>\n",
       "      <td>NaN</td>\n",
       "      <td>NaN</td>\n",
       "      <td>1317.739990</td>\n",
       "      <td>NaN</td>\n",
       "      <td>NaN</td>\n",
       "      <td>NaN</td>\n",
       "      <td>NaN</td>\n",
       "      <td>NaN</td>\n",
       "    </tr>\n",
       "  </tbody>\n",
       "</table>\n",
       "</div>"
      ],
      "text/plain": [
       "         Date  ADA-USD  ATOM-USD  AVAX-USD  AXS-USD      BTC-USD  ETH-USD  \\\n",
       "0  2017-04-26      NaN       NaN       NaN      NaN  1265.989990      NaN   \n",
       "1  2017-04-27      NaN       NaN       NaN      NaN  1281.880005      NaN   \n",
       "2  2017-04-28      NaN       NaN       NaN      NaN  1317.739990      NaN   \n",
       "\n",
       "   LINK-USD  LUNA1-USD  MATIC-USD  SOL-USD  \n",
       "0       NaN        NaN        NaN      NaN  \n",
       "1       NaN        NaN        NaN      NaN  \n",
       "2       NaN        NaN        NaN      NaN  "
      ]
     },
     "execution_count": 15,
     "metadata": {},
     "output_type": "execute_result"
    }
   ],
   "source": [
    "df_open = pd.read_csv(DATA_IN_PATH + \"open.csv\")\n",
    "df_open.head(3)"
   ]
  },
  {
   "cell_type": "code",
   "execution_count": 16,
   "id": "c5169f52-b563-4a21-a7f2-ef463ce83657",
   "metadata": {},
   "outputs": [
    {
     "data": {
      "text/html": [
       "<div>\n",
       "<style scoped>\n",
       "    .dataframe tbody tr th:only-of-type {\n",
       "        vertical-align: middle;\n",
       "    }\n",
       "\n",
       "    .dataframe tbody tr th {\n",
       "        vertical-align: top;\n",
       "    }\n",
       "\n",
       "    .dataframe thead th {\n",
       "        text-align: right;\n",
       "    }\n",
       "</style>\n",
       "<table border=\"1\" class=\"dataframe\">\n",
       "  <thead>\n",
       "    <tr style=\"text-align: right;\">\n",
       "      <th></th>\n",
       "      <th>Date</th>\n",
       "      <th>ADA-USD</th>\n",
       "      <th>ATOM-USD</th>\n",
       "      <th>AVAX-USD</th>\n",
       "      <th>AXS-USD</th>\n",
       "      <th>BTC-USD</th>\n",
       "      <th>ETH-USD</th>\n",
       "      <th>LINK-USD</th>\n",
       "      <th>LUNA1-USD</th>\n",
       "      <th>MATIC-USD</th>\n",
       "      <th>SOL-USD</th>\n",
       "    </tr>\n",
       "  </thead>\n",
       "  <tbody>\n",
       "    <tr>\n",
       "      <th>0</th>\n",
       "      <td>2017-04-26</td>\n",
       "      <td>NaN</td>\n",
       "      <td>NaN</td>\n",
       "      <td>NaN</td>\n",
       "      <td>NaN</td>\n",
       "      <td>329631008</td>\n",
       "      <td>NaN</td>\n",
       "      <td>NaN</td>\n",
       "      <td>NaN</td>\n",
       "      <td>NaN</td>\n",
       "      <td>NaN</td>\n",
       "    </tr>\n",
       "    <tr>\n",
       "      <th>1</th>\n",
       "      <td>2017-04-27</td>\n",
       "      <td>NaN</td>\n",
       "      <td>NaN</td>\n",
       "      <td>NaN</td>\n",
       "      <td>NaN</td>\n",
       "      <td>449196992</td>\n",
       "      <td>NaN</td>\n",
       "      <td>NaN</td>\n",
       "      <td>NaN</td>\n",
       "      <td>NaN</td>\n",
       "      <td>NaN</td>\n",
       "    </tr>\n",
       "    <tr>\n",
       "      <th>2</th>\n",
       "      <td>2017-04-28</td>\n",
       "      <td>NaN</td>\n",
       "      <td>NaN</td>\n",
       "      <td>NaN</td>\n",
       "      <td>NaN</td>\n",
       "      <td>527488992</td>\n",
       "      <td>NaN</td>\n",
       "      <td>NaN</td>\n",
       "      <td>NaN</td>\n",
       "      <td>NaN</td>\n",
       "      <td>NaN</td>\n",
       "    </tr>\n",
       "  </tbody>\n",
       "</table>\n",
       "</div>"
      ],
      "text/plain": [
       "         Date  ADA-USD  ATOM-USD  AVAX-USD  AXS-USD    BTC-USD  ETH-USD  \\\n",
       "0  2017-04-26      NaN       NaN       NaN      NaN  329631008      NaN   \n",
       "1  2017-04-27      NaN       NaN       NaN      NaN  449196992      NaN   \n",
       "2  2017-04-28      NaN       NaN       NaN      NaN  527488992      NaN   \n",
       "\n",
       "   LINK-USD  LUNA1-USD  MATIC-USD  SOL-USD  \n",
       "0       NaN        NaN        NaN      NaN  \n",
       "1       NaN        NaN        NaN      NaN  \n",
       "2       NaN        NaN        NaN      NaN  "
      ]
     },
     "execution_count": 16,
     "metadata": {},
     "output_type": "execute_result"
    }
   ],
   "source": [
    "df_vol = pd.read_csv(DATA_IN_PATH + \"volume.csv\")\n",
    "df_vol.head(3)"
   ]
  },
  {
   "cell_type": "code",
   "execution_count": 17,
   "id": "e66d9fb6-510e-48a2-9891-c53365845e20",
   "metadata": {},
   "outputs": [],
   "source": [
    "df_list = [df_adjclose,df_close,df_high,df_low]"
   ]
  },
  {
   "cell_type": "code",
   "execution_count": null,
   "id": "9aa11663-56b8-4e1a-87d8-fd210602d83b",
   "metadata": {},
   "outputs": [],
   "source": []
  },
  {
   "cell_type": "code",
   "execution_count": 18,
   "id": "11b8f937-59d2-4b73-bbf7-8e9317d20e64",
   "metadata": {},
   "outputs": [
    {
     "data": {
      "text/html": [
       "<div>\n",
       "<style scoped>\n",
       "    .dataframe tbody tr th:only-of-type {\n",
       "        vertical-align: middle;\n",
       "    }\n",
       "\n",
       "    .dataframe tbody tr th {\n",
       "        vertical-align: top;\n",
       "    }\n",
       "\n",
       "    .dataframe thead th {\n",
       "        text-align: right;\n",
       "    }\n",
       "</style>\n",
       "<table border=\"1\" class=\"dataframe\">\n",
       "  <thead>\n",
       "    <tr style=\"text-align: right;\">\n",
       "      <th></th>\n",
       "      <th>Date</th>\n",
       "      <th>adj_close</th>\n",
       "      <th>close</th>\n",
       "      <th>high</th>\n",
       "      <th>low</th>\n",
       "      <th>open</th>\n",
       "      <th>volume</th>\n",
       "    </tr>\n",
       "  </thead>\n",
       "  <tbody>\n",
       "    <tr>\n",
       "      <th>0</th>\n",
       "      <td>2017-04-26</td>\n",
       "      <td>NaN</td>\n",
       "      <td>NaN</td>\n",
       "      <td>NaN</td>\n",
       "      <td>NaN</td>\n",
       "      <td>NaN</td>\n",
       "      <td>NaN</td>\n",
       "    </tr>\n",
       "    <tr>\n",
       "      <th>1</th>\n",
       "      <td>2017-04-27</td>\n",
       "      <td>NaN</td>\n",
       "      <td>NaN</td>\n",
       "      <td>NaN</td>\n",
       "      <td>NaN</td>\n",
       "      <td>NaN</td>\n",
       "      <td>NaN</td>\n",
       "    </tr>\n",
       "    <tr>\n",
       "      <th>2</th>\n",
       "      <td>2017-04-28</td>\n",
       "      <td>NaN</td>\n",
       "      <td>NaN</td>\n",
       "      <td>NaN</td>\n",
       "      <td>NaN</td>\n",
       "      <td>NaN</td>\n",
       "      <td>NaN</td>\n",
       "    </tr>\n",
       "    <tr>\n",
       "      <th>3</th>\n",
       "      <td>2017-04-29</td>\n",
       "      <td>NaN</td>\n",
       "      <td>NaN</td>\n",
       "      <td>NaN</td>\n",
       "      <td>NaN</td>\n",
       "      <td>NaN</td>\n",
       "      <td>NaN</td>\n",
       "    </tr>\n",
       "    <tr>\n",
       "      <th>4</th>\n",
       "      <td>2017-04-30</td>\n",
       "      <td>NaN</td>\n",
       "      <td>NaN</td>\n",
       "      <td>NaN</td>\n",
       "      <td>NaN</td>\n",
       "      <td>NaN</td>\n",
       "      <td>NaN</td>\n",
       "    </tr>\n",
       "    <tr>\n",
       "      <th>...</th>\n",
       "      <td>...</td>\n",
       "      <td>...</td>\n",
       "      <td>...</td>\n",
       "      <td>...</td>\n",
       "      <td>...</td>\n",
       "      <td>...</td>\n",
       "      <td>...</td>\n",
       "    </tr>\n",
       "    <tr>\n",
       "      <th>1821</th>\n",
       "      <td>2022-04-21</td>\n",
       "      <td>0.910474</td>\n",
       "      <td>0.910474</td>\n",
       "      <td>0.969453</td>\n",
       "      <td>0.896912</td>\n",
       "      <td>0.937272</td>\n",
       "      <td>8.711113e+08</td>\n",
       "    </tr>\n",
       "    <tr>\n",
       "      <th>1822</th>\n",
       "      <td>2022-04-22</td>\n",
       "      <td>0.907154</td>\n",
       "      <td>0.907154</td>\n",
       "      <td>0.923741</td>\n",
       "      <td>0.893973</td>\n",
       "      <td>0.910335</td>\n",
       "      <td>7.257889e+08</td>\n",
       "    </tr>\n",
       "    <tr>\n",
       "      <th>1823</th>\n",
       "      <td>2022-04-23</td>\n",
       "      <td>0.888503</td>\n",
       "      <td>0.888503</td>\n",
       "      <td>0.910614</td>\n",
       "      <td>0.884660</td>\n",
       "      <td>0.907185</td>\n",
       "      <td>4.479977e+08</td>\n",
       "    </tr>\n",
       "    <tr>\n",
       "      <th>1824</th>\n",
       "      <td>2022-04-24</td>\n",
       "      <td>0.886350</td>\n",
       "      <td>0.886350</td>\n",
       "      <td>0.897855</td>\n",
       "      <td>0.881857</td>\n",
       "      <td>0.888279</td>\n",
       "      <td>4.876295e+08</td>\n",
       "    </tr>\n",
       "    <tr>\n",
       "      <th>1825</th>\n",
       "      <td>2022-04-25</td>\n",
       "      <td>0.898695</td>\n",
       "      <td>0.898695</td>\n",
       "      <td>0.901707</td>\n",
       "      <td>0.830232</td>\n",
       "      <td>0.886378</td>\n",
       "      <td>1.139869e+09</td>\n",
       "    </tr>\n",
       "  </tbody>\n",
       "</table>\n",
       "<p>1826 rows × 7 columns</p>\n",
       "</div>"
      ],
      "text/plain": [
       "            Date  adj_close     close      high       low      open  \\\n",
       "0     2017-04-26        NaN       NaN       NaN       NaN       NaN   \n",
       "1     2017-04-27        NaN       NaN       NaN       NaN       NaN   \n",
       "2     2017-04-28        NaN       NaN       NaN       NaN       NaN   \n",
       "3     2017-04-29        NaN       NaN       NaN       NaN       NaN   \n",
       "4     2017-04-30        NaN       NaN       NaN       NaN       NaN   \n",
       "...          ...        ...       ...       ...       ...       ...   \n",
       "1821  2022-04-21   0.910474  0.910474  0.969453  0.896912  0.937272   \n",
       "1822  2022-04-22   0.907154  0.907154  0.923741  0.893973  0.910335   \n",
       "1823  2022-04-23   0.888503  0.888503  0.910614  0.884660  0.907185   \n",
       "1824  2022-04-24   0.886350  0.886350  0.897855  0.881857  0.888279   \n",
       "1825  2022-04-25   0.898695  0.898695  0.901707  0.830232  0.886378   \n",
       "\n",
       "            volume  \n",
       "0              NaN  \n",
       "1              NaN  \n",
       "2              NaN  \n",
       "3              NaN  \n",
       "4              NaN  \n",
       "...            ...  \n",
       "1821  8.711113e+08  \n",
       "1822  7.257889e+08  \n",
       "1823  4.479977e+08  \n",
       "1824  4.876295e+08  \n",
       "1825  1.139869e+09  \n",
       "\n",
       "[1826 rows x 7 columns]"
      ]
     },
     "execution_count": 18,
     "metadata": {},
     "output_type": "execute_result"
    }
   ],
   "source": [
    "df_ada = df_adjclose[['Date','ADA-USD']].rename(columns={'ADA-USD':'adj_close'})\\\n",
    "        .merge(df_close[['Date','ADA-USD']].rename(columns={'ADA-USD':'close'}), left_on='Date', right_on='Date')\\\n",
    "        .merge(df_high[['Date','ADA-USD']].rename(columns={'ADA-USD':'high'}), left_on='Date', right_on='Date')\\\n",
    "        .merge(df_low[['Date','ADA-USD']].rename(columns={'ADA-USD':'low'}), left_on='Date', right_on='Date')\\\n",
    "        .merge(df_open[['Date','ADA-USD']].rename(columns={'ADA-USD':'open'}), left_on='Date', right_on='Date')\\\n",
    "        .merge(df_vol[['Date','ADA-USD']].rename(columns={'ADA-USD':'volume'}), left_on='Date', right_on='Date')\n",
    "\n",
    "#df_ada = pd.DataFrame(columns=df_cols)\n",
    "df_ada"
   ]
  },
  {
   "cell_type": "code",
   "execution_count": null,
   "id": "af141306-5349-4456-966b-90c3b3507890",
   "metadata": {},
   "outputs": [],
   "source": []
  },
  {
   "cell_type": "code",
   "execution_count": 19,
   "id": "79a8059a-3d50-44c1-b19d-9a6164f80ae9",
   "metadata": {},
   "outputs": [],
   "source": [
    "def assemble_coin_df(coin_i):\n",
    "    df_data = df_adjclose[['Date',coin_i]].rename(columns={coin_i:'adj_close'})\\\n",
    "            .merge(df_close[['Date',coin_i]].rename(columns={coin_i:'close'}), left_on='Date', right_on='Date')\\\n",
    "            .merge(df_high[['Date',coin_i]].rename(columns={coin_i:'high'}), left_on='Date', right_on='Date')\\\n",
    "            .merge(df_low[['Date',coin_i]].rename(columns={coin_i:'low'}), left_on='Date', right_on='Date')\\\n",
    "            .merge(df_open[['Date',coin_i]].rename(columns={coin_i:'open'}), left_on='Date', right_on='Date')\\\n",
    "            .merge(df_vol[['Date',coin_i]].rename(columns={coin_i:'volume'}), left_on='Date', right_on='Date')\n",
    "    return df_data\n",
    "\n",
    "\n",
    "df_ada   = assemble_coin_df('ADA-USD')\n",
    "df_atom  = assemble_coin_df('ATOM-USD')\n",
    "df_avax  = assemble_coin_df('AVAX-USD')\n",
    "df_axs   = assemble_coin_df('AXS-USD')\n",
    "df_btc   = assemble_coin_df('BTC-USD')\n",
    "df_eth   = assemble_coin_df('ETH-USD')\n",
    "df_link  = assemble_coin_df('LINK-USD')\n",
    "df_luna1 = assemble_coin_df('LUNA1-USD')\n",
    "df_matic = assemble_coin_df('MATIC-USD')\n",
    "df_sol   = assemble_coin_df('SOL-USD')\n",
    "\n",
    "df_coins_list = [df_ada, df_atom, df_avax, df_axs, df_btc, df_eth, df_link, df_luna1, df_matic, df_sol]\n",
    "df_coins_suff = ['ada', 'atom', 'avax', 'axs', 'btc', 'eth', 'link', 'luna1', 'matic', 'sol']"
   ]
  },
  {
   "cell_type": "code",
   "execution_count": 20,
   "id": "5eaa2805-4f24-45f6-a128-8198404a81ee",
   "metadata": {},
   "outputs": [],
   "source": [
    "for i in range(len(df_coins_suff)):\n",
    "    di = df_coins_list[i]\n",
    "    df_coins_list[i] = df_coins_list[i].add_prefix(df_coins_suff[i]+'_')\n",
    "    date_col = df_coins_suff[i]+'_Date'\n",
    "    df_coins_list[i].rename(columns={date_col: 'Date'}, inplace=True)\n",
    "    \n",
    "\n",
    "df_merged = reduce(lambda  left,right: pd.merge(left,right,on=['Date'],\n",
    "                                            how='left'), df_coins_list)\n"
   ]
  },
  {
   "cell_type": "code",
   "execution_count": 21,
   "id": "9a2eeb58-ac78-4b75-a458-1a4b299df4f4",
   "metadata": {},
   "outputs": [],
   "source": [
    "#df_merged"
   ]
  },
  {
   "cell_type": "code",
   "execution_count": null,
   "id": "0371605a-c283-4814-86a6-7696a43058ea",
   "metadata": {},
   "outputs": [],
   "source": []
  },
  {
   "cell_type": "code",
   "execution_count": null,
   "id": "17cc7277-9e07-4259-877d-e3e8895444e8",
   "metadata": {},
   "outputs": [],
   "source": []
  },
  {
   "cell_type": "code",
   "execution_count": null,
   "id": "ca8cfbb8-39b0-459c-add6-40d967fa1839",
   "metadata": {},
   "outputs": [],
   "source": []
  },
  {
   "cell_type": "markdown",
   "id": "2615dc9f-3cb0-49c2-91b3-c125f2eacf19",
   "metadata": {},
   "source": [
    "## Get external data"
   ]
  },
  {
   "cell_type": "code",
   "execution_count": null,
   "id": "3357b789-f893-4f2d-a6fc-4c4d0a33dd82",
   "metadata": {},
   "outputs": [],
   "source": []
  },
  {
   "cell_type": "code",
   "execution_count": null,
   "id": "cb516918-38aa-415d-b91e-5d30d36bbac2",
   "metadata": {},
   "outputs": [],
   "source": []
  },
  {
   "cell_type": "code",
   "execution_count": null,
   "id": "a6dab3ee-ffcd-4231-8227-1487939a8a19",
   "metadata": {},
   "outputs": [],
   "source": []
  },
  {
   "cell_type": "markdown",
   "id": "f28a073d-e7ef-4c52-9bb7-2466080e02c6",
   "metadata": {},
   "source": [
    "## Train Test Split"
   ]
  },
  {
   "cell_type": "code",
   "execution_count": null,
   "id": "23cfdf4a-374c-448e-9f6c-a9f85961a814",
   "metadata": {},
   "outputs": [],
   "source": []
  },
  {
   "cell_type": "code",
   "execution_count": null,
   "id": "30a6801b-2708-4191-beb8-0249dfcbb04e",
   "metadata": {},
   "outputs": [],
   "source": []
  },
  {
   "cell_type": "code",
   "execution_count": 22,
   "id": "cf5eb62a-5424-4511-8407-0000ac1a3ab7",
   "metadata": {},
   "outputs": [],
   "source": [
    "def rolling_window_split(df_, train_size, test_size, inc_size=1):\n",
    "    \"\"\"\n",
    "    Creates rolling window split and returns two lists of the same size,\n",
    "    where test[i] is the test set for train[i]\n",
    "    Optionally provide increment size for window \n",
    "    \"\"\"\n",
    "    df_tosplit = df_.copy()\n",
    "    test = []\n",
    "    train = []\n",
    "    data_len = len(df_tosplit)\n",
    "    split_len = 0\n",
    "\n",
    "    while split_len+test_size+train_size <= data_len :\n",
    "        train.append(df_tosplit.iloc[split_len:split_len+train_size,:])\n",
    "        test.append(df_tosplit.iloc[split_len+train_size:split_len+train_size+test_size,:])\n",
    "\n",
    "        split_len += inc_size\n",
    "    \n",
    "    return train, test\n"
   ]
  },
  {
   "cell_type": "code",
   "execution_count": 23,
   "id": "35e31dd1-ab2f-4b75-ae02-b1a16ca8662d",
   "metadata": {},
   "outputs": [],
   "source": [
    "ada_train, ada_test = rolling_window_split(df_ada, 14, 2)"
   ]
  },
  {
   "cell_type": "code",
   "execution_count": 24,
   "id": "c27c58f9-806b-4a04-b031-8c3d156409a4",
   "metadata": {},
   "outputs": [],
   "source": [
    "#ada_train[200]"
   ]
  },
  {
   "cell_type": "code",
   "execution_count": 25,
   "id": "945ff43e-ddfc-4dfa-800d-c3d42d6ad482",
   "metadata": {},
   "outputs": [],
   "source": [
    "#ada_test[200]"
   ]
  },
  {
   "cell_type": "markdown",
   "id": "9fb985e8-e385-4789-b360-732a08725aa0",
   "metadata": {},
   "source": [
    "### Scoring Function"
   ]
  },
  {
   "cell_type": "code",
   "execution_count": 26,
   "id": "2e8d2802-155c-4a75-ae3a-3a3fe03f5073",
   "metadata": {},
   "outputs": [],
   "source": [
    "def score_func(prediction, actual):\n",
    "    return (prediction - actual)/actual"
   ]
  },
  {
   "cell_type": "code",
   "execution_count": 27,
   "id": "31a0290c-b6b9-47fd-8fa1-2b921a419f33",
   "metadata": {},
   "outputs": [
    {
     "data": {
      "text/plain": [
       "['Date', 'adj_close', 'close', 'high', 'low', 'open', 'volume']"
      ]
     },
     "execution_count": 27,
     "metadata": {},
     "output_type": "execute_result"
    }
   ],
   "source": [
    "df_ada.columns.tolist()"
   ]
  },
  {
   "cell_type": "markdown",
   "id": "d1c54d80-e6fe-4d91-8f1b-bb5cb42ed673",
   "metadata": {},
   "source": [
    "### How to use"
   ]
  },
  {
   "cell_type": "code",
   "execution_count": 28,
   "id": "13718c56-953c-49f4-a076-96e04c2a7eb2",
   "metadata": {},
   "outputs": [],
   "source": [
    "from sklearn.linear_model import LinearRegression"
   ]
  },
  {
   "cell_type": "code",
   "execution_count": 29,
   "id": "066b1127-9143-43ff-93e7-99f8fbcd4660",
   "metadata": {},
   "outputs": [],
   "source": [
    "#############################\n",
    "## \n",
    "## This is an example only to show \n",
    "## how to use the rolling window split.\n",
    "## \n",
    "## We shouldn't use any of the info \n",
    "## from the day being predicted !!!\n",
    "## \n",
    "#############################\n",
    "\n",
    "\n",
    "lr_predictions = []\n",
    "lr_truths = []\n",
    "lr_scores = []\n",
    "\n",
    "ada_cols = ['adj_close', 'close', 'high', 'low', 'open']\n",
    "ada_y = 'volume'\n",
    "\n",
    "ada_train, ada_test = rolling_window_split(df_ada.dropna(), 14, 1)\n",
    "\n",
    "for i in range(len(ada_train)):\n",
    "    \n",
    "    ## fit the model on the train window i, i.e. ada_train[i] \n",
    "    lr = LinearRegression().fit(ada_train[i][ada_cols], ada_train[i][ada_y])\n",
    "    \n",
    "    ## predict on test window i\n",
    "    lr_pred_ = lr.predict(ada_test[i][ada_cols])\n",
    "    \n",
    "    ## get predictions\n",
    "    lr_predictions.append(lr_pred_.tolist())\n",
    "    \n",
    "    ## get equivalent truths\n",
    "    lr_truths.append(ada_test[i][ada_y].tolist())\n",
    "    \n",
    "\n",
    "## flatten predictions and truths because they are list of lists. \n",
    "## you can see the difference by using test_size of 2 instead\n",
    "\n",
    "flat_predictions = [i for sublist in lr_predictions for i in sublist]\n",
    "flat_truths = [i for sublist in lr_truths for i in sublist]\n",
    "\n",
    "    "
   ]
  },
  {
   "cell_type": "code",
   "execution_count": 30,
   "id": "46e873cf-b8a7-4798-8918-2d99db792653",
   "metadata": {},
   "outputs": [
    {
     "data": {
      "text/plain": [
       "[4697602.694785796]"
      ]
     },
     "execution_count": 30,
     "metadata": {},
     "output_type": "execute_result"
    }
   ],
   "source": [
    "lr_predictions[0] ## list of lists"
   ]
  },
  {
   "cell_type": "code",
   "execution_count": 31,
   "id": "ce296d21-0b57-4309-bc39-482482f36c4b",
   "metadata": {},
   "outputs": [
    {
     "data": {
      "text/plain": [
       "4697602.694785796"
      ]
     },
     "execution_count": 31,
     "metadata": {},
     "output_type": "execute_result"
    }
   ],
   "source": [
    "flat_predictions[0] ## flattened list"
   ]
  },
  {
   "cell_type": "code",
   "execution_count": 32,
   "id": "e1707461-e327-4ba8-bfec-ec579ee4f6ce",
   "metadata": {},
   "outputs": [
    {
     "data": {
      "text/plain": [
       "[5132300.0]"
      ]
     },
     "execution_count": 32,
     "metadata": {},
     "output_type": "execute_result"
    }
   ],
   "source": [
    "lr_truths[0]"
   ]
  },
  {
   "cell_type": "code",
   "execution_count": 33,
   "id": "356d04d1-27c9-43b6-9f43-29248e1a3811",
   "metadata": {},
   "outputs": [
    {
     "data": {
      "text/plain": [
       "5132300.0"
      ]
     },
     "execution_count": 33,
     "metadata": {},
     "output_type": "execute_result"
    }
   ],
   "source": [
    "flat_truths[0]"
   ]
  },
  {
   "cell_type": "code",
   "execution_count": 34,
   "id": "a893383e-0988-48aa-9606-cd0a1a471a0b",
   "metadata": {},
   "outputs": [
    {
     "data": {
      "text/plain": [
       "293479097.45001876"
      ]
     },
     "execution_count": 34,
     "metadata": {},
     "output_type": "execute_result"
    }
   ],
   "source": [
    "from sklearn.metrics import mean_absolute_error\n",
    "\n",
    "mean_absolute_error(flat_truths, flat_predictions)\n"
   ]
  },
  {
   "cell_type": "code",
   "execution_count": null,
   "id": "d7798f2d-664a-4f3e-821e-a9f7e384aa90",
   "metadata": {},
   "outputs": [],
   "source": []
  }
 ],
 "metadata": {
  "kernelspec": {
   "display_name": "Python 3 (ipykernel)",
   "language": "python",
   "name": "python3"
  },
  "language_info": {
   "codemirror_mode": {
    "name": "ipython",
    "version": 3
   },
   "file_extension": ".py",
   "mimetype": "text/x-python",
   "name": "python",
   "nbconvert_exporter": "python",
   "pygments_lexer": "ipython3",
   "version": "3.9.7"
  }
 },
 "nbformat": 4,
 "nbformat_minor": 5
}
