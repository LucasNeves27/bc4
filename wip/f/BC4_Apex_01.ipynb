{
 "cells": [
  {
   "cell_type": "markdown",
   "id": "fdaa72cb-691e-4518-853f-8d9614021ed3",
   "metadata": {},
   "source": [
    "# BC4 \n",
    "\n",
    "Apex Pattern Deployers\n",
    "\n",
    "- Marjorie Kinney *m20210647*\n",
    "- Bruno Mendes *m20210627*\n",
    "- Lucas Neves *m20211020*\n",
    "- Farina Pontejos *m20210649*\n",
    "\n",
    "Business Cases for Data Science\n",
    "\n",
    "NOVA Information Management School\n",
    "\n",
    "May 2022\n",
    "\n",
    "https://github.com/fpontejos/bc3\n"
   ]
  },
  {
   "cell_type": "markdown",
   "id": "3efd2674-fdf5-4f21-90cf-69bb3ad64005",
   "metadata": {},
   "source": [
    "## Initial Setup"
   ]
  },
  {
   "cell_type": "markdown",
   "id": "8dea1474-9e1c-444c-8861-1e8f643d8c27",
   "metadata": {},
   "source": [
    "### Imports"
   ]
  },
  {
   "cell_type": "code",
   "execution_count": 2,
   "id": "2935f619-9507-41bc-94b3-0a8eda6f8c95",
   "metadata": {},
   "outputs": [],
   "source": [
    "import pandas as pd\n",
    "import numpy as np\n",
    "import scipy as sp\n",
    "import seaborn as sns\n",
    "import matplotlib.pyplot as plt\n",
    "import scipy.stats as stats\n",
    "from math import ceil\n",
    "from datetime import timedelta, datetime\n",
    "import os\n",
    "import re\n",
    "import warnings\n",
    "import itertools\n",
    "import collections\n",
    "\n",
    "warnings.filterwarnings('ignore')\n",
    "\n"
   ]
  },
  {
   "cell_type": "code",
   "execution_count": 4,
   "id": "4f1b876f-3d63-4ec0-a339-710a820a6ea0",
   "metadata": {},
   "outputs": [],
   "source": [
    "from matplotlib.colors import LinearSegmentedColormap\n"
   ]
  },
  {
   "cell_type": "markdown",
   "id": "a5321103-199d-4add-b5a4-d938d0fddfaa",
   "metadata": {},
   "source": [
    "### Variables"
   ]
  },
  {
   "cell_type": "code",
   "execution_count": 14,
   "id": "4f865a37-380b-4ba5-8bfd-a22ab865dcee",
   "metadata": {},
   "outputs": [],
   "source": [
    "COLORS = ['#2ec4b6', '#1e9fb4', '#0f7ab2', '#285892', '#49306b', '#7a3161', '#a13258', '#c63351', '#ea3449']\n",
    "\n",
    "CAT_COLORS = ['#2EC4B6', '#0E79B2', '#49306B', '#9A325A', '#EA3449']\n",
    "CONTRAST_COLORS = [COLORS[i] for i in range(len(COLORS)) if (i%2) == 0]\n",
    "\n",
    "DIV_COLORS = ['#0e79b2', '#4b9ac3', '#84b8d4', '#bcd6e4', '#f4f4f4', '#c6c0d0', '#9b8eac', '#715e8b', '#49306b']\n",
    "\n",
    "DIV_COL_HALF = ['#f4f4f4', '#bed3da', '#8ab2bf', '#5592a5', '#20718b']\n",
    "\n",
    "UMP_COLORS = ['#22446D', '#FC9E4F', '#AB2346' ,'#6ABB5D']\n",
    "\n",
    "DEFAULT_PALETTE = sns.color_palette(COLORS)\n",
    "CONTRAST_PALETTE = sns.color_palette(CONTRAST_COLORS)\n",
    "DIVERGENT_PALETTE = sns.color_palette(DIV_COLORS)\n",
    "DIVHALF_PALETTE = sns.color_palette(DIV_COL_HALF)\n",
    "CAT_PALETTE = sns.color_palette(CAT_COLORS)\n",
    "UMP_PALETTE = sns.color_palette(UMP_COLORS)\n",
    "\n",
    "\n",
    "DIV_CMAP = LinearSegmentedColormap.from_list(\"div_colors\", DIV_COLORS)\n",
    "DIV_H_CMAP = LinearSegmentedColormap.from_list(\"div_colors\", DIV_COL_HALF)\n",
    "CAT_CMAP = LinearSegmentedColormap.from_list(\"cat_colors\", CAT_COLORS)\n",
    "UMP_CMAP = LinearSegmentedColormap.from_list(\"ump_colors\", UMP_COLORS)\n",
    "\n",
    "\n",
    "SHOW_PLOTS = True\n",
    "SAVE_PLOTS = True\n",
    "RANDOM_STATE = 9\n",
    "\n",
    "IMG_PATH = 'imgs/'\n",
    "DATA_IN_PATH = '../data_in/'\n",
    "DATA_OUT_PATH = '../data_out/'\n"
   ]
  },
  {
   "cell_type": "code",
   "execution_count": 15,
   "id": "300ecdd9-7b73-45da-aeaa-dd82d4b57835",
   "metadata": {},
   "outputs": [],
   "source": [
    "def save_fig(title, fig):\n",
    "    if SAVE_PLOTS == True:\n",
    "        fn = IMG_PATH + title.replace(' ','-') + '.png'\n",
    "        fig.savefig(fn, bbox_inches='tight', transparent=True)\n",
    "        \n"
   ]
  },
  {
   "cell_type": "code",
   "execution_count": null,
   "id": "21365354-93e7-4d1e-bb5f-0e210c093d8f",
   "metadata": {},
   "outputs": [],
   "source": []
  },
  {
   "cell_type": "markdown",
   "id": "81179616-bb3b-49fa-b0be-b69432fd27e6",
   "metadata": {},
   "source": [
    "### Styles"
   ]
  },
  {
   "cell_type": "code",
   "execution_count": 16,
   "id": "e291e0bd-163a-45e0-8757-7f8ac61be9e0",
   "metadata": {},
   "outputs": [],
   "source": [
    "sns.set(style=\"white\")\n",
    "\n",
    "sns.set_context(\"paper\")\n",
    "sns.set_palette(DEFAULT_PALETTE)\n",
    "\n",
    "\n",
    "plt.rcParams['figure.dpi'] = 128"
   ]
  },
  {
   "cell_type": "code",
   "execution_count": 17,
   "id": "c000dc56-1c36-4092-a003-8eec15fd6941",
   "metadata": {},
   "outputs": [
    {
     "data": {
      "image/png": "[encoded data removed]",
      "text/plain": [
       "<Figure size 1152x128 with 1 Axes>"
      ]
     },
     "metadata": {},
     "output_type": "display_data"
    },
    {
     "data": {
      "image/png": "[encoded data removed]",
      "text/plain": [
       "<Figure size 640x128 with 1 Axes>"
      ]
     },
     "metadata": {},
     "output_type": "display_data"
    },
    {
     "data": {
      "image/png": "[encoded data removed]",
      "text/plain": [
       "<Figure size 1152x128 with 1 Axes>"
      ]
     },
     "metadata": {},
     "output_type": "display_data"
    },
    {
     "data": {
      "image/png": "[encoded data removed]",
      "text/plain": [
       "<Figure size 640x128 with 1 Axes>"
      ]
     },
     "metadata": {},
     "output_type": "display_data"
    }
   ],
   "source": [
    "sns.palplot(DEFAULT_PALETTE)\n",
    "sns.palplot(CONTRAST_PALETTE)\n",
    "sns.palplot(DIVERGENT_PALETTE)\n",
    "sns.palplot(CAT_PALETTE)\n",
    "plt.show()"
   ]
  },
  {
   "cell_type": "code",
   "execution_count": null,
   "id": "92f626d2-17ca-4d60-b70d-e83add7ebaa4",
   "metadata": {},
   "outputs": [],
   "source": []
  }
 ],
 "metadata": {
  "kernelspec": {
   "display_name": "Python 3 (ipykernel)",
   "language": "python",
   "name": "python3"
  },
  "language_info": {
   "codemirror_mode": {
    "name": "ipython",
    "version": 3
   },
   "file_extension": ".py",
   "mimetype": "text/x-python",
   "name": "python",
   "nbconvert_exporter": "python",
   "pygments_lexer": "ipython3",
   "version": "3.9.7"
  }
 },
 "nbformat": 4,
 "nbformat_minor": 5
}
