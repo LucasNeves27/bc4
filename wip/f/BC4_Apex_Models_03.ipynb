{
 "cells": [
  {
   "cell_type": "markdown",
   "id": "fdaa72cb-691e-4518-853f-8d9614021ed3",
   "metadata": {},
   "source": [
    "# BC4 \n",
    "\n",
    "Apex Pattern Deployers\n",
    "\n",
    "- Marjorie Kinney *m20210647*\n",
    "- Bruno Mendes *m20210627*\n",
    "- Lucas Neves *m20211020*\n",
    "- Farina Pontejos *m20210649*\n",
    "\n",
    "Business Cases for Data Science\n",
    "\n",
    "NOVA Information Management School\n",
    "\n",
    "May 2022\n",
    "\n",
    "https://github.com/fpontejos/bc4\n"
   ]
  },
  {
   "cell_type": "markdown",
   "id": "3efd2674-fdf5-4f21-90cf-69bb3ad64005",
   "metadata": {},
   "source": [
    "## Initial Setup"
   ]
  },
  {
   "cell_type": "markdown",
   "id": "8dea1474-9e1c-444c-8861-1e8f643d8c27",
   "metadata": {},
   "source": [
    "### Imports"
   ]
  },
  {
   "cell_type": "code",
   "execution_count": 1,
   "id": "2935f619-9507-41bc-94b3-0a8eda6f8c95",
   "metadata": {},
   "outputs": [],
   "source": [
    "import pandas as pd\n",
    "import numpy as np\n",
    "import scipy as sp\n",
    "import seaborn as sns\n",
    "import matplotlib.pyplot as plt\n",
    "import scipy.stats as stats\n",
    "from math import ceil\n",
    "from datetime import timedelta, datetime\n",
    "import os\n",
    "import re\n",
    "import warnings\n",
    "import itertools\n",
    "import collections\n",
    "import ta\n",
    "\n",
    "warnings.filterwarnings('ignore')\n",
    "\n"
   ]
  },
  {
   "cell_type": "code",
   "execution_count": 2,
   "id": "4f1b876f-3d63-4ec0-a339-710a820a6ea0",
   "metadata": {},
   "outputs": [],
   "source": [
    "from matplotlib.colors import LinearSegmentedColormap\n"
   ]
  },
  {
   "cell_type": "code",
   "execution_count": 3,
   "id": "d6656393-9cb7-4e02-a739-51fd4bfc7746",
   "metadata": {},
   "outputs": [],
   "source": [
    "from functools import reduce"
   ]
  },
  {
   "cell_type": "code",
   "execution_count": 4,
   "id": "ca0141da-4441-4d25-85a4-d154ebd4d12e",
   "metadata": {},
   "outputs": [],
   "source": [
    "from sklearn.pipeline import make_pipeline\n",
    "from sklearn.metrics import mean_squared_error, mean_absolute_error, mean_absolute_percentage_error\n",
    "\n",
    "from sklearn.model_selection import TimeSeriesSplit, GridSearchCV\n",
    "\n",
    "from sklearn.feature_selection import RFE\n",
    "from sklearn.feature_selection import SelectKBest, f_regression, mutual_info_regression\n",
    "from sklearn.feature_selection import chi2, f_classif, mutual_info_classif\n",
    "\n",
    "from sklearn.preprocessing import StandardScaler\n",
    "\n",
    "\n",
    "from sklearn.ensemble import RandomForestRegressor\n",
    "from sklearn.tree import DecisionTreeRegressor\n",
    "from sklearn.neighbors import KNeighborsRegressor\n",
    "from sklearn.neural_network import MLPRegressor\n",
    "from sklearn.ensemble import GradientBoostingRegressor\n",
    "from sklearn.ensemble import AdaBoostRegressor\n",
    "from sklearn.metrics import SCORERS\n"
   ]
  },
  {
   "cell_type": "code",
   "execution_count": 57,
   "id": "83bc62f1-2e86-4326-9131-40b58273baa8",
   "metadata": {},
   "outputs": [],
   "source": [
    "from xgboost import XGBRegressor"
   ]
  },
  {
   "cell_type": "code",
   "execution_count": 5,
   "id": "41241349-1fb4-4117-9a98-be70258ebb37",
   "metadata": {},
   "outputs": [],
   "source": [
    "from pandas_datareader import data as pdr\n",
    "import yfinance as yf\n",
    "yf.pdr_override()\n"
   ]
  },
  {
   "cell_type": "markdown",
   "id": "a5321103-199d-4add-b5a4-d938d0fddfaa",
   "metadata": {},
   "source": [
    "### Variables"
   ]
  },
  {
   "cell_type": "code",
   "execution_count": 6,
   "id": "4f865a37-380b-4ba5-8bfd-a22ab865dcee",
   "metadata": {},
   "outputs": [],
   "source": [
    "COLORS = ['#2ec4b6', '#1e9fb4', '#0f7ab2', '#285892', '#49306b', '#7a3161', '#a13258', '#c63351', '#ea3449']\n",
    "\n",
    "CAT_COLORS = ['#2EC4B6', '#0E79B2', '#49306B', '#9A325A', '#EA3449']\n",
    "CONTRAST_COLORS = [COLORS[i] for i in range(len(COLORS)) if (i%2) == 0]\n",
    "\n",
    "DIV_COLORS = ['#0e79b2', '#4b9ac3', '#84b8d4', '#bcd6e4', '#f4f4f4', '#c6c0d0', '#9b8eac', '#715e8b', '#49306b']\n",
    "\n",
    "DIV_COL_HALF = ['#f4f4f4', '#bed3da', '#8ab2bf', '#5592a5', '#20718b']\n",
    "\n",
    "UMP_COLORS = ['#22446D', '#FC9E4F', '#AB2346' ,'#6ABB5D']\n",
    "\n",
    "DEFAULT_PALETTE = sns.color_palette(COLORS)\n",
    "CONTRAST_PALETTE = sns.color_palette(CONTRAST_COLORS)\n",
    "DIVERGENT_PALETTE = sns.color_palette(DIV_COLORS)\n",
    "DIVHALF_PALETTE = sns.color_palette(DIV_COL_HALF)\n",
    "CAT_PALETTE = sns.color_palette(CAT_COLORS)\n",
    "UMP_PALETTE = sns.color_palette(UMP_COLORS)\n",
    "\n",
    "\n",
    "DIV_CMAP = LinearSegmentedColormap.from_list(\"div_colors\", DIV_COLORS)\n",
    "DIV_H_CMAP = LinearSegmentedColormap.from_list(\"div_colors\", DIV_COL_HALF)\n",
    "CAT_CMAP = LinearSegmentedColormap.from_list(\"cat_colors\", CAT_COLORS)\n",
    "UMP_CMAP = LinearSegmentedColormap.from_list(\"ump_colors\", UMP_COLORS)\n",
    "\n",
    "\n",
    "SHOW_PLOTS = True\n",
    "SAVE_PLOTS = True\n",
    "RANDOM_STATE = 9\n",
    "\n",
    "IMG_PATH = '../imgs/'\n",
    "DATA_IN_PATH = '../../source/data/'\n",
    "DATA_OUT_PATH = '../../data_out/'\n"
   ]
  },
  {
   "cell_type": "code",
   "execution_count": 7,
   "id": "300ecdd9-7b73-45da-aeaa-dd82d4b57835",
   "metadata": {},
   "outputs": [],
   "source": [
    "def save_fig(title, fig):\n",
    "    if SAVE_PLOTS == True:\n",
    "        fn = IMG_PATH + title.replace(' ','-') + '.png'\n",
    "        fig.savefig(fn, bbox_inches='tight', transparent=True)\n",
    "        \n"
   ]
  },
  {
   "cell_type": "code",
   "execution_count": null,
   "id": "21365354-93e7-4d1e-bb5f-0e210c093d8f",
   "metadata": {},
   "outputs": [],
   "source": []
  },
  {
   "cell_type": "markdown",
   "id": "81179616-bb3b-49fa-b0be-b69432fd27e6",
   "metadata": {},
   "source": [
    "### Styles"
   ]
  },
  {
   "cell_type": "code",
   "execution_count": 8,
   "id": "e291e0bd-163a-45e0-8757-7f8ac61be9e0",
   "metadata": {},
   "outputs": [],
   "source": [
    "sns.set(style=\"white\")\n",
    "\n",
    "sns.set_context(\"paper\")\n",
    "sns.set_palette(DEFAULT_PALETTE)\n",
    "\n",
    "\n",
    "plt.rcParams['figure.dpi'] = 128"
   ]
  },
  {
   "cell_type": "code",
   "execution_count": 9,
   "id": "c000dc56-1c36-4092-a003-8eec15fd6941",
   "metadata": {},
   "outputs": [
    {
     "data": {
      "image/png": "[encoded data removed]",
      "text/plain": [
       "<Figure size 1152x128 with 1 Axes>"
      ]
     },
     "metadata": {},
     "output_type": "display_data"
    },
    {
     "data": {
      "image/png": "[encoded data removed]",
      "text/plain": [
       "<Figure size 640x128 with 1 Axes>"
      ]
     },
     "metadata": {},
     "output_type": "display_data"
    },
    {
     "data": {
      "image/png": "[encoded data removed]",
      "text/plain": [
       "<Figure size 1152x128 with 1 Axes>"
      ]
     },
     "metadata": {},
     "output_type": "display_data"
    },
    {
     "data": {
      "image/png": "[encoded data removed]",
      "text/plain": [
       "<Figure size 640x128 with 1 Axes>"
      ]
     },
     "metadata": {},
     "output_type": "display_data"
    }
   ],
   "source": [
    "sns.palplot(DEFAULT_PALETTE)\n",
    "sns.palplot(CONTRAST_PALETTE)\n",
    "sns.palplot(DIVERGENT_PALETTE)\n",
    "sns.palplot(CAT_PALETTE)\n",
    "plt.show()"
   ]
  },
  {
   "cell_type": "markdown",
   "id": "166ae3aa-d2f0-4f19-9158-74fc46722aa9",
   "metadata": {},
   "source": [
    "## Load Data"
   ]
  },
  {
   "cell_type": "code",
   "execution_count": 10,
   "id": "a5e00343-4c88-4e80-9335-a871ae4a4be3",
   "metadata": {},
   "outputs": [
    {
     "data": {
      "text/html": [
       "<div>\n",
       "<style scoped>\n",
       "    .dataframe tbody tr th:only-of-type {\n",
       "        vertical-align: middle;\n",
       "    }\n",
       "\n",
       "    .dataframe tbody tr th {\n",
       "        vertical-align: top;\n",
       "    }\n",
       "\n",
       "    .dataframe thead th {\n",
       "        text-align: right;\n",
       "    }\n",
       "</style>\n",
       "<table border=\"1\" class=\"dataframe\">\n",
       "  <thead>\n",
       "    <tr style=\"text-align: right;\">\n",
       "      <th></th>\n",
       "      <th>Date</th>\n",
       "      <th>ada_close</th>\n",
       "      <th>ada_high</th>\n",
       "      <th>ada_low</th>\n",
       "      <th>ada_open</th>\n",
       "      <th>ada_volume</th>\n",
       "      <th>atom_close</th>\n",
       "      <th>atom_high</th>\n",
       "      <th>atom_low</th>\n",
       "      <th>atom_open</th>\n",
       "      <th>...</th>\n",
       "      <th>luna1_trend_macd</th>\n",
       "      <th>luna1_volatility_atr</th>\n",
       "      <th>matic_volume_obv</th>\n",
       "      <th>matic_momentum_rsi</th>\n",
       "      <th>matic_trend_macd</th>\n",
       "      <th>matic_volatility_atr</th>\n",
       "      <th>sol_volume_obv</th>\n",
       "      <th>sol_momentum_rsi</th>\n",
       "      <th>sol_trend_macd</th>\n",
       "      <th>sol_volatility_atr</th>\n",
       "    </tr>\n",
       "  </thead>\n",
       "  <tbody>\n",
       "    <tr>\n",
       "      <th>0</th>\n",
       "      <td>2021-01-01</td>\n",
       "      <td>0.175350</td>\n",
       "      <td>0.184246</td>\n",
       "      <td>0.172022</td>\n",
       "      <td>0.181382</td>\n",
       "      <td>1.122218e+09</td>\n",
       "      <td>5.868556</td>\n",
       "      <td>6.506998</td>\n",
       "      <td>5.652401</td>\n",
       "      <td>6.490297</td>\n",
       "      <td>...</td>\n",
       "      <td>0.053993</td>\n",
       "      <td>0.051369</td>\n",
       "      <td>2.036519e+09</td>\n",
       "      <td>47.984858</td>\n",
       "      <td>-0.000144</td>\n",
       "      <td>0.001536</td>\n",
       "      <td>255658268.0</td>\n",
       "      <td>57.385950</td>\n",
       "      <td>-0.050738</td>\n",
       "      <td>0.191277</td>\n",
       "    </tr>\n",
       "    <tr>\n",
       "      <th>1</th>\n",
       "      <td>2021-01-02</td>\n",
       "      <td>0.177423</td>\n",
       "      <td>0.184253</td>\n",
       "      <td>0.169233</td>\n",
       "      <td>0.175359</td>\n",
       "      <td>1.408850e+09</td>\n",
       "      <td>5.414613</td>\n",
       "      <td>5.882211</td>\n",
       "      <td>5.319140</td>\n",
       "      <td>5.869282</td>\n",
       "      <td>...</td>\n",
       "      <td>0.053286</td>\n",
       "      <td>0.049277</td>\n",
       "      <td>2.053894e+09</td>\n",
       "      <td>53.344082</td>\n",
       "      <td>-0.000058</td>\n",
       "      <td>0.001609</td>\n",
       "      <td>223987204.0</td>\n",
       "      <td>55.832142</td>\n",
       "      <td>-0.027803</td>\n",
       "      <td>0.198930</td>\n",
       "    </tr>\n",
       "    <tr>\n",
       "      <th>2</th>\n",
       "      <td>2021-01-03</td>\n",
       "      <td>0.204995</td>\n",
       "      <td>0.208679</td>\n",
       "      <td>0.173376</td>\n",
       "      <td>0.177382</td>\n",
       "      <td>2.303858e+09</td>\n",
       "      <td>5.813898</td>\n",
       "      <td>5.900645</td>\n",
       "      <td>5.301713</td>\n",
       "      <td>5.416301</td>\n",
       "      <td>...</td>\n",
       "      <td>0.054555</td>\n",
       "      <td>0.049605</td>\n",
       "      <td>2.071803e+09</td>\n",
       "      <td>56.959753</td>\n",
       "      <td>0.000084</td>\n",
       "      <td>0.001614</td>\n",
       "      <td>279060626.0</td>\n",
       "      <td>64.577875</td>\n",
       "      <td>0.019398</td>\n",
       "      <td>0.235608</td>\n",
       "    </tr>\n",
       "  </tbody>\n",
       "</table>\n",
       "<p>3 rows × 105 columns</p>\n",
       "</div>"
      ],
      "text/plain": [
       "         Date  ada_close  ada_high   ada_low  ada_open    ada_volume  \\\n",
       "0  2021-01-01   0.175350  0.184246  0.172022  0.181382  1.122218e+09   \n",
       "1  2021-01-02   0.177423  0.184253  0.169233  0.175359  1.408850e+09   \n",
       "2  2021-01-03   0.204995  0.208679  0.173376  0.177382  2.303858e+09   \n",
       "\n",
       "   atom_close  atom_high  atom_low  atom_open  ...  luna1_trend_macd  \\\n",
       "0    5.868556   6.506998  5.652401   6.490297  ...          0.053993   \n",
       "1    5.414613   5.882211  5.319140   5.869282  ...          0.053286   \n",
       "2    5.813898   5.900645  5.301713   5.416301  ...          0.054555   \n",
       "\n",
       "   luna1_volatility_atr  matic_volume_obv  matic_momentum_rsi  \\\n",
       "0              0.051369      2.036519e+09           47.984858   \n",
       "1              0.049277      2.053894e+09           53.344082   \n",
       "2              0.049605      2.071803e+09           56.959753   \n",
       "\n",
       "   matic_trend_macd  matic_volatility_atr  sol_volume_obv  sol_momentum_rsi  \\\n",
       "0         -0.000144              0.001536     255658268.0         57.385950   \n",
       "1         -0.000058              0.001609     223987204.0         55.832142   \n",
       "2          0.000084              0.001614     279060626.0         64.577875   \n",
       "\n",
       "   sol_trend_macd  sol_volatility_atr  \n",
       "0       -0.050738            0.191277  \n",
       "1       -0.027803            0.198930  \n",
       "2        0.019398            0.235608  \n",
       "\n",
       "[3 rows x 105 columns]"
      ]
     },
     "execution_count": 10,
     "metadata": {},
     "output_type": "execute_result"
    }
   ],
   "source": [
    "df_all = pd.read_csv(DATA_OUT_PATH + \"merged_data.csv\")\n",
    "df_all.head(3)"
   ]
  },
  {
   "cell_type": "code",
   "execution_count": null,
   "id": "f6ebdb68-3f64-4d27-9fa5-925ffafbb5ed",
   "metadata": {},
   "outputs": [],
   "source": []
  },
  {
   "cell_type": "code",
   "execution_count": 11,
   "id": "1f2c5af1-10d5-48fd-b750-9a58d07a844b",
   "metadata": {},
   "outputs": [],
   "source": [
    "## How much data to use for model selection crossval\n",
    "TRAIN_SIZE = 365\n",
    "\n",
    "## How large the timeseriessplit window should be\n",
    "WINDOW_SIZE = 7\n",
    "\n",
    "## How many days for cv test\n",
    "TEST_SIZE = 1"
   ]
  },
  {
   "cell_type": "code",
   "execution_count": 12,
   "id": "cebe278a-8fe0-42ed-b31e-eaf8c657822b",
   "metadata": {},
   "outputs": [],
   "source": [
    "#df_all"
   ]
  },
  {
   "cell_type": "code",
   "execution_count": 13,
   "id": "7478a8a1-bf25-41e7-99d1-f17511541aed",
   "metadata": {},
   "outputs": [],
   "source": [
    "def shift_split_data(df_, target_col, trainsize):\n",
    "    df = df_.copy()\n",
    "    df['Date_Y'] = df['Date'].shift(periods=-1)\n",
    "    df['Y'] = df[target_col].shift(periods=-1)\n",
    "    df.rename(columns={'Date':'Date_X'}, inplace=True)\n",
    "    \n",
    "    ## DF for prediction (only last trainsize days)\n",
    "    ## Use to predict day after last df Date\n",
    "    df_forprediction = df.iloc[trainsize:]\n",
    "    \n",
    "    ## DF for train + test (without last trainsize days)\n",
    "    df_tt = df.iloc[:trainsize]\n",
    "    return df_tt, df_forprediction\n",
    "    \n",
    "    "
   ]
  },
  {
   "cell_type": "code",
   "execution_count": 14,
   "id": "13426d3a-6229-472f-ad7c-7e123bf70de5",
   "metadata": {},
   "outputs": [],
   "source": [
    "target_cols = [i for i in df_all if '_close' in i]"
   ]
  },
  {
   "cell_type": "code",
   "execution_count": 15,
   "id": "657150f3-b93e-4886-9157-7effce4561ba",
   "metadata": {},
   "outputs": [],
   "source": [
    "target_col = 'btc_close'"
   ]
  },
  {
   "cell_type": "code",
   "execution_count": 16,
   "id": "9070a6de-f6f1-4401-8f51-5e8418c87cfa",
   "metadata": {},
   "outputs": [],
   "source": [
    "df_tt, df_forprediction = shift_split_data(df_all, target_col, TRAIN_SIZE)"
   ]
  },
  {
   "cell_type": "code",
   "execution_count": 17,
   "id": "f4a9b847-9e34-432f-9f7c-6ae7333c7b50",
   "metadata": {},
   "outputs": [],
   "source": [
    "#df_tt"
   ]
  },
  {
   "cell_type": "code",
   "execution_count": 18,
   "id": "797e147d-7c04-4afb-9665-fc4cdf3779d8",
   "metadata": {},
   "outputs": [],
   "source": [
    "#df_forprediction"
   ]
  },
  {
   "cell_type": "markdown",
   "id": "e307a93d-0b1d-4576-8959-959f360ca15e",
   "metadata": {},
   "source": [
    "## Model Selection"
   ]
  },
  {
   "cell_type": "code",
   "execution_count": 19,
   "id": "f63cd17a-492d-440d-8bac-06e469c267fd",
   "metadata": {},
   "outputs": [],
   "source": [
    "target_cols = [i for i in df_all.columns if '_close' in i]"
   ]
  },
  {
   "cell_type": "code",
   "execution_count": 20,
   "id": "06549a19-ac8a-42e1-ab2d-3541000426bf",
   "metadata": {},
   "outputs": [],
   "source": [
    "#df_tt.head(5)"
   ]
  },
  {
   "cell_type": "markdown",
   "id": "35dc8e55-41ab-419b-a659-349e4429a3ab",
   "metadata": {},
   "source": [
    "### Set up pipeline"
   ]
  },
  {
   "cell_type": "code",
   "execution_count": 21,
   "id": "18ebe350-8e26-4d06-92fc-ba361fbddff3",
   "metadata": {},
   "outputs": [],
   "source": [
    "score_func = 'neg_mean_squared_error'"
   ]
  },
  {
   "cell_type": "code",
   "execution_count": 22,
   "id": "c3ff1fb9-e198-4bac-9e6d-9bf48b02cfe0",
   "metadata": {},
   "outputs": [],
   "source": [
    "## Split X and Y\n",
    "\n",
    "Y = df_tt['Y']\n",
    "\n",
    "x_cols = [i for i in df_tt.columns.tolist() if i not in ['Date_X', 'Date_Y', 'Y'] ]\n",
    "X = df_tt[x_cols]"
   ]
  },
  {
   "cell_type": "code",
   "execution_count": 23,
   "id": "0132bdd4-6cb7-40bd-9a04-da8ce8325431",
   "metadata": {},
   "outputs": [],
   "source": [
    "pipe_ada_dt = make_pipeline(StandardScaler(),\n",
    "                    SelectKBest(f_regression),\n",
    "                    DecisionTreeRegressor(random_state=RANDOM_STATE))\n",
    "\n",
    "## Change params as needed\n",
    "params_dt = {\n",
    "    'selectkbest__k':[10,20,50],\n",
    "    'decisiontreeregressor__max_depth': [2,3]\n",
    "}\n",
    "\n",
    "## Setup TimeSeriesSplit\n",
    "num_splits = int(len(X)/(WINDOW_SIZE+TEST_SIZE))\n",
    "\n",
    "tscv = TimeSeriesSplit(n_splits=num_splits, max_train_size=WINDOW_SIZE, test_size=TEST_SIZE)\n",
    "\n",
    "\n",
    "# Setting up the grid search\n",
    "gs_dtr = GridSearchCV(pipe_ada_dt, \n",
    "                      params_dt, \n",
    "                      n_jobs=-1, \n",
    "                      cv=tscv,\n",
    "                      scoring=score_func,\n",
    "                      refit=True\n",
    "                     )\n",
    "\n"
   ]
  },
  {
   "cell_type": "code",
   "execution_count": null,
   "id": "6d546f66-3db8-4ab1-983e-efa3937d1b0c",
   "metadata": {},
   "outputs": [],
   "source": []
  },
  {
   "cell_type": "code",
   "execution_count": 24,
   "id": "038cb2da-2fe4-48a8-ab36-aae66279187e",
   "metadata": {},
   "outputs": [
    {
     "data": {
      "text/plain": [
       "GridSearchCV(cv=TimeSeriesSplit(gap=0, max_train_size=7, n_splits=45, test_size=1),\n",
       "             estimator=Pipeline(steps=[('standardscaler', StandardScaler()),\n",
       "                                       ('selectkbest',\n",
       "                                        SelectKBest(score_func=<function f_regression at 0x121cf2940>)),\n",
       "                                       ('decisiontreeregressor',\n",
       "                                        DecisionTreeRegressor(random_state=9))]),\n",
       "             n_jobs=-1,\n",
       "             param_grid={'decisiontreeregressor__max_depth': [2, 3],\n",
       "                         'selectkbest__k': [10, 20, 50]},\n",
       "             scoring='neg_mean_squared_error')"
      ]
     },
     "execution_count": 24,
     "metadata": {},
     "output_type": "execute_result"
    }
   ],
   "source": [
    "# Fit GS to training data\n",
    "gs_dtr.fit(X, Y)\n"
   ]
  },
  {
   "cell_type": "code",
   "execution_count": 25,
   "id": "924fc725-27b6-45f3-9da6-4f0b924fc205",
   "metadata": {},
   "outputs": [
    {
     "data": {
      "text/html": [
       "<div>\n",
       "<style scoped>\n",
       "    .dataframe tbody tr th:only-of-type {\n",
       "        vertical-align: middle;\n",
       "    }\n",
       "\n",
       "    .dataframe tbody tr th {\n",
       "        vertical-align: top;\n",
       "    }\n",
       "\n",
       "    .dataframe thead th {\n",
       "        text-align: right;\n",
       "    }\n",
       "</style>\n",
       "<table border=\"1\" class=\"dataframe\">\n",
       "  <thead>\n",
       "    <tr style=\"text-align: right;\">\n",
       "      <th></th>\n",
       "      <th>mean_test_score</th>\n",
       "      <th>params</th>\n",
       "      <th>rank_test_score</th>\n",
       "    </tr>\n",
       "  </thead>\n",
       "  <tbody>\n",
       "    <tr>\n",
       "      <th>1</th>\n",
       "      <td>-3.878591e+06</td>\n",
       "      <td>{'decisiontreeregressor__max_depth': 2, 'selec...</td>\n",
       "      <td>1</td>\n",
       "    </tr>\n",
       "    <tr>\n",
       "      <th>0</th>\n",
       "      <td>-4.014695e+06</td>\n",
       "      <td>{'decisiontreeregressor__max_depth': 2, 'selec...</td>\n",
       "      <td>2</td>\n",
       "    </tr>\n",
       "    <tr>\n",
       "      <th>3</th>\n",
       "      <td>-4.158015e+06</td>\n",
       "      <td>{'decisiontreeregressor__max_depth': 3, 'selec...</td>\n",
       "      <td>3</td>\n",
       "    </tr>\n",
       "    <tr>\n",
       "      <th>4</th>\n",
       "      <td>-4.395009e+06</td>\n",
       "      <td>{'decisiontreeregressor__max_depth': 3, 'selec...</td>\n",
       "      <td>4</td>\n",
       "    </tr>\n",
       "    <tr>\n",
       "      <th>2</th>\n",
       "      <td>-5.409881e+06</td>\n",
       "      <td>{'decisiontreeregressor__max_depth': 2, 'selec...</td>\n",
       "      <td>5</td>\n",
       "    </tr>\n",
       "    <tr>\n",
       "      <th>5</th>\n",
       "      <td>-5.794895e+06</td>\n",
       "      <td>{'decisiontreeregressor__max_depth': 3, 'selec...</td>\n",
       "      <td>6</td>\n",
       "    </tr>\n",
       "  </tbody>\n",
       "</table>\n",
       "</div>"
      ],
      "text/plain": [
       "   mean_test_score                                             params  \\\n",
       "1    -3.878591e+06  {'decisiontreeregressor__max_depth': 2, 'selec...   \n",
       "0    -4.014695e+06  {'decisiontreeregressor__max_depth': 2, 'selec...   \n",
       "3    -4.158015e+06  {'decisiontreeregressor__max_depth': 3, 'selec...   \n",
       "4    -4.395009e+06  {'decisiontreeregressor__max_depth': 3, 'selec...   \n",
       "2    -5.409881e+06  {'decisiontreeregressor__max_depth': 2, 'selec...   \n",
       "5    -5.794895e+06  {'decisiontreeregressor__max_depth': 3, 'selec...   \n",
       "\n",
       "   rank_test_score  \n",
       "1                1  \n",
       "0                2  \n",
       "3                3  \n",
       "4                4  \n",
       "2                5  \n",
       "5                6  "
      ]
     },
     "execution_count": 25,
     "metadata": {},
     "output_type": "execute_result"
    }
   ],
   "source": [
    "df_cv_scores = pd.DataFrame(gs_dtr.cv_results_).sort_values(by='rank_test_score').loc[:,['mean_test_score', 'params', 'rank_test_score']]\n",
    "df_cv_scores\n"
   ]
  },
  {
   "cell_type": "code",
   "execution_count": 26,
   "id": "58439c48-a56c-4fdd-be82-1d18dac5a914",
   "metadata": {},
   "outputs": [
    {
     "data": {
      "text/plain": [
       "{'decisiontreeregressor__max_depth': 2, 'selectkbest__k': 20}"
      ]
     },
     "execution_count": 26,
     "metadata": {},
     "output_type": "execute_result"
    }
   ],
   "source": [
    "gs_dtr.best_params_"
   ]
  },
  {
   "cell_type": "code",
   "execution_count": 27,
   "id": "464089e4-8f7f-41fd-90bb-ac25394a2dc4",
   "metadata": {},
   "outputs": [
    {
     "data": {
      "text/plain": [
       "Pipeline(steps=[('standardscaler', StandardScaler()),\n",
       "                ('selectkbest',\n",
       "                 SelectKBest(k=20,\n",
       "                             score_func=<function f_regression at 0x121cf2940>)),\n",
       "                ('decisiontreeregressor',\n",
       "                 DecisionTreeRegressor(max_depth=2, random_state=9))])"
      ]
     },
     "execution_count": 27,
     "metadata": {},
     "output_type": "execute_result"
    }
   ],
   "source": [
    "best_estimator = gs_dtr.best_estimator_\n",
    "best_estimator.fit(df_forprediction[x_cols][:-1], df_forprediction['Y'][:-1])\n"
   ]
  },
  {
   "cell_type": "code",
   "execution_count": 28,
   "id": "6ba2132b-30d4-4c7b-ad0e-97648aa1120a",
   "metadata": {},
   "outputs": [
    {
     "data": {
      "text/plain": [
       "array([40345.50757334])"
      ]
     },
     "execution_count": 28,
     "metadata": {},
     "output_type": "execute_result"
    }
   ],
   "source": [
    "## Make prediction for last\n",
    "best_estimator.predict(df_forprediction[x_cols][-1:])"
   ]
  },
  {
   "cell_type": "code",
   "execution_count": 29,
   "id": "a8952463-8ecb-4500-8889-7990e0381623",
   "metadata": {},
   "outputs": [
    {
     "data": {
      "text/plain": [
       "0.058452215861182856"
      ]
     },
     "execution_count": 29,
     "metadata": {},
     "output_type": "execute_result"
    }
   ],
   "source": [
    "april_26_truth = 38117.46\n",
    "april_26_pred = 40345.51\n",
    "mean_absolute_percentage_error([april_26_truth],[april_26_pred])"
   ]
  },
  {
   "cell_type": "code",
   "execution_count": 30,
   "id": "9e5e63c5-046d-43f2-9d5e-624f883097b0",
   "metadata": {},
   "outputs": [
    {
     "data": {
      "text/plain": [
       "0.058452215861182856"
      ]
     },
     "execution_count": 30,
     "metadata": {},
     "output_type": "execute_result"
    }
   ],
   "source": [
    "mean_absolute_percentage_error([april_26_truth],[april_26_pred])"
   ]
  },
  {
   "cell_type": "code",
   "execution_count": null,
   "id": "0efa1b9d-a6cb-4290-9bf8-d7b49da8c366",
   "metadata": {},
   "outputs": [],
   "source": []
  },
  {
   "cell_type": "code",
   "execution_count": null,
   "id": "4771bf0f-4436-4025-bc7b-fce9f405f942",
   "metadata": {},
   "outputs": [],
   "source": []
  },
  {
   "cell_type": "code",
   "execution_count": null,
   "id": "9a5c3d02-9b56-4216-8921-dcee47944aea",
   "metadata": {},
   "outputs": [],
   "source": []
  },
  {
   "cell_type": "code",
   "execution_count": null,
   "id": "d1fee38e-7c18-4b5d-afe0-f20f97caac4d",
   "metadata": {},
   "outputs": [],
   "source": []
  },
  {
   "cell_type": "code",
   "execution_count": null,
   "id": "ac0b3a3b-190e-4024-9bdd-c46056311daf",
   "metadata": {},
   "outputs": [],
   "source": []
  },
  {
   "cell_type": "markdown",
   "id": "65d13227-1bfe-487d-b017-fea2f1454d7d",
   "metadata": {},
   "source": [
    "## SKForecast"
   ]
  },
  {
   "cell_type": "code",
   "execution_count": 31,
   "id": "d613aef4-bc48-4312-b623-755615ff7561",
   "metadata": {},
   "outputs": [],
   "source": [
    "from skforecast.ForecasterAutoreg import ForecasterAutoreg\n",
    "from skforecast.ForecasterAutoregCustom import ForecasterAutoregCustom\n",
    "from skforecast.ForecasterAutoregMultiOutput import ForecasterAutoregMultiOutput\n",
    "from skforecast.model_selection import grid_search_forecaster\n",
    "from skforecast.model_selection import backtesting_forecaster\n",
    "from skforecast.model_selection_statsmodels import grid_search_sarimax\n"
   ]
  },
  {
   "cell_type": "code",
   "execution_count": 60,
   "id": "266b3710-9de7-4bca-9d3d-355c986a5b7c",
   "metadata": {},
   "outputs": [],
   "source": [
    "df_tt_skf = df_tt.copy()\n"
   ]
  },
  {
   "cell_type": "code",
   "execution_count": 64,
   "id": "b0883fa0-8d83-4162-bdb8-5c6e5f0ec11a",
   "metadata": {},
   "outputs": [],
   "source": [
    "df_tt_skf['Date_X'] = pd.to_datetime(df_tt_skf['Date_X'])"
   ]
  },
  {
   "cell_type": "code",
   "execution_count": 71,
   "id": "ce9e5b8a-44d3-456f-997c-0ef7126b959f",
   "metadata": {},
   "outputs": [],
   "source": [
    "df_pr_skf = df_forprediction.copy()"
   ]
  },
  {
   "cell_type": "code",
   "execution_count": 72,
   "id": "d1bea5ac-8bf7-49dd-a94f-0f97f03d9c05",
   "metadata": {},
   "outputs": [],
   "source": [
    "df_pr_skf['Date_X'] = pd.to_datetime(df_pr_skf['Date_X'])"
   ]
  },
  {
   "cell_type": "code",
   "execution_count": 80,
   "id": "d7e9d6a7-adbe-420f-83ce-b4cfa2ce2039",
   "metadata": {},
   "outputs": [
    {
     "name": "stdout",
     "output_type": "stream",
     "text": [
      "Number of models compared: 48\n"
     ]
    },
    {
     "name": "stderr",
     "output_type": "stream",
     "text": [
      "loop lags_grid:   0%|                                               | 0/4 [00:00<?, ?it/s]\n",
      "loop param_grid:   0%|                                             | 0/12 [00:00<?, ?it/s]\u001b[A\n",
      "loop param_grid:   8%|███                                  | 1/12 [00:01<00:14,  1.29s/it]\u001b[A\n",
      "loop param_grid:  17%|██████▏                              | 2/12 [00:07<00:39,  3.94s/it]\u001b[A\n",
      "loop param_grid:  25%|█████████▎                           | 3/12 [00:08<00:24,  2.67s/it]\u001b[A\n",
      "loop param_grid:  33%|████████████▎                        | 4/12 [00:16<00:38,  4.81s/it]\u001b[A\n",
      "loop param_grid:  42%|███████████████▍                     | 5/12 [00:17<00:24,  3.51s/it]\u001b[A\n",
      "loop param_grid:  50%|██████████████████▌                  | 6/12 [00:29<00:38,  6.45s/it]\u001b[A\n",
      "loop param_grid:  58%|█████████████████████▌               | 7/12 [00:31<00:23,  4.77s/it]\u001b[A\n",
      "loop param_grid:  67%|████████████████████████▋            | 8/12 [00:37<00:21,  5.28s/it]\u001b[A\n",
      "loop param_grid:  75%|███████████████████████████▊         | 9/12 [00:39<00:12,  4.22s/it]\u001b[A\n",
      "loop param_grid:  83%|██████████████████████████████      | 10/12 [00:49<00:11,  5.92s/it]\u001b[A\n",
      "loop param_grid:  92%|█████████████████████████████████   | 11/12 [00:52<00:05,  5.08s/it]\u001b[A\n",
      "loop param_grid: 100%|████████████████████████████████████| 12/12 [01:12<00:00,  9.64s/it]\u001b[A\n",
      "loop lags_grid:  25%|█████████▊                             | 1/4 [01:12<03:36, 72.25s/it]\u001b[A\n",
      "loop param_grid:   0%|                                             | 0/12 [00:00<?, ?it/s]\u001b[A\n",
      "loop param_grid:   8%|███                                  | 1/12 [00:01<00:16,  1.49s/it]\u001b[A\n",
      "loop param_grid:  17%|██████▏                              | 2/12 [00:07<00:43,  4.32s/it]\u001b[A\n",
      "loop param_grid:  25%|█████████▎                           | 3/12 [00:09<00:27,  3.02s/it]\u001b[A\n",
      "loop param_grid:  33%|████████████▎                        | 4/12 [00:18<00:43,  5.50s/it]\u001b[A\n",
      "loop param_grid:  42%|███████████████▍                     | 5/12 [00:20<00:28,  4.05s/it]\u001b[A\n",
      "loop param_grid:  50%|██████████████████▌                  | 6/12 [00:32<00:42,  7.00s/it]\u001b[A\n",
      "loop param_grid:  58%|█████████████████████▌               | 7/12 [00:34<00:25,  5.16s/it]\u001b[A\n",
      "loop param_grid:  67%|████████████████████████▋            | 8/12 [00:40<00:22,  5.51s/it]\u001b[A\n",
      "loop param_grid:  75%|███████████████████████████▊         | 9/12 [00:42<00:13,  4.45s/it]\u001b[A\n",
      "loop param_grid:  83%|██████████████████████████████      | 10/12 [00:53<00:12,  6.32s/it]\u001b[A\n",
      "loop param_grid:  92%|█████████████████████████████████   | 11/12 [00:56<00:05,  5.45s/it]\u001b[A\n",
      "loop param_grid: 100%|████████████████████████████████████| 12/12 [01:16<00:00,  9.78s/it]\u001b[A\n",
      "loop lags_grid:  50%|███████████████████▌                   | 2/4 [02:28<02:29, 74.56s/it]\u001b[A\n",
      "loop param_grid:   0%|                                             | 0/12 [00:00<?, ?it/s]\u001b[A\n",
      "loop param_grid:   8%|███                                  | 1/12 [00:01<00:13,  1.27s/it]\u001b[A\n",
      "loop param_grid:  17%|██████▏                              | 2/12 [00:07<00:42,  4.20s/it]\u001b[A\n",
      "loop param_grid:  25%|█████████▎                           | 3/12 [00:08<00:25,  2.86s/it]\u001b[A\n",
      "loop param_grid:  33%|████████████▎                        | 4/12 [00:17<00:39,  4.99s/it]\u001b[A\n",
      "loop param_grid:  42%|███████████████▍                     | 5/12 [00:18<00:25,  3.63s/it]\u001b[A\n",
      "loop param_grid:  50%|██████████████████▌                  | 6/12 [00:29<00:38,  6.36s/it]\u001b[A\n",
      "loop param_grid:  58%|█████████████████████▌               | 7/12 [00:31<00:23,  4.72s/it]\u001b[A\n",
      "loop param_grid:  67%|████████████████████████▋            | 8/12 [00:38<00:21,  5.38s/it]\u001b[A\n",
      "loop param_grid:  75%|███████████████████████████▊         | 9/12 [00:40<00:13,  4.35s/it]\u001b[A\n",
      "loop param_grid:  83%|██████████████████████████████      | 10/12 [00:50<00:12,  6.24s/it]\u001b[A\n",
      "loop param_grid:  92%|█████████████████████████████████   | 11/12 [00:54<00:05,  5.45s/it]\u001b[A\n",
      "loop param_grid: 100%|████████████████████████████████████| 12/12 [01:14<00:00,  9.84s/it]\u001b[A\n",
      "loop lags_grid:  75%|█████████████████████████████▎         | 3/4 [03:42<01:14, 74.37s/it]\u001b[A\n",
      "loop param_grid:   0%|                                             | 0/12 [00:00<?, ?it/s]\u001b[A\n",
      "loop param_grid:   8%|███                                  | 1/12 [00:01<00:13,  1.23s/it]\u001b[A\n",
      "loop param_grid:  17%|██████▏                              | 2/12 [00:07<00:41,  4.20s/it]\u001b[A\n",
      "loop param_grid:  25%|█████████▎                           | 3/12 [00:08<00:26,  2.90s/it]\u001b[A\n",
      "loop param_grid:  33%|████████████▎                        | 4/12 [00:18<00:45,  5.65s/it]\u001b[A\n",
      "loop param_grid:  42%|███████████████▍                     | 5/12 [00:20<00:28,  4.12s/it]\u001b[A\n",
      "loop param_grid:  50%|██████████████████▌                  | 6/12 [00:32<00:40,  6.82s/it]\u001b[A\n",
      "loop param_grid:  58%|█████████████████████▌               | 7/12 [00:33<00:25,  5.04s/it]\u001b[A\n",
      "loop param_grid:  67%|████████████████████████▋            | 8/12 [00:40<00:22,  5.60s/it]\u001b[A\n",
      "loop param_grid:  75%|███████████████████████████▊         | 9/12 [00:42<00:13,  4.55s/it]\u001b[A\n",
      "loop param_grid:  83%|██████████████████████████████      | 10/12 [00:53<00:12,  6.44s/it]\u001b[A\n",
      "loop param_grid:  92%|█████████████████████████████████   | 11/12 [00:56<00:05,  5.50s/it]\u001b[A\n",
      "loop param_grid: 100%|████████████████████████████████████| 12/12 [01:15<00:00,  9.62s/it]\u001b[A\n",
      "loop lags_grid: 100%|███████████████████████████████████████| 4/4 [04:58<00:00, 74.57s/it]\u001b[A"
     ]
    },
    {
     "name": "stdout",
     "output_type": "stream",
     "text": [
      "`Forecaster` refitted using the best-found lags and parameters, and the whole data set: \n",
      "  Lags: [ 1  2  3  4  5  6  7  8  9 10 11 12 13 14] \n",
      "  Parameters: {'learning_rate': 0.1, 'max_depth': 3, 'n_estimators': 100}\n",
      "  Backtesting metric: 16134267.020322226\n",
      "\n"
     ]
    },
    {
     "name": "stderr",
     "output_type": "stream",
     "text": [
      "\n"
     ]
    }
   ],
   "source": [
    "# ==============================================================================\n",
    "forecaster = ForecasterAutoreg(\n",
    "                regressor = XGBRegressor(random_state=RANDOM_STATE),\n",
    "                lags = 1\n",
    "             )\n",
    "\n",
    "param_grid0 = {}\n",
    "param_grid = {\n",
    "    'n_estimators': [100, 500],\n",
    "    'max_depth': [3, 5, 10],\n",
    "    'learning_rate': [0.01, 0.1]\n",
    "    }\n",
    "lags_grid = [1,7, 14, 21]\n",
    "\n",
    "results_grid = grid_search_forecaster(\n",
    "                        forecaster  = forecaster,\n",
    "                        y           = df_tt_skf['Y'],\n",
    "                        exog        = df_tt_skf[x_cols],\n",
    "                        param_grid  = param_grid,\n",
    "                        lags_grid   = lags_grid,\n",
    "                        steps       = 10,\n",
    "                        refit       = True,\n",
    "                        metric      = 'mean_squared_error',\n",
    "                        initial_train_size = int(len(df_tt_skf)*0.5),\n",
    "                        return_best = True,\n",
    "                        verbose     = False\n",
    "                    )\n",
    "\n",
    "\n",
    "\n",
    "\n",
    "\n",
    "forecaster.fit(y=df_tt_skf['Y'], exog=df_tt_skf[x_cols])\n",
    "\n"
   ]
  },
  {
   "cell_type": "code",
   "execution_count": 81,
   "id": "c8fc57ff-125c-4aaf-a8fc-a1c7a7f6296f",
   "metadata": {},
   "outputs": [
    {
     "name": "stdout",
     "output_type": "stream",
     "text": [
      "MAPE:  0.06668681498866358\n"
     ]
    },
    {
     "data": {
      "image/png": "[encoded data removed]",
      "text/plain": [
       "<Figure size 1152x512 with 1 Axes>"
      ]
     },
     "metadata": {},
     "output_type": "display_data"
    }
   ],
   "source": [
    "#`Forecaster` refitted using the best-found lags and parameters, and the whole data set: \n",
    "#  Lags: [1 2 3 4 5 6 7] \n",
    "#  Parameters: {}\n",
    "#  Backtesting metric: 22227460.928701684\n",
    "\n",
    "#`Forecaster` refitted using the best-found lags and parameters, and the whole data set: \n",
    "#  Lags: [ 1  2  3  4  5  6  7  8  9 10 11 12 13 14] \n",
    "#  Parameters: {'learning_rate': 0.1, 'max_depth': 3, 'n_estimators': 100}\n",
    "#  Backtesting metric: 16134267.020322226\n",
    "\n",
    "#forecaster\n",
    "#results_grid.head()\n",
    "\n",
    "steps = len(df_pr_skf)\n",
    "predictions = pd.DataFrame(forecaster.predict(steps=steps, exog=df_pr_skf[x_cols]))\n",
    "predictions = predictions.set_index(df_pr_skf.index)\n",
    "\n",
    "fig, ax = plt.subplots(figsize=(9, 4))\n",
    "\n",
    "## Plot actual test\n",
    "df_pr_skf['Y'].plot(ax=ax, label='test', color=CAT_COLORS[0])\n",
    "\n",
    "## Plot predictions\n",
    "predictions['pred'].plot(ax=ax, label='predictions', color=CAT_COLORS[1])\n",
    "\n",
    "ax.legend();\n",
    "\n",
    "print(\"MAPE: \", mean_absolute_percentage_error(df_pr_skf['Y'][:-1],predictions['pred'][:-1]))\n",
    "\n",
    "plt.show()"
   ]
  },
  {
   "cell_type": "code",
   "execution_count": 78,
   "id": "303c596c-7c72-463f-bf20-9eaea73d3a89",
   "metadata": {},
   "outputs": [
    {
     "name": "stdout",
     "output_type": "stream",
     "text": [
      "0.0746978642187345\n"
     ]
    }
   ],
   "source": []
  },
  {
   "cell_type": "code",
   "execution_count": 77,
   "id": "e9a2c56c-d3db-4a2e-a48a-a39555350d6c",
   "metadata": {},
   "outputs": [
    {
     "data": {
      "text/plain": [
       "365    47345.218750\n",
       "366    46458.117188\n",
       "367    45897.574219\n",
       "368    43569.003906\n",
       "369    43160.929688\n",
       "           ...     \n",
       "474    40527.363281\n",
       "475    39740.320312\n",
       "476    39486.730469\n",
       "477    39469.292969\n",
       "478    40458.308594\n",
       "Name: Y, Length: 114, dtype: float64"
      ]
     },
     "execution_count": 77,
     "metadata": {},
     "output_type": "execute_result"
    }
   ],
   "source": [
    "df_pr_skf['Y'][:-1]"
   ]
  },
  {
   "cell_type": "code",
   "execution_count": 93,
   "id": "b68b2c11-802c-4910-96c4-4d1fe2df2157",
   "metadata": {},
   "outputs": [
    {
     "name": "stdout",
     "output_type": "stream",
     "text": [
      "MAPE:  0.03786666501420965\n"
     ]
    },
    {
     "data": {
      "image/png": "[encoded data removed]",
      "text/plain": [
       "<Figure size 1152x512 with 1 Axes>"
      ]
     },
     "metadata": {},
     "output_type": "display_data"
    }
   ],
   "source": [
    "forecaster = ForecasterAutoreg(\n",
    "                regressor = XGBRegressor(random_state=RANDOM_STATE),\n",
    "                lags = 1\n",
    "             )\n",
    "\n",
    "forecaster.fit(y=df_tt_skf['Y'], exog=df_tt_skf[x_cols])\n",
    "\n",
    "\n",
    "steps = 28\n",
    "predictions = pd.DataFrame(forecaster.predict(steps=steps, exog=df_pr_skf[x_cols]))\n",
    "predictions = predictions.set_index(df_pr_skf[-steps:].index)\n",
    "\n",
    "fig, ax = plt.subplots(figsize=(9, 4))\n",
    "\n",
    "## Plot actual test\n",
    "df_pr_skf['Y'].plot(ax=ax, label='test', color=CAT_COLORS[0])\n",
    "\n",
    "## Plot predictions\n",
    "predictions['pred'].plot(ax=ax, label='predictions', color=CAT_COLORS[1])\n",
    "\n",
    "ax.legend();\n",
    "\n",
    "print('MAPE: ', mean_absolute_percentage_error(df_pr_skf[-steps:-1]['Y'],predictions['pred'][:-1]))\n",
    "\n",
    "plt.show()"
   ]
  },
  {
   "cell_type": "code",
   "execution_count": 52,
   "id": "f6fea7cb-dbc1-49e2-8de8-3f0a079c0ab7",
   "metadata": {},
   "outputs": [
    {
     "data": {
      "text/html": [
       "<div>\n",
       "<style scoped>\n",
       "    .dataframe tbody tr th:only-of-type {\n",
       "        vertical-align: middle;\n",
       "    }\n",
       "\n",
       "    .dataframe tbody tr th {\n",
       "        vertical-align: top;\n",
       "    }\n",
       "\n",
       "    .dataframe thead th {\n",
       "        text-align: right;\n",
       "    }\n",
       "</style>\n",
       "<table border=\"1\" class=\"dataframe\">\n",
       "  <thead>\n",
       "    <tr style=\"text-align: right;\">\n",
       "      <th></th>\n",
       "      <th>pred</th>\n",
       "    </tr>\n",
       "  </thead>\n",
       "  <tbody>\n",
       "    <tr>\n",
       "      <th>365</th>\n",
       "      <td>35271.716016</td>\n",
       "    </tr>\n",
       "    <tr>\n",
       "      <th>366</th>\n",
       "      <td>35271.716016</td>\n",
       "    </tr>\n",
       "    <tr>\n",
       "      <th>367</th>\n",
       "      <td>35783.075260</td>\n",
       "    </tr>\n",
       "    <tr>\n",
       "      <th>368</th>\n",
       "      <td>35271.716016</td>\n",
       "    </tr>\n",
       "    <tr>\n",
       "      <th>369</th>\n",
       "      <td>35599.037760</td>\n",
       "    </tr>\n",
       "    <tr>\n",
       "      <th>370</th>\n",
       "      <td>38317.245052</td>\n",
       "    </tr>\n",
       "    <tr>\n",
       "      <th>371</th>\n",
       "      <td>43268.532552</td>\n",
       "    </tr>\n",
       "    <tr>\n",
       "      <th>372</th>\n",
       "      <td>44417.968229</td>\n",
       "    </tr>\n",
       "    <tr>\n",
       "      <th>373</th>\n",
       "      <td>44526.197396</td>\n",
       "    </tr>\n",
       "    <tr>\n",
       "      <th>374</th>\n",
       "      <td>38774.331771</td>\n",
       "    </tr>\n",
       "    <tr>\n",
       "      <th>375</th>\n",
       "      <td>35783.075260</td>\n",
       "    </tr>\n",
       "    <tr>\n",
       "      <th>376</th>\n",
       "      <td>35271.716016</td>\n",
       "    </tr>\n",
       "    <tr>\n",
       "      <th>377</th>\n",
       "      <td>35647.776563</td>\n",
       "    </tr>\n",
       "    <tr>\n",
       "      <th>378</th>\n",
       "      <td>36270.638281</td>\n",
       "    </tr>\n",
       "  </tbody>\n",
       "</table>\n",
       "</div>"
      ],
      "text/plain": [
       "             pred\n",
       "365  35271.716016\n",
       "366  35271.716016\n",
       "367  35783.075260\n",
       "368  35271.716016\n",
       "369  35599.037760\n",
       "370  38317.245052\n",
       "371  43268.532552\n",
       "372  44417.968229\n",
       "373  44526.197396\n",
       "374  38774.331771\n",
       "375  35783.075260\n",
       "376  35271.716016\n",
       "377  35647.776563\n",
       "378  36270.638281"
      ]
     },
     "execution_count": 52,
     "metadata": {},
     "output_type": "execute_result"
    }
   ],
   "source": [
    "predictions"
   ]
  },
  {
   "cell_type": "code",
   "execution_count": null,
   "id": "fc3ae44f-3191-43c1-b499-aaa6f5a28d62",
   "metadata": {},
   "outputs": [],
   "source": []
  }
 ],
 "metadata": {
  "kernelspec": {
   "display_name": "Python 3 (ipykernel)",
   "language": "python",
   "name": "python3"
  },
  "language_info": {
   "codemirror_mode": {
    "name": "ipython",
    "version": 3
   },
   "file_extension": ".py",
   "mimetype": "text/x-python",
   "name": "python",
   "nbconvert_exporter": "python",
   "pygments_lexer": "ipython3",
   "version": "3.9.7"
  }
 },
 "nbformat": 4,
 "nbformat_minor": 5
}
